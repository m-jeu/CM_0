{
 "cells": [
  {
   "cell_type": "markdown",
   "id": "837436ab",
   "metadata": {},
   "source": [
    "<h1> Research iteration 2</h1>\n",
    "\n",
    "<i>Joël Boafo, Sjoerd Beetsma, Maarten de Jeu\n",
    "Class V2A - Group 5</i>"
   ]
  },
  {
   "cell_type": "markdown",
   "id": "ac2cbadc",
   "metadata": {},
   "source": [
    "<h2>Business Understanding</h2>\n",
    "\n",
    "Through the business, we have been asked to examine the following questions:\n",
    "\n",
    "<ol>\n",
    "<li>With what accuracy can we decide the quality of a red-wine according to its chemical properties.</li>\n",
    "<li>Can we predict a wine's color based on it's chemical properties?</li>\n",
    "<li>Can we distinguish between logical clusters of wineries? (Premium, budget, high-quality, etc...)</li>\n",
    "</ol>\n"
   ]
  },
  {
   "cell_type": "markdown",
   "id": "ea45ad40",
   "metadata": {},
   "source": [
    "<h2> Data Understanding: Chemical datasets.</h2>\n",
    "\n",
    "The dataset for the first research question is aquired from https://archive.ics.uci.edu/ml/datasets/wine+quality along a dataset about red-wine there is also a dataset about white-wine lets explore both for possible research-questions in the future.\n",
    "\n",
    "The business tells us the variables in the chemical datasets are:<br />\n",
    "\n",
    "1 - fixed acidity <br />\n",
    "2 - volatile acidity <br />\n",
    "3 - citric acid <br />\n",
    "4 - residual sugar <br />\n",
    "5 - chlorides <br />\n",
    "6 - free sulfur dioxide <br />\n",
    "7 - total sulfur dioxide <br />\n",
    "8 - density <br />\n",
    "9 - pH <br />\n",
    "10 - sulphates <br />\n",
    "11 - alcohol <br />\n",
    "12 - quality (score between 0 and 10, based on sensory data) <br />\n",
    "\n",
    "The business also let us now that they don't know if all variables are relevant in deciding the quality score of a wine.\n",
    "\n",
    "For the second research question we aquired the dataset from ...\n",
    "The business told us the dataset has the following variables:\n",
    "\n",
    "1 - country<br/>\n",
    "2 - description<br/>\n",
    "3 - designation<br/>\n",
    "4 - points<br/>\n",
    "5 - price<br/>\n",
    "6 - province <br/>\n",
    "7 - region_1<br/>\n",
    "8 - region_2<br/>\n",
    "9 - taster_name<br/>\n",
    "10 - taster_twitter_handle<br/>\n",
    "11 - title <br/>\n",
    "12 - variety<br/>\n",
    "13 - winery<br/>"
   ]
  },
  {
   "cell_type": "markdown",
   "id": "59e40312",
   "metadata": {},
   "source": [
    "We import some libraries and the dataset to examine the data through code."
   ]
  },
  {
   "cell_type": "code",
   "execution_count": 44,
   "id": "b198f507",
   "metadata": {},
   "outputs": [],
   "source": [
    "import numpy as np\n",
    "import pandas as pd\n",
    "import sklearn as sk\n",
    "from sklearn import preprocessing\n",
    "from sklearn.preprocessing import PolynomialFeatures\n",
    "from sklearn.pipeline import make_pipeline\n",
    "from sklearn import linear_model\n",
    "from sklearn.model_selection import train_test_split\n",
    "\n",
    "import plotly.express as px\n",
    "\n",
    "import py_lib\n",
    "import matplotlib.pyplot as plt\n",
    "import seaborn as sns\n",
    "%matplotlib inline"
   ]
  },
  {
   "cell_type": "markdown",
   "id": "126710ed",
   "metadata": {},
   "source": [
    "Load in both red and white wine datasets"
   ]
  },
  {
   "cell_type": "code",
   "execution_count": 45,
   "id": "a5c7e7b7",
   "metadata": {},
   "outputs": [],
   "source": [
    "dataset_red = pd.read_csv(\"datasets/winequality-red.csv\", sep=\";\")\n",
    "dataset_white = pd.read_csv(\"datasets/winequality-white.csv\", sep=\";\")"
   ]
  },
  {
   "cell_type": "markdown",
   "id": "193babcb",
   "metadata": {},
   "source": [
    "Lets take the head of one of the chemical property datasets to have a first look at the submissions of the data."
   ]
  },
  {
   "cell_type": "code",
   "execution_count": 46,
   "id": "6f2b77e6",
   "metadata": {},
   "outputs": [
    {
     "data": {
      "text/html": [
       "<div>\n",
       "<style scoped>\n",
       "    .dataframe tbody tr th:only-of-type {\n",
       "        vertical-align: middle;\n",
       "    }\n",
       "\n",
       "    .dataframe tbody tr th {\n",
       "        vertical-align: top;\n",
       "    }\n",
       "\n",
       "    .dataframe thead th {\n",
       "        text-align: right;\n",
       "    }\n",
       "</style>\n",
       "<table border=\"1\" class=\"dataframe\">\n",
       "  <thead>\n",
       "    <tr style=\"text-align: right;\">\n",
       "      <th></th>\n",
       "      <th>fixed acidity</th>\n",
       "      <th>volatile acidity</th>\n",
       "      <th>citric acid</th>\n",
       "      <th>residual sugar</th>\n",
       "      <th>chlorides</th>\n",
       "      <th>free sulfur dioxide</th>\n",
       "      <th>total sulfur dioxide</th>\n",
       "      <th>density</th>\n",
       "      <th>pH</th>\n",
       "      <th>sulphates</th>\n",
       "      <th>alcohol</th>\n",
       "      <th>quality</th>\n",
       "    </tr>\n",
       "  </thead>\n",
       "  <tbody>\n",
       "    <tr>\n",
       "      <th>0</th>\n",
       "      <td>7.4</td>\n",
       "      <td>0.70</td>\n",
       "      <td>0.00</td>\n",
       "      <td>1.9</td>\n",
       "      <td>0.076</td>\n",
       "      <td>11.0</td>\n",
       "      <td>34.0</td>\n",
       "      <td>0.9978</td>\n",
       "      <td>3.51</td>\n",
       "      <td>0.56</td>\n",
       "      <td>9.4</td>\n",
       "      <td>5</td>\n",
       "    </tr>\n",
       "    <tr>\n",
       "      <th>1</th>\n",
       "      <td>7.8</td>\n",
       "      <td>0.88</td>\n",
       "      <td>0.00</td>\n",
       "      <td>2.6</td>\n",
       "      <td>0.098</td>\n",
       "      <td>25.0</td>\n",
       "      <td>67.0</td>\n",
       "      <td>0.9968</td>\n",
       "      <td>3.20</td>\n",
       "      <td>0.68</td>\n",
       "      <td>9.8</td>\n",
       "      <td>5</td>\n",
       "    </tr>\n",
       "    <tr>\n",
       "      <th>2</th>\n",
       "      <td>7.8</td>\n",
       "      <td>0.76</td>\n",
       "      <td>0.04</td>\n",
       "      <td>2.3</td>\n",
       "      <td>0.092</td>\n",
       "      <td>15.0</td>\n",
       "      <td>54.0</td>\n",
       "      <td>0.9970</td>\n",
       "      <td>3.26</td>\n",
       "      <td>0.65</td>\n",
       "      <td>9.8</td>\n",
       "      <td>5</td>\n",
       "    </tr>\n",
       "    <tr>\n",
       "      <th>3</th>\n",
       "      <td>11.2</td>\n",
       "      <td>0.28</td>\n",
       "      <td>0.56</td>\n",
       "      <td>1.9</td>\n",
       "      <td>0.075</td>\n",
       "      <td>17.0</td>\n",
       "      <td>60.0</td>\n",
       "      <td>0.9980</td>\n",
       "      <td>3.16</td>\n",
       "      <td>0.58</td>\n",
       "      <td>9.8</td>\n",
       "      <td>6</td>\n",
       "    </tr>\n",
       "    <tr>\n",
       "      <th>4</th>\n",
       "      <td>7.4</td>\n",
       "      <td>0.70</td>\n",
       "      <td>0.00</td>\n",
       "      <td>1.9</td>\n",
       "      <td>0.076</td>\n",
       "      <td>11.0</td>\n",
       "      <td>34.0</td>\n",
       "      <td>0.9978</td>\n",
       "      <td>3.51</td>\n",
       "      <td>0.56</td>\n",
       "      <td>9.4</td>\n",
       "      <td>5</td>\n",
       "    </tr>\n",
       "  </tbody>\n",
       "</table>\n",
       "</div>"
      ],
      "text/plain": [
       "   fixed acidity  volatile acidity  citric acid  residual sugar  chlorides  \\\n",
       "0            7.4              0.70         0.00             1.9      0.076   \n",
       "1            7.8              0.88         0.00             2.6      0.098   \n",
       "2            7.8              0.76         0.04             2.3      0.092   \n",
       "3           11.2              0.28         0.56             1.9      0.075   \n",
       "4            7.4              0.70         0.00             1.9      0.076   \n",
       "\n",
       "   free sulfur dioxide  total sulfur dioxide  density    pH  sulphates  \\\n",
       "0                 11.0                  34.0   0.9978  3.51       0.56   \n",
       "1                 25.0                  67.0   0.9968  3.20       0.68   \n",
       "2                 15.0                  54.0   0.9970  3.26       0.65   \n",
       "3                 17.0                  60.0   0.9980  3.16       0.58   \n",
       "4                 11.0                  34.0   0.9978  3.51       0.56   \n",
       "\n",
       "   alcohol  quality  \n",
       "0      9.4        5  \n",
       "1      9.8        5  \n",
       "2      9.8        5  \n",
       "3      9.8        6  \n",
       "4      9.4        5  "
      ]
     },
     "execution_count": 46,
     "metadata": {},
     "output_type": "execute_result"
    }
   ],
   "source": [
    "dataset_red.head()"
   ]
  },
  {
   "cell_type": "markdown",
   "id": "cb5c946f",
   "metadata": {},
   "source": [
    "As described by the business each row seems to correspond with a individual wine with eleven different columns describing chemical properties and one column which represents the quality score of the wine.\n",
    "\n",
    "Lets see howmuch raw-data we have through the shapes of the datasets before we do any more exploration."
   ]
  },
  {
   "cell_type": "code",
   "execution_count": 47,
   "id": "ffa2d574",
   "metadata": {},
   "outputs": [
    {
     "name": "stdout",
     "output_type": "stream",
     "text": [
      "The red-wine quality dataset contains 1599 rows and 12 columns\n",
      "The white-wine quality dataset contains 4898 rows and 12 columns\n"
     ]
    }
   ],
   "source": [
    "red_rows, red_columns = dataset_red.shape\n",
    "white_rows, white_columns = dataset_white.shape\n",
    "\n",
    "print(f'The red-wine quality dataset contains {red_rows} rows and {red_columns} columns')\n",
    "print(f'The white-wine quality dataset contains {white_rows} rows and {white_columns} columns')"
   ]
  },
  {
   "cell_type": "markdown",
   "id": "80b3d190",
   "metadata": {},
   "source": [
    "Lets change the column name white spaces to underscores to make life easier."
   ]
  },
  {
   "cell_type": "code",
   "execution_count": 48,
   "id": "5a78400c",
   "metadata": {},
   "outputs": [
    {
     "data": {
      "text/html": [
       "<div>\n",
       "<style scoped>\n",
       "    .dataframe tbody tr th:only-of-type {\n",
       "        vertical-align: middle;\n",
       "    }\n",
       "\n",
       "    .dataframe tbody tr th {\n",
       "        vertical-align: top;\n",
       "    }\n",
       "\n",
       "    .dataframe thead th {\n",
       "        text-align: right;\n",
       "    }\n",
       "</style>\n",
       "<table border=\"1\" class=\"dataframe\">\n",
       "  <thead>\n",
       "    <tr style=\"text-align: right;\">\n",
       "      <th></th>\n",
       "      <th>fixed_acidity</th>\n",
       "      <th>volatile_acidity</th>\n",
       "      <th>citric_acid</th>\n",
       "      <th>residual_sugar</th>\n",
       "      <th>chlorides</th>\n",
       "      <th>free_sulfur_dioxide</th>\n",
       "      <th>total_sulfur_dioxide</th>\n",
       "      <th>density</th>\n",
       "      <th>pH</th>\n",
       "      <th>sulphates</th>\n",
       "      <th>alcohol</th>\n",
       "      <th>quality</th>\n",
       "    </tr>\n",
       "  </thead>\n",
       "  <tbody>\n",
       "  </tbody>\n",
       "</table>\n",
       "</div>"
      ],
      "text/plain": [
       "Empty DataFrame\n",
       "Columns: [fixed_acidity, volatile_acidity, citric_acid, residual_sugar, chlorides, free_sulfur_dioxide, total_sulfur_dioxide, density, pH, sulphates, alcohol, quality]\n",
       "Index: []"
      ]
     },
     "execution_count": 48,
     "metadata": {},
     "output_type": "execute_result"
    }
   ],
   "source": [
    "dataset_red.columns = dataset_red.columns.str.replace(' ','_')\n",
    "dataset_white.columns = dataset_white.columns.str.replace(' ','_')\n",
    "\n",
    "dataset_red.head(0)"
   ]
  },
  {
   "cell_type": "markdown",
   "id": "b1de320c",
   "metadata": {},
   "source": [
    "<h3>Target and feature variables</h3>\n",
    "\n",
    "All the columns describing chemical properties will be considered as a feature variable and the column quality represents the target variable, the variable we want to predict.\n",
    "Lets safe them in a variables for later use."
   ]
  },
  {
   "cell_type": "code",
   "execution_count": 49,
   "id": "cd5511e7",
   "metadata": {},
   "outputs": [],
   "source": [
    "feature_vars = ['fixed_acidity', 'volatile_acidity', 'citric_acid', 'residual_sugar', 'chlorides', 'free_sulfur_dioxide', 'total_sulfur_dioxide', 'density', 'pH', 'sulphates', 'alcohol'] \n",
    "target_var = 'quality'"
   ]
  },
  {
   "cell_type": "markdown",
   "id": "a07f52c8",
   "metadata": {},
   "source": [
    "All the columns describing the origin of the wine and the category will be considered as a feature variable. The column 'points' represents the target variable we want to predict.\n",
    "We will also store them in variables"
   ]
  },
  {
   "cell_type": "markdown",
   "id": "f694a27e",
   "metadata": {},
   "source": [
    "<h3> Scales of measurements </h3>\n",
    "\n",
    "To choose a appropiate model for our research-questions and available data it's necessary to have a understanding of all the scales of measurements for the target and feature variables."
   ]
  },
  {
   "cell_type": "code",
   "execution_count": 50,
   "id": "792898fe",
   "metadata": {},
   "outputs": [
    {
     "name": "stdout",
     "output_type": "stream",
     "text": [
      "Scales of measurement chemical properties datasets\n"
     ]
    },
    {
     "data": {
      "text/html": [
       "<div>\n",
       "<style scoped>\n",
       "    .dataframe tbody tr th:only-of-type {\n",
       "        vertical-align: middle;\n",
       "    }\n",
       "\n",
       "    .dataframe tbody tr th {\n",
       "        vertical-align: top;\n",
       "    }\n",
       "\n",
       "    .dataframe thead th {\n",
       "        text-align: right;\n",
       "    }\n",
       "</style>\n",
       "<table border=\"1\" class=\"dataframe\">\n",
       "  <thead>\n",
       "    <tr style=\"text-align: right;\">\n",
       "      <th></th>\n",
       "      <th>Scale_of_measurement</th>\n",
       "    </tr>\n",
       "  </thead>\n",
       "  <tbody>\n",
       "    <tr>\n",
       "      <th>fixed_acidity</th>\n",
       "      <td>Continous</td>\n",
       "    </tr>\n",
       "    <tr>\n",
       "      <th>volatile_acidity</th>\n",
       "      <td>Continous</td>\n",
       "    </tr>\n",
       "    <tr>\n",
       "      <th>citric_acid</th>\n",
       "      <td>Continous</td>\n",
       "    </tr>\n",
       "    <tr>\n",
       "      <th>residual_sugar</th>\n",
       "      <td>Continous</td>\n",
       "    </tr>\n",
       "    <tr>\n",
       "      <th>chlorides</th>\n",
       "      <td>Continous</td>\n",
       "    </tr>\n",
       "    <tr>\n",
       "      <th>free_sulfur_dioxide</th>\n",
       "      <td>Continous</td>\n",
       "    </tr>\n",
       "    <tr>\n",
       "      <th>total_sulfur_dioxide</th>\n",
       "      <td>Continous</td>\n",
       "    </tr>\n",
       "    <tr>\n",
       "      <th>density</th>\n",
       "      <td>Continous</td>\n",
       "    </tr>\n",
       "    <tr>\n",
       "      <th>pH</th>\n",
       "      <td>Continous</td>\n",
       "    </tr>\n",
       "    <tr>\n",
       "      <th>sulphates</th>\n",
       "      <td>Continous</td>\n",
       "    </tr>\n",
       "    <tr>\n",
       "      <th>alcohol</th>\n",
       "      <td>Continous</td>\n",
       "    </tr>\n",
       "    <tr>\n",
       "      <th>quality</th>\n",
       "      <td>Discrete</td>\n",
       "    </tr>\n",
       "  </tbody>\n",
       "</table>\n",
       "</div>"
      ],
      "text/plain": [
       "                     Scale_of_measurement\n",
       "fixed_acidity                   Continous\n",
       "volatile_acidity                Continous\n",
       "citric_acid                     Continous\n",
       "residual_sugar                  Continous\n",
       "chlorides                       Continous\n",
       "free_sulfur_dioxide             Continous\n",
       "total_sulfur_dioxide            Continous\n",
       "density                         Continous\n",
       "pH                              Continous\n",
       "sulphates                       Continous\n",
       "alcohol                         Continous\n",
       "quality                          Discrete"
      ]
     },
     "execution_count": 50,
     "metadata": {},
     "output_type": "execute_result"
    }
   ],
   "source": [
    "nomi, disc, ordi, cont = 'Nominal', 'Discrete', 'Ordinal','Continous'\n",
    "print('Scales of measurement chemical properties datasets')\n",
    "pd.DataFrame(index=dataset_red.columns, data=[cont for i in range(11)] + [disc], columns=['Scale_of_measurement'])"
   ]
  },
  {
   "cell_type": "markdown",
   "id": "488508a6",
   "metadata": {},
   "source": [
    "As can be seen all the chemical properties (feature variables) have continous scale of measurement and the target variable, quality has a Discrete scale of measurement."
   ]
  },
  {
   "cell_type": "markdown",
   "id": "435838e9",
   "metadata": {},
   "source": [
    "<h3>Central tendancies and dispersion measures</h3>\n",
    "\n",
    "From the central tendancies and dispersion measures we can see some useful statistics about the target and feature variables."
   ]
  },
  {
   "cell_type": "code",
   "execution_count": 51,
   "id": "260cd772",
   "metadata": {},
   "outputs": [
    {
     "data": {
      "text/html": [
       "<div>\n",
       "<style scoped>\n",
       "    .dataframe tbody tr th:only-of-type {\n",
       "        vertical-align: middle;\n",
       "    }\n",
       "\n",
       "    .dataframe tbody tr th {\n",
       "        vertical-align: top;\n",
       "    }\n",
       "\n",
       "    .dataframe thead th {\n",
       "        text-align: right;\n",
       "    }\n",
       "</style>\n",
       "<table border=\"1\" class=\"dataframe\">\n",
       "  <thead>\n",
       "    <tr style=\"text-align: right;\">\n",
       "      <th></th>\n",
       "      <th>fixed_acidity</th>\n",
       "      <th>volatile_acidity</th>\n",
       "      <th>citric_acid</th>\n",
       "      <th>residual_sugar</th>\n",
       "      <th>chlorides</th>\n",
       "      <th>free_sulfur_dioxide</th>\n",
       "      <th>total_sulfur_dioxide</th>\n",
       "      <th>density</th>\n",
       "      <th>pH</th>\n",
       "      <th>sulphates</th>\n",
       "      <th>alcohol</th>\n",
       "      <th>quality</th>\n",
       "    </tr>\n",
       "  </thead>\n",
       "  <tbody>\n",
       "    <tr>\n",
       "      <th>count</th>\n",
       "      <td>1599.00</td>\n",
       "      <td>1599.00</td>\n",
       "      <td>1599.00</td>\n",
       "      <td>1599.00</td>\n",
       "      <td>1599.00</td>\n",
       "      <td>1599.00</td>\n",
       "      <td>1599.00</td>\n",
       "      <td>1599.00</td>\n",
       "      <td>1599.00</td>\n",
       "      <td>1599.00</td>\n",
       "      <td>1599.00</td>\n",
       "      <td>1599.00</td>\n",
       "    </tr>\n",
       "    <tr>\n",
       "      <th>mean</th>\n",
       "      <td>8.32</td>\n",
       "      <td>0.53</td>\n",
       "      <td>0.27</td>\n",
       "      <td>2.54</td>\n",
       "      <td>0.09</td>\n",
       "      <td>15.87</td>\n",
       "      <td>46.47</td>\n",
       "      <td>1.00</td>\n",
       "      <td>3.31</td>\n",
       "      <td>0.66</td>\n",
       "      <td>10.42</td>\n",
       "      <td>5.64</td>\n",
       "    </tr>\n",
       "    <tr>\n",
       "      <th>std</th>\n",
       "      <td>1.74</td>\n",
       "      <td>0.18</td>\n",
       "      <td>0.19</td>\n",
       "      <td>1.41</td>\n",
       "      <td>0.05</td>\n",
       "      <td>10.46</td>\n",
       "      <td>32.90</td>\n",
       "      <td>0.00</td>\n",
       "      <td>0.15</td>\n",
       "      <td>0.17</td>\n",
       "      <td>1.07</td>\n",
       "      <td>0.81</td>\n",
       "    </tr>\n",
       "    <tr>\n",
       "      <th>min</th>\n",
       "      <td>4.60</td>\n",
       "      <td>0.12</td>\n",
       "      <td>0.00</td>\n",
       "      <td>0.90</td>\n",
       "      <td>0.01</td>\n",
       "      <td>1.00</td>\n",
       "      <td>6.00</td>\n",
       "      <td>0.99</td>\n",
       "      <td>2.74</td>\n",
       "      <td>0.33</td>\n",
       "      <td>8.40</td>\n",
       "      <td>3.00</td>\n",
       "    </tr>\n",
       "    <tr>\n",
       "      <th>25%</th>\n",
       "      <td>7.10</td>\n",
       "      <td>0.39</td>\n",
       "      <td>0.09</td>\n",
       "      <td>1.90</td>\n",
       "      <td>0.07</td>\n",
       "      <td>7.00</td>\n",
       "      <td>22.00</td>\n",
       "      <td>1.00</td>\n",
       "      <td>3.21</td>\n",
       "      <td>0.55</td>\n",
       "      <td>9.50</td>\n",
       "      <td>5.00</td>\n",
       "    </tr>\n",
       "    <tr>\n",
       "      <th>50%</th>\n",
       "      <td>7.90</td>\n",
       "      <td>0.52</td>\n",
       "      <td>0.26</td>\n",
       "      <td>2.20</td>\n",
       "      <td>0.08</td>\n",
       "      <td>14.00</td>\n",
       "      <td>38.00</td>\n",
       "      <td>1.00</td>\n",
       "      <td>3.31</td>\n",
       "      <td>0.62</td>\n",
       "      <td>10.20</td>\n",
       "      <td>6.00</td>\n",
       "    </tr>\n",
       "    <tr>\n",
       "      <th>75%</th>\n",
       "      <td>9.20</td>\n",
       "      <td>0.64</td>\n",
       "      <td>0.42</td>\n",
       "      <td>2.60</td>\n",
       "      <td>0.09</td>\n",
       "      <td>21.00</td>\n",
       "      <td>62.00</td>\n",
       "      <td>1.00</td>\n",
       "      <td>3.40</td>\n",
       "      <td>0.73</td>\n",
       "      <td>11.10</td>\n",
       "      <td>6.00</td>\n",
       "    </tr>\n",
       "    <tr>\n",
       "      <th>max</th>\n",
       "      <td>15.90</td>\n",
       "      <td>1.58</td>\n",
       "      <td>1.00</td>\n",
       "      <td>15.50</td>\n",
       "      <td>0.61</td>\n",
       "      <td>72.00</td>\n",
       "      <td>289.00</td>\n",
       "      <td>1.00</td>\n",
       "      <td>4.01</td>\n",
       "      <td>2.00</td>\n",
       "      <td>14.90</td>\n",
       "      <td>8.00</td>\n",
       "    </tr>\n",
       "  </tbody>\n",
       "</table>\n",
       "</div>"
      ],
      "text/plain": [
       "       fixed_acidity  volatile_acidity  citric_acid  residual_sugar  \\\n",
       "count        1599.00           1599.00      1599.00         1599.00   \n",
       "mean            8.32              0.53         0.27            2.54   \n",
       "std             1.74              0.18         0.19            1.41   \n",
       "min             4.60              0.12         0.00            0.90   \n",
       "25%             7.10              0.39         0.09            1.90   \n",
       "50%             7.90              0.52         0.26            2.20   \n",
       "75%             9.20              0.64         0.42            2.60   \n",
       "max            15.90              1.58         1.00           15.50   \n",
       "\n",
       "       chlorides  free_sulfur_dioxide  total_sulfur_dioxide  density       pH  \\\n",
       "count    1599.00              1599.00               1599.00  1599.00  1599.00   \n",
       "mean        0.09                15.87                 46.47     1.00     3.31   \n",
       "std         0.05                10.46                 32.90     0.00     0.15   \n",
       "min         0.01                 1.00                  6.00     0.99     2.74   \n",
       "25%         0.07                 7.00                 22.00     1.00     3.21   \n",
       "50%         0.08                14.00                 38.00     1.00     3.31   \n",
       "75%         0.09                21.00                 62.00     1.00     3.40   \n",
       "max         0.61                72.00                289.00     1.00     4.01   \n",
       "\n",
       "       sulphates  alcohol  quality  \n",
       "count    1599.00  1599.00  1599.00  \n",
       "mean        0.66    10.42     5.64  \n",
       "std         0.17     1.07     0.81  \n",
       "min         0.33     8.40     3.00  \n",
       "25%         0.55     9.50     5.00  \n",
       "50%         0.62    10.20     6.00  \n",
       "75%         0.73    11.10     6.00  \n",
       "max         2.00    14.90     8.00  "
      ]
     },
     "execution_count": 51,
     "metadata": {},
     "output_type": "execute_result"
    }
   ],
   "source": [
    "dataset_red.describe().round(2)"
   ]
  },
  {
   "cell_type": "markdown",
   "id": "6c251f48",
   "metadata": {},
   "source": [
    "From the describe we can tell that there are quite a few columns with a big difference between maximum and minimum values which indicate outliers.\n",
    "\n",
    "The columns with big differences between max and min values:\n",
    "Residual_sugar, chlorides, free_sulfur_dioxide ,total_sulfur_dioxide."
   ]
  },
  {
   "cell_type": "code",
   "execution_count": 52,
   "id": "716a1ce3",
   "metadata": {},
   "outputs": [
    {
     "data": {
      "text/html": [
       "<div>\n",
       "<style scoped>\n",
       "    .dataframe tbody tr th:only-of-type {\n",
       "        vertical-align: middle;\n",
       "    }\n",
       "\n",
       "    .dataframe tbody tr th {\n",
       "        vertical-align: top;\n",
       "    }\n",
       "\n",
       "    .dataframe thead th {\n",
       "        text-align: right;\n",
       "    }\n",
       "</style>\n",
       "<table border=\"1\" class=\"dataframe\">\n",
       "  <thead>\n",
       "    <tr style=\"text-align: right;\">\n",
       "      <th></th>\n",
       "      <th>fixed_acidity</th>\n",
       "      <th>volatile_acidity</th>\n",
       "      <th>citric_acid</th>\n",
       "      <th>residual_sugar</th>\n",
       "      <th>chlorides</th>\n",
       "      <th>free_sulfur_dioxide</th>\n",
       "      <th>total_sulfur_dioxide</th>\n",
       "      <th>density</th>\n",
       "      <th>pH</th>\n",
       "      <th>sulphates</th>\n",
       "      <th>alcohol</th>\n",
       "      <th>quality</th>\n",
       "    </tr>\n",
       "  </thead>\n",
       "  <tbody>\n",
       "    <tr>\n",
       "      <th>count</th>\n",
       "      <td>4898.00</td>\n",
       "      <td>4898.00</td>\n",
       "      <td>4898.00</td>\n",
       "      <td>4898.00</td>\n",
       "      <td>4898.00</td>\n",
       "      <td>4898.00</td>\n",
       "      <td>4898.00</td>\n",
       "      <td>4898.00</td>\n",
       "      <td>4898.00</td>\n",
       "      <td>4898.00</td>\n",
       "      <td>4898.00</td>\n",
       "      <td>4898.00</td>\n",
       "    </tr>\n",
       "    <tr>\n",
       "      <th>mean</th>\n",
       "      <td>6.85</td>\n",
       "      <td>0.28</td>\n",
       "      <td>0.33</td>\n",
       "      <td>6.39</td>\n",
       "      <td>0.05</td>\n",
       "      <td>35.31</td>\n",
       "      <td>138.36</td>\n",
       "      <td>0.99</td>\n",
       "      <td>3.19</td>\n",
       "      <td>0.49</td>\n",
       "      <td>10.51</td>\n",
       "      <td>5.88</td>\n",
       "    </tr>\n",
       "    <tr>\n",
       "      <th>std</th>\n",
       "      <td>0.84</td>\n",
       "      <td>0.10</td>\n",
       "      <td>0.12</td>\n",
       "      <td>5.07</td>\n",
       "      <td>0.02</td>\n",
       "      <td>17.01</td>\n",
       "      <td>42.50</td>\n",
       "      <td>0.00</td>\n",
       "      <td>0.15</td>\n",
       "      <td>0.11</td>\n",
       "      <td>1.23</td>\n",
       "      <td>0.89</td>\n",
       "    </tr>\n",
       "    <tr>\n",
       "      <th>min</th>\n",
       "      <td>3.80</td>\n",
       "      <td>0.08</td>\n",
       "      <td>0.00</td>\n",
       "      <td>0.60</td>\n",
       "      <td>0.01</td>\n",
       "      <td>2.00</td>\n",
       "      <td>9.00</td>\n",
       "      <td>0.99</td>\n",
       "      <td>2.72</td>\n",
       "      <td>0.22</td>\n",
       "      <td>8.00</td>\n",
       "      <td>3.00</td>\n",
       "    </tr>\n",
       "    <tr>\n",
       "      <th>25%</th>\n",
       "      <td>6.30</td>\n",
       "      <td>0.21</td>\n",
       "      <td>0.27</td>\n",
       "      <td>1.70</td>\n",
       "      <td>0.04</td>\n",
       "      <td>23.00</td>\n",
       "      <td>108.00</td>\n",
       "      <td>0.99</td>\n",
       "      <td>3.09</td>\n",
       "      <td>0.41</td>\n",
       "      <td>9.50</td>\n",
       "      <td>5.00</td>\n",
       "    </tr>\n",
       "    <tr>\n",
       "      <th>50%</th>\n",
       "      <td>6.80</td>\n",
       "      <td>0.26</td>\n",
       "      <td>0.32</td>\n",
       "      <td>5.20</td>\n",
       "      <td>0.04</td>\n",
       "      <td>34.00</td>\n",
       "      <td>134.00</td>\n",
       "      <td>0.99</td>\n",
       "      <td>3.18</td>\n",
       "      <td>0.47</td>\n",
       "      <td>10.40</td>\n",
       "      <td>6.00</td>\n",
       "    </tr>\n",
       "    <tr>\n",
       "      <th>75%</th>\n",
       "      <td>7.30</td>\n",
       "      <td>0.32</td>\n",
       "      <td>0.39</td>\n",
       "      <td>9.90</td>\n",
       "      <td>0.05</td>\n",
       "      <td>46.00</td>\n",
       "      <td>167.00</td>\n",
       "      <td>1.00</td>\n",
       "      <td>3.28</td>\n",
       "      <td>0.55</td>\n",
       "      <td>11.40</td>\n",
       "      <td>6.00</td>\n",
       "    </tr>\n",
       "    <tr>\n",
       "      <th>max</th>\n",
       "      <td>14.20</td>\n",
       "      <td>1.10</td>\n",
       "      <td>1.66</td>\n",
       "      <td>65.80</td>\n",
       "      <td>0.35</td>\n",
       "      <td>289.00</td>\n",
       "      <td>440.00</td>\n",
       "      <td>1.04</td>\n",
       "      <td>3.82</td>\n",
       "      <td>1.08</td>\n",
       "      <td>14.20</td>\n",
       "      <td>9.00</td>\n",
       "    </tr>\n",
       "  </tbody>\n",
       "</table>\n",
       "</div>"
      ],
      "text/plain": [
       "       fixed_acidity  volatile_acidity  citric_acid  residual_sugar  \\\n",
       "count        4898.00           4898.00      4898.00         4898.00   \n",
       "mean            6.85              0.28         0.33            6.39   \n",
       "std             0.84              0.10         0.12            5.07   \n",
       "min             3.80              0.08         0.00            0.60   \n",
       "25%             6.30              0.21         0.27            1.70   \n",
       "50%             6.80              0.26         0.32            5.20   \n",
       "75%             7.30              0.32         0.39            9.90   \n",
       "max            14.20              1.10         1.66           65.80   \n",
       "\n",
       "       chlorides  free_sulfur_dioxide  total_sulfur_dioxide  density       pH  \\\n",
       "count    4898.00              4898.00               4898.00  4898.00  4898.00   \n",
       "mean        0.05                35.31                138.36     0.99     3.19   \n",
       "std         0.02                17.01                 42.50     0.00     0.15   \n",
       "min         0.01                 2.00                  9.00     0.99     2.72   \n",
       "25%         0.04                23.00                108.00     0.99     3.09   \n",
       "50%         0.04                34.00                134.00     0.99     3.18   \n",
       "75%         0.05                46.00                167.00     1.00     3.28   \n",
       "max         0.35               289.00                440.00     1.04     3.82   \n",
       "\n",
       "       sulphates  alcohol  quality  \n",
       "count    4898.00  4898.00  4898.00  \n",
       "mean        0.49    10.51     5.88  \n",
       "std         0.11     1.23     0.89  \n",
       "min         0.22     8.00     3.00  \n",
       "25%         0.41     9.50     5.00  \n",
       "50%         0.47    10.40     6.00  \n",
       "75%         0.55    11.40     6.00  \n",
       "max         1.08    14.20     9.00  "
      ]
     },
     "execution_count": 52,
     "metadata": {},
     "output_type": "execute_result"
    }
   ],
   "source": [
    "dataset_white.describe().round(2)"
   ]
  },
  {
   "cell_type": "markdown",
   "id": "2ad7bd21",
   "metadata": {},
   "source": [
    "Just like the red-wine dataset, the white-wine dataset has similair differences in maximum and minimum values."
   ]
  },
  {
   "cell_type": "markdown",
   "id": "6a645879",
   "metadata": {},
   "source": [
    "<h3>Distribution of data</h3>\n"
   ]
  },
  {
   "cell_type": "markdown",
   "id": "f0e70c2a",
   "metadata": {},
   "source": [
    "Lets take a more visual look at the distribution of all data through a histogram for each of the feature and target attributes."
   ]
  },
  {
   "cell_type": "markdown",
   "id": "8673bdc4",
   "metadata": {},
   "source": [
    "Starting off with the red wine dataset"
   ]
  },
  {
   "cell_type": "code",
   "execution_count": 53,
   "id": "af007820",
   "metadata": {},
   "outputs": [
    {
     "data": {
      "image/png": "[encoded data removed]",
      "text/plain": [
       "<Figure size 1080x1080 with 12 Axes>"
      ]
     },
     "metadata": {
      "needs_background": "light"
     },
     "output_type": "display_data"
    }
   ],
   "source": [
    "dataset_red.hist(figsize=(15,15))\n",
    "plt.show()  #FIXME(m-jeu): Is this necessary, because the visualization is through a pandas method?"
   ]
  },
  {
   "cell_type": "markdown",
   "id": "de1b2053",
   "metadata": {},
   "source": [
    "Moving on to the white wine dataset:"
   ]
  },
  {
   "cell_type": "code",
   "execution_count": 54,
   "id": "dfc6f51d",
   "metadata": {},
   "outputs": [
    {
     "data": {
      "image/png": "[encoded data removed]",
      "text/plain": [
       "<Figure size 1080x1080 with 12 Axes>"
      ]
     },
     "metadata": {
      "needs_background": "light"
     },
     "output_type": "display_data"
    }
   ],
   "source": [
    "dataset_white.hist(figsize=(15,15))\n",
    "plt.show()  #FIXME(m-jeu): Is this necessary, because the visualization is through a pandas method?"
   ]
  },
  {
   "cell_type": "markdown",
   "id": "b7cf04f2",
   "metadata": {},
   "source": [
    "As can been seen in the tables above the quality scores for the red wines range between 3 and 8 with wines with a score of 5 being the most common.\n",
    "The white wines range within a quality of 3 and 9 with the score of 6 being most common."
   ]
  },
  {
   "cell_type": "markdown",
   "id": "13a90b10",
   "metadata": {},
   "source": [
    "<h3>Outliers</h3>\n",
    "\n",
    "To get a visual understanding of the outliers in the feature columns each feature gets a boxplotted with the target variable points. Giving a small summary of the minimum, Q1, Q2 (median), Q3 and the maximum of each attribute plotted against points scored to give a view of outliers at all quality levels."
   ]
  },
  {
   "cell_type": "code",
   "execution_count": 55,
   "id": "39d42488",
   "metadata": {},
   "outputs": [],
   "source": [
    "def boxplotter(dataset, y_axes, x_axis):\n",
    "    \"\"\"Function to boxplot 1 x_axis against a list of y_axis of a given dataset\"\"\"\n",
    "    for col in y_axes:\n",
    "        sns.boxplot(x=dataset[x_axis], y=dataset[col])\n",
    "        plt.show()"
   ]
  },
  {
   "cell_type": "markdown",
   "id": "0d68a1e5",
   "metadata": {},
   "source": [
    "First boxplot all the feature variables against the target variable of the red-wine dataset"
   ]
  },
  {
   "cell_type": "code",
   "execution_count": 56,
   "id": "93a04dda",
   "metadata": {},
   "outputs": [
    {
     "data": {
      "image/png": "[encoded data removed]",
      "text/plain": [
       "<Figure size 432x288 with 1 Axes>"
      ]
     },
     "metadata": {
      "needs_background": "light"
     },
     "output_type": "display_data"
    },
    {
     "data": {
      "image/png": "[encoded data removed]",
      "text/plain": [
       "<Figure size 432x288 with 1 Axes>"
      ]
     },
     "metadata": {
      "needs_background": "light"
     },
     "output_type": "display_data"
    },
    {
     "data": {
      "image/png": "[encoded data removed]",
      "text/plain": [
       "<Figure size 432x288 with 1 Axes>"
      ]
     },
     "metadata": {
      "needs_background": "light"
     },
     "output_type": "display_data"
    },
    {
     "data": {
      "image/png": "[encoded data removed]",
      "text/plain": [
       "<Figure size 432x288 with 1 Axes>"
      ]
     },
     "metadata": {
      "needs_background": "light"
     },
     "output_type": "display_data"
    },
    {
     "data": {
      "image/png": "[encoded data removed]",
      "text/plain": [
       "<Figure size 432x288 with 1 Axes>"
      ]
     },
     "metadata": {
      "needs_background": "light"
     },
     "output_type": "display_data"
    },
    {
     "data": {
      "image/png": "[encoded data removed]",
      "text/plain": [
       "<Figure size 432x288 with 1 Axes>"
      ]
     },
     "metadata": {
      "needs_background": "light"
     },
     "output_type": "display_data"
    },
    {
     "data": {
      "image/png": "[encoded data removed]",
      "text/plain": [
       "<Figure size 432x288 with 1 Axes>"
      ]
     },
     "metadata": {
      "needs_background": "light"
     },
     "output_type": "display_data"
    },
    {
     "data": {
      "image/png": "[encoded data removed]",
      "text/plain": [
       "<Figure size 432x288 with 1 Axes>"
      ]
     },
     "metadata": {
      "needs_background": "light"
     },
     "output_type": "display_data"
    },
    {
     "data": {
      "image/png": "[encoded data removed]",
      "text/plain": [
       "<Figure size 432x288 with 1 Axes>"
      ]
     },
     "metadata": {
      "needs_background": "light"
     },
     "output_type": "display_data"
    },
    {
     "data": {
      "image/png": "[encoded data removed]",
      "text/plain": [
       "<Figure size 432x288 with 1 Axes>"
      ]
     },
     "metadata": {
      "needs_background": "light"
     },
     "output_type": "display_data"
    },
    {
     "data": {
      "image/png": "[encoded data removed]",
      "text/plain": [
       "<Figure size 432x288 with 1 Axes>"
      ]
     },
     "metadata": {
      "needs_background": "light"
     },
     "output_type": "display_data"
    }
   ],
   "source": [
    "boxplotter(dataset=dataset_red, y_axes=feature_vars, x_axis=target_var)"
   ]
  },
  {
   "cell_type": "markdown",
   "id": "61fdda52",
   "metadata": {},
   "source": [
    "Now do the same for the white-wine dataset"
   ]
  },
  {
   "cell_type": "code",
   "execution_count": 57,
   "id": "e7475571",
   "metadata": {},
   "outputs": [
    {
     "data": {
      "image/png": "[encoded data removed]",
      "text/plain": [
       "<Figure size 432x288 with 1 Axes>"
      ]
     },
     "metadata": {
      "needs_background": "light"
     },
     "output_type": "display_data"
    },
    {
     "data": {
      "image/png": "[encoded data removed]",
      "text/plain": [
       "<Figure size 432x288 with 1 Axes>"
      ]
     },
     "metadata": {
      "needs_background": "light"
     },
     "output_type": "display_data"
    },
    {
     "data": {
      "image/png": "[encoded data removed]",
      "text/plain": [
       "<Figure size 432x288 with 1 Axes>"
      ]
     },
     "metadata": {
      "needs_background": "light"
     },
     "output_type": "display_data"
    },
    {
     "data": {
      "image/png": "[encoded data removed]",
      "text/plain": [
       "<Figure size 432x288 with 1 Axes>"
      ]
     },
     "metadata": {
      "needs_background": "light"
     },
     "output_type": "display_data"
    },
    {
     "data": {
      "image/png": "[encoded data removed]",
      "text/plain": [
       "<Figure size 432x288 with 1 Axes>"
      ]
     },
     "metadata": {
      "needs_background": "light"
     },
     "output_type": "display_data"
    },
    {
     "data": {
      "image/png": "[encoded data removed]",
      "text/plain": [
       "<Figure size 432x288 with 1 Axes>"
      ]
     },
     "metadata": {
      "needs_background": "light"
     },
     "output_type": "display_data"
    },
    {
     "data": {
      "image/png": "[encoded data removed]",
      "text/plain": [
       "<Figure size 432x288 with 1 Axes>"
      ]
     },
     "metadata": {
      "needs_background": "light"
     },
     "output_type": "display_data"
    },
    {
     "data": {
      "image/png": "[encoded data removed]",
      "text/plain": [
       "<Figure size 432x288 with 1 Axes>"
      ]
     },
     "metadata": {
      "needs_background": "light"
     },
     "output_type": "display_data"
    },
    {
     "data": {
      "image/png": "[encoded data removed]",
      "text/plain": [
       "<Figure size 432x288 with 1 Axes>"
      ]
     },
     "metadata": {
      "needs_background": "light"
     },
     "output_type": "display_data"
    },
    {
     "data": {
      "image/png": "[encoded data removed]",
      "text/plain": [
       "<Figure size 432x288 with 1 Axes>"
      ]
     },
     "metadata": {
      "needs_background": "light"
     },
     "output_type": "display_data"
    },
    {
     "data": {
      "image/png": "[encoded data removed]",
      "text/plain": [
       "<Figure size 432x288 with 1 Axes>"
      ]
     },
     "metadata": {
      "needs_background": "light"
     },
     "output_type": "display_data"
    }
   ],
   "source": [
    "boxplotter(dataset=dataset_white, y_axes=feature_vars, x_axis=target_var)"
   ]
  },
  {
   "cell_type": "markdown",
   "id": "b96a0b24",
   "metadata": {},
   "source": [
    "\n",
    "\n",
    "As can be seen from the boxplots all of our current variables contain outliers.\n",
    "\n",
    "All outliers in the above boxplots seem to be plausible and not from incorrect data.\n",
    "From the boxplot with alcohol on the y axis and quality on the x axis we can  see that a trend of a rising median alcohol percentage the higher the quality of the wine."
   ]
  },
  {
   "cell_type": "markdown",
   "id": "79895d99",
   "metadata": {},
   "source": [
    "<h3>Correlations</h3>\n",
    "\n",
    "To help find correlations between variables and indepented/undepented attributes we can make use of a correlation matrix. "
   ]
  },
  {
   "cell_type": "code",
   "execution_count": 58,
   "id": "76f47eb2",
   "metadata": {},
   "outputs": [
    {
     "data": {
      "image/png": "[encoded data removed]",
      "text/plain": [
       "<Figure size 720x540 with 2 Axes>"
      ]
     },
     "metadata": {
      "needs_background": "light"
     },
     "output_type": "display_data"
    },
    {
     "data": {
      "image/png": "[encoded data removed]",
      "text/plain": [
       "<Figure size 720x540 with 2 Axes>"
      ]
     },
     "metadata": {
      "needs_background": "light"
     },
     "output_type": "display_data"
    }
   ],
   "source": [
    "def corr_matrix_plotter(dataset, title=''):\n",
    "    \"\"\"Return a correlation matrix created using seaborn and matplotlib that for all columns in\n",
    "    a pandas dataframe.\n",
    "\n",
    "    Args:\n",
    "        dataset: Dataset to construct correlation matrix for.\n",
    "        title: Title of the plot.\n",
    "\n",
    "    Returns:\n",
    "        correlation matrix.\"\"\"\n",
    "    corr = dataset.corr()\n",
    "    plt.figure(figsize=(10,7.5))\n",
    "    cmap = sns.diverging_palette(200, 0, as_cmap=True) # color palette as cmap\n",
    "    mask = np.logical_not(np.tril(np.ones_like(corr))) # triangle mask\n",
    "    sns.heatmap(corr, annot=True, mask=mask, cmap = cmap, vmin=-1, vmax=1).set_title(title) # correlation heatmap\n",
    "    plt.show()\n",
    "corr_matrix_plotter(dataset_red, 'red-wine')\n",
    "corr_matrix_plotter(dataset_white, 'white-wine')"
   ]
  },
  {
   "cell_type": "markdown",
   "id": "a122293e",
   "metadata": {},
   "source": [
    "In the correlation matrices graphed above you can see which attributes have a correlation to other attributes. Starting with our target variable 'quality', we can see quality has a few correlations with the strongest one being alcohol for both red and white wines and a few weaker ones like volatile acidity, sulphates and citric acid for red wines and density and chloride for white wines. Because quality is our target variable it's the indepented attribute in the correlations.\n",
    "\n",
    "Besides there are some corelations among chemical properties:\n",
    "Fixed acidity has strong correlation with pH, but it’s still an independent type. pH However is a dependent type; it depends on the former. Volatile acidity, residual sugar, sulphates, chlorides, and density are all independent data types. Total sulfur dioxide is dependent on free sulfur dioxide, but free sulfur dioxide is independent."
   ]
  },
  {
   "cell_type": "markdown",
   "id": "20220327",
   "metadata": {},
   "source": [
    "<h2>Data Understanding: Review Dataset.</h2>\n",
    "\n",
    "We'll be using the review Dataset for research question 3, so that needs to be examined as well."
   ]
  },
  {
   "cell_type": "code",
   "execution_count": 59,
   "id": "fdca2a17",
   "metadata": {
    "pycharm": {
     "name": "#%%\n"
    }
   },
   "outputs": [
    {
     "data": {
      "text/html": [
       "<div>\n",
       "<style scoped>\n",
       "    .dataframe tbody tr th:only-of-type {\n",
       "        vertical-align: middle;\n",
       "    }\n",
       "\n",
       "    .dataframe tbody tr th {\n",
       "        vertical-align: top;\n",
       "    }\n",
       "\n",
       "    .dataframe thead th {\n",
       "        text-align: right;\n",
       "    }\n",
       "</style>\n",
       "<table border=\"1\" class=\"dataframe\">\n",
       "  <thead>\n",
       "    <tr style=\"text-align: right;\">\n",
       "      <th></th>\n",
       "      <th>Unnamed: 0</th>\n",
       "      <th>country</th>\n",
       "      <th>description</th>\n",
       "      <th>designation</th>\n",
       "      <th>points</th>\n",
       "      <th>price</th>\n",
       "      <th>province</th>\n",
       "      <th>region_1</th>\n",
       "      <th>region_2</th>\n",
       "      <th>taster_name</th>\n",
       "      <th>taster_twitter_handle</th>\n",
       "      <th>title</th>\n",
       "      <th>variety</th>\n",
       "      <th>winery</th>\n",
       "    </tr>\n",
       "  </thead>\n",
       "  <tbody>\n",
       "    <tr>\n",
       "      <th>0</th>\n",
       "      <td>0</td>\n",
       "      <td>Italy</td>\n",
       "      <td>Aromas include tropical fruit, broom, brimston...</td>\n",
       "      <td>Vulkà Bianco</td>\n",
       "      <td>87</td>\n",
       "      <td>NaN</td>\n",
       "      <td>Sicily &amp; Sardinia</td>\n",
       "      <td>Etna</td>\n",
       "      <td>NaN</td>\n",
       "      <td>Kerin O’Keefe</td>\n",
       "      <td>@kerinokeefe</td>\n",
       "      <td>Nicosia 2013 Vulkà Bianco  (Etna)</td>\n",
       "      <td>White Blend</td>\n",
       "      <td>Nicosia</td>\n",
       "    </tr>\n",
       "    <tr>\n",
       "      <th>1</th>\n",
       "      <td>1</td>\n",
       "      <td>Portugal</td>\n",
       "      <td>This is ripe and fruity, a wine that is smooth...</td>\n",
       "      <td>Avidagos</td>\n",
       "      <td>87</td>\n",
       "      <td>15.0</td>\n",
       "      <td>Douro</td>\n",
       "      <td>NaN</td>\n",
       "      <td>NaN</td>\n",
       "      <td>Roger Voss</td>\n",
       "      <td>@vossroger</td>\n",
       "      <td>Quinta dos Avidagos 2011 Avidagos Red (Douro)</td>\n",
       "      <td>Portuguese Red</td>\n",
       "      <td>Quinta dos Avidagos</td>\n",
       "    </tr>\n",
       "    <tr>\n",
       "      <th>2</th>\n",
       "      <td>2</td>\n",
       "      <td>US</td>\n",
       "      <td>Tart and snappy, the flavors of lime flesh and...</td>\n",
       "      <td>NaN</td>\n",
       "      <td>87</td>\n",
       "      <td>14.0</td>\n",
       "      <td>Oregon</td>\n",
       "      <td>Willamette Valley</td>\n",
       "      <td>Willamette Valley</td>\n",
       "      <td>Paul Gregutt</td>\n",
       "      <td>@paulgwine</td>\n",
       "      <td>Rainstorm 2013 Pinot Gris (Willamette Valley)</td>\n",
       "      <td>Pinot Gris</td>\n",
       "      <td>Rainstorm</td>\n",
       "    </tr>\n",
       "    <tr>\n",
       "      <th>3</th>\n",
       "      <td>3</td>\n",
       "      <td>US</td>\n",
       "      <td>Pineapple rind, lemon pith and orange blossom ...</td>\n",
       "      <td>Reserve Late Harvest</td>\n",
       "      <td>87</td>\n",
       "      <td>13.0</td>\n",
       "      <td>Michigan</td>\n",
       "      <td>Lake Michigan Shore</td>\n",
       "      <td>NaN</td>\n",
       "      <td>Alexander Peartree</td>\n",
       "      <td>NaN</td>\n",
       "      <td>St. Julian 2013 Reserve Late Harvest Riesling ...</td>\n",
       "      <td>Riesling</td>\n",
       "      <td>St. Julian</td>\n",
       "    </tr>\n",
       "    <tr>\n",
       "      <th>4</th>\n",
       "      <td>4</td>\n",
       "      <td>US</td>\n",
       "      <td>Much like the regular bottling from 2012, this...</td>\n",
       "      <td>Vintner's Reserve Wild Child Block</td>\n",
       "      <td>87</td>\n",
       "      <td>65.0</td>\n",
       "      <td>Oregon</td>\n",
       "      <td>Willamette Valley</td>\n",
       "      <td>Willamette Valley</td>\n",
       "      <td>Paul Gregutt</td>\n",
       "      <td>@paulgwine</td>\n",
       "      <td>Sweet Cheeks 2012 Vintner's Reserve Wild Child...</td>\n",
       "      <td>Pinot Noir</td>\n",
       "      <td>Sweet Cheeks</td>\n",
       "    </tr>\n",
       "  </tbody>\n",
       "</table>\n",
       "</div>"
      ],
      "text/plain": [
       "   Unnamed: 0   country                                        description  \\\n",
       "0           0     Italy  Aromas include tropical fruit, broom, brimston...   \n",
       "1           1  Portugal  This is ripe and fruity, a wine that is smooth...   \n",
       "2           2        US  Tart and snappy, the flavors of lime flesh and...   \n",
       "3           3        US  Pineapple rind, lemon pith and orange blossom ...   \n",
       "4           4        US  Much like the regular bottling from 2012, this...   \n",
       "\n",
       "                          designation  points  price           province  \\\n",
       "0                        Vulkà Bianco      87    NaN  Sicily & Sardinia   \n",
       "1                            Avidagos      87   15.0              Douro   \n",
       "2                                 NaN      87   14.0             Oregon   \n",
       "3                Reserve Late Harvest      87   13.0           Michigan   \n",
       "4  Vintner's Reserve Wild Child Block      87   65.0             Oregon   \n",
       "\n",
       "              region_1           region_2         taster_name  \\\n",
       "0                 Etna                NaN       Kerin O’Keefe   \n",
       "1                  NaN                NaN          Roger Voss   \n",
       "2    Willamette Valley  Willamette Valley        Paul Gregutt   \n",
       "3  Lake Michigan Shore                NaN  Alexander Peartree   \n",
       "4    Willamette Valley  Willamette Valley        Paul Gregutt   \n",
       "\n",
       "  taster_twitter_handle                                              title  \\\n",
       "0          @kerinokeefe                  Nicosia 2013 Vulkà Bianco  (Etna)   \n",
       "1            @vossroger      Quinta dos Avidagos 2011 Avidagos Red (Douro)   \n",
       "2           @paulgwine       Rainstorm 2013 Pinot Gris (Willamette Valley)   \n",
       "3                   NaN  St. Julian 2013 Reserve Late Harvest Riesling ...   \n",
       "4           @paulgwine   Sweet Cheeks 2012 Vintner's Reserve Wild Child...   \n",
       "\n",
       "          variety               winery  \n",
       "0     White Blend              Nicosia  \n",
       "1  Portuguese Red  Quinta dos Avidagos  \n",
       "2      Pinot Gris            Rainstorm  \n",
       "3        Riesling           St. Julian  \n",
       "4      Pinot Noir         Sweet Cheeks  "
      ]
     },
     "execution_count": 59,
     "metadata": {},
     "output_type": "execute_result"
    }
   ],
   "source": [
    "dataset_reviews = pd.read_csv(\"datasets/winemag-data-130k-v2.csv\")\n",
    "dataset_reviews.head(5)"
   ]
  },
  {
   "cell_type": "markdown",
   "id": "8c6d263d",
   "metadata": {},
   "source": [
    "At first look it appears most of the (usable) variables are categorical, with points and price as the only numerical (discrete) values. We have some columns that initially seem fairly useless for the types of analysis that we will most probably be using for this project, like 'description', but we'll keep them just in case we end up doing anything like a sentiment-analysis type model. It also appears we have a redundant index columns called \"Unnamed: 0\".\n",
    "\n",
    "<h3>Target and feature variables</h3>\n",
    "\n",
    "We're not quite sure what feature variables we'll be using for the third question, but we know we'll be grouping by 'winery'. We'll start out by using 'price' and 'points' as further feature variables, but during the modelling stage we might end up using more.\n",
    "\n",
    "Considering we're looking for logical clusters (unsupervised learning), there are no target variables."
   ]
  },
  {
   "cell_type": "markdown",
   "id": "fd962210",
   "metadata": {},
   "source": [
    "<h3>Scales of measurement</h3>\n",
    "\n",
    "Like mentioned earlier, we're mostly dealing with categorical (ordinal, specifically) variables in this dataset. There are 2 numerical values. Points and price are both discrete values."
   ]
  },
  {
   "cell_type": "markdown",
   "id": "7a6c0dc1",
   "metadata": {},
   "source": [
    "<h3>Central tendencies and dispersion measures</h3>\n",
    "\n",
    "We can examine the spread of values of the numerical variables through histograms:\n"
   ]
  },
  {
   "cell_type": "code",
   "execution_count": 60,
   "id": "1938b397",
   "metadata": {
    "pycharm": {
     "name": "#%%\n"
    }
   },
   "outputs": [
    {
     "data": {
      "image/png": "[encoded data removed]",
      "text/plain": [
       "<Figure size 432x288 with 2 Axes>"
      ]
     },
     "metadata": {
      "needs_background": "light"
     },
     "output_type": "display_data"
    }
   ],
   "source": [
    "_ = dataset_reviews[[\"price\", \"points\"]].hist()  # _ = to prevent pointless table from showing on screen."
   ]
  },
  {
   "cell_type": "markdown",
   "id": "2087e4fe",
   "metadata": {},
   "source": [
    "Points has an obvious Gaussian distribution. It does appear the price graph is made quite unreadable by some outliers. We'll have a proper look at those later, let's ignore them for now to have a better look at the distribution."
   ]
  },
  {
   "cell_type": "code",
   "execution_count": 61,
   "id": "61c359d9",
   "metadata": {
    "pycharm": {
     "name": "#%%\n"
    }
   },
   "outputs": [
    {
     "data": {
      "text/plain": [
       "<AxesSubplot:>"
      ]
     },
     "execution_count": 61,
     "metadata": {},
     "output_type": "execute_result"
    },
    {
     "data": {
      "image/png": "[encoded data removed]",
      "text/plain": [
       "<Figure size 432x288 with 1 Axes>"
      ]
     },
     "metadata": {
      "needs_background": "light"
     },
     "output_type": "display_data"
    }
   ],
   "source": [
    "dataset_reviews[dataset_reviews[\"price\"] < 100][\"price\"].hist(bins=20)"
   ]
  },
  {
   "cell_type": "markdown",
   "id": "8b4376ce",
   "metadata": {},
   "source": [
    "It appears that the price column in lognormally distributed.\n",
    "\n",
    "<h3>Outliers</h3>\n",
    "\n",
    "To visually explore outliers, we'll use the same function and approach as with the exploration of the chemical dataset.\n",
    "\n",
    "--TO BE CONTINUED--\n",
    "\n",
    "\n"
   ]
  },
  {
   "cell_type": "markdown",
   "id": "adfe8ec2",
   "metadata": {},
   "source": []
  },
  {
   "cell_type": "markdown",
   "id": "527e1a65",
   "metadata": {},
   "source": [
    "<h2>Data Preparation: Chemical dataset.</h2>"
   ]
  },
  {
   "cell_type": "markdown",
   "id": "a8c720bd",
   "metadata": {},
   "source": [
    "Lets start of the data preparation by checking the datatypes and clean or change them if necessary."
   ]
  },
  {
   "cell_type": "markdown",
   "id": "29c1b2b5",
   "metadata": {},
   "source": [
    "Red-wine quality datatypes:"
   ]
  },
  {
   "cell_type": "code",
   "execution_count": 62,
   "id": "f9ffc971",
   "metadata": {},
   "outputs": [
    {
     "data": {
      "text/plain": [
       "fixed_acidity           float64\n",
       "volatile_acidity        float64\n",
       "citric_acid             float64\n",
       "residual_sugar          float64\n",
       "chlorides               float64\n",
       "free_sulfur_dioxide     float64\n",
       "total_sulfur_dioxide    float64\n",
       "density                 float64\n",
       "pH                      float64\n",
       "sulphates               float64\n",
       "alcohol                 float64\n",
       "quality                   int64\n",
       "dtype: object"
      ]
     },
     "execution_count": 62,
     "metadata": {},
     "output_type": "execute_result"
    }
   ],
   "source": [
    "dataset_red.dtypes"
   ]
  },
  {
   "cell_type": "markdown",
   "id": "4489a509",
   "metadata": {},
   "source": [
    "White-wine quality datatypes:"
   ]
  },
  {
   "cell_type": "code",
   "execution_count": 63,
   "id": "f7362924",
   "metadata": {},
   "outputs": [
    {
     "data": {
      "text/plain": [
       "fixed_acidity           float64\n",
       "volatile_acidity        float64\n",
       "citric_acid             float64\n",
       "residual_sugar          float64\n",
       "chlorides               float64\n",
       "free_sulfur_dioxide     float64\n",
       "total_sulfur_dioxide    float64\n",
       "density                 float64\n",
       "pH                      float64\n",
       "sulphates               float64\n",
       "alcohol                 float64\n",
       "quality                   int64\n",
       "dtype: object"
      ]
     },
     "execution_count": 63,
     "metadata": {},
     "output_type": "execute_result"
    }
   ],
   "source": [
    "dataset_white.dtypes"
   ]
  },
  {
   "cell_type": "markdown",
   "id": "f703501d",
   "metadata": {},
   "source": [
    "We can now move on to checking and removing any NA values in the datasets."
   ]
  },
  {
   "cell_type": "code",
   "execution_count": 64,
   "id": "11665efa",
   "metadata": {},
   "outputs": [
    {
     "data": {
      "text/plain": [
       "0"
      ]
     },
     "execution_count": 64,
     "metadata": {},
     "output_type": "execute_result"
    }
   ],
   "source": [
    "pd.isna(dataset_red).sum().sum() # checking for total NA values in red_wine"
   ]
  },
  {
   "cell_type": "code",
   "execution_count": 65,
   "id": "d255811f",
   "metadata": {},
   "outputs": [
    {
     "data": {
      "text/plain": [
       "0"
      ]
     },
     "execution_count": 65,
     "metadata": {},
     "output_type": "execute_result"
    }
   ],
   "source": [
    "pd.isna(dataset_white).sum().sum() # checking for total NA values in white_wine"
   ]
  },
  {
   "cell_type": "markdown",
   "id": "560a07fa",
   "metadata": {},
   "source": [
    "Lets start of by removing all extreme the outliers leaving the mild ones in the dataset with a outer fence:"
   ]
  },
  {
   "cell_type": "code",
   "execution_count": 66,
   "id": "ab14975a",
   "metadata": {},
   "outputs": [],
   "source": [
    "def remove_outliers(dataset, fence = 3):\n",
    "    q1 = dataset.quantile(.25)\n",
    "    q3 = dataset.quantile(.75)\n",
    "    iqr = q3 - q1\n",
    "    return dataset[(dataset >= q1 - (fence * iqr)) & (dataset <= q3 + (fence * iqr))].dropna() # turn extreme outliers into NaN values and drop the rows"
   ]
  },
  {
   "cell_type": "markdown",
   "id": "ae470263",
   "metadata": {},
   "source": [
    "The red-wine dataset contained 1599 rows and the white-wine 4898 before removing the outliers lets remove the outliers and check howmany are left."
   ]
  },
  {
   "cell_type": "code",
   "execution_count": 67,
   "id": "fe428d77",
   "metadata": {},
   "outputs": [],
   "source": [
    "dataset_red = remove_outliers(dataset_red)\n",
    "dataset_white = remove_outliers(dataset_white)"
   ]
  },
  {
   "cell_type": "code",
   "execution_count": 68,
   "id": "abd11941",
   "metadata": {},
   "outputs": [
    {
     "data": {
      "text/plain": [
       "((1435, 12), (4690, 12))"
      ]
     },
     "execution_count": 68,
     "metadata": {},
     "output_type": "execute_result"
    }
   ],
   "source": [
    "dataset_red.shape, dataset_white.shape"
   ]
  },
  {
   "cell_type": "markdown",
   "id": "480d6367",
   "metadata": {},
   "source": [
    "There are still 1435 rows left which means 12% of the columns contained outliers. With 88% still left there will be enough data to construct a model. \n",
    "There is roughly still 88% of the red-wine data left and 96% of the white-wine data after removing the extreme outliers that lay 3+ IQR above Q3 or 3+ IQR below Q1."
   ]
  },
  {
   "cell_type": "markdown",
   "id": "f9717c81",
   "metadata": {},
   "source": [
    "<h3>Normalizing data</h3>\n",
    "\n",
    "Many algorithms used for making a prediction model work more efficient with normalized data. We can normalize the whole dataset into a new dataframe to acces normalized data from."
   ]
  },
  {
   "cell_type": "code",
   "execution_count": 69,
   "id": "1efb0696",
   "metadata": {},
   "outputs": [],
   "source": [
    "def normalizer(dataset):\n",
    "    scaler = sk.preprocessing.StandardScaler().fit(dataset)\n",
    "    return pd.DataFrame((scaler.transform(dataset)), columns=dataset.columns)"
   ]
  },
  {
   "cell_type": "code",
   "execution_count": 70,
   "id": "2da8a8a9",
   "metadata": {},
   "outputs": [],
   "source": [
    "normalized_dataset_red = normalizer(dataset_red)\n",
    "normalized_dataset_white = normalizer(dataset_white)"
   ]
  },
  {
   "cell_type": "code",
   "execution_count": 71,
   "id": "7d6531cc",
   "metadata": {},
   "outputs": [
    {
     "data": {
      "text/html": [
       "<div>\n",
       "<style scoped>\n",
       "    .dataframe tbody tr th:only-of-type {\n",
       "        vertical-align: middle;\n",
       "    }\n",
       "\n",
       "    .dataframe tbody tr th {\n",
       "        vertical-align: top;\n",
       "    }\n",
       "\n",
       "    .dataframe thead th {\n",
       "        text-align: right;\n",
       "    }\n",
       "</style>\n",
       "<table border=\"1\" class=\"dataframe\">\n",
       "  <thead>\n",
       "    <tr style=\"text-align: right;\">\n",
       "      <th></th>\n",
       "      <th>fixed_acidity</th>\n",
       "      <th>volatile_acidity</th>\n",
       "      <th>citric_acid</th>\n",
       "      <th>residual_sugar</th>\n",
       "      <th>chlorides</th>\n",
       "      <th>free_sulfur_dioxide</th>\n",
       "      <th>total_sulfur_dioxide</th>\n",
       "      <th>density</th>\n",
       "      <th>pH</th>\n",
       "      <th>sulphates</th>\n",
       "      <th>alcohol</th>\n",
       "      <th>quality</th>\n",
       "    </tr>\n",
       "  </thead>\n",
       "  <tbody>\n",
       "    <tr>\n",
       "      <th>0</th>\n",
       "      <td>-0.525165</td>\n",
       "      <td>0.990227</td>\n",
       "      <td>-1.375751</td>\n",
       "      <td>-0.624624</td>\n",
       "      <td>-0.200565</td>\n",
       "      <td>-0.475071</td>\n",
       "      <td>-0.358996</td>\n",
       "      <td>0.655068</td>\n",
       "      <td>1.285460</td>\n",
       "      <td>-0.612244</td>\n",
       "      <td>-0.984588</td>\n",
       "      <td>-0.809014</td>\n",
       "    </tr>\n",
       "    <tr>\n",
       "      <th>1</th>\n",
       "      <td>-0.290377</td>\n",
       "      <td>2.008930</td>\n",
       "      <td>-1.375751</td>\n",
       "      <td>0.554987</td>\n",
       "      <td>1.138089</td>\n",
       "      <td>0.949540</td>\n",
       "      <td>0.724583</td>\n",
       "      <td>0.099719</td>\n",
       "      <td>-0.800851</td>\n",
       "      <td>0.287086</td>\n",
       "      <td>-0.605159</td>\n",
       "      <td>-0.809014</td>\n",
       "    </tr>\n",
       "    <tr>\n",
       "      <th>2</th>\n",
       "      <td>-0.290377</td>\n",
       "      <td>1.329795</td>\n",
       "      <td>-1.164911</td>\n",
       "      <td>0.049439</td>\n",
       "      <td>0.773002</td>\n",
       "      <td>-0.068040</td>\n",
       "      <td>0.297718</td>\n",
       "      <td>0.210789</td>\n",
       "      <td>-0.397049</td>\n",
       "      <td>0.062253</td>\n",
       "      <td>-0.605159</td>\n",
       "      <td>-0.809014</td>\n",
       "    </tr>\n",
       "    <tr>\n",
       "      <th>3</th>\n",
       "      <td>1.705324</td>\n",
       "      <td>-1.386744</td>\n",
       "      <td>1.576012</td>\n",
       "      <td>-0.624624</td>\n",
       "      <td>-0.261413</td>\n",
       "      <td>0.135476</td>\n",
       "      <td>0.494732</td>\n",
       "      <td>0.766138</td>\n",
       "      <td>-1.070052</td>\n",
       "      <td>-0.462355</td>\n",
       "      <td>-0.605159</td>\n",
       "      <td>0.447409</td>\n",
       "    </tr>\n",
       "    <tr>\n",
       "      <th>4</th>\n",
       "      <td>-0.525165</td>\n",
       "      <td>0.990227</td>\n",
       "      <td>-1.375751</td>\n",
       "      <td>-0.624624</td>\n",
       "      <td>-0.200565</td>\n",
       "      <td>-0.475071</td>\n",
       "      <td>-0.358996</td>\n",
       "      <td>0.655068</td>\n",
       "      <td>1.285460</td>\n",
       "      <td>-0.612244</td>\n",
       "      <td>-0.984588</td>\n",
       "      <td>-0.809014</td>\n",
       "    </tr>\n",
       "  </tbody>\n",
       "</table>\n",
       "</div>"
      ],
      "text/plain": [
       "   fixed_acidity  volatile_acidity  citric_acid  residual_sugar  chlorides  \\\n",
       "0      -0.525165          0.990227    -1.375751       -0.624624  -0.200565   \n",
       "1      -0.290377          2.008930    -1.375751        0.554987   1.138089   \n",
       "2      -0.290377          1.329795    -1.164911        0.049439   0.773002   \n",
       "3       1.705324         -1.386744     1.576012       -0.624624  -0.261413   \n",
       "4      -0.525165          0.990227    -1.375751       -0.624624  -0.200565   \n",
       "\n",
       "   free_sulfur_dioxide  total_sulfur_dioxide   density        pH  sulphates  \\\n",
       "0            -0.475071             -0.358996  0.655068  1.285460  -0.612244   \n",
       "1             0.949540              0.724583  0.099719 -0.800851   0.287086   \n",
       "2            -0.068040              0.297718  0.210789 -0.397049   0.062253   \n",
       "3             0.135476              0.494732  0.766138 -1.070052  -0.462355   \n",
       "4            -0.475071             -0.358996  0.655068  1.285460  -0.612244   \n",
       "\n",
       "    alcohol   quality  \n",
       "0 -0.984588 -0.809014  \n",
       "1 -0.605159 -0.809014  \n",
       "2 -0.605159 -0.809014  \n",
       "3 -0.605159  0.447409  \n",
       "4 -0.984588 -0.809014  "
      ]
     },
     "execution_count": 71,
     "metadata": {},
     "output_type": "execute_result"
    }
   ],
   "source": [
    "normalized_dataset_red.head()"
   ]
  },
  {
   "cell_type": "markdown",
   "id": "cfbeef0a",
   "metadata": {},
   "source": [
    "<h3>Data cleaned</h3>\n",
    "\n",
    "The red and white wine chemicalproperty datasets got cleaned by removing all extreme outliers in the datasets and creating a normalized copy of both datasets."
   ]
  },
  {
   "cell_type": "markdown",
   "id": "17860fcb",
   "metadata": {},
   "source": [
    "<h3>Modeling</h3>"
   ]
  },
  {
   "cell_type": "markdown",
   "id": "b0c56189",
   "metadata": {},
   "source": [
    "<h4>Test and train data</h4>\n"
   ]
  },
  {
   "cell_type": "markdown",
   "id": "6d7c508b",
   "metadata": {},
   "source": [
    "The datasets will be splitted into a train and test dataset for the models to learn and test their performance."
   ]
  },
  {
   "cell_type": "code",
   "execution_count": 72,
   "id": "5208d3f7",
   "metadata": {},
   "outputs": [],
   "source": [
    "X_red, y_red = dataset_red[feature_vars], dataset_red[target_var]\n",
    "X_train_red, X_test_red, y_train_red, y_test_red = train_test_split(X_red, y_red, random_state=0)"
   ]
  },
  {
   "cell_type": "markdown",
   "id": "973d13b4",
   "metadata": {},
   "source": [
    "<h4>Baseline model</h4>"
   ]
  },
  {
   "cell_type": "markdown",
   "id": "1c14b152",
   "metadata": {},
   "source": [
    "A baseline model is constructed to compared future models against. The baseline model always predicts the mean of the target variable."
   ]
  },
  {
   "cell_type": "code",
   "execution_count": 73,
   "id": "3ce6c41f",
   "metadata": {},
   "outputs": [],
   "source": [
    "baseline_red = py_lib.DumbRegressor(y_red)"
   ]
  },
  {
   "cell_type": "code",
   "execution_count": 74,
   "id": "9e613af7",
   "metadata": {},
   "outputs": [],
   "source": [
    "base_line_predictions_red = baseline_red.predict(X_test_red)"
   ]
  },
  {
   "cell_type": "markdown",
   "id": "ed735751",
   "metadata": {},
   "source": [
    "Lets check the root mean squared error to check the accuracy"
   ]
  },
  {
   "cell_type": "code",
   "execution_count": 75,
   "id": "852cf117",
   "metadata": {},
   "outputs": [
    {
     "data": {
      "text/plain": [
       "0.6416774071674407"
      ]
     },
     "execution_count": 75,
     "metadata": {},
     "output_type": "execute_result"
    }
   ],
   "source": [
    "sk.metrics.mean_squared_error(y_test_red, base_line_predictions_red)"
   ]
  },
  {
   "cell_type": "markdown",
   "id": "a9276b27",
   "metadata": {},
   "source": [
    "Plotting the predicted value (a constant) and the actual values. "
   ]
  },
  {
   "cell_type": "code",
   "execution_count": 76,
   "id": "7ea6afb6",
   "metadata": {},
   "outputs": [
    {
     "data": {
      "image/png": "[encoded data removed]",
      "text/plain": [
       "<Figure size 432x288 with 1 Axes>"
      ]
     },
     "metadata": {
      "needs_background": "light"
     },
     "output_type": "display_data"
    }
   ],
   "source": [
    "plt.plot(base_line_predictions_red, c='r')\n",
    "plt.scatter(x=np.arange(len(X_test_red)), y=y_test_red)\n",
    "plt.show()"
   ]
  },
  {
   "cell_type": "markdown",
   "id": "5fba3727",
   "metadata": {},
   "source": [
    "<h4>Implementing a machine learning model</h4>"
   ]
  },
  {
   "cell_type": "markdown",
   "id": "88c84b81",
   "metadata": {},
   "source": [
    "For the first version of the machine learning model both linear regression and polynomial regression will be tested."
   ]
  },
  {
   "cell_type": "markdown",
   "id": "11724674",
   "metadata": {},
   "source": [
    "Making the pipelines"
   ]
  },
  {
   "cell_type": "code",
   "execution_count": 77,
   "id": "a8c577d7",
   "metadata": {},
   "outputs": [],
   "source": [
    "regr = make_pipeline(linear_model.LinearRegression())\n",
    "poly = make_pipeline(PolynomialFeatures(3),linear_model.LinearRegression())"
   ]
  },
  {
   "cell_type": "markdown",
   "id": "164ed5b9",
   "metadata": {},
   "source": [
    "Fit the model to the X train and y train data"
   ]
  },
  {
   "cell_type": "code",
   "execution_count": 78,
   "id": "3319d20f",
   "metadata": {},
   "outputs": [
    {
     "data": {
      "text/plain": [
       "Pipeline(steps=[('polynomialfeatures', PolynomialFeatures(degree=3)),\n",
       "                ('linearregression', LinearRegression())])"
      ]
     },
     "execution_count": 78,
     "metadata": {},
     "output_type": "execute_result"
    }
   ],
   "source": [
    "regr.fit(X_train_red, y_train_red)\n",
    "poly.fit(X_train_red, y_train_red)"
   ]
  },
  {
   "cell_type": "markdown",
   "id": "12707a69",
   "metadata": {},
   "source": [
    "predict the y value of the X test set"
   ]
  },
  {
   "cell_type": "code",
   "execution_count": 79,
   "id": "a8383b88",
   "metadata": {},
   "outputs": [],
   "source": [
    "y_predictions_red_lin = regr.predict(X_test_red)\n",
    "y_predictions_red_poly = poly.predict(X_test_red)"
   ]
  },
  {
   "cell_type": "markdown",
   "id": "d3d99d3c",
   "metadata": {},
   "source": [
    "Get the mean_squared_error to see how good the prediction is vs the actual values."
   ]
  },
  {
   "cell_type": "code",
   "execution_count": 80,
   "id": "7262ecdf",
   "metadata": {},
   "outputs": [
    {
     "name": "stdout",
     "output_type": "stream",
     "text": [
      "RMSE linear model 0.3831214101792903 RMSE multi-polynomial model 1.610560152733243\n"
     ]
    }
   ],
   "source": [
    "lin_RMSE = sk.metrics.mean_squared_error(y_test_red, y_predictions_red_lin)\n",
    "poly_RMSE = sk.metrics.mean_squared_error(y_test_red, y_predictions_red_poly)\n",
    "print(f\"RMSE linear model {lin_RMSE} RMSE multi-polynomial model {poly_RMSE}\")"
   ]
  },
  {
   "cell_type": "markdown",
   "id": "718b534d",
   "metadata": {},
   "source": [
    "Scatterplot of the two most correlating columns and the predicted values"
   ]
  },
  {
   "cell_type": "code",
   "execution_count": 81,
   "id": "08af4846",
   "metadata": {},
   "outputs": [
    {
     "data": {
      "application/vnd.plotly.v1+json": {
       "config": {
        "plotlyServerURL": "https://plot.ly"
       },
       "data": [
        {
         "hovertemplate": "x=%{x}<br>y=%{y}<br>z=%{z}<extra></extra>",
         "legendgroup": "",
         "marker": {
          "color": "#636efa",
          "symbol": "circle"
         },
         "mode": "markers",
         "name": "",
         "scene": "scene",
         "showlegend": false,
         "type": "scatter3d",
         "x": [
          9.5,
          11.4,
          9.9,
          9,
          11.7,
          9.5,
          12.4,
          9.5,
          10.3,
          10.4,
          9.5,
          9.1,
          9.8,
          11,
          11.8,
          9.5,
          11.4,
          12.5,
          9.8,
          9.6,
          10.2,
          10.4,
          12.7,
          12,
          10.8,
          11.8,
          9.5,
          11.9,
          9.5,
          11.9,
          12.8,
          9.1,
          9.4,
          9.6,
          11.5,
          9.9,
          10.4,
          9.4,
          9.3,
          11,
          12.1,
          9.5,
          11,
          10.7,
          11.5,
          11,
          12.4,
          10.7,
          9.4,
          10.7,
          9.4,
          9.3,
          10.9,
          11.4,
          9.2,
          9.2,
          9.4,
          10.7,
          11,
          9.2,
          12,
          11.8,
          10.7,
          9,
          10.6,
          12.3,
          11.6,
          10.9,
          9.6,
          10,
          9.3,
          10,
          10,
          9.7,
          9.9,
          9.5,
          11.5,
          9.1,
          9.8,
          9.5,
          9.7,
          9.4,
          10,
          9.3,
          10.1,
          11,
          10.4,
          9.8,
          9.8,
          11,
          10.6,
          11.8,
          9.4,
          9.5,
          11.7,
          9.6,
          9.4,
          11.2,
          10.5,
          10.5,
          9.7,
          9.2,
          9.8,
          9.9,
          10,
          9.4,
          9.3,
          10.3,
          10.5,
          11.9,
          10.8,
          9.4,
          9.6,
          10.3,
          12.3,
          12.3,
          11.2,
          9,
          11.2,
          12.7,
          9.6,
          9.5,
          9.9,
          10.8,
          10.1,
          9.2,
          10.3,
          9.8,
          10.1,
          11,
          9.4,
          10.9,
          9,
          9.5,
          10.1,
          9.4,
          9.9,
          10.1,
          11.9,
          11,
          10.8,
          11.2,
          11.3,
          10.1,
          9.4,
          9.5,
          10.4,
          9.4,
          9,
          9.4,
          10.9,
          9.8,
          10,
          9.7,
          10.2,
          9.5,
          11,
          9.4,
          9.5,
          9.7,
          10.9,
          10.2,
          9.2,
          9.3,
          10.8,
          9.25,
          10.7,
          10.5,
          10.9,
          9.3,
          10.4,
          11.2,
          11,
          12.6,
          10,
          9.2,
          10.6,
          9.2,
          9.1,
          9.5,
          10,
          11,
          9.5,
          9.4,
          11,
          11,
          12.6,
          9.8,
          9.8,
          9.9,
          11.8,
          10.1,
          10.4,
          9.4,
          10.4,
          11.4,
          9.5,
          9.5,
          10.4,
          11.3,
          10.4,
          9.5,
          9.2,
          9.5,
          9.7,
          9.8,
          9.5,
          10.7,
          10.5,
          10.1,
          9.9,
          11,
          10.2,
          10.9,
          10.6,
          9.3,
          9.7,
          12.1,
          14,
          12,
          10.9,
          9.4,
          9.9,
          11,
          10.4,
          9.7,
          11.5,
          9.4,
          9.9,
          9.5,
          9.55,
          11,
          10.3,
          9.2,
          10.5,
          12.3,
          11.3,
          9.2,
          9.1,
          9.5,
          11,
          9.3,
          9.3,
          12,
          9,
          11,
          11.2,
          9.4,
          10,
          13,
          10.3,
          9.6,
          9.2,
          10.5,
          10.7,
          12.6,
          9.8,
          10.5,
          11.7,
          9,
          9.8,
          9.9,
          9.5,
          9.05,
          9.4,
          11.4,
          10.5,
          11.2,
          10.8,
          10.6,
          10.3,
          10.7,
          11.7,
          9.7,
          9.7,
          9.7,
          9.5,
          9.9,
          9.7,
          10.4,
          9.7,
          10,
          9.5,
          11.4,
          9.3,
          11.3,
          9.7,
          10.6,
          10.8,
          10.5,
          9.4,
          9.6,
          9.9,
          11.2,
          9.3,
          9.8,
          10.2,
          10.5,
          12,
          9.4,
          9.9,
          13.6,
          9.9,
          9.2,
          9.9,
          8.4,
          10.6,
          10.2,
          9.5,
          10.8,
          11.3,
          9.7,
          11,
          9.4,
          12.7,
          10.2,
          11,
          10.4,
          10.3,
          9.9,
          11,
          10.6,
          11.3,
          10.2,
          12.5,
          9.1,
          12,
          9.6,
          9.8,
          11.1,
          10.2,
          12.8,
          10.3,
          9.5,
          9.6,
          11.4,
          11.9,
          9.9,
          9.8,
          9.4,
          11.9,
          9.6,
          10.2,
          9.8,
          11,
          11,
          9.2,
          12.1,
          10,
          11.1,
          10.7,
          12.6,
          10.5,
          10,
          10.5,
          10.8,
          10.4,
          12,
          9.6
         ],
         "y": [
          0.51,
          0.71,
          0.57,
          0.58,
          0.56,
          0.64,
          0.8,
          0.52,
          0.87,
          0.75,
          0.62,
          0.59,
          0.74,
          0.58,
          0.71,
          0.58,
          0.68,
          0.72,
          0.75,
          0.46,
          0.9,
          0.62,
          0.52,
          0.52,
          0.77,
          0.63,
          0.49,
          0.46,
          0.5,
          0.76,
          0.66,
          0.62,
          0.56,
          0.46,
          0.72,
          0.78,
          0.65,
          0.91,
          0.65,
          0.85,
          0.77,
          0.6,
          0.71,
          0.79,
          0.5,
          0.63,
          0.66,
          0.93,
          0.48,
          0.62,
          0.62,
          0.62,
          0.63,
          0.54,
          0.42,
          0.61,
          0.8,
          0.58,
          0.57,
          0.66,
          0.86,
          0.72,
          0.62,
          0.58,
          0.67,
          0.56,
          0.56,
          0.66,
          0.56,
          0.9,
          0.45,
          0.63,
          0.57,
          0.53,
          0.96,
          0.7,
          0.55,
          0.57,
          0.58,
          0.62,
          0.77,
          0.45,
          0.94,
          0.63,
          0.64,
          0.65,
          0.82,
          0.51,
          0.58,
          0.57,
          0.73,
          0.76,
          0.48,
          0.64,
          0.62,
          0.7,
          0.56,
          0.82,
          0.8,
          0.68,
          0.73,
          0.58,
          0.6,
          0.86,
          0.82,
          0.54,
          0.58,
          0.57,
          0.95,
          0.76,
          0.63,
          0.64,
          0.78,
          0.83,
          0.89,
          0.55,
          0.66,
          0.69,
          0.56,
          0.77,
          0.58,
          0.73,
          0.81,
          1.05,
          0.54,
          0.61,
          0.68,
          0.5,
          0.56,
          0.72,
          0.57,
          0.7,
          0.64,
          0.54,
          0.43,
          0.57,
          0.68,
          0.97,
          0.58,
          0.68,
          0.6,
          0.54,
          0.6,
          0.54,
          0.55,
          0.61,
          0.61,
          0.86,
          0.65,
          0.53,
          0.64,
          0.72,
          0.46,
          0.55,
          0.63,
          0.59,
          0.85,
          0.62,
          0.64,
          0.59,
          0.64,
          0.53,
          0.48,
          0.56,
          0.92,
          0.72,
          0.58,
          0.58,
          0.87,
          0.71,
          0.81,
          0.67,
          0.85,
          0.66,
          0.78,
          0.62,
          0.67,
          0.66,
          0.33,
          0.59,
          0.67,
          0.87,
          0.59,
          0.64,
          0.88,
          0.75,
          0.75,
          0.65,
          0.68,
          0.45,
          0.51,
          0.54,
          0.57,
          0.62,
          0.64,
          0.7,
          0.48,
          0.45,
          0.6,
          0.59,
          0.63,
          0.46,
          0.63,
          0.54,
          0.56,
          0.64,
          0.52,
          0.76,
          0.64,
          0.57,
          0.96,
          0.58,
          1.17,
          0.69,
          0.69,
          0.51,
          0.65,
          0.96,
          0.82,
          1.13,
          0.68,
          0.58,
          0.48,
          0.6,
          0.85,
          0.7,
          0.63,
          0.62,
          0.52,
          0.55,
          0.65,
          0.57,
          0.6,
          0.54,
          0.57,
          0.48,
          0.66,
          0.46,
          0.5,
          0.81,
          0.78,
          0.65,
          0.6,
          0.63,
          0.59,
          0.53,
          0.67,
          0.48,
          0.73,
          0.37,
          0.83,
          0.44,
          0.58,
          0.71,
          0.54,
          0.56,
          0.59,
          0.66,
          0.84,
          0.57,
          0.66,
          0.52,
          0.63,
          0.43,
          0.56,
          0.58,
          0.48,
          0.6,
          0.62,
          0.82,
          0.7,
          0.58,
          0.57,
          0.57,
          0.54,
          0.49,
          0.57,
          0.49,
          0.67,
          0.76,
          0.53,
          0.66,
          0.62,
          0.76,
          0.7,
          0.6,
          0.76,
          0.68,
          0.62,
          0.74,
          0.5,
          0.7,
          0.98,
          0.8,
          0.6,
          0.93,
          0.87,
          0.86,
          0.76,
          0.7,
          0.89,
          0.66,
          0.66,
          0.61,
          0.76,
          0.79,
          1.16,
          0.58,
          0.59,
          1.02,
          0.6,
          0.81,
          0.6,
          0.53,
          0.68,
          0.75,
          0.64,
          0.44,
          0.64,
          0.59,
          0.57,
          0.83,
          0.56,
          0.63,
          0.57,
          0.58,
          0.63,
          0.51,
          0.5,
          0.58,
          0.56,
          0.7,
          0.47,
          0.63,
          0.7,
          0.58,
          0.73,
          0.78,
          0.63,
          0.91,
          0.82,
          0.72,
          0.66,
          0.57,
          0.66,
          0.81,
          0.59,
          0.77,
          0.68,
          0.77,
          0.56,
          0.52,
          0.53,
          0.59,
          0.47,
          0.77,
          0.64,
          0.93,
          0.72
         ],
         "z": [
          5.169360309832328,
          6.070517574592138,
          5.557500064809478,
          5.069915905030527,
          5.924039899811703,
          5.226966715933546,
          6.5650139269725365,
          5.155374876715371,
          6.015447345132394,
          5.9411539581034205,
          5.369473138594973,
          5.21395050861079,
          5.824705409206686,
          5.719026188291107,
          6.484086698861088,
          5.463311496645197,
          6.315356823353746,
          6.3806410578160495,
          5.685702227876327,
          4.984507623574274,
          6.112695604160685,
          5.56941842029719,
          6.122030371723369,
          6.242818520181157,
          6.130213991565583,
          6.442325468222279,
          5.358854131232256,
          5.903512541839863,
          5.283664404866514,
          6.548963487388484,
          6.619905771432208,
          5.0626602059792205,
          4.997638539669321,
          5.11794844564821,
          6.154652952825046,
          5.3836353312968015,
          5.409386521325253,
          5.454802446520443,
          5.477913279357065,
          6.152279030306634,
          6.4938520010263545,
          5.277354118724972,
          6.16269117697713,
          6.098984430774589,
          5.778583483391021,
          5.710970314596402,
          6.4100695111536545,
          6.0845687902691346,
          5.176763792970593,
          5.595540322703961,
          5.135493156176441,
          5.1452215383325175,
          5.5401593191716,
          5.798439436796361,
          4.816353347802245,
          5.384575341527597,
          5.841379949090204,
          5.572209491854789,
          5.6477246189440145,
          5.68252490128927,
          6.5524043783583,
          6.302069006877126,
          5.568170858367608,
          5.002258142196311,
          5.518549994813949,
          5.826597872769266,
          5.598355325668599,
          5.726383779291247,
          5.0570716433329785,
          6.008746922575465,
          4.805540464030738,
          5.415245458691292,
          5.442293156036939,
          5.288921698119587,
          5.621321781732835,
          5.3662669209530165,
          5.764350527042488,
          5.136157422926797,
          5.11689222472825,
          5.309643807198292,
          5.735935123919731,
          4.892053950344206,
          5.666737088952857,
          5.265397641233669,
          5.949897757954837,
          6.112715196675865,
          5.996189623360873,
          5.610066171954564,
          5.200532461354939,
          5.306249098284017,
          5.808377880320656,
          6.463558624182699,
          5.177469666520022,
          5.521493989718554,
          5.9959849278853525,
          5.436796405822239,
          5.016644122955114,
          6.137384568027969,
          5.976214862676073,
          5.624275258321735,
          5.499013404802287,
          5.126459398364052,
          5.238242392232049,
          5.6888259135894295,
          5.933339039566519,
          5.2620113453992765,
          4.980679242647497,
          5.472555746490951,
          5.9764295391764755,
          6.548963487388484,
          5.884770525119652,
          5.411556552765408,
          5.833179944237951,
          5.914242473806976,
          6.190352226295445,
          6.135959562650889,
          6.0520413730894305,
          5.3883372252400825,
          5.671947192473841,
          6.681860290066126,
          5.263120240928835,
          5.433956265186875,
          5.465086014776887,
          6.576826822677212,
          5.553604788853331,
          5.384575341527597,
          5.54630214853702,
          5.054415199507606,
          5.40899434568006,
          5.845895255226086,
          5.377332590326205,
          5.505458384927675,
          5.307359849188636,
          5.030214870674488,
          5.29354948709728,
          5.294612504294758,
          5.247815917537778,
          6.165678807007204,
          6.208971087673191,
          5.859757998990204,
          5.577968548368968,
          5.772755837143222,
          5.855208311518638,
          5.39202805853505,
          4.911696300615219,
          4.940508478438815,
          5.926134716510223,
          5.352460971913963,
          5.176696142690076,
          4.708912041977204,
          5.669388014382072,
          5.019757835666407,
          4.879894344134765,
          5.244926037873277,
          5.499007359647429,
          5.48189664282431,
          6.239130169736111,
          5.0550149231005825,
          5.350426330552015,
          5.365365825152885,
          5.491629374496817,
          5.5992095757193425,
          4.994949815271834,
          5.36288863124129,
          6.213743817033581,
          4.979287106262355,
          5.498336914736331,
          5.596510882127902,
          6.374155733174945,
          5.1033143044683165,
          6.032734430430697,
          5.172335113906932,
          6.239130169736111,
          6.265422814147541,
          5.779589837930434,
          5.469219331045611,
          6.119371548265217,
          5.68252490128927,
          4.680513364321726,
          5.049379166402463,
          5.449500554579551,
          6.33476694371495,
          5.315723265904563,
          5.412129438426717,
          6.198843742878935,
          5.966746143807182,
          6.627168070027146,
          5.243662361612923,
          5.210435799321736,
          4.986818879054404,
          5.81179485477135,
          5.39202805853505,
          5.40598062676521,
          5.0939148486424735,
          5.619232817052925,
          6.27671471206067,
          4.909092710309004,
          5.248528168211038,
          5.627409047735316,
          6.274303969788662,
          5.891350225071502,
          5.331714219901393,
          5.244512383437286,
          5.214825540664055,
          5.349423256638477,
          5.30556545921451,
          5.209476049818523,
          5.9719218546651085,
          5.447487954589484,
          5.131853167760212,
          5.621321781732835,
          5.576231177178421,
          5.987609397771745,
          5.702627245392783,
          5.926737284362439,
          5.089012555065395,
          5.348456854821684,
          6.441563772548932,
          6.8725602189763855,
          7.052310394331151,
          5.660860735908827,
          5.334256263733078,
          5.025581492476473,
          5.482399186949944,
          6.017249980562095,
          5.730977348731628,
          5.82168050902715,
          5.004968881460897,
          5.366531095614466,
          5.401064015851599,
          5.296063043801215,
          5.401640339468631,
          5.492061461247843,
          5.02904446279646,
          5.769903560068322,
          6.1138373180023216,
          5.644054746515881,
          4.763281789714924,
          4.850201154015409,
          5.750241237263165,
          5.964756681247675,
          5.02901389543263,
          5.160141058152082,
          6.199177084077416,
          5.171461230465468,
          5.888527822741292,
          5.983593380206681,
          5.195351237121159,
          5.695636221022401,
          6.16969126695906,
          5.914242473806976,
          5.169238620816152,
          5.047853092842711,
          5.844402016022258,
          4.936431535163294,
          6.357595234401021,
          5.572809918017747,
          5.61135844109895,
          6.56831511880079,
          5.106964881044121,
          5.274002284445867,
          5.1266084215861945,
          5.1929233333708815,
          5.020797569486319,
          5.219943462651678,
          5.764359587504309,
          4.96929938433388,
          5.3177787312132985,
          5.665043235997871,
          6.195234801924904,
          5.705841312033364,
          5.572209491854789,
          5.901030833672891,
          5.278021854501567,
          5.2915722158095875,
          5.057281496592143,
          5.270361210982994,
          5.09908538506647,
          5.463521174228713,
          5.856125796771341,
          5.06303328176584,
          5.786105527280434,
          5.369473138594973,
          6.187612316350236,
          5.535531035687821,
          5.714921757317086,
          5.390240381200854,
          5.864122101037566,
          5.986688218016212,
          6.20353125088592,
          5.21419962451608,
          5.749658355065186,
          5.749576570286109,
          6.302894066781615,
          5.564833618571448,
          6.192719192158375,
          6.1797357969981555,
          6.097712304037074,
          6.48126255487086,
          5.190121066087471,
          5.957983754617402,
          6.693730218300313,
          5.945637618074329,
          5.215884826233502,
          5.91437439213,
          5.716703569321126,
          6.425980454769643,
          5.269491280738293,
          5.357122215817672,
          6.530440067418549,
          5.714921757317086,
          5.773250385074721,
          5.482399186949944,
          4.696039194479695,
          6.217955840091875,
          5.833377190925944,
          6.108975979252492,
          5.545592310012523,
          5.545274043318731,
          5.45725249239322,
          5.764546435871253,
          6.3309728438162445,
          6.072643843033632,
          5.391148130738451,
          6.28805471847695,
          5.139785940663476,
          5.900943193634088,
          5.089667185594365,
          5.110610447638123,
          6.15175601380874,
          5.495569464517633,
          6.743105345165645,
          5.400581374168876,
          5.1907162584469155,
          5.509382489648832,
          6.005876492071444,
          6.458853622845901,
          5.7482153251804675,
          5.180069871380084,
          5.454802446520443,
          6.491717263599472,
          5.444441160933927,
          5.34887745131579,
          5.118688165317536,
          6.011141852408837,
          6.163832704329661,
          5.1433779535457305,
          6.392363085325151,
          5.527577447322837,
          5.930320086185542,
          5.313980451209336,
          6.022831289460413,
          5.514070436487309,
          5.304829385478879,
          4.995317478553272,
          6.002381254097646,
          5.619232817052925,
          6.673322674904686,
          5.468278537940126
         ]
        }
       ],
       "layout": {
        "legend": {
         "tracegroupgap": 0
        },
        "margin": {
         "t": 60
        },
        "scene": {
         "domain": {
          "x": [
           0,
           1
          ],
          "y": [
           0,
           1
          ]
         },
         "xaxis": {
          "title": {
           "text": "x"
          }
         },
         "yaxis": {
          "title": {
           "text": "y"
          }
         },
         "zaxis": {
          "title": {
           "text": "z"
          }
         }
        },
        "template": {
         "data": {
          "bar": [
           {
            "error_x": {
             "color": "#2a3f5f"
            },
            "error_y": {
             "color": "#2a3f5f"
            },
            "marker": {
             "line": {
              "color": "#E5ECF6",
              "width": 0.5
             }
            },
            "type": "bar"
           }
          ],
          "barpolar": [
           {
            "marker": {
             "line": {
              "color": "#E5ECF6",
              "width": 0.5
             }
            },
            "type": "barpolar"
           }
          ],
          "carpet": [
           {
            "aaxis": {
             "endlinecolor": "#2a3f5f",
             "gridcolor": "white",
             "linecolor": "white",
             "minorgridcolor": "white",
             "startlinecolor": "#2a3f5f"
            },
            "baxis": {
             "endlinecolor": "#2a3f5f",
             "gridcolor": "white",
             "linecolor": "white",
             "minorgridcolor": "white",
             "startlinecolor": "#2a3f5f"
            },
            "type": "carpet"
           }
          ],
          "choropleth": [
           {
            "colorbar": {
             "outlinewidth": 0,
             "ticks": ""
            },
            "type": "choropleth"
           }
          ],
          "contour": [
           {
            "colorbar": {
             "outlinewidth": 0,
             "ticks": ""
            },
            "colorscale": [
             [
              0,
              "#0d0887"
             ],
             [
              0.1111111111111111,
              "#46039f"
             ],
             [
              0.2222222222222222,
              "#7201a8"
             ],
             [
              0.3333333333333333,
              "#9c179e"
             ],
             [
              0.4444444444444444,
              "#bd3786"
             ],
             [
              0.5555555555555556,
              "#d8576b"
             ],
             [
              0.6666666666666666,
              "#ed7953"
             ],
             [
              0.7777777777777778,
              "#fb9f3a"
             ],
             [
              0.8888888888888888,
              "#fdca26"
             ],
             [
              1,
              "#f0f921"
             ]
            ],
            "type": "contour"
           }
          ],
          "contourcarpet": [
           {
            "colorbar": {
             "outlinewidth": 0,
             "ticks": ""
            },
            "type": "contourcarpet"
           }
          ],
          "heatmap": [
           {
            "colorbar": {
             "outlinewidth": 0,
             "ticks": ""
            },
            "colorscale": [
             [
              0,
              "#0d0887"
             ],
             [
              0.1111111111111111,
              "#46039f"
             ],
             [
              0.2222222222222222,
              "#7201a8"
             ],
             [
              0.3333333333333333,
              "#9c179e"
             ],
             [
              0.4444444444444444,
              "#bd3786"
             ],
             [
              0.5555555555555556,
              "#d8576b"
             ],
             [
              0.6666666666666666,
              "#ed7953"
             ],
             [
              0.7777777777777778,
              "#fb9f3a"
             ],
             [
              0.8888888888888888,
              "#fdca26"
             ],
             [
              1,
              "#f0f921"
             ]
            ],
            "type": "heatmap"
           }
          ],
          "heatmapgl": [
           {
            "colorbar": {
             "outlinewidth": 0,
             "ticks": ""
            },
            "colorscale": [
             [
              0,
              "#0d0887"
             ],
             [
              0.1111111111111111,
              "#46039f"
             ],
             [
              0.2222222222222222,
              "#7201a8"
             ],
             [
              0.3333333333333333,
              "#9c179e"
             ],
             [
              0.4444444444444444,
              "#bd3786"
             ],
             [
              0.5555555555555556,
              "#d8576b"
             ],
             [
              0.6666666666666666,
              "#ed7953"
             ],
             [
              0.7777777777777778,
              "#fb9f3a"
             ],
             [
              0.8888888888888888,
              "#fdca26"
             ],
             [
              1,
              "#f0f921"
             ]
            ],
            "type": "heatmapgl"
           }
          ],
          "histogram": [
           {
            "marker": {
             "colorbar": {
              "outlinewidth": 0,
              "ticks": ""
             }
            },
            "type": "histogram"
           }
          ],
          "histogram2d": [
           {
            "colorbar": {
             "outlinewidth": 0,
             "ticks": ""
            },
            "colorscale": [
             [
              0,
              "#0d0887"
             ],
             [
              0.1111111111111111,
              "#46039f"
             ],
             [
              0.2222222222222222,
              "#7201a8"
             ],
             [
              0.3333333333333333,
              "#9c179e"
             ],
             [
              0.4444444444444444,
              "#bd3786"
             ],
             [
              0.5555555555555556,
              "#d8576b"
             ],
             [
              0.6666666666666666,
              "#ed7953"
             ],
             [
              0.7777777777777778,
              "#fb9f3a"
             ],
             [
              0.8888888888888888,
              "#fdca26"
             ],
             [
              1,
              "#f0f921"
             ]
            ],
            "type": "histogram2d"
           }
          ],
          "histogram2dcontour": [
           {
            "colorbar": {
             "outlinewidth": 0,
             "ticks": ""
            },
            "colorscale": [
             [
              0,
              "#0d0887"
             ],
             [
              0.1111111111111111,
              "#46039f"
             ],
             [
              0.2222222222222222,
              "#7201a8"
             ],
             [
              0.3333333333333333,
              "#9c179e"
             ],
             [
              0.4444444444444444,
              "#bd3786"
             ],
             [
              0.5555555555555556,
              "#d8576b"
             ],
             [
              0.6666666666666666,
              "#ed7953"
             ],
             [
              0.7777777777777778,
              "#fb9f3a"
             ],
             [
              0.8888888888888888,
              "#fdca26"
             ],
             [
              1,
              "#f0f921"
             ]
            ],
            "type": "histogram2dcontour"
           }
          ],
          "mesh3d": [
           {
            "colorbar": {
             "outlinewidth": 0,
             "ticks": ""
            },
            "type": "mesh3d"
           }
          ],
          "parcoords": [
           {
            "line": {
             "colorbar": {
              "outlinewidth": 0,
              "ticks": ""
             }
            },
            "type": "parcoords"
           }
          ],
          "pie": [
           {
            "automargin": true,
            "type": "pie"
           }
          ],
          "scatter": [
           {
            "marker": {
             "colorbar": {
              "outlinewidth": 0,
              "ticks": ""
             }
            },
            "type": "scatter"
           }
          ],
          "scatter3d": [
           {
            "line": {
             "colorbar": {
              "outlinewidth": 0,
              "ticks": ""
             }
            },
            "marker": {
             "colorbar": {
              "outlinewidth": 0,
              "ticks": ""
             }
            },
            "type": "scatter3d"
           }
          ],
          "scattercarpet": [
           {
            "marker": {
             "colorbar": {
              "outlinewidth": 0,
              "ticks": ""
             }
            },
            "type": "scattercarpet"
           }
          ],
          "scattergeo": [
           {
            "marker": {
             "colorbar": {
              "outlinewidth": 0,
              "ticks": ""
             }
            },
            "type": "scattergeo"
           }
          ],
          "scattergl": [
           {
            "marker": {
             "colorbar": {
              "outlinewidth": 0,
              "ticks": ""
             }
            },
            "type": "scattergl"
           }
          ],
          "scattermapbox": [
           {
            "marker": {
             "colorbar": {
              "outlinewidth": 0,
              "ticks": ""
             }
            },
            "type": "scattermapbox"
           }
          ],
          "scatterpolar": [
           {
            "marker": {
             "colorbar": {
              "outlinewidth": 0,
              "ticks": ""
             }
            },
            "type": "scatterpolar"
           }
          ],
          "scatterpolargl": [
           {
            "marker": {
             "colorbar": {
              "outlinewidth": 0,
              "ticks": ""
             }
            },
            "type": "scatterpolargl"
           }
          ],
          "scatterternary": [
           {
            "marker": {
             "colorbar": {
              "outlinewidth": 0,
              "ticks": ""
             }
            },
            "type": "scatterternary"
           }
          ],
          "surface": [
           {
            "colorbar": {
             "outlinewidth": 0,
             "ticks": ""
            },
            "colorscale": [
             [
              0,
              "#0d0887"
             ],
             [
              0.1111111111111111,
              "#46039f"
             ],
             [
              0.2222222222222222,
              "#7201a8"
             ],
             [
              0.3333333333333333,
              "#9c179e"
             ],
             [
              0.4444444444444444,
              "#bd3786"
             ],
             [
              0.5555555555555556,
              "#d8576b"
             ],
             [
              0.6666666666666666,
              "#ed7953"
             ],
             [
              0.7777777777777778,
              "#fb9f3a"
             ],
             [
              0.8888888888888888,
              "#fdca26"
             ],
             [
              1,
              "#f0f921"
             ]
            ],
            "type": "surface"
           }
          ],
          "table": [
           {
            "cells": {
             "fill": {
              "color": "#EBF0F8"
             },
             "line": {
              "color": "white"
             }
            },
            "header": {
             "fill": {
              "color": "#C8D4E3"
             },
             "line": {
              "color": "white"
             }
            },
            "type": "table"
           }
          ]
         },
         "layout": {
          "annotationdefaults": {
           "arrowcolor": "#2a3f5f",
           "arrowhead": 0,
           "arrowwidth": 1
          },
          "autotypenumbers": "strict",
          "coloraxis": {
           "colorbar": {
            "outlinewidth": 0,
            "ticks": ""
           }
          },
          "colorscale": {
           "diverging": [
            [
             0,
             "#8e0152"
            ],
            [
             0.1,
             "#c51b7d"
            ],
            [
             0.2,
             "#de77ae"
            ],
            [
             0.3,
             "#f1b6da"
            ],
            [
             0.4,
             "#fde0ef"
            ],
            [
             0.5,
             "#f7f7f7"
            ],
            [
             0.6,
             "#e6f5d0"
            ],
            [
             0.7,
             "#b8e186"
            ],
            [
             0.8,
             "#7fbc41"
            ],
            [
             0.9,
             "#4d9221"
            ],
            [
             1,
             "#276419"
            ]
           ],
           "sequential": [
            [
             0,
             "#0d0887"
            ],
            [
             0.1111111111111111,
             "#46039f"
            ],
            [
             0.2222222222222222,
             "#7201a8"
            ],
            [
             0.3333333333333333,
             "#9c179e"
            ],
            [
             0.4444444444444444,
             "#bd3786"
            ],
            [
             0.5555555555555556,
             "#d8576b"
            ],
            [
             0.6666666666666666,
             "#ed7953"
            ],
            [
             0.7777777777777778,
             "#fb9f3a"
            ],
            [
             0.8888888888888888,
             "#fdca26"
            ],
            [
             1,
             "#f0f921"
            ]
           ],
           "sequentialminus": [
            [
             0,
             "#0d0887"
            ],
            [
             0.1111111111111111,
             "#46039f"
            ],
            [
             0.2222222222222222,
             "#7201a8"
            ],
            [
             0.3333333333333333,
             "#9c179e"
            ],
            [
             0.4444444444444444,
             "#bd3786"
            ],
            [
             0.5555555555555556,
             "#d8576b"
            ],
            [
             0.6666666666666666,
             "#ed7953"
            ],
            [
             0.7777777777777778,
             "#fb9f3a"
            ],
            [
             0.8888888888888888,
             "#fdca26"
            ],
            [
             1,
             "#f0f921"
            ]
           ]
          },
          "colorway": [
           "#636efa",
           "#EF553B",
           "#00cc96",
           "#ab63fa",
           "#FFA15A",
           "#19d3f3",
           "#FF6692",
           "#B6E880",
           "#FF97FF",
           "#FECB52"
          ],
          "font": {
           "color": "#2a3f5f"
          },
          "geo": {
           "bgcolor": "white",
           "lakecolor": "white",
           "landcolor": "#E5ECF6",
           "showlakes": true,
           "showland": true,
           "subunitcolor": "white"
          },
          "hoverlabel": {
           "align": "left"
          },
          "hovermode": "closest",
          "mapbox": {
           "style": "light"
          },
          "paper_bgcolor": "white",
          "plot_bgcolor": "#E5ECF6",
          "polar": {
           "angularaxis": {
            "gridcolor": "white",
            "linecolor": "white",
            "ticks": ""
           },
           "bgcolor": "#E5ECF6",
           "radialaxis": {
            "gridcolor": "white",
            "linecolor": "white",
            "ticks": ""
           }
          },
          "scene": {
           "xaxis": {
            "backgroundcolor": "#E5ECF6",
            "gridcolor": "white",
            "gridwidth": 2,
            "linecolor": "white",
            "showbackground": true,
            "ticks": "",
            "zerolinecolor": "white"
           },
           "yaxis": {
            "backgroundcolor": "#E5ECF6",
            "gridcolor": "white",
            "gridwidth": 2,
            "linecolor": "white",
            "showbackground": true,
            "ticks": "",
            "zerolinecolor": "white"
           },
           "zaxis": {
            "backgroundcolor": "#E5ECF6",
            "gridcolor": "white",
            "gridwidth": 2,
            "linecolor": "white",
            "showbackground": true,
            "ticks": "",
            "zerolinecolor": "white"
           }
          },
          "shapedefaults": {
           "line": {
            "color": "#2a3f5f"
           }
          },
          "ternary": {
           "aaxis": {
            "gridcolor": "white",
            "linecolor": "white",
            "ticks": ""
           },
           "baxis": {
            "gridcolor": "white",
            "linecolor": "white",
            "ticks": ""
           },
           "bgcolor": "#E5ECF6",
           "caxis": {
            "gridcolor": "white",
            "linecolor": "white",
            "ticks": ""
           }
          },
          "title": {
           "x": 0.05
          },
          "xaxis": {
           "automargin": true,
           "gridcolor": "white",
           "linecolor": "white",
           "ticks": "",
           "title": {
            "standoff": 15
           },
           "zerolinecolor": "white",
           "zerolinewidth": 2
          },
          "yaxis": {
           "automargin": true,
           "gridcolor": "white",
           "linecolor": "white",
           "ticks": "",
           "title": {
            "standoff": 15
           },
           "zerolinecolor": "white",
           "zerolinewidth": 2
          }
         }
        }
       }
      },
      "text/html": [
       "<div>                            <div id=\"3f725233-4175-4dba-88ee-9785461ab2a6\" class=\"plotly-graph-div\" style=\"height:525px; width:100%;\"></div>            <script type=\"text/javascript\">                require([\"plotly\"], function(Plotly) {                    window.PLOTLYENV=window.PLOTLYENV || {};                                    if (document.getElementById(\"3f725233-4175-4dba-88ee-9785461ab2a6\")) {                    Plotly.newPlot(                        \"3f725233-4175-4dba-88ee-9785461ab2a6\",                        [{\"hovertemplate\": \"x=%{x}<br>y=%{y}<br>z=%{z}<extra></extra>\", \"legendgroup\": \"\", \"marker\": {\"color\": \"#636efa\", \"symbol\": \"circle\"}, \"mode\": \"markers\", \"name\": \"\", \"scene\": \"scene\", \"showlegend\": false, \"type\": \"scatter3d\", \"x\": [9.5, 11.4, 9.9, 9.0, 11.7, 9.5, 12.4, 9.5, 10.3, 10.4, 9.5, 9.1, 9.8, 11.0, 11.8, 9.5, 11.4, 12.5, 9.8, 9.6, 10.2, 10.4, 12.7, 12.0, 10.8, 11.8, 9.5, 11.9, 9.5, 11.9, 12.8, 9.1, 9.4, 9.6, 11.5, 9.9, 10.4, 9.4, 9.3, 11.0, 12.1, 9.5, 11.0, 10.7, 11.5, 11.0, 12.4, 10.7, 9.4, 10.7, 9.4, 9.3, 10.9, 11.4, 9.2, 9.2, 9.4, 10.7, 11.0, 9.2, 12.0, 11.8, 10.7, 9.0, 10.6, 12.3, 11.6, 10.9, 9.6, 10.0, 9.3, 10.0, 10.0, 9.7, 9.9, 9.5, 11.5, 9.1, 9.8, 9.5, 9.7, 9.4, 10.0, 9.3, 10.1, 11.0, 10.4, 9.8, 9.8, 11.0, 10.6, 11.8, 9.4, 9.5, 11.7, 9.6, 9.4, 11.2, 10.5, 10.5, 9.7, 9.2, 9.8, 9.9, 10.0, 9.4, 9.3, 10.3, 10.5, 11.9, 10.8, 9.4, 9.6, 10.3, 12.3, 12.3, 11.2, 9.0, 11.2, 12.7, 9.6, 9.5, 9.9, 10.8, 10.1, 9.2, 10.3, 9.8, 10.1, 11.0, 9.4, 10.9, 9.0, 9.5, 10.1, 9.4, 9.9, 10.1, 11.9, 11.0, 10.8, 11.2, 11.3, 10.1, 9.4, 9.5, 10.4, 9.4, 9.0, 9.4, 10.9, 9.8, 10.0, 9.7, 10.2, 9.5, 11.0, 9.4, 9.5, 9.7, 10.9, 10.2, 9.2, 9.3, 10.8, 9.25, 10.7, 10.5, 10.9, 9.3, 10.4, 11.2, 11.0, 12.6, 10.0, 9.2, 10.6, 9.2, 9.1, 9.5, 10.0, 11.0, 9.5, 9.4, 11.0, 11.0, 12.6, 9.8, 9.8, 9.9, 11.8, 10.1, 10.4, 9.4, 10.4, 11.4, 9.5, 9.5, 10.4, 11.3, 10.4, 9.5, 9.2, 9.5, 9.7, 9.8, 9.5, 10.7, 10.5, 10.1, 9.9, 11.0, 10.2, 10.9, 10.6, 9.3, 9.7, 12.1, 14.0, 12.0, 10.9, 9.4, 9.9, 11.0, 10.4, 9.7, 11.5, 9.4, 9.9, 9.5, 9.55, 11.0, 10.3, 9.2, 10.5, 12.3, 11.3, 9.2, 9.1, 9.5, 11.0, 9.3, 9.3, 12.0, 9.0, 11.0, 11.2, 9.4, 10.0, 13.0, 10.3, 9.6, 9.2, 10.5, 10.7, 12.6, 9.8, 10.5, 11.7, 9.0, 9.8, 9.9, 9.5, 9.05, 9.4, 11.4, 10.5, 11.2, 10.8, 10.6, 10.3, 10.7, 11.7, 9.7, 9.7, 9.7, 9.5, 9.9, 9.7, 10.4, 9.7, 10.0, 9.5, 11.4, 9.3, 11.3, 9.7, 10.6, 10.8, 10.5, 9.4, 9.6, 9.9, 11.2, 9.3, 9.8, 10.2, 10.5, 12.0, 9.4, 9.9, 13.6, 9.9, 9.2, 9.9, 8.4, 10.6, 10.2, 9.5, 10.8, 11.3, 9.7, 11.0, 9.4, 12.7, 10.2, 11.0, 10.4, 10.3, 9.9, 11.0, 10.6, 11.3, 10.2, 12.5, 9.1, 12.0, 9.6, 9.8, 11.1, 10.2, 12.8, 10.3, 9.5, 9.6, 11.4, 11.9, 9.9, 9.8, 9.4, 11.9, 9.6, 10.2, 9.8, 11.0, 11.0, 9.2, 12.1, 10.0, 11.1, 10.7, 12.6, 10.5, 10.0, 10.5, 10.8, 10.4, 12.0, 9.6], \"y\": [0.51, 0.71, 0.57, 0.58, 0.56, 0.64, 0.8, 0.52, 0.87, 0.75, 0.62, 0.59, 0.74, 0.58, 0.71, 0.58, 0.68, 0.72, 0.75, 0.46, 0.9, 0.62, 0.52, 0.52, 0.77, 0.63, 0.49, 0.46, 0.5, 0.76, 0.66, 0.62, 0.56, 0.46, 0.72, 0.78, 0.65, 0.91, 0.65, 0.85, 0.77, 0.6, 0.71, 0.79, 0.5, 0.63, 0.66, 0.93, 0.48, 0.62, 0.62, 0.62, 0.63, 0.54, 0.42, 0.61, 0.8, 0.58, 0.57, 0.66, 0.86, 0.72, 0.62, 0.58, 0.67, 0.56, 0.56, 0.66, 0.56, 0.9, 0.45, 0.63, 0.57, 0.53, 0.96, 0.7, 0.55, 0.57, 0.58, 0.62, 0.77, 0.45, 0.94, 0.63, 0.64, 0.65, 0.82, 0.51, 0.58, 0.57, 0.73, 0.76, 0.48, 0.64, 0.62, 0.7, 0.56, 0.82, 0.8, 0.68, 0.73, 0.58, 0.6, 0.86, 0.82, 0.54, 0.58, 0.57, 0.95, 0.76, 0.63, 0.64, 0.78, 0.83, 0.89, 0.55, 0.66, 0.69, 0.56, 0.77, 0.58, 0.73, 0.81, 1.05, 0.54, 0.61, 0.68, 0.5, 0.56, 0.72, 0.57, 0.7, 0.64, 0.54, 0.43, 0.57, 0.68, 0.97, 0.58, 0.68, 0.6, 0.54, 0.6, 0.54, 0.55, 0.61, 0.61, 0.86, 0.65, 0.53, 0.64, 0.72, 0.46, 0.55, 0.63, 0.59, 0.85, 0.62, 0.64, 0.59, 0.64, 0.53, 0.48, 0.56, 0.92, 0.72, 0.58, 0.58, 0.87, 0.71, 0.81, 0.67, 0.85, 0.66, 0.78, 0.62, 0.67, 0.66, 0.33, 0.59, 0.67, 0.87, 0.59, 0.64, 0.88, 0.75, 0.75, 0.65, 0.68, 0.45, 0.51, 0.54, 0.57, 0.62, 0.64, 0.7, 0.48, 0.45, 0.6, 0.59, 0.63, 0.46, 0.63, 0.54, 0.56, 0.64, 0.52, 0.76, 0.64, 0.57, 0.96, 0.58, 1.17, 0.69, 0.69, 0.51, 0.65, 0.96, 0.82, 1.13, 0.68, 0.58, 0.48, 0.6, 0.85, 0.7, 0.63, 0.62, 0.52, 0.55, 0.65, 0.57, 0.6, 0.54, 0.57, 0.48, 0.66, 0.46, 0.5, 0.81, 0.78, 0.65, 0.6, 0.63, 0.59, 0.53, 0.67, 0.48, 0.73, 0.37, 0.83, 0.44, 0.58, 0.71, 0.54, 0.56, 0.59, 0.66, 0.84, 0.57, 0.66, 0.52, 0.63, 0.43, 0.56, 0.58, 0.48, 0.6, 0.62, 0.82, 0.7, 0.58, 0.57, 0.57, 0.54, 0.49, 0.57, 0.49, 0.67, 0.76, 0.53, 0.66, 0.62, 0.76, 0.7, 0.6, 0.76, 0.68, 0.62, 0.74, 0.5, 0.7, 0.98, 0.8, 0.6, 0.93, 0.87, 0.86, 0.76, 0.7, 0.89, 0.66, 0.66, 0.61, 0.76, 0.79, 1.16, 0.58, 0.59, 1.02, 0.6, 0.81, 0.6, 0.53, 0.68, 0.75, 0.64, 0.44, 0.64, 0.59, 0.57, 0.83, 0.56, 0.63, 0.57, 0.58, 0.63, 0.51, 0.5, 0.58, 0.56, 0.7, 0.47, 0.63, 0.7, 0.58, 0.73, 0.78, 0.63, 0.91, 0.82, 0.72, 0.66, 0.57, 0.66, 0.81, 0.59, 0.77, 0.68, 0.77, 0.56, 0.52, 0.53, 0.59, 0.47, 0.77, 0.64, 0.93, 0.72], \"z\": [5.169360309832328, 6.070517574592138, 5.557500064809478, 5.069915905030527, 5.924039899811703, 5.226966715933546, 6.5650139269725365, 5.155374876715371, 6.015447345132394, 5.9411539581034205, 5.369473138594973, 5.21395050861079, 5.824705409206686, 5.719026188291107, 6.484086698861088, 5.463311496645197, 6.315356823353746, 6.3806410578160495, 5.685702227876327, 4.984507623574274, 6.112695604160685, 5.56941842029719, 6.122030371723369, 6.242818520181157, 6.130213991565583, 6.442325468222279, 5.358854131232256, 5.903512541839863, 5.283664404866514, 6.548963487388484, 6.619905771432208, 5.0626602059792205, 4.997638539669321, 5.11794844564821, 6.154652952825046, 5.3836353312968015, 5.409386521325253, 5.454802446520443, 5.477913279357065, 6.152279030306634, 6.4938520010263545, 5.277354118724972, 6.16269117697713, 6.098984430774589, 5.778583483391021, 5.710970314596402, 6.4100695111536545, 6.0845687902691346, 5.176763792970593, 5.595540322703961, 5.135493156176441, 5.1452215383325175, 5.5401593191716, 5.798439436796361, 4.816353347802245, 5.384575341527597, 5.841379949090204, 5.572209491854789, 5.6477246189440145, 5.68252490128927, 6.5524043783583, 6.302069006877126, 5.568170858367608, 5.002258142196311, 5.518549994813949, 5.826597872769266, 5.598355325668599, 5.726383779291247, 5.0570716433329785, 6.008746922575465, 4.805540464030738, 5.415245458691292, 5.442293156036939, 5.288921698119587, 5.621321781732835, 5.3662669209530165, 5.764350527042488, 5.136157422926797, 5.11689222472825, 5.309643807198292, 5.735935123919731, 4.892053950344206, 5.666737088952857, 5.265397641233669, 5.949897757954837, 6.112715196675865, 5.996189623360873, 5.610066171954564, 5.200532461354939, 5.306249098284017, 5.808377880320656, 6.463558624182699, 5.177469666520022, 5.521493989718554, 5.9959849278853525, 5.436796405822239, 5.016644122955114, 6.137384568027969, 5.976214862676073, 5.624275258321735, 5.499013404802287, 5.126459398364052, 5.238242392232049, 5.6888259135894295, 5.933339039566519, 5.2620113453992765, 4.980679242647497, 5.472555746490951, 5.9764295391764755, 6.548963487388484, 5.884770525119652, 5.411556552765408, 5.833179944237951, 5.914242473806976, 6.190352226295445, 6.135959562650889, 6.0520413730894305, 5.3883372252400825, 5.671947192473841, 6.681860290066126, 5.263120240928835, 5.433956265186875, 5.465086014776887, 6.576826822677212, 5.553604788853331, 5.384575341527597, 5.54630214853702, 5.054415199507606, 5.40899434568006, 5.845895255226086, 5.377332590326205, 5.505458384927675, 5.307359849188636, 5.030214870674488, 5.29354948709728, 5.294612504294758, 5.247815917537778, 6.165678807007204, 6.208971087673191, 5.859757998990204, 5.577968548368968, 5.772755837143222, 5.855208311518638, 5.39202805853505, 4.911696300615219, 4.940508478438815, 5.926134716510223, 5.352460971913963, 5.176696142690076, 4.708912041977204, 5.669388014382072, 5.019757835666407, 4.879894344134765, 5.244926037873277, 5.499007359647429, 5.48189664282431, 6.239130169736111, 5.0550149231005825, 5.350426330552015, 5.365365825152885, 5.491629374496817, 5.5992095757193425, 4.994949815271834, 5.36288863124129, 6.213743817033581, 4.979287106262355, 5.498336914736331, 5.596510882127902, 6.374155733174945, 5.1033143044683165, 6.032734430430697, 5.172335113906932, 6.239130169736111, 6.265422814147541, 5.779589837930434, 5.469219331045611, 6.119371548265217, 5.68252490128927, 4.680513364321726, 5.049379166402463, 5.449500554579551, 6.33476694371495, 5.315723265904563, 5.412129438426717, 6.198843742878935, 5.966746143807182, 6.627168070027146, 5.243662361612923, 5.210435799321736, 4.986818879054404, 5.81179485477135, 5.39202805853505, 5.40598062676521, 5.0939148486424735, 5.619232817052925, 6.27671471206067, 4.909092710309004, 5.248528168211038, 5.627409047735316, 6.274303969788662, 5.891350225071502, 5.331714219901393, 5.244512383437286, 5.214825540664055, 5.349423256638477, 5.30556545921451, 5.209476049818523, 5.9719218546651085, 5.447487954589484, 5.131853167760212, 5.621321781732835, 5.576231177178421, 5.987609397771745, 5.702627245392783, 5.926737284362439, 5.089012555065395, 5.348456854821684, 6.441563772548932, 6.8725602189763855, 7.052310394331151, 5.660860735908827, 5.334256263733078, 5.025581492476473, 5.482399186949944, 6.017249980562095, 5.730977348731628, 5.82168050902715, 5.004968881460897, 5.366531095614466, 5.401064015851599, 5.296063043801215, 5.401640339468631, 5.492061461247843, 5.02904446279646, 5.769903560068322, 6.1138373180023216, 5.644054746515881, 4.763281789714924, 4.850201154015409, 5.750241237263165, 5.964756681247675, 5.02901389543263, 5.160141058152082, 6.199177084077416, 5.171461230465468, 5.888527822741292, 5.983593380206681, 5.195351237121159, 5.695636221022401, 6.16969126695906, 5.914242473806976, 5.169238620816152, 5.047853092842711, 5.844402016022258, 4.936431535163294, 6.357595234401021, 5.572809918017747, 5.61135844109895, 6.56831511880079, 5.106964881044121, 5.274002284445867, 5.1266084215861945, 5.1929233333708815, 5.020797569486319, 5.219943462651678, 5.764359587504309, 4.96929938433388, 5.3177787312132985, 5.665043235997871, 6.195234801924904, 5.705841312033364, 5.572209491854789, 5.901030833672891, 5.278021854501567, 5.2915722158095875, 5.057281496592143, 5.270361210982994, 5.09908538506647, 5.463521174228713, 5.856125796771341, 5.06303328176584, 5.786105527280434, 5.369473138594973, 6.187612316350236, 5.535531035687821, 5.714921757317086, 5.390240381200854, 5.864122101037566, 5.986688218016212, 6.20353125088592, 5.21419962451608, 5.749658355065186, 5.749576570286109, 6.302894066781615, 5.564833618571448, 6.192719192158375, 6.1797357969981555, 6.097712304037074, 6.48126255487086, 5.190121066087471, 5.957983754617402, 6.693730218300313, 5.945637618074329, 5.215884826233502, 5.91437439213, 5.716703569321126, 6.425980454769643, 5.269491280738293, 5.357122215817672, 6.530440067418549, 5.714921757317086, 5.773250385074721, 5.482399186949944, 4.696039194479695, 6.217955840091875, 5.833377190925944, 6.108975979252492, 5.545592310012523, 5.545274043318731, 5.45725249239322, 5.764546435871253, 6.3309728438162445, 6.072643843033632, 5.391148130738451, 6.28805471847695, 5.139785940663476, 5.900943193634088, 5.089667185594365, 5.110610447638123, 6.15175601380874, 5.495569464517633, 6.743105345165645, 5.400581374168876, 5.1907162584469155, 5.509382489648832, 6.005876492071444, 6.458853622845901, 5.7482153251804675, 5.180069871380084, 5.454802446520443, 6.491717263599472, 5.444441160933927, 5.34887745131579, 5.118688165317536, 6.011141852408837, 6.163832704329661, 5.1433779535457305, 6.392363085325151, 5.527577447322837, 5.930320086185542, 5.313980451209336, 6.022831289460413, 5.514070436487309, 5.304829385478879, 4.995317478553272, 6.002381254097646, 5.619232817052925, 6.673322674904686, 5.468278537940126]}],                        {\"legend\": {\"tracegroupgap\": 0}, \"margin\": {\"t\": 60}, \"scene\": {\"domain\": {\"x\": [0.0, 1.0], \"y\": [0.0, 1.0]}, \"xaxis\": {\"title\": {\"text\": \"x\"}}, \"yaxis\": {\"title\": {\"text\": \"y\"}}, \"zaxis\": {\"title\": {\"text\": \"z\"}}}, \"template\": {\"data\": {\"bar\": [{\"error_x\": {\"color\": \"#2a3f5f\"}, \"error_y\": {\"color\": \"#2a3f5f\"}, \"marker\": {\"line\": {\"color\": \"#E5ECF6\", \"width\": 0.5}}, \"type\": \"bar\"}], \"barpolar\": [{\"marker\": {\"line\": {\"color\": \"#E5ECF6\", \"width\": 0.5}}, \"type\": \"barpolar\"}], \"carpet\": [{\"aaxis\": {\"endlinecolor\": \"#2a3f5f\", \"gridcolor\": \"white\", \"linecolor\": \"white\", \"minorgridcolor\": \"white\", \"startlinecolor\": \"#2a3f5f\"}, \"baxis\": {\"endlinecolor\": \"#2a3f5f\", \"gridcolor\": \"white\", \"linecolor\": \"white\", \"minorgridcolor\": \"white\", \"startlinecolor\": \"#2a3f5f\"}, \"type\": \"carpet\"}], \"choropleth\": [{\"colorbar\": {\"outlinewidth\": 0, \"ticks\": \"\"}, \"type\": \"choropleth\"}], \"contour\": [{\"colorbar\": {\"outlinewidth\": 0, \"ticks\": \"\"}, \"colorscale\": [[0.0, \"#0d0887\"], [0.1111111111111111, \"#46039f\"], [0.2222222222222222, \"#7201a8\"], [0.3333333333333333, \"#9c179e\"], [0.4444444444444444, \"#bd3786\"], [0.5555555555555556, \"#d8576b\"], [0.6666666666666666, \"#ed7953\"], [0.7777777777777778, \"#fb9f3a\"], [0.8888888888888888, \"#fdca26\"], [1.0, \"#f0f921\"]], \"type\": \"contour\"}], \"contourcarpet\": [{\"colorbar\": {\"outlinewidth\": 0, \"ticks\": \"\"}, \"type\": \"contourcarpet\"}], \"heatmap\": [{\"colorbar\": {\"outlinewidth\": 0, \"ticks\": \"\"}, \"colorscale\": [[0.0, \"#0d0887\"], [0.1111111111111111, \"#46039f\"], [0.2222222222222222, \"#7201a8\"], [0.3333333333333333, \"#9c179e\"], [0.4444444444444444, \"#bd3786\"], [0.5555555555555556, \"#d8576b\"], [0.6666666666666666, \"#ed7953\"], [0.7777777777777778, \"#fb9f3a\"], [0.8888888888888888, \"#fdca26\"], [1.0, \"#f0f921\"]], \"type\": \"heatmap\"}], \"heatmapgl\": [{\"colorbar\": {\"outlinewidth\": 0, \"ticks\": \"\"}, \"colorscale\": [[0.0, \"#0d0887\"], [0.1111111111111111, \"#46039f\"], [0.2222222222222222, \"#7201a8\"], [0.3333333333333333, \"#9c179e\"], [0.4444444444444444, \"#bd3786\"], [0.5555555555555556, \"#d8576b\"], [0.6666666666666666, \"#ed7953\"], [0.7777777777777778, \"#fb9f3a\"], [0.8888888888888888, \"#fdca26\"], [1.0, \"#f0f921\"]], \"type\": \"heatmapgl\"}], \"histogram\": [{\"marker\": {\"colorbar\": {\"outlinewidth\": 0, \"ticks\": \"\"}}, \"type\": \"histogram\"}], \"histogram2d\": [{\"colorbar\": {\"outlinewidth\": 0, \"ticks\": \"\"}, \"colorscale\": [[0.0, \"#0d0887\"], [0.1111111111111111, \"#46039f\"], [0.2222222222222222, \"#7201a8\"], [0.3333333333333333, \"#9c179e\"], [0.4444444444444444, \"#bd3786\"], [0.5555555555555556, \"#d8576b\"], [0.6666666666666666, \"#ed7953\"], [0.7777777777777778, \"#fb9f3a\"], [0.8888888888888888, \"#fdca26\"], [1.0, \"#f0f921\"]], \"type\": \"histogram2d\"}], \"histogram2dcontour\": [{\"colorbar\": {\"outlinewidth\": 0, \"ticks\": \"\"}, \"colorscale\": [[0.0, \"#0d0887\"], [0.1111111111111111, \"#46039f\"], [0.2222222222222222, \"#7201a8\"], [0.3333333333333333, \"#9c179e\"], [0.4444444444444444, \"#bd3786\"], [0.5555555555555556, \"#d8576b\"], [0.6666666666666666, \"#ed7953\"], [0.7777777777777778, \"#fb9f3a\"], [0.8888888888888888, \"#fdca26\"], [1.0, \"#f0f921\"]], \"type\": \"histogram2dcontour\"}], \"mesh3d\": [{\"colorbar\": {\"outlinewidth\": 0, \"ticks\": \"\"}, \"type\": \"mesh3d\"}], \"parcoords\": [{\"line\": {\"colorbar\": {\"outlinewidth\": 0, \"ticks\": \"\"}}, \"type\": \"parcoords\"}], \"pie\": [{\"automargin\": true, \"type\": \"pie\"}], \"scatter\": [{\"marker\": {\"colorbar\": {\"outlinewidth\": 0, \"ticks\": \"\"}}, \"type\": \"scatter\"}], \"scatter3d\": [{\"line\": {\"colorbar\": {\"outlinewidth\": 0, \"ticks\": \"\"}}, \"marker\": {\"colorbar\": {\"outlinewidth\": 0, \"ticks\": \"\"}}, \"type\": \"scatter3d\"}], \"scattercarpet\": [{\"marker\": {\"colorbar\": {\"outlinewidth\": 0, \"ticks\": \"\"}}, \"type\": \"scattercarpet\"}], \"scattergeo\": [{\"marker\": {\"colorbar\": {\"outlinewidth\": 0, \"ticks\": \"\"}}, \"type\": \"scattergeo\"}], \"scattergl\": [{\"marker\": {\"colorbar\": {\"outlinewidth\": 0, \"ticks\": \"\"}}, \"type\": \"scattergl\"}], \"scattermapbox\": [{\"marker\": {\"colorbar\": {\"outlinewidth\": 0, \"ticks\": \"\"}}, \"type\": \"scattermapbox\"}], \"scatterpolar\": [{\"marker\": {\"colorbar\": {\"outlinewidth\": 0, \"ticks\": \"\"}}, \"type\": \"scatterpolar\"}], \"scatterpolargl\": [{\"marker\": {\"colorbar\": {\"outlinewidth\": 0, \"ticks\": \"\"}}, \"type\": \"scatterpolargl\"}], \"scatterternary\": [{\"marker\": {\"colorbar\": {\"outlinewidth\": 0, \"ticks\": \"\"}}, \"type\": \"scatterternary\"}], \"surface\": [{\"colorbar\": {\"outlinewidth\": 0, \"ticks\": \"\"}, \"colorscale\": [[0.0, \"#0d0887\"], [0.1111111111111111, \"#46039f\"], [0.2222222222222222, \"#7201a8\"], [0.3333333333333333, \"#9c179e\"], [0.4444444444444444, \"#bd3786\"], [0.5555555555555556, \"#d8576b\"], [0.6666666666666666, \"#ed7953\"], [0.7777777777777778, \"#fb9f3a\"], [0.8888888888888888, \"#fdca26\"], [1.0, \"#f0f921\"]], \"type\": \"surface\"}], \"table\": [{\"cells\": {\"fill\": {\"color\": \"#EBF0F8\"}, \"line\": {\"color\": \"white\"}}, \"header\": {\"fill\": {\"color\": \"#C8D4E3\"}, \"line\": {\"color\": \"white\"}}, \"type\": \"table\"}]}, \"layout\": {\"annotationdefaults\": {\"arrowcolor\": \"#2a3f5f\", \"arrowhead\": 0, \"arrowwidth\": 1}, \"autotypenumbers\": \"strict\", \"coloraxis\": {\"colorbar\": {\"outlinewidth\": 0, \"ticks\": \"\"}}, \"colorscale\": {\"diverging\": [[0, \"#8e0152\"], [0.1, \"#c51b7d\"], [0.2, \"#de77ae\"], [0.3, \"#f1b6da\"], [0.4, \"#fde0ef\"], [0.5, \"#f7f7f7\"], [0.6, \"#e6f5d0\"], [0.7, \"#b8e186\"], [0.8, \"#7fbc41\"], [0.9, \"#4d9221\"], [1, \"#276419\"]], \"sequential\": [[0.0, \"#0d0887\"], [0.1111111111111111, \"#46039f\"], [0.2222222222222222, \"#7201a8\"], [0.3333333333333333, \"#9c179e\"], [0.4444444444444444, \"#bd3786\"], [0.5555555555555556, \"#d8576b\"], [0.6666666666666666, \"#ed7953\"], [0.7777777777777778, \"#fb9f3a\"], [0.8888888888888888, \"#fdca26\"], [1.0, \"#f0f921\"]], \"sequentialminus\": [[0.0, \"#0d0887\"], [0.1111111111111111, \"#46039f\"], [0.2222222222222222, \"#7201a8\"], [0.3333333333333333, \"#9c179e\"], [0.4444444444444444, \"#bd3786\"], [0.5555555555555556, \"#d8576b\"], [0.6666666666666666, \"#ed7953\"], [0.7777777777777778, \"#fb9f3a\"], [0.8888888888888888, \"#fdca26\"], [1.0, \"#f0f921\"]]}, \"colorway\": [\"#636efa\", \"#EF553B\", \"#00cc96\", \"#ab63fa\", \"#FFA15A\", \"#19d3f3\", \"#FF6692\", \"#B6E880\", \"#FF97FF\", \"#FECB52\"], \"font\": {\"color\": \"#2a3f5f\"}, \"geo\": {\"bgcolor\": \"white\", \"lakecolor\": \"white\", \"landcolor\": \"#E5ECF6\", \"showlakes\": true, \"showland\": true, \"subunitcolor\": \"white\"}, \"hoverlabel\": {\"align\": \"left\"}, \"hovermode\": \"closest\", \"mapbox\": {\"style\": \"light\"}, \"paper_bgcolor\": \"white\", \"plot_bgcolor\": \"#E5ECF6\", \"polar\": {\"angularaxis\": {\"gridcolor\": \"white\", \"linecolor\": \"white\", \"ticks\": \"\"}, \"bgcolor\": \"#E5ECF6\", \"radialaxis\": {\"gridcolor\": \"white\", \"linecolor\": \"white\", \"ticks\": \"\"}}, \"scene\": {\"xaxis\": {\"backgroundcolor\": \"#E5ECF6\", \"gridcolor\": \"white\", \"gridwidth\": 2, \"linecolor\": \"white\", \"showbackground\": true, \"ticks\": \"\", \"zerolinecolor\": \"white\"}, \"yaxis\": {\"backgroundcolor\": \"#E5ECF6\", \"gridcolor\": \"white\", \"gridwidth\": 2, \"linecolor\": \"white\", \"showbackground\": true, \"ticks\": \"\", \"zerolinecolor\": \"white\"}, \"zaxis\": {\"backgroundcolor\": \"#E5ECF6\", \"gridcolor\": \"white\", \"gridwidth\": 2, \"linecolor\": \"white\", \"showbackground\": true, \"ticks\": \"\", \"zerolinecolor\": \"white\"}}, \"shapedefaults\": {\"line\": {\"color\": \"#2a3f5f\"}}, \"ternary\": {\"aaxis\": {\"gridcolor\": \"white\", \"linecolor\": \"white\", \"ticks\": \"\"}, \"baxis\": {\"gridcolor\": \"white\", \"linecolor\": \"white\", \"ticks\": \"\"}, \"bgcolor\": \"#E5ECF6\", \"caxis\": {\"gridcolor\": \"white\", \"linecolor\": \"white\", \"ticks\": \"\"}}, \"title\": {\"x\": 0.05}, \"xaxis\": {\"automargin\": true, \"gridcolor\": \"white\", \"linecolor\": \"white\", \"ticks\": \"\", \"title\": {\"standoff\": 15}, \"zerolinecolor\": \"white\", \"zerolinewidth\": 2}, \"yaxis\": {\"automargin\": true, \"gridcolor\": \"white\", \"linecolor\": \"white\", \"ticks\": \"\", \"title\": {\"standoff\": 15}, \"zerolinecolor\": \"white\", \"zerolinewidth\": 2}}}},                        {\"responsive\": true}                    ).then(function(){\n",
       "                            \n",
       "var gd = document.getElementById('3f725233-4175-4dba-88ee-9785461ab2a6');\n",
       "var x = new MutationObserver(function (mutations, observer) {{\n",
       "        var display = window.getComputedStyle(gd).display;\n",
       "        if (!display || display === 'none') {{\n",
       "            console.log([gd, 'removed!']);\n",
       "            Plotly.purge(gd);\n",
       "            observer.disconnect();\n",
       "        }}\n",
       "}});\n",
       "\n",
       "// Listen for the removal of the full notebook cells\n",
       "var notebookContainer = gd.closest('#notebook-container');\n",
       "if (notebookContainer) {{\n",
       "    x.observe(notebookContainer, {childList: true});\n",
       "}}\n",
       "\n",
       "// Listen for the clearing of the current output cell\n",
       "var outputEl = gd.closest('.output');\n",
       "if (outputEl) {{\n",
       "    x.observe(outputEl, {childList: true});\n",
       "}}\n",
       "\n",
       "                        })                };                });            </script>        </div>"
      ]
     },
     "metadata": {},
     "output_type": "display_data"
    }
   ],
   "source": [
    "px.scatter_3d(x=X_test_red['alcohol'], y=X_test_red['sulphates'], z=y_predictions_red_lin)"
   ]
  },
  {
   "cell_type": "markdown",
   "id": "bac93627",
   "metadata": {},
   "source": [
    "Scatterplot of the two most correlating columns and the actual values"
   ]
  },
  {
   "cell_type": "code",
   "execution_count": 82,
   "id": "7a4c091c",
   "metadata": {},
   "outputs": [
    {
     "data": {
      "application/vnd.plotly.v1+json": {
       "config": {
        "plotlyServerURL": "https://plot.ly"
       },
       "data": [
        {
         "hovertemplate": "x=%{x}<br>y=%{y}<br>z=%{z}<extra></extra>",
         "legendgroup": "",
         "marker": {
          "color": "#636efa",
          "symbol": "circle"
         },
         "mode": "markers",
         "name": "",
         "scene": "scene",
         "showlegend": false,
         "type": "scatter3d",
         "x": [
          9.5,
          11.4,
          9.9,
          9,
          11.7,
          9.5,
          12.4,
          9.5,
          10.3,
          10.4,
          9.5,
          9.1,
          9.8,
          11,
          11.8,
          9.5,
          11.4,
          12.5,
          9.8,
          9.6,
          10.2,
          10.4,
          12.7,
          12,
          10.8,
          11.8,
          9.5,
          11.9,
          9.5,
          11.9,
          12.8,
          9.1,
          9.4,
          9.6,
          11.5,
          9.9,
          10.4,
          9.4,
          9.3,
          11,
          12.1,
          9.5,
          11,
          10.7,
          11.5,
          11,
          12.4,
          10.7,
          9.4,
          10.7,
          9.4,
          9.3,
          10.9,
          11.4,
          9.2,
          9.2,
          9.4,
          10.7,
          11,
          9.2,
          12,
          11.8,
          10.7,
          9,
          10.6,
          12.3,
          11.6,
          10.9,
          9.6,
          10,
          9.3,
          10,
          10,
          9.7,
          9.9,
          9.5,
          11.5,
          9.1,
          9.8,
          9.5,
          9.7,
          9.4,
          10,
          9.3,
          10.1,
          11,
          10.4,
          9.8,
          9.8,
          11,
          10.6,
          11.8,
          9.4,
          9.5,
          11.7,
          9.6,
          9.4,
          11.2,
          10.5,
          10.5,
          9.7,
          9.2,
          9.8,
          9.9,
          10,
          9.4,
          9.3,
          10.3,
          10.5,
          11.9,
          10.8,
          9.4,
          9.6,
          10.3,
          12.3,
          12.3,
          11.2,
          9,
          11.2,
          12.7,
          9.6,
          9.5,
          9.9,
          10.8,
          10.1,
          9.2,
          10.3,
          9.8,
          10.1,
          11,
          9.4,
          10.9,
          9,
          9.5,
          10.1,
          9.4,
          9.9,
          10.1,
          11.9,
          11,
          10.8,
          11.2,
          11.3,
          10.1,
          9.4,
          9.5,
          10.4,
          9.4,
          9,
          9.4,
          10.9,
          9.8,
          10,
          9.7,
          10.2,
          9.5,
          11,
          9.4,
          9.5,
          9.7,
          10.9,
          10.2,
          9.2,
          9.3,
          10.8,
          9.25,
          10.7,
          10.5,
          10.9,
          9.3,
          10.4,
          11.2,
          11,
          12.6,
          10,
          9.2,
          10.6,
          9.2,
          9.1,
          9.5,
          10,
          11,
          9.5,
          9.4,
          11,
          11,
          12.6,
          9.8,
          9.8,
          9.9,
          11.8,
          10.1,
          10.4,
          9.4,
          10.4,
          11.4,
          9.5,
          9.5,
          10.4,
          11.3,
          10.4,
          9.5,
          9.2,
          9.5,
          9.7,
          9.8,
          9.5,
          10.7,
          10.5,
          10.1,
          9.9,
          11,
          10.2,
          10.9,
          10.6,
          9.3,
          9.7,
          12.1,
          14,
          12,
          10.9,
          9.4,
          9.9,
          11,
          10.4,
          9.7,
          11.5,
          9.4,
          9.9,
          9.5,
          9.55,
          11,
          10.3,
          9.2,
          10.5,
          12.3,
          11.3,
          9.2,
          9.1,
          9.5,
          11,
          9.3,
          9.3,
          12,
          9,
          11,
          11.2,
          9.4,
          10,
          13,
          10.3,
          9.6,
          9.2,
          10.5,
          10.7,
          12.6,
          9.8,
          10.5,
          11.7,
          9,
          9.8,
          9.9,
          9.5,
          9.05,
          9.4,
          11.4,
          10.5,
          11.2,
          10.8,
          10.6,
          10.3,
          10.7,
          11.7,
          9.7,
          9.7,
          9.7,
          9.5,
          9.9,
          9.7,
          10.4,
          9.7,
          10,
          9.5,
          11.4,
          9.3,
          11.3,
          9.7,
          10.6,
          10.8,
          10.5,
          9.4,
          9.6,
          9.9,
          11.2,
          9.3,
          9.8,
          10.2,
          10.5,
          12,
          9.4,
          9.9,
          13.6,
          9.9,
          9.2,
          9.9,
          8.4,
          10.6,
          10.2,
          9.5,
          10.8,
          11.3,
          9.7,
          11,
          9.4,
          12.7,
          10.2,
          11,
          10.4,
          10.3,
          9.9,
          11,
          10.6,
          11.3,
          10.2,
          12.5,
          9.1,
          12,
          9.6,
          9.8,
          11.1,
          10.2,
          12.8,
          10.3,
          9.5,
          9.6,
          11.4,
          11.9,
          9.9,
          9.8,
          9.4,
          11.9,
          9.6,
          10.2,
          9.8,
          11,
          11,
          9.2,
          12.1,
          10,
          11.1,
          10.7,
          12.6,
          10.5,
          10,
          10.5,
          10.8,
          10.4,
          12,
          9.6
         ],
         "y": [
          0.51,
          0.71,
          0.57,
          0.58,
          0.56,
          0.64,
          0.8,
          0.52,
          0.87,
          0.75,
          0.62,
          0.59,
          0.74,
          0.58,
          0.71,
          0.58,
          0.68,
          0.72,
          0.75,
          0.46,
          0.9,
          0.62,
          0.52,
          0.52,
          0.77,
          0.63,
          0.49,
          0.46,
          0.5,
          0.76,
          0.66,
          0.62,
          0.56,
          0.46,
          0.72,
          0.78,
          0.65,
          0.91,
          0.65,
          0.85,
          0.77,
          0.6,
          0.71,
          0.79,
          0.5,
          0.63,
          0.66,
          0.93,
          0.48,
          0.62,
          0.62,
          0.62,
          0.63,
          0.54,
          0.42,
          0.61,
          0.8,
          0.58,
          0.57,
          0.66,
          0.86,
          0.72,
          0.62,
          0.58,
          0.67,
          0.56,
          0.56,
          0.66,
          0.56,
          0.9,
          0.45,
          0.63,
          0.57,
          0.53,
          0.96,
          0.7,
          0.55,
          0.57,
          0.58,
          0.62,
          0.77,
          0.45,
          0.94,
          0.63,
          0.64,
          0.65,
          0.82,
          0.51,
          0.58,
          0.57,
          0.73,
          0.76,
          0.48,
          0.64,
          0.62,
          0.7,
          0.56,
          0.82,
          0.8,
          0.68,
          0.73,
          0.58,
          0.6,
          0.86,
          0.82,
          0.54,
          0.58,
          0.57,
          0.95,
          0.76,
          0.63,
          0.64,
          0.78,
          0.83,
          0.89,
          0.55,
          0.66,
          0.69,
          0.56,
          0.77,
          0.58,
          0.73,
          0.81,
          1.05,
          0.54,
          0.61,
          0.68,
          0.5,
          0.56,
          0.72,
          0.57,
          0.7,
          0.64,
          0.54,
          0.43,
          0.57,
          0.68,
          0.97,
          0.58,
          0.68,
          0.6,
          0.54,
          0.6,
          0.54,
          0.55,
          0.61,
          0.61,
          0.86,
          0.65,
          0.53,
          0.64,
          0.72,
          0.46,
          0.55,
          0.63,
          0.59,
          0.85,
          0.62,
          0.64,
          0.59,
          0.64,
          0.53,
          0.48,
          0.56,
          0.92,
          0.72,
          0.58,
          0.58,
          0.87,
          0.71,
          0.81,
          0.67,
          0.85,
          0.66,
          0.78,
          0.62,
          0.67,
          0.66,
          0.33,
          0.59,
          0.67,
          0.87,
          0.59,
          0.64,
          0.88,
          0.75,
          0.75,
          0.65,
          0.68,
          0.45,
          0.51,
          0.54,
          0.57,
          0.62,
          0.64,
          0.7,
          0.48,
          0.45,
          0.6,
          0.59,
          0.63,
          0.46,
          0.63,
          0.54,
          0.56,
          0.64,
          0.52,
          0.76,
          0.64,
          0.57,
          0.96,
          0.58,
          1.17,
          0.69,
          0.69,
          0.51,
          0.65,
          0.96,
          0.82,
          1.13,
          0.68,
          0.58,
          0.48,
          0.6,
          0.85,
          0.7,
          0.63,
          0.62,
          0.52,
          0.55,
          0.65,
          0.57,
          0.6,
          0.54,
          0.57,
          0.48,
          0.66,
          0.46,
          0.5,
          0.81,
          0.78,
          0.65,
          0.6,
          0.63,
          0.59,
          0.53,
          0.67,
          0.48,
          0.73,
          0.37,
          0.83,
          0.44,
          0.58,
          0.71,
          0.54,
          0.56,
          0.59,
          0.66,
          0.84,
          0.57,
          0.66,
          0.52,
          0.63,
          0.43,
          0.56,
          0.58,
          0.48,
          0.6,
          0.62,
          0.82,
          0.7,
          0.58,
          0.57,
          0.57,
          0.54,
          0.49,
          0.57,
          0.49,
          0.67,
          0.76,
          0.53,
          0.66,
          0.62,
          0.76,
          0.7,
          0.6,
          0.76,
          0.68,
          0.62,
          0.74,
          0.5,
          0.7,
          0.98,
          0.8,
          0.6,
          0.93,
          0.87,
          0.86,
          0.76,
          0.7,
          0.89,
          0.66,
          0.66,
          0.61,
          0.76,
          0.79,
          1.16,
          0.58,
          0.59,
          1.02,
          0.6,
          0.81,
          0.6,
          0.53,
          0.68,
          0.75,
          0.64,
          0.44,
          0.64,
          0.59,
          0.57,
          0.83,
          0.56,
          0.63,
          0.57,
          0.58,
          0.63,
          0.51,
          0.5,
          0.58,
          0.56,
          0.7,
          0.47,
          0.63,
          0.7,
          0.58,
          0.73,
          0.78,
          0.63,
          0.91,
          0.82,
          0.72,
          0.66,
          0.57,
          0.66,
          0.81,
          0.59,
          0.77,
          0.68,
          0.77,
          0.56,
          0.52,
          0.53,
          0.59,
          0.47,
          0.77,
          0.64,
          0.93,
          0.72
         ],
         "z": [
          5,
          6,
          5,
          5,
          6,
          6,
          7,
          5,
          6,
          6,
          6,
          5,
          5,
          7,
          7,
          5,
          7,
          7,
          6,
          4,
          6,
          6,
          6,
          6,
          7,
          8,
          5,
          6,
          5,
          7,
          6,
          6,
          5,
          6,
          6,
          5,
          6,
          6,
          6,
          6,
          7,
          6,
          6,
          5,
          6,
          5,
          6,
          6,
          5,
          6,
          5,
          5,
          6,
          5,
          5,
          6,
          6,
          6,
          5,
          6,
          7,
          6,
          6,
          6,
          6,
          7,
          6,
          6,
          5,
          6,
          5,
          6,
          5,
          5,
          6,
          6,
          7,
          5,
          5,
          5,
          6,
          5,
          5,
          5,
          6,
          8,
          6,
          6,
          6,
          4,
          6,
          7,
          5,
          5,
          7,
          6,
          5,
          6,
          7,
          5,
          5,
          5,
          5,
          4,
          6,
          6,
          5,
          4,
          6,
          7,
          7,
          6,
          5,
          6,
          7,
          6,
          5,
          5,
          6,
          7,
          5,
          6,
          5,
          7,
          6,
          6,
          6,
          6,
          6,
          6,
          5,
          5,
          5,
          6,
          5,
          5,
          5,
          6,
          7,
          5,
          6,
          6,
          5,
          5,
          5,
          5,
          5,
          6,
          6,
          5,
          6,
          4,
          5,
          5,
          6,
          5,
          7,
          5,
          5,
          6,
          4,
          6,
          5,
          5,
          7,
          6,
          5,
          6,
          6,
          5,
          6,
          5,
          7,
          6,
          6,
          6,
          7,
          6,
          4,
          5,
          5,
          7,
          6,
          6,
          5,
          6,
          7,
          5,
          5,
          5,
          6,
          5,
          4,
          5,
          5,
          8,
          5,
          5,
          5,
          7,
          5,
          5,
          5,
          6,
          5,
          5,
          5,
          7,
          5,
          6,
          6,
          5,
          5,
          5,
          6,
          4,
          5,
          6,
          8,
          7,
          6,
          5,
          5,
          6,
          7,
          5,
          6,
          5,
          6,
          5,
          6,
          4,
          5,
          5,
          5,
          6,
          6,
          5,
          5,
          6,
          5,
          6,
          5,
          6,
          6,
          5,
          7,
          5,
          6,
          5,
          6,
          5,
          6,
          6,
          3,
          6,
          5,
          5,
          7,
          3,
          5,
          5,
          6,
          4,
          5,
          5,
          4,
          4,
          6,
          7,
          6,
          6,
          6,
          5,
          5,
          5,
          7,
          5,
          5,
          6,
          5,
          6,
          6,
          6,
          6,
          6,
          6,
          5,
          6,
          7,
          5,
          6,
          6,
          5,
          6,
          6,
          5,
          6,
          6,
          5,
          6,
          6,
          7,
          5,
          7,
          6,
          6,
          5,
          6,
          7,
          6,
          6,
          6,
          5,
          6,
          6,
          7,
          5,
          6,
          5,
          5,
          6,
          6,
          6,
          6,
          5,
          5,
          5,
          5,
          7,
          6,
          7,
          5,
          5,
          4,
          6,
          6,
          5,
          5,
          6,
          6,
          6,
          5,
          5,
          6,
          6,
          6,
          7,
          5,
          6,
          5,
          5,
          6,
          5,
          5,
          6,
          5,
          6,
          5
         ]
        }
       ],
       "layout": {
        "legend": {
         "tracegroupgap": 0
        },
        "margin": {
         "t": 60
        },
        "scene": {
         "domain": {
          "x": [
           0,
           1
          ],
          "y": [
           0,
           1
          ]
         },
         "xaxis": {
          "title": {
           "text": "x"
          }
         },
         "yaxis": {
          "title": {
           "text": "y"
          }
         },
         "zaxis": {
          "title": {
           "text": "z"
          }
         }
        },
        "template": {
         "data": {
          "bar": [
           {
            "error_x": {
             "color": "#2a3f5f"
            },
            "error_y": {
             "color": "#2a3f5f"
            },
            "marker": {
             "line": {
              "color": "#E5ECF6",
              "width": 0.5
             }
            },
            "type": "bar"
           }
          ],
          "barpolar": [
           {
            "marker": {
             "line": {
              "color": "#E5ECF6",
              "width": 0.5
             }
            },
            "type": "barpolar"
           }
          ],
          "carpet": [
           {
            "aaxis": {
             "endlinecolor": "#2a3f5f",
             "gridcolor": "white",
             "linecolor": "white",
             "minorgridcolor": "white",
             "startlinecolor": "#2a3f5f"
            },
            "baxis": {
             "endlinecolor": "#2a3f5f",
             "gridcolor": "white",
             "linecolor": "white",
             "minorgridcolor": "white",
             "startlinecolor": "#2a3f5f"
            },
            "type": "carpet"
           }
          ],
          "choropleth": [
           {
            "colorbar": {
             "outlinewidth": 0,
             "ticks": ""
            },
            "type": "choropleth"
           }
          ],
          "contour": [
           {
            "colorbar": {
             "outlinewidth": 0,
             "ticks": ""
            },
            "colorscale": [
             [
              0,
              "#0d0887"
             ],
             [
              0.1111111111111111,
              "#46039f"
             ],
             [
              0.2222222222222222,
              "#7201a8"
             ],
             [
              0.3333333333333333,
              "#9c179e"
             ],
             [
              0.4444444444444444,
              "#bd3786"
             ],
             [
              0.5555555555555556,
              "#d8576b"
             ],
             [
              0.6666666666666666,
              "#ed7953"
             ],
             [
              0.7777777777777778,
              "#fb9f3a"
             ],
             [
              0.8888888888888888,
              "#fdca26"
             ],
             [
              1,
              "#f0f921"
             ]
            ],
            "type": "contour"
           }
          ],
          "contourcarpet": [
           {
            "colorbar": {
             "outlinewidth": 0,
             "ticks": ""
            },
            "type": "contourcarpet"
           }
          ],
          "heatmap": [
           {
            "colorbar": {
             "outlinewidth": 0,
             "ticks": ""
            },
            "colorscale": [
             [
              0,
              "#0d0887"
             ],
             [
              0.1111111111111111,
              "#46039f"
             ],
             [
              0.2222222222222222,
              "#7201a8"
             ],
             [
              0.3333333333333333,
              "#9c179e"
             ],
             [
              0.4444444444444444,
              "#bd3786"
             ],
             [
              0.5555555555555556,
              "#d8576b"
             ],
             [
              0.6666666666666666,
              "#ed7953"
             ],
             [
              0.7777777777777778,
              "#fb9f3a"
             ],
             [
              0.8888888888888888,
              "#fdca26"
             ],
             [
              1,
              "#f0f921"
             ]
            ],
            "type": "heatmap"
           }
          ],
          "heatmapgl": [
           {
            "colorbar": {
             "outlinewidth": 0,
             "ticks": ""
            },
            "colorscale": [
             [
              0,
              "#0d0887"
             ],
             [
              0.1111111111111111,
              "#46039f"
             ],
             [
              0.2222222222222222,
              "#7201a8"
             ],
             [
              0.3333333333333333,
              "#9c179e"
             ],
             [
              0.4444444444444444,
              "#bd3786"
             ],
             [
              0.5555555555555556,
              "#d8576b"
             ],
             [
              0.6666666666666666,
              "#ed7953"
             ],
             [
              0.7777777777777778,
              "#fb9f3a"
             ],
             [
              0.8888888888888888,
              "#fdca26"
             ],
             [
              1,
              "#f0f921"
             ]
            ],
            "type": "heatmapgl"
           }
          ],
          "histogram": [
           {
            "marker": {
             "colorbar": {
              "outlinewidth": 0,
              "ticks": ""
             }
            },
            "type": "histogram"
           }
          ],
          "histogram2d": [
           {
            "colorbar": {
             "outlinewidth": 0,
             "ticks": ""
            },
            "colorscale": [
             [
              0,
              "#0d0887"
             ],
             [
              0.1111111111111111,
              "#46039f"
             ],
             [
              0.2222222222222222,
              "#7201a8"
             ],
             [
              0.3333333333333333,
              "#9c179e"
             ],
             [
              0.4444444444444444,
              "#bd3786"
             ],
             [
              0.5555555555555556,
              "#d8576b"
             ],
             [
              0.6666666666666666,
              "#ed7953"
             ],
             [
              0.7777777777777778,
              "#fb9f3a"
             ],
             [
              0.8888888888888888,
              "#fdca26"
             ],
             [
              1,
              "#f0f921"
             ]
            ],
            "type": "histogram2d"
           }
          ],
          "histogram2dcontour": [
           {
            "colorbar": {
             "outlinewidth": 0,
             "ticks": ""
            },
            "colorscale": [
             [
              0,
              "#0d0887"
             ],
             [
              0.1111111111111111,
              "#46039f"
             ],
             [
              0.2222222222222222,
              "#7201a8"
             ],
             [
              0.3333333333333333,
              "#9c179e"
             ],
             [
              0.4444444444444444,
              "#bd3786"
             ],
             [
              0.5555555555555556,
              "#d8576b"
             ],
             [
              0.6666666666666666,
              "#ed7953"
             ],
             [
              0.7777777777777778,
              "#fb9f3a"
             ],
             [
              0.8888888888888888,
              "#fdca26"
             ],
             [
              1,
              "#f0f921"
             ]
            ],
            "type": "histogram2dcontour"
           }
          ],
          "mesh3d": [
           {
            "colorbar": {
             "outlinewidth": 0,
             "ticks": ""
            },
            "type": "mesh3d"
           }
          ],
          "parcoords": [
           {
            "line": {
             "colorbar": {
              "outlinewidth": 0,
              "ticks": ""
             }
            },
            "type": "parcoords"
           }
          ],
          "pie": [
           {
            "automargin": true,
            "type": "pie"
           }
          ],
          "scatter": [
           {
            "marker": {
             "colorbar": {
              "outlinewidth": 0,
              "ticks": ""
             }
            },
            "type": "scatter"
           }
          ],
          "scatter3d": [
           {
            "line": {
             "colorbar": {
              "outlinewidth": 0,
              "ticks": ""
             }
            },
            "marker": {
             "colorbar": {
              "outlinewidth": 0,
              "ticks": ""
             }
            },
            "type": "scatter3d"
           }
          ],
          "scattercarpet": [
           {
            "marker": {
             "colorbar": {
              "outlinewidth": 0,
              "ticks": ""
             }
            },
            "type": "scattercarpet"
           }
          ],
          "scattergeo": [
           {
            "marker": {
             "colorbar": {
              "outlinewidth": 0,
              "ticks": ""
             }
            },
            "type": "scattergeo"
           }
          ],
          "scattergl": [
           {
            "marker": {
             "colorbar": {
              "outlinewidth": 0,
              "ticks": ""
             }
            },
            "type": "scattergl"
           }
          ],
          "scattermapbox": [
           {
            "marker": {
             "colorbar": {
              "outlinewidth": 0,
              "ticks": ""
             }
            },
            "type": "scattermapbox"
           }
          ],
          "scatterpolar": [
           {
            "marker": {
             "colorbar": {
              "outlinewidth": 0,
              "ticks": ""
             }
            },
            "type": "scatterpolar"
           }
          ],
          "scatterpolargl": [
           {
            "marker": {
             "colorbar": {
              "outlinewidth": 0,
              "ticks": ""
             }
            },
            "type": "scatterpolargl"
           }
          ],
          "scatterternary": [
           {
            "marker": {
             "colorbar": {
              "outlinewidth": 0,
              "ticks": ""
             }
            },
            "type": "scatterternary"
           }
          ],
          "surface": [
           {
            "colorbar": {
             "outlinewidth": 0,
             "ticks": ""
            },
            "colorscale": [
             [
              0,
              "#0d0887"
             ],
             [
              0.1111111111111111,
              "#46039f"
             ],
             [
              0.2222222222222222,
              "#7201a8"
             ],
             [
              0.3333333333333333,
              "#9c179e"
             ],
             [
              0.4444444444444444,
              "#bd3786"
             ],
             [
              0.5555555555555556,
              "#d8576b"
             ],
             [
              0.6666666666666666,
              "#ed7953"
             ],
             [
              0.7777777777777778,
              "#fb9f3a"
             ],
             [
              0.8888888888888888,
              "#fdca26"
             ],
             [
              1,
              "#f0f921"
             ]
            ],
            "type": "surface"
           }
          ],
          "table": [
           {
            "cells": {
             "fill": {
              "color": "#EBF0F8"
             },
             "line": {
              "color": "white"
             }
            },
            "header": {
             "fill": {
              "color": "#C8D4E3"
             },
             "line": {
              "color": "white"
             }
            },
            "type": "table"
           }
          ]
         },
         "layout": {
          "annotationdefaults": {
           "arrowcolor": "#2a3f5f",
           "arrowhead": 0,
           "arrowwidth": 1
          },
          "autotypenumbers": "strict",
          "coloraxis": {
           "colorbar": {
            "outlinewidth": 0,
            "ticks": ""
           }
          },
          "colorscale": {
           "diverging": [
            [
             0,
             "#8e0152"
            ],
            [
             0.1,
             "#c51b7d"
            ],
            [
             0.2,
             "#de77ae"
            ],
            [
             0.3,
             "#f1b6da"
            ],
            [
             0.4,
             "#fde0ef"
            ],
            [
             0.5,
             "#f7f7f7"
            ],
            [
             0.6,
             "#e6f5d0"
            ],
            [
             0.7,
             "#b8e186"
            ],
            [
             0.8,
             "#7fbc41"
            ],
            [
             0.9,
             "#4d9221"
            ],
            [
             1,
             "#276419"
            ]
           ],
           "sequential": [
            [
             0,
             "#0d0887"
            ],
            [
             0.1111111111111111,
             "#46039f"
            ],
            [
             0.2222222222222222,
             "#7201a8"
            ],
            [
             0.3333333333333333,
             "#9c179e"
            ],
            [
             0.4444444444444444,
             "#bd3786"
            ],
            [
             0.5555555555555556,
             "#d8576b"
            ],
            [
             0.6666666666666666,
             "#ed7953"
            ],
            [
             0.7777777777777778,
             "#fb9f3a"
            ],
            [
             0.8888888888888888,
             "#fdca26"
            ],
            [
             1,
             "#f0f921"
            ]
           ],
           "sequentialminus": [
            [
             0,
             "#0d0887"
            ],
            [
             0.1111111111111111,
             "#46039f"
            ],
            [
             0.2222222222222222,
             "#7201a8"
            ],
            [
             0.3333333333333333,
             "#9c179e"
            ],
            [
             0.4444444444444444,
             "#bd3786"
            ],
            [
             0.5555555555555556,
             "#d8576b"
            ],
            [
             0.6666666666666666,
             "#ed7953"
            ],
            [
             0.7777777777777778,
             "#fb9f3a"
            ],
            [
             0.8888888888888888,
             "#fdca26"
            ],
            [
             1,
             "#f0f921"
            ]
           ]
          },
          "colorway": [
           "#636efa",
           "#EF553B",
           "#00cc96",
           "#ab63fa",
           "#FFA15A",
           "#19d3f3",
           "#FF6692",
           "#B6E880",
           "#FF97FF",
           "#FECB52"
          ],
          "font": {
           "color": "#2a3f5f"
          },
          "geo": {
           "bgcolor": "white",
           "lakecolor": "white",
           "landcolor": "#E5ECF6",
           "showlakes": true,
           "showland": true,
           "subunitcolor": "white"
          },
          "hoverlabel": {
           "align": "left"
          },
          "hovermode": "closest",
          "mapbox": {
           "style": "light"
          },
          "paper_bgcolor": "white",
          "plot_bgcolor": "#E5ECF6",
          "polar": {
           "angularaxis": {
            "gridcolor": "white",
            "linecolor": "white",
            "ticks": ""
           },
           "bgcolor": "#E5ECF6",
           "radialaxis": {
            "gridcolor": "white",
            "linecolor": "white",
            "ticks": ""
           }
          },
          "scene": {
           "xaxis": {
            "backgroundcolor": "#E5ECF6",
            "gridcolor": "white",
            "gridwidth": 2,
            "linecolor": "white",
            "showbackground": true,
            "ticks": "",
            "zerolinecolor": "white"
           },
           "yaxis": {
            "backgroundcolor": "#E5ECF6",
            "gridcolor": "white",
            "gridwidth": 2,
            "linecolor": "white",
            "showbackground": true,
            "ticks": "",
            "zerolinecolor": "white"
           },
           "zaxis": {
            "backgroundcolor": "#E5ECF6",
            "gridcolor": "white",
            "gridwidth": 2,
            "linecolor": "white",
            "showbackground": true,
            "ticks": "",
            "zerolinecolor": "white"
           }
          },
          "shapedefaults": {
           "line": {
            "color": "#2a3f5f"
           }
          },
          "ternary": {
           "aaxis": {
            "gridcolor": "white",
            "linecolor": "white",
            "ticks": ""
           },
           "baxis": {
            "gridcolor": "white",
            "linecolor": "white",
            "ticks": ""
           },
           "bgcolor": "#E5ECF6",
           "caxis": {
            "gridcolor": "white",
            "linecolor": "white",
            "ticks": ""
           }
          },
          "title": {
           "x": 0.05
          },
          "xaxis": {
           "automargin": true,
           "gridcolor": "white",
           "linecolor": "white",
           "ticks": "",
           "title": {
            "standoff": 15
           },
           "zerolinecolor": "white",
           "zerolinewidth": 2
          },
          "yaxis": {
           "automargin": true,
           "gridcolor": "white",
           "linecolor": "white",
           "ticks": "",
           "title": {
            "standoff": 15
           },
           "zerolinecolor": "white",
           "zerolinewidth": 2
          }
         }
        }
       }
      },
      "text/html": [
       "<div>                            <div id=\"7e8389df-ae48-4de7-8f9a-7221df9fea8c\" class=\"plotly-graph-div\" style=\"height:525px; width:100%;\"></div>            <script type=\"text/javascript\">                require([\"plotly\"], function(Plotly) {                    window.PLOTLYENV=window.PLOTLYENV || {};                                    if (document.getElementById(\"7e8389df-ae48-4de7-8f9a-7221df9fea8c\")) {                    Plotly.newPlot(                        \"7e8389df-ae48-4de7-8f9a-7221df9fea8c\",                        [{\"hovertemplate\": \"x=%{x}<br>y=%{y}<br>z=%{z}<extra></extra>\", \"legendgroup\": \"\", \"marker\": {\"color\": \"#636efa\", \"symbol\": \"circle\"}, \"mode\": \"markers\", \"name\": \"\", \"scene\": \"scene\", \"showlegend\": false, \"type\": \"scatter3d\", \"x\": [9.5, 11.4, 9.9, 9.0, 11.7, 9.5, 12.4, 9.5, 10.3, 10.4, 9.5, 9.1, 9.8, 11.0, 11.8, 9.5, 11.4, 12.5, 9.8, 9.6, 10.2, 10.4, 12.7, 12.0, 10.8, 11.8, 9.5, 11.9, 9.5, 11.9, 12.8, 9.1, 9.4, 9.6, 11.5, 9.9, 10.4, 9.4, 9.3, 11.0, 12.1, 9.5, 11.0, 10.7, 11.5, 11.0, 12.4, 10.7, 9.4, 10.7, 9.4, 9.3, 10.9, 11.4, 9.2, 9.2, 9.4, 10.7, 11.0, 9.2, 12.0, 11.8, 10.7, 9.0, 10.6, 12.3, 11.6, 10.9, 9.6, 10.0, 9.3, 10.0, 10.0, 9.7, 9.9, 9.5, 11.5, 9.1, 9.8, 9.5, 9.7, 9.4, 10.0, 9.3, 10.1, 11.0, 10.4, 9.8, 9.8, 11.0, 10.6, 11.8, 9.4, 9.5, 11.7, 9.6, 9.4, 11.2, 10.5, 10.5, 9.7, 9.2, 9.8, 9.9, 10.0, 9.4, 9.3, 10.3, 10.5, 11.9, 10.8, 9.4, 9.6, 10.3, 12.3, 12.3, 11.2, 9.0, 11.2, 12.7, 9.6, 9.5, 9.9, 10.8, 10.1, 9.2, 10.3, 9.8, 10.1, 11.0, 9.4, 10.9, 9.0, 9.5, 10.1, 9.4, 9.9, 10.1, 11.9, 11.0, 10.8, 11.2, 11.3, 10.1, 9.4, 9.5, 10.4, 9.4, 9.0, 9.4, 10.9, 9.8, 10.0, 9.7, 10.2, 9.5, 11.0, 9.4, 9.5, 9.7, 10.9, 10.2, 9.2, 9.3, 10.8, 9.25, 10.7, 10.5, 10.9, 9.3, 10.4, 11.2, 11.0, 12.6, 10.0, 9.2, 10.6, 9.2, 9.1, 9.5, 10.0, 11.0, 9.5, 9.4, 11.0, 11.0, 12.6, 9.8, 9.8, 9.9, 11.8, 10.1, 10.4, 9.4, 10.4, 11.4, 9.5, 9.5, 10.4, 11.3, 10.4, 9.5, 9.2, 9.5, 9.7, 9.8, 9.5, 10.7, 10.5, 10.1, 9.9, 11.0, 10.2, 10.9, 10.6, 9.3, 9.7, 12.1, 14.0, 12.0, 10.9, 9.4, 9.9, 11.0, 10.4, 9.7, 11.5, 9.4, 9.9, 9.5, 9.55, 11.0, 10.3, 9.2, 10.5, 12.3, 11.3, 9.2, 9.1, 9.5, 11.0, 9.3, 9.3, 12.0, 9.0, 11.0, 11.2, 9.4, 10.0, 13.0, 10.3, 9.6, 9.2, 10.5, 10.7, 12.6, 9.8, 10.5, 11.7, 9.0, 9.8, 9.9, 9.5, 9.05, 9.4, 11.4, 10.5, 11.2, 10.8, 10.6, 10.3, 10.7, 11.7, 9.7, 9.7, 9.7, 9.5, 9.9, 9.7, 10.4, 9.7, 10.0, 9.5, 11.4, 9.3, 11.3, 9.7, 10.6, 10.8, 10.5, 9.4, 9.6, 9.9, 11.2, 9.3, 9.8, 10.2, 10.5, 12.0, 9.4, 9.9, 13.6, 9.9, 9.2, 9.9, 8.4, 10.6, 10.2, 9.5, 10.8, 11.3, 9.7, 11.0, 9.4, 12.7, 10.2, 11.0, 10.4, 10.3, 9.9, 11.0, 10.6, 11.3, 10.2, 12.5, 9.1, 12.0, 9.6, 9.8, 11.1, 10.2, 12.8, 10.3, 9.5, 9.6, 11.4, 11.9, 9.9, 9.8, 9.4, 11.9, 9.6, 10.2, 9.8, 11.0, 11.0, 9.2, 12.1, 10.0, 11.1, 10.7, 12.6, 10.5, 10.0, 10.5, 10.8, 10.4, 12.0, 9.6], \"y\": [0.51, 0.71, 0.57, 0.58, 0.56, 0.64, 0.8, 0.52, 0.87, 0.75, 0.62, 0.59, 0.74, 0.58, 0.71, 0.58, 0.68, 0.72, 0.75, 0.46, 0.9, 0.62, 0.52, 0.52, 0.77, 0.63, 0.49, 0.46, 0.5, 0.76, 0.66, 0.62, 0.56, 0.46, 0.72, 0.78, 0.65, 0.91, 0.65, 0.85, 0.77, 0.6, 0.71, 0.79, 0.5, 0.63, 0.66, 0.93, 0.48, 0.62, 0.62, 0.62, 0.63, 0.54, 0.42, 0.61, 0.8, 0.58, 0.57, 0.66, 0.86, 0.72, 0.62, 0.58, 0.67, 0.56, 0.56, 0.66, 0.56, 0.9, 0.45, 0.63, 0.57, 0.53, 0.96, 0.7, 0.55, 0.57, 0.58, 0.62, 0.77, 0.45, 0.94, 0.63, 0.64, 0.65, 0.82, 0.51, 0.58, 0.57, 0.73, 0.76, 0.48, 0.64, 0.62, 0.7, 0.56, 0.82, 0.8, 0.68, 0.73, 0.58, 0.6, 0.86, 0.82, 0.54, 0.58, 0.57, 0.95, 0.76, 0.63, 0.64, 0.78, 0.83, 0.89, 0.55, 0.66, 0.69, 0.56, 0.77, 0.58, 0.73, 0.81, 1.05, 0.54, 0.61, 0.68, 0.5, 0.56, 0.72, 0.57, 0.7, 0.64, 0.54, 0.43, 0.57, 0.68, 0.97, 0.58, 0.68, 0.6, 0.54, 0.6, 0.54, 0.55, 0.61, 0.61, 0.86, 0.65, 0.53, 0.64, 0.72, 0.46, 0.55, 0.63, 0.59, 0.85, 0.62, 0.64, 0.59, 0.64, 0.53, 0.48, 0.56, 0.92, 0.72, 0.58, 0.58, 0.87, 0.71, 0.81, 0.67, 0.85, 0.66, 0.78, 0.62, 0.67, 0.66, 0.33, 0.59, 0.67, 0.87, 0.59, 0.64, 0.88, 0.75, 0.75, 0.65, 0.68, 0.45, 0.51, 0.54, 0.57, 0.62, 0.64, 0.7, 0.48, 0.45, 0.6, 0.59, 0.63, 0.46, 0.63, 0.54, 0.56, 0.64, 0.52, 0.76, 0.64, 0.57, 0.96, 0.58, 1.17, 0.69, 0.69, 0.51, 0.65, 0.96, 0.82, 1.13, 0.68, 0.58, 0.48, 0.6, 0.85, 0.7, 0.63, 0.62, 0.52, 0.55, 0.65, 0.57, 0.6, 0.54, 0.57, 0.48, 0.66, 0.46, 0.5, 0.81, 0.78, 0.65, 0.6, 0.63, 0.59, 0.53, 0.67, 0.48, 0.73, 0.37, 0.83, 0.44, 0.58, 0.71, 0.54, 0.56, 0.59, 0.66, 0.84, 0.57, 0.66, 0.52, 0.63, 0.43, 0.56, 0.58, 0.48, 0.6, 0.62, 0.82, 0.7, 0.58, 0.57, 0.57, 0.54, 0.49, 0.57, 0.49, 0.67, 0.76, 0.53, 0.66, 0.62, 0.76, 0.7, 0.6, 0.76, 0.68, 0.62, 0.74, 0.5, 0.7, 0.98, 0.8, 0.6, 0.93, 0.87, 0.86, 0.76, 0.7, 0.89, 0.66, 0.66, 0.61, 0.76, 0.79, 1.16, 0.58, 0.59, 1.02, 0.6, 0.81, 0.6, 0.53, 0.68, 0.75, 0.64, 0.44, 0.64, 0.59, 0.57, 0.83, 0.56, 0.63, 0.57, 0.58, 0.63, 0.51, 0.5, 0.58, 0.56, 0.7, 0.47, 0.63, 0.7, 0.58, 0.73, 0.78, 0.63, 0.91, 0.82, 0.72, 0.66, 0.57, 0.66, 0.81, 0.59, 0.77, 0.68, 0.77, 0.56, 0.52, 0.53, 0.59, 0.47, 0.77, 0.64, 0.93, 0.72], \"z\": [5, 6, 5, 5, 6, 6, 7, 5, 6, 6, 6, 5, 5, 7, 7, 5, 7, 7, 6, 4, 6, 6, 6, 6, 7, 8, 5, 6, 5, 7, 6, 6, 5, 6, 6, 5, 6, 6, 6, 6, 7, 6, 6, 5, 6, 5, 6, 6, 5, 6, 5, 5, 6, 5, 5, 6, 6, 6, 5, 6, 7, 6, 6, 6, 6, 7, 6, 6, 5, 6, 5, 6, 5, 5, 6, 6, 7, 5, 5, 5, 6, 5, 5, 5, 6, 8, 6, 6, 6, 4, 6, 7, 5, 5, 7, 6, 5, 6, 7, 5, 5, 5, 5, 4, 6, 6, 5, 4, 6, 7, 7, 6, 5, 6, 7, 6, 5, 5, 6, 7, 5, 6, 5, 7, 6, 6, 6, 6, 6, 6, 5, 5, 5, 6, 5, 5, 5, 6, 7, 5, 6, 6, 5, 5, 5, 5, 5, 6, 6, 5, 6, 4, 5, 5, 6, 5, 7, 5, 5, 6, 4, 6, 5, 5, 7, 6, 5, 6, 6, 5, 6, 5, 7, 6, 6, 6, 7, 6, 4, 5, 5, 7, 6, 6, 5, 6, 7, 5, 5, 5, 6, 5, 4, 5, 5, 8, 5, 5, 5, 7, 5, 5, 5, 6, 5, 5, 5, 7, 5, 6, 6, 5, 5, 5, 6, 4, 5, 6, 8, 7, 6, 5, 5, 6, 7, 5, 6, 5, 6, 5, 6, 4, 5, 5, 5, 6, 6, 5, 5, 6, 5, 6, 5, 6, 6, 5, 7, 5, 6, 5, 6, 5, 6, 6, 3, 6, 5, 5, 7, 3, 5, 5, 6, 4, 5, 5, 4, 4, 6, 7, 6, 6, 6, 5, 5, 5, 7, 5, 5, 6, 5, 6, 6, 6, 6, 6, 6, 5, 6, 7, 5, 6, 6, 5, 6, 6, 5, 6, 6, 5, 6, 6, 7, 5, 7, 6, 6, 5, 6, 7, 6, 6, 6, 5, 6, 6, 7, 5, 6, 5, 5, 6, 6, 6, 6, 5, 5, 5, 5, 7, 6, 7, 5, 5, 4, 6, 6, 5, 5, 6, 6, 6, 5, 5, 6, 6, 6, 7, 5, 6, 5, 5, 6, 5, 5, 6, 5, 6, 5]}],                        {\"legend\": {\"tracegroupgap\": 0}, \"margin\": {\"t\": 60}, \"scene\": {\"domain\": {\"x\": [0.0, 1.0], \"y\": [0.0, 1.0]}, \"xaxis\": {\"title\": {\"text\": \"x\"}}, \"yaxis\": {\"title\": {\"text\": \"y\"}}, \"zaxis\": {\"title\": {\"text\": \"z\"}}}, \"template\": {\"data\": {\"bar\": [{\"error_x\": {\"color\": \"#2a3f5f\"}, \"error_y\": {\"color\": \"#2a3f5f\"}, \"marker\": {\"line\": {\"color\": \"#E5ECF6\", \"width\": 0.5}}, \"type\": \"bar\"}], \"barpolar\": [{\"marker\": {\"line\": {\"color\": \"#E5ECF6\", \"width\": 0.5}}, \"type\": \"barpolar\"}], \"carpet\": [{\"aaxis\": {\"endlinecolor\": \"#2a3f5f\", \"gridcolor\": \"white\", \"linecolor\": \"white\", \"minorgridcolor\": \"white\", \"startlinecolor\": \"#2a3f5f\"}, \"baxis\": {\"endlinecolor\": \"#2a3f5f\", \"gridcolor\": \"white\", \"linecolor\": \"white\", \"minorgridcolor\": \"white\", \"startlinecolor\": \"#2a3f5f\"}, \"type\": \"carpet\"}], \"choropleth\": [{\"colorbar\": {\"outlinewidth\": 0, \"ticks\": \"\"}, \"type\": \"choropleth\"}], \"contour\": [{\"colorbar\": {\"outlinewidth\": 0, \"ticks\": \"\"}, \"colorscale\": [[0.0, \"#0d0887\"], [0.1111111111111111, \"#46039f\"], [0.2222222222222222, \"#7201a8\"], [0.3333333333333333, \"#9c179e\"], [0.4444444444444444, \"#bd3786\"], [0.5555555555555556, \"#d8576b\"], [0.6666666666666666, \"#ed7953\"], [0.7777777777777778, \"#fb9f3a\"], [0.8888888888888888, \"#fdca26\"], [1.0, \"#f0f921\"]], \"type\": \"contour\"}], \"contourcarpet\": [{\"colorbar\": {\"outlinewidth\": 0, \"ticks\": \"\"}, \"type\": \"contourcarpet\"}], \"heatmap\": [{\"colorbar\": {\"outlinewidth\": 0, \"ticks\": \"\"}, \"colorscale\": [[0.0, \"#0d0887\"], [0.1111111111111111, \"#46039f\"], [0.2222222222222222, \"#7201a8\"], [0.3333333333333333, \"#9c179e\"], [0.4444444444444444, \"#bd3786\"], [0.5555555555555556, \"#d8576b\"], [0.6666666666666666, \"#ed7953\"], [0.7777777777777778, \"#fb9f3a\"], [0.8888888888888888, \"#fdca26\"], [1.0, \"#f0f921\"]], \"type\": \"heatmap\"}], \"heatmapgl\": [{\"colorbar\": {\"outlinewidth\": 0, \"ticks\": \"\"}, \"colorscale\": [[0.0, \"#0d0887\"], [0.1111111111111111, \"#46039f\"], [0.2222222222222222, \"#7201a8\"], [0.3333333333333333, \"#9c179e\"], [0.4444444444444444, \"#bd3786\"], [0.5555555555555556, \"#d8576b\"], [0.6666666666666666, \"#ed7953\"], [0.7777777777777778, \"#fb9f3a\"], [0.8888888888888888, \"#fdca26\"], [1.0, \"#f0f921\"]], \"type\": \"heatmapgl\"}], \"histogram\": [{\"marker\": {\"colorbar\": {\"outlinewidth\": 0, \"ticks\": \"\"}}, \"type\": \"histogram\"}], \"histogram2d\": [{\"colorbar\": {\"outlinewidth\": 0, \"ticks\": \"\"}, \"colorscale\": [[0.0, \"#0d0887\"], [0.1111111111111111, \"#46039f\"], [0.2222222222222222, \"#7201a8\"], [0.3333333333333333, \"#9c179e\"], [0.4444444444444444, \"#bd3786\"], [0.5555555555555556, \"#d8576b\"], [0.6666666666666666, \"#ed7953\"], [0.7777777777777778, \"#fb9f3a\"], [0.8888888888888888, \"#fdca26\"], [1.0, \"#f0f921\"]], \"type\": \"histogram2d\"}], \"histogram2dcontour\": [{\"colorbar\": {\"outlinewidth\": 0, \"ticks\": \"\"}, \"colorscale\": [[0.0, \"#0d0887\"], [0.1111111111111111, \"#46039f\"], [0.2222222222222222, \"#7201a8\"], [0.3333333333333333, \"#9c179e\"], [0.4444444444444444, \"#bd3786\"], [0.5555555555555556, \"#d8576b\"], [0.6666666666666666, \"#ed7953\"], [0.7777777777777778, \"#fb9f3a\"], [0.8888888888888888, \"#fdca26\"], [1.0, \"#f0f921\"]], \"type\": \"histogram2dcontour\"}], \"mesh3d\": [{\"colorbar\": {\"outlinewidth\": 0, \"ticks\": \"\"}, \"type\": \"mesh3d\"}], \"parcoords\": [{\"line\": {\"colorbar\": {\"outlinewidth\": 0, \"ticks\": \"\"}}, \"type\": \"parcoords\"}], \"pie\": [{\"automargin\": true, \"type\": \"pie\"}], \"scatter\": [{\"marker\": {\"colorbar\": {\"outlinewidth\": 0, \"ticks\": \"\"}}, \"type\": \"scatter\"}], \"scatter3d\": [{\"line\": {\"colorbar\": {\"outlinewidth\": 0, \"ticks\": \"\"}}, \"marker\": {\"colorbar\": {\"outlinewidth\": 0, \"ticks\": \"\"}}, \"type\": \"scatter3d\"}], \"scattercarpet\": [{\"marker\": {\"colorbar\": {\"outlinewidth\": 0, \"ticks\": \"\"}}, \"type\": \"scattercarpet\"}], \"scattergeo\": [{\"marker\": {\"colorbar\": {\"outlinewidth\": 0, \"ticks\": \"\"}}, \"type\": \"scattergeo\"}], \"scattergl\": [{\"marker\": {\"colorbar\": {\"outlinewidth\": 0, \"ticks\": \"\"}}, \"type\": \"scattergl\"}], \"scattermapbox\": [{\"marker\": {\"colorbar\": {\"outlinewidth\": 0, \"ticks\": \"\"}}, \"type\": \"scattermapbox\"}], \"scatterpolar\": [{\"marker\": {\"colorbar\": {\"outlinewidth\": 0, \"ticks\": \"\"}}, \"type\": \"scatterpolar\"}], \"scatterpolargl\": [{\"marker\": {\"colorbar\": {\"outlinewidth\": 0, \"ticks\": \"\"}}, \"type\": \"scatterpolargl\"}], \"scatterternary\": [{\"marker\": {\"colorbar\": {\"outlinewidth\": 0, \"ticks\": \"\"}}, \"type\": \"scatterternary\"}], \"surface\": [{\"colorbar\": {\"outlinewidth\": 0, \"ticks\": \"\"}, \"colorscale\": [[0.0, \"#0d0887\"], [0.1111111111111111, \"#46039f\"], [0.2222222222222222, \"#7201a8\"], [0.3333333333333333, \"#9c179e\"], [0.4444444444444444, \"#bd3786\"], [0.5555555555555556, \"#d8576b\"], [0.6666666666666666, \"#ed7953\"], [0.7777777777777778, \"#fb9f3a\"], [0.8888888888888888, \"#fdca26\"], [1.0, \"#f0f921\"]], \"type\": \"surface\"}], \"table\": [{\"cells\": {\"fill\": {\"color\": \"#EBF0F8\"}, \"line\": {\"color\": \"white\"}}, \"header\": {\"fill\": {\"color\": \"#C8D4E3\"}, \"line\": {\"color\": \"white\"}}, \"type\": \"table\"}]}, \"layout\": {\"annotationdefaults\": {\"arrowcolor\": \"#2a3f5f\", \"arrowhead\": 0, \"arrowwidth\": 1}, \"autotypenumbers\": \"strict\", \"coloraxis\": {\"colorbar\": {\"outlinewidth\": 0, \"ticks\": \"\"}}, \"colorscale\": {\"diverging\": [[0, \"#8e0152\"], [0.1, \"#c51b7d\"], [0.2, \"#de77ae\"], [0.3, \"#f1b6da\"], [0.4, \"#fde0ef\"], [0.5, \"#f7f7f7\"], [0.6, \"#e6f5d0\"], [0.7, \"#b8e186\"], [0.8, \"#7fbc41\"], [0.9, \"#4d9221\"], [1, \"#276419\"]], \"sequential\": [[0.0, \"#0d0887\"], [0.1111111111111111, \"#46039f\"], [0.2222222222222222, \"#7201a8\"], [0.3333333333333333, \"#9c179e\"], [0.4444444444444444, \"#bd3786\"], [0.5555555555555556, \"#d8576b\"], [0.6666666666666666, \"#ed7953\"], [0.7777777777777778, \"#fb9f3a\"], [0.8888888888888888, \"#fdca26\"], [1.0, \"#f0f921\"]], \"sequentialminus\": [[0.0, \"#0d0887\"], [0.1111111111111111, \"#46039f\"], [0.2222222222222222, \"#7201a8\"], [0.3333333333333333, \"#9c179e\"], [0.4444444444444444, \"#bd3786\"], [0.5555555555555556, \"#d8576b\"], [0.6666666666666666, \"#ed7953\"], [0.7777777777777778, \"#fb9f3a\"], [0.8888888888888888, \"#fdca26\"], [1.0, \"#f0f921\"]]}, \"colorway\": [\"#636efa\", \"#EF553B\", \"#00cc96\", \"#ab63fa\", \"#FFA15A\", \"#19d3f3\", \"#FF6692\", \"#B6E880\", \"#FF97FF\", \"#FECB52\"], \"font\": {\"color\": \"#2a3f5f\"}, \"geo\": {\"bgcolor\": \"white\", \"lakecolor\": \"white\", \"landcolor\": \"#E5ECF6\", \"showlakes\": true, \"showland\": true, \"subunitcolor\": \"white\"}, \"hoverlabel\": {\"align\": \"left\"}, \"hovermode\": \"closest\", \"mapbox\": {\"style\": \"light\"}, \"paper_bgcolor\": \"white\", \"plot_bgcolor\": \"#E5ECF6\", \"polar\": {\"angularaxis\": {\"gridcolor\": \"white\", \"linecolor\": \"white\", \"ticks\": \"\"}, \"bgcolor\": \"#E5ECF6\", \"radialaxis\": {\"gridcolor\": \"white\", \"linecolor\": \"white\", \"ticks\": \"\"}}, \"scene\": {\"xaxis\": {\"backgroundcolor\": \"#E5ECF6\", \"gridcolor\": \"white\", \"gridwidth\": 2, \"linecolor\": \"white\", \"showbackground\": true, \"ticks\": \"\", \"zerolinecolor\": \"white\"}, \"yaxis\": {\"backgroundcolor\": \"#E5ECF6\", \"gridcolor\": \"white\", \"gridwidth\": 2, \"linecolor\": \"white\", \"showbackground\": true, \"ticks\": \"\", \"zerolinecolor\": \"white\"}, \"zaxis\": {\"backgroundcolor\": \"#E5ECF6\", \"gridcolor\": \"white\", \"gridwidth\": 2, \"linecolor\": \"white\", \"showbackground\": true, \"ticks\": \"\", \"zerolinecolor\": \"white\"}}, \"shapedefaults\": {\"line\": {\"color\": \"#2a3f5f\"}}, \"ternary\": {\"aaxis\": {\"gridcolor\": \"white\", \"linecolor\": \"white\", \"ticks\": \"\"}, \"baxis\": {\"gridcolor\": \"white\", \"linecolor\": \"white\", \"ticks\": \"\"}, \"bgcolor\": \"#E5ECF6\", \"caxis\": {\"gridcolor\": \"white\", \"linecolor\": \"white\", \"ticks\": \"\"}}, \"title\": {\"x\": 0.05}, \"xaxis\": {\"automargin\": true, \"gridcolor\": \"white\", \"linecolor\": \"white\", \"ticks\": \"\", \"title\": {\"standoff\": 15}, \"zerolinecolor\": \"white\", \"zerolinewidth\": 2}, \"yaxis\": {\"automargin\": true, \"gridcolor\": \"white\", \"linecolor\": \"white\", \"ticks\": \"\", \"title\": {\"standoff\": 15}, \"zerolinecolor\": \"white\", \"zerolinewidth\": 2}}}},                        {\"responsive\": true}                    ).then(function(){\n",
       "                            \n",
       "var gd = document.getElementById('7e8389df-ae48-4de7-8f9a-7221df9fea8c');\n",
       "var x = new MutationObserver(function (mutations, observer) {{\n",
       "        var display = window.getComputedStyle(gd).display;\n",
       "        if (!display || display === 'none') {{\n",
       "            console.log([gd, 'removed!']);\n",
       "            Plotly.purge(gd);\n",
       "            observer.disconnect();\n",
       "        }}\n",
       "}});\n",
       "\n",
       "// Listen for the removal of the full notebook cells\n",
       "var notebookContainer = gd.closest('#notebook-container');\n",
       "if (notebookContainer) {{\n",
       "    x.observe(notebookContainer, {childList: true});\n",
       "}}\n",
       "\n",
       "// Listen for the clearing of the current output cell\n",
       "var outputEl = gd.closest('.output');\n",
       "if (outputEl) {{\n",
       "    x.observe(outputEl, {childList: true});\n",
       "}}\n",
       "\n",
       "                        })                };                });            </script>        </div>"
      ]
     },
     "metadata": {},
     "output_type": "display_data"
    }
   ],
   "source": [
    "px.scatter_3d(x=X_test_red['alcohol'], y=X_test_red['sulphates'], z=y_test_red)"
   ]
  },
  {
   "cell_type": "markdown",
   "id": "f8ae3f9e",
   "metadata": {},
   "source": [
    "<h3>Conclusion first model</h3>"
   ]
  },
  {
   "cell_type": "markdown",
   "id": "67688992",
   "metadata": {},
   "source": [
    "Conclusion to be added. First model requires more tuning and adjusting before a final conclusion"
   ]
  }
 ],
 "metadata": {
  "kernelspec": {
   "display_name": "Python 3",
   "language": "python",
   "name": "python3"
  },
  "language_info": {
   "codemirror_mode": {
    "name": "ipython",
    "version": 3
   },
   "file_extension": ".py",
   "mimetype": "text/x-python",
   "name": "python",
   "nbconvert_exporter": "python",
   "pygments_lexer": "ipython3",
   "version": "3.9.0"
  }
 },
 "nbformat": 4,
 "nbformat_minor": 5
}
