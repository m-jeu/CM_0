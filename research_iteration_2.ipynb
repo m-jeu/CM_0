{
 "cells": [
  {
   "cell_type": "markdown",
   "id": "837436ab",
   "metadata": {},
   "source": [
    "<h1> Research iteration 2</h1>\n",
    "\n",
    "<i>Joël Boafo, Sjoerd Beetsma, Maarten de Jeu\n",
    "Class V2A - Group 5</i>"
   ]
  },
  {
   "cell_type": "markdown",
   "id": "ac2cbadc",
   "metadata": {},
   "source": [
    "<h2>Business Understanding</h2>\n",
    "\n",
    "Through the business, we have been asked to examine the following questions:\n",
    "\n",
    "<ol>\n",
    "<li>\n",
    "With what accuracy can we decide the quality of a red-wine according to its chemical properties.\n",
    "</li>\n",
    "<li>Can we predict a wine's quality based on it's country origin</li>\n",
    "<li>-.</li>\n",
    "</ol>\n"
   ]
  },
  {
   "cell_type": "markdown",
   "id": "ea45ad40",
   "metadata": {},
   "source": [
    "<h2> Data Understanding </h2>\n",
    "\n",
    "The dataset for the first research question is aquired from https://archive.ics.uci.edu/ml/datasets/wine+quality along a dataset about red-wine there is also a dataset about white-wine lets explore both for possible research-questions in the future.\n",
    "\n",
    "The business tells us the variables in the chemical datasets are:<br />\n",
    "\n",
    "1 - fixed acidity <br />\n",
    "2 - volatile acidity <br />\n",
    "3 - citric acid <br />\n",
    "4 - residual sugar <br />\n",
    "5 - chlorides <br />\n",
    "6 - free sulfur dioxide <br />\n",
    "7 - total sulfur dioxide <br />\n",
    "8 - density <br />\n",
    "9 - pH <br />\n",
    "10 - sulphates <br />\n",
    "11 - alcohol <br />\n",
    "12 - quality (score between 0 and 10, based on sensory data) <br />\n",
    "\n",
    "The business also let us now that they don't know if all variables are relevant in deciding the quality score of a wine.\n",
    "\n",
    "For the second research question we aquired the dataset from ...\n",
    "The business told us the dataset has the following variables:\n",
    "\n",
    "1 - country<br/>\n",
    "2 - description<br/>\n",
    "3 - designation<br/>\n",
    "4 - points<br/>\n",
    "5 - price<br/>\n",
    "6 - province <br/>\n",
    "7 - region_1<br/>\n",
    "8 - region_2<br/>\n",
    "9 - taster_name<br/>\n",
    "10 - taster_twitter_handle<br/>\n",
    "11 - title <br/>\n",
    "12 - variety<br/>\n",
    "13 - winery<br/>"
   ]
  },
  {
   "cell_type": "markdown",
   "id": "59e40312",
   "metadata": {},
   "source": [
    "We import some libraries and the dataset to examine the data through code."
   ]
  },
  {
   "cell_type": "code",
   "execution_count": null,
   "id": "b198f507",
   "metadata": {},
   "outputs": [],
   "source": [
    "import numpy as np\n",
    "import pandas as pd\n",
    "import sklearn as sk\n",
    "from sklearn import preprocessing\n",
    "\n",
    "import matplotlib.pyplot as plt\n",
    "import seaborn as sns\n",
    "%matplotlib inline"
   ]
  },
  {
   "cell_type": "markdown",
   "id": "126710ed",
   "metadata": {},
   "source": [
    "Load in both red and white wine datasets"
   ]
  },
  {
   "cell_type": "code",
   "execution_count": null,
   "id": "a5c7e7b7",
   "metadata": {},
   "outputs": [],
   "source": [
    "dataset_red = pd.read_csv(\"datasets/winequality-red.csv\", sep=\";\")\n",
    "dataset_white = pd.read_csv(\"datasets/winequality-white.csv\", sep=\";\")\n",
    "dfReviews = pd.read_csv(\"datasets/winemag-data-130k-v2.csv\")"
   ]
  },
  {
   "cell_type": "markdown",
   "id": "d1cbcc63",
   "metadata": {},
   "source": [
    "A first look at the wine review dataset"
   ]
  },
  {
   "cell_type": "code",
   "execution_count": null,
   "id": "056ac23a",
   "metadata": {},
   "outputs": [],
   "source": [
    "dfReviews.head(5)"
   ]
  },
  {
   "cell_type": "markdown",
   "id": "976bbef0",
   "metadata": {},
   "source": [
    "At first glance we can see a wide range of countries and regions. It will be interesting to see if we can find a link between the assigned points of the wine, and where it's from."
   ]
  },
  {
   "cell_type": "markdown",
   "id": "193babcb",
   "metadata": {},
   "source": [
    "Lets take the head of one of the chemical property datasets to have a first look at the submissions of the data."
   ]
  },
  {
   "cell_type": "code",
   "execution_count": null,
   "id": "6f2b77e6",
   "metadata": {},
   "outputs": [],
   "source": [
    "dataset_red.head()"
   ]
  },
  {
   "cell_type": "markdown",
   "id": "cb5c946f",
   "metadata": {},
   "source": [
    "As described by the business each row seems to correspond with a individual wine with eleven different columns describing chemical properties and one column which represents the quality score of the wine.\n",
    "\n",
    "Lets see howmuch raw-data we have through the shapes of the datasets before we do any more exploration."
   ]
  },
  {
   "cell_type": "code",
   "execution_count": null,
   "id": "ffa2d574",
   "metadata": {},
   "outputs": [],
   "source": [
    "red_rows, red_columns = dataset_red.shape\n",
    "white_rows, white_columns = dataset_white.shape\n",
    "reviews_rows, reviews_columns = dfReviews.shape\n",
    "\n",
    "print(f'The red-wine quality dataset contains {red_rows} rows and {red_columns} columns')\n",
    "print(f'The white-wine quality dataset contains {white_rows} rows and {white_columns} columns')\n",
    "print(f'The wine-review dataset contains {reviews_rows} rows and {reviews_columns} columns')"
   ]
  },
  {
   "cell_type": "markdown",
   "id": "80b3d190",
   "metadata": {},
   "source": [
    "Lets change the column name white spaces to underscores to make life easier."
   ]
  },
  {
   "cell_type": "code",
   "execution_count": null,
   "id": "5a78400c",
   "metadata": {},
   "outputs": [],
   "source": [
    "dataset_red.columns = dataset_red.columns.str.replace(' ','_')\n",
    "dataset_white.columns = dataset_white.columns.str.replace(' ','_')\n",
    "\n",
    "dataset_red.head(0)"
   ]
  },
  {
   "cell_type": "markdown",
   "id": "b1de320c",
   "metadata": {},
   "source": [
    "<h3>Target and feature variables</h3>\n",
    "\n",
    "All the columns describing chemical properties will be considerd as a feature variable and the column quality represents the target variable, the variable we want to predict.\n",
    "Lets safe them in a variables for later use."
   ]
  },
  {
   "cell_type": "code",
   "execution_count": null,
   "id": "cd5511e7",
   "metadata": {},
   "outputs": [],
   "source": [
    "feature_vars = ['fixed_acidity', 'volatile_acidity', 'citric_acid', 'residual_sugar', 'chlorides', 'free_sulfur_dioxide', 'total_sulfur_dioxide', 'density', 'pH', 'sulphates', 'alcohol'] \n",
    "target_var = 'quality'"
   ]
  },
  {
   "cell_type": "markdown",
   "id": "a07f52c8",
   "metadata": {},
   "source": [
    "All the columns describing the origin of the wine and the category will be considered as a feature variable. The column 'points' represents the target variable we want to predict.\n",
    "We will also store them in variables"
   ]
  },
  {
   "cell_type": "code",
   "execution_count": null,
   "id": "526fb9c3",
   "metadata": {},
   "outputs": [],
   "source": [
    "\n",
    "feature_vars_reviews = ['country','designation', 'price','province','region_1','region_2','variety','winery']\n",
    "target_var_reviews = ['points']\n",
    "feature_target_vars_reviews = ['country','designation', 'price','province','region_1','region_2','variety','winery','points']"
   ]
  },
  {
   "cell_type": "markdown",
   "id": "f694a27e",
   "metadata": {},
   "source": [
    "<h3> Scales of measurements </h3>\n",
    "\n",
    "To choose a appropiate model for our research-questions and available data it's necessary to have a understanding of all the scales of measurements for the target and feature variables."
   ]
  },
  {
   "cell_type": "code",
   "execution_count": null,
   "id": "792898fe",
   "metadata": {},
   "outputs": [],
   "source": [
    "nomi, disc, ordi, cont = 'Nominal', 'Discrete', 'Ordinal','Continous'\n",
    "print('Scales of measurement chemical properties datasets')\n",
    "pd.DataFrame(index=dataset_red.columns, data=[cont for i in range(11)] + [disc], columns=['Scale_of_measurement'])"
   ]
  },
  {
   "cell_type": "markdown",
   "id": "488508a6",
   "metadata": {},
   "source": [
    "As can be seen all the chemical properties (feature variables) have continous scale of measurement and the target variable, quality has a Discrete scale of measurement."
   ]
  },
  {
   "cell_type": "code",
   "execution_count": null,
   "id": "6dc0a488",
   "metadata": {},
   "outputs": [],
   "source": [
    "var_scale = [nomi,nomi,cont,nomi,nomi,nomi,nomi,nomi,disc]\n",
    "measurement_scales = pd.DataFrame(index=dfReviews[feature_target_vars_reviews].columns, data =var_scale, columns =['Scale_of_measurement'])\n",
    "print('Scales of measurement wine-review dataset')\n",
    "measurement_scales"
   ]
  },
  {
   "cell_type": "markdown",
   "id": "f8d151f3",
   "metadata": {},
   "source": [
    "Above we can see that most of the feature variables are nominal, with the exception bein price which is continious. Our target variable is discrete."
   ]
  },
  {
   "cell_type": "markdown",
   "id": "435838e9",
   "metadata": {},
   "source": [
    "<h3>Central tendancies and dispersion measures</h3>\n",
    "\n",
    "From the central tendancies and dispersion measures we can see some useful statistics about the target and feature variables."
   ]
  },
  {
   "cell_type": "code",
   "execution_count": null,
   "id": "260cd772",
   "metadata": {
    "scrolled": false
   },
   "outputs": [],
   "source": [
    "dataset_red.describe().round(2)"
   ]
  },
  {
   "cell_type": "markdown",
   "id": "6c251f48",
   "metadata": {},
   "source": [
    "From the describe we can tell that there are quite a few columns with a big difference between maximum and minimum values which indicate outliers.\n",
    "\n",
    "The columns with big differences between max and min values:\n",
    "Residual_sugar, chlorides, free_sulfur_dioxide ,total_sulfur_dioxide."
   ]
  },
  {
   "cell_type": "code",
   "execution_count": null,
   "id": "716a1ce3",
   "metadata": {
    "scrolled": true
   },
   "outputs": [],
   "source": [
    "dataset_white.describe().round(2)"
   ]
  },
  {
   "cell_type": "markdown",
   "id": "2ad7bd21",
   "metadata": {},
   "source": [
    "Just like the red-wine dataset, the white-wine dataset has similair differences in maximum and minimum values."
   ]
  },
  {
   "cell_type": "markdown",
   "id": "6a645879",
   "metadata": {},
   "source": [
    "<h3>Distribution of data</h3>\n"
   ]
  },
  {
   "cell_type": "markdown",
   "id": "f0e70c2a",
   "metadata": {},
   "source": [
    "Lets take a more visual look at the distribution of all data through a histogram for each of the feature and target attributes."
   ]
  },
  {
   "cell_type": "markdown",
   "id": "8673bdc4",
   "metadata": {},
   "source": [
    "Starting off with the red wine dataset"
   ]
  },
  {
   "cell_type": "code",
   "execution_count": null,
   "id": "af007820",
   "metadata": {
    "scrolled": true
   },
   "outputs": [],
   "source": [
    "dataset_red.hist(figsize=(15,15))\n",
    "plt.show()"
   ]
  },
  {
   "cell_type": "markdown",
   "id": "de1b2053",
   "metadata": {},
   "source": [
    "Moving on to the white wine dataset:"
   ]
  },
  {
   "cell_type": "code",
   "execution_count": null,
   "id": "dfc6f51d",
   "metadata": {},
   "outputs": [],
   "source": [
    "dataset_white.hist(figsize=(15,15))\n",
    "plt.show()"
   ]
  },
  {
   "cell_type": "markdown",
   "id": "b7cf04f2",
   "metadata": {},
   "source": [
    "As can been seen in the tables above the quality scores for the red wines range between 3 and 8 with wines with a score of 5 being the most common.\n",
    "The white wines range within a quality of 3 and 9 with the score of 6 being most common."
   ]
  },
  {
   "cell_type": "markdown",
   "id": "13a90b10",
   "metadata": {},
   "source": [
    "<h3>Outliers</h3>\n",
    "\n",
    "To get a visual understanding of the outliers in the feature columns each feature gets a boxplotted with the target variable points. Giving a small summary of the minimum, Q1, Q2 (median), Q3 and the maximum of each attribute plotted against points scored to give a view of outliers at all quality levels."
   ]
  },
  {
   "cell_type": "code",
   "execution_count": null,
   "id": "39d42488",
   "metadata": {},
   "outputs": [],
   "source": [
    "def boxplotter(dataset, y_axes, x_axis):\n",
    "    \"\"\"Function to boxplot 1 x_axis against a list of y_axis of a given dataset\"\"\"\n",
    "    for col in y_axes:\n",
    "        sns.boxplot(x=dataset[x_axis], y=dataset[col])\n",
    "        plt.show()"
   ]
  },
  {
   "cell_type": "markdown",
   "id": "0d68a1e5",
   "metadata": {},
   "source": [
    "First boxplot all the feature variables against the target variable of the red-wine dataset"
   ]
  },
  {
   "cell_type": "code",
   "execution_count": null,
   "id": "93a04dda",
   "metadata": {},
   "outputs": [],
   "source": [
    "boxplotter(dataset=dataset_red, y_axes=feature_vars, x_axis=target_var)"
   ]
  },
  {
   "cell_type": "markdown",
   "id": "61fdda52",
   "metadata": {},
   "source": [
    "Now do the same for the white-wine dataset"
   ]
  },
  {
   "cell_type": "code",
   "execution_count": null,
   "id": "e7475571",
   "metadata": {},
   "outputs": [],
   "source": [
    "boxplotter(dataset=dataset_white, y_axes=feature_vars, x_axis=target_var)"
   ]
  },
  {
   "cell_type": "markdown",
   "id": "b96a0b24",
   "metadata": {},
   "source": [
    "\n",
    "\n",
    "As can be seen from the boxplots all of our current variables contain outliers.\n",
    "\n",
    "All outliers in the above boxplots seem to be plausible and not from incorrect data.\n",
    "From the boxplot with alcohol on the y axis and quality on the x axis we can  see that a trend of a rising median alcohol percentage the higher the quality of the wine."
   ]
  },
  {
   "cell_type": "markdown",
   "id": "79895d99",
   "metadata": {},
   "source": [
    "<h3>Correlations</h3>\n",
    "\n",
    "To help find correlations between variables and indepented/undepented attributes we can make use of a correlation matrix. "
   ]
  },
  {
   "cell_type": "code",
   "execution_count": null,
   "id": "76f47eb2",
   "metadata": {
    "scrolled": true
   },
   "outputs": [],
   "source": [
    "def corr_matrix_plotter(dataset, title=''):\n",
    "    \"\"\"Return a correlation matrix created using seaborn and matplotlib that for all columns in\n",
    "    a pandas dataframe.\n",
    "\n",
    "    Args:\n",
    "        dataset: Dataset to construct correlation matrix for.\n",
    "        title: Title of the plot.\n",
    "\n",
    "    Returns:\n",
    "        correlation matrix.\"\"\"\n",
    "    corr = dataset.corr()\n",
    "    plt.figure(figsize=(10,7.5))\n",
    "    cmap = sns.diverging_palette(200, 0, as_cmap=True) # color palette as cmap\n",
    "    mask = np.logical_not(np.tril(np.ones_like(corr))) # triangle mask\n",
    "    sns.heatmap(corr, annot=True, mask=mask, cmap = cmap, vmin=-1, vmax=1).set_title(title) # correlation heatmap\n",
    "    plt.show()\n",
    "corr_matrix_plotter(dataset_red, 'red-wine')\n",
    "corr_matrix_plotter(dataset_white, 'white-wine')"
   ]
  },
  {
   "cell_type": "markdown",
   "id": "a122293e",
   "metadata": {},
   "source": [
    "In the correlation matrices graphed above you can see which attributes have a correlation to other attributes. Starting with our target variable 'quality', we can see quality has a few correlations with the strongest one being alcohol for both red and white wines and a few weaker ones like volatile acidity, sulphates and citric acid for red wines and density and chloride for white wines. Because quality is our target variable it's the indepented attribute in the correlations.\n",
    "\n",
    "Besides there are some corelations among chemical properties:\n",
    "Fixed acidity has strong correlation with pH, but it’s still an independent type. pH However is a dependent type; it depends on the former. Volatile acidity, residual sugar, sulphates, chlorides, and density are all independent data types. Total sulfur dioxide is dependent on free sulfur dioxide, but free sulfur dioxide is independent."
   ]
  },
  {
   "cell_type": "markdown",
   "id": "7fb5b259",
   "metadata": {},
   "source": [
    "For the review dataset we check the direct correlation between price and point in a scatterplot. Since these are our only numeric values in de dataset."
   ]
  },
  {
   "cell_type": "code",
   "execution_count": null,
   "id": "19b0ae21",
   "metadata": {},
   "outputs": [],
   "source": [
    "corr = dfReviews[feature_target_vars_reviews].corr()\n",
    "plt.figure(figsize=(10,7.5))\n",
    "sns.scatterplot(data = dfReviews, x='points', y='price')\n",
    "plt.show()"
   ]
  },
  {
   "cell_type": "code",
   "execution_count": null,
   "id": "46ac0254",
   "metadata": {},
   "outputs": [],
   "source": [
    "corr.round(2)"
   ]
  },
  {
   "cell_type": "markdown",
   "id": "01da1bd7",
   "metadata": {},
   "source": [
    "In the scatterplot above we can see some interesting findings. If we look at the price between the 500 and 100 it's very difficult to find a wine with points lower than 90. There are ofcourse plenty of wines that score 90 or higher that are below the 500 price mark, but the chance of finding one below 90 is also a lot higher. From this graph we find out that most of the time, the higher you go in price, the more sure you can be of the quality. an interesting finding to take into our model. The correlating number is 0.42 which means there certainly is some form of correlation."
   ]
  },
  {
   "cell_type": "markdown",
   "id": "527e1a65",
   "metadata": {},
   "source": [
    "<h3>Data Preparation</h3>"
   ]
  },
  {
   "cell_type": "markdown",
   "id": "a8c720bd",
   "metadata": {},
   "source": [
    "Lets start of the data preparation by checking the datatypes and clean or change them if necessary."
   ]
  },
  {
   "cell_type": "markdown",
   "id": "29c1b2b5",
   "metadata": {},
   "source": [
    "Red-wine quality datatypes:"
   ]
  },
  {
   "cell_type": "code",
   "execution_count": null,
   "id": "f9ffc971",
   "metadata": {},
   "outputs": [],
   "source": [
    "dataset_red.dtypes"
   ]
  },
  {
   "cell_type": "markdown",
   "id": "4489a509",
   "metadata": {},
   "source": [
    "White-wine quality datatypes:"
   ]
  },
  {
   "cell_type": "code",
   "execution_count": null,
   "id": "f7362924",
   "metadata": {},
   "outputs": [],
   "source": [
    "dataset_white.dtypes"
   ]
  },
  {
   "cell_type": "markdown",
   "id": "0c0aac91",
   "metadata": {},
   "source": [
    "The data-types of both red and white wine datasets have the same datatypes and each of the feature variables seem of the correct type.\n",
    "Because we want to work with a classifier algorithm we will consider the quality as a categorical value since it also has few possible outcomes."
   ]
  },
  {
   "cell_type": "code",
   "execution_count": null,
   "id": "98a568a9",
   "metadata": {},
   "outputs": [],
   "source": [
    "dataset_red[[target_var]] = dataset_red[target_var].astype(\"category\")\n",
    "dataset_white[[target_var]] = dataset_white[target_var].astype(\"category\")"
   ]
  },
  {
   "cell_type": "markdown",
   "id": "f703501d",
   "metadata": {},
   "source": [
    "We can now move on to checking and removing any NA values in the datasets."
   ]
  },
  {
   "cell_type": "code",
   "execution_count": null,
   "id": "11665efa",
   "metadata": {},
   "outputs": [],
   "source": [
    "pd.isna(dataset_red).sum().sum() # checking for total NA values in red_wine"
   ]
  },
  {
   "cell_type": "code",
   "execution_count": null,
   "id": "d255811f",
   "metadata": {},
   "outputs": [],
   "source": [
    "pd.isna(dataset_white).sum().sum() # checking for total NA values in white_wine"
   ]
  },
  {
   "cell_type": "markdown",
   "id": "560a07fa",
   "metadata": {},
   "source": [
    "Lets start of by removing all extreme the outliers leaving the mild ones in the dataset with a outer fence:"
   ]
  },
  {
   "cell_type": "code",
   "execution_count": null,
   "id": "ab14975a",
   "metadata": {},
   "outputs": [],
   "source": [
    "def remove_outliers(dataset, fence = 3):\n",
    "    q1 = dataset.quantile(.25)\n",
    "    q3 = dataset.quantile(.75)\n",
    "    iqr = q3 - q1\n",
    "    return dataset[(dataset >= q1 - (fence * iqr)) & (dataset <= q3 + (fence * iqr))].dropna() # turn extreme outliers into NaN values and drop the rows"
   ]
  },
  {
   "cell_type": "markdown",
   "id": "ae470263",
   "metadata": {},
   "source": [
    "The red-wine dataset contained 1599 rows and the white-wine 4898 before removing the outliers lets remove the outliers and check howmany are left."
   ]
  },
  {
   "cell_type": "code",
   "execution_count": null,
   "id": "fe428d77",
   "metadata": {},
   "outputs": [],
   "source": [
    "dataset_red = remove_outliers(dataset_red)\n",
    "dataset_white = remove_outliers(dataset_white)"
   ]
  },
  {
   "cell_type": "code",
   "execution_count": null,
   "id": "abd11941",
   "metadata": {},
   "outputs": [],
   "source": [
    "dataset_red.shape, dataset_white.shape"
   ]
  },
  {
   "cell_type": "markdown",
   "id": "480d6367",
   "metadata": {},
   "source": [
    "There are still 1435 rows left which means 12% of the columns contained outliers. With 88% still left there will be enough data to construct a model. \n",
    "There is roughly still 88% of the red-wine data left and 96% of the white-wine data after removing the extreme outliers that lay 3+ IQR above Q3 or 3+ IQR below Q1."
   ]
  },
  {
   "cell_type": "markdown",
   "id": "f9717c81",
   "metadata": {},
   "source": [
    "<h3>Normalizing data</h3>\n",
    "\n",
    "Many algorithms used for making a prediction model work more efficient with normalized data. We can normalize the whole dataset into a new dataframe to acces normalized data from."
   ]
  },
  {
   "cell_type": "code",
   "execution_count": null,
   "id": "1efb0696",
   "metadata": {},
   "outputs": [],
   "source": [
    "def normalizer(dataset):\n",
    "    scaler = sk.preprocessing.StandardScaler().fit(dataset)\n",
    "    return pd.DataFrame((scaler.transform(dataset)), columns=dataset.columns)"
   ]
  },
  {
   "cell_type": "code",
   "execution_count": null,
   "id": "2da8a8a9",
   "metadata": {},
   "outputs": [],
   "source": [
    "normalized_dataset_red = normalizer(dataset_red)\n",
    "normalized_dataset_white = normalizer(dataset_white)"
   ]
  },
  {
   "cell_type": "code",
   "execution_count": null,
   "id": "7d6531cc",
   "metadata": {
    "scrolled": true
   },
   "outputs": [],
   "source": [
    "normalized_dataset_red.head()"
   ]
  },
  {
   "cell_type": "markdown",
   "id": "cfbeef0a",
   "metadata": {},
   "source": [
    "<h3>Data cleaned</h3>\n",
    "\n",
    "The red and white wine chemicalproperty datasets got cleaned by removing all extreme outliers in the datasets and creating a normalized copy of both datasets."
   ]
  },
  {
   "cell_type": "code",
   "execution_count": null,
   "id": "44841159",
   "metadata": {},
   "outputs": [],
   "source": []
  }
 ],
 "metadata": {
  "kernelspec": {
   "display_name": "Python 3",
   "language": "python",
   "name": "python3"
  },
  "language_info": {
   "codemirror_mode": {
    "name": "ipython",
    "version": 3
   },
   "file_extension": ".py",
   "mimetype": "text/x-python",
   "name": "python",
   "nbconvert_exporter": "python",
   "pygments_lexer": "ipython3",
   "version": "3.9.1"
  }
 },
 "nbformat": 4,
 "nbformat_minor": 5
}
