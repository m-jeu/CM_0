{
 "cells": [
  {
   "cell_type": "markdown",
   "source": "<h1> Research iteration 2</h1>\n\n<i>Joël Boafo, Sjoerd Beetsma, Maarten de Jeu\nClass V2A - Group 5</i>",
   "metadata": {
    "cell_id": "00000-95953b89-f5a6-4f73-965a-4a31d80e5428",
    "deepnote_cell_type": "markdown"
   }
  },
  {
   "cell_type": "markdown",
   "source": "<h2>Business Understanding</h2>\n\nThrough the business, we have been asked to examine the following questions:\n\n<ol>\n<li>\nWith what accuracy can we decide the quality of a red-wine according to its chemical properties.\n</li>\n<li>Can we predict a wine's quality based on it's country origin</li>\n<li>-.</li>\n</ol>\n",
   "metadata": {
    "cell_id": "00001-ff223928-7b80-47ce-af35-67479001c183",
    "deepnote_cell_type": "markdown"
   }
  },
  {
   "cell_type": "markdown",
   "source": "<h2> Data Understanding: Research question 1. </h2>\n\nThe dataset for the first research question is aquired from https://archive.ics.uci.edu/ml/datasets/wine+quality along a dataset about red-wine there is also a dataset about white-wine lets explore both for possible research-questions in the future.\n\nThe business tells us the variables in the chemical datasets are:<br />\n\n1 - fixed acidity <br />\n2 - volatile acidity <br />\n3 - citric acid <br />\n4 - residual sugar <br />\n5 - chlorides <br />\n6 - free sulfur dioxide <br />\n7 - total sulfur dioxide <br />\n8 - density <br />\n9 - pH <br />\n10 - sulphates <br />\n11 - alcohol <br />\n12 - quality (score between 0 and 10, based on sensory data) <br />\n\nThe business also let us now that they don't know if all variables are relevant in deciding the quality score of a wine.\n\nFor the second research question we aquired the dataset from ...\nThe business told us the dataset has the following variables:\n\n1 - country<br/>\n2 - description<br/>\n3 - designation<br/>\n4 - points<br/>\n5 - price<br/>\n6 - province <br/>\n7 - region_1<br/>\n8 - region_2<br/>\n9 - taster_name<br/>\n10 - taster_twitter_handle<br/>\n11 - title <br/>\n12 - variety<br/>\n13 - winery<br/>",
   "metadata": {
    "cell_id": "00002-85a63a3e-ad60-406d-b6be-db43d30f0b41",
    "deepnote_cell_type": "markdown"
   }
  },
  {
   "cell_type": "markdown",
   "source": "We import some libraries and the dataset to examine the data through code.",
   "metadata": {
    "cell_id": "00003-283d319a-3896-45c6-ace7-b62828724b1b",
    "deepnote_cell_type": "markdown"
   }
  },
  {
   "cell_type": "code",
   "metadata": {
    "cell_id": "00004-ea8bff85-8cf9-4701-ac1f-43b8ec004613",
    "deepnote_to_be_reexecuted": false,
    "source_hash": "8754699b",
    "execution_start": 1633699841893,
    "execution_millis": 2716,
    "deepnote_cell_type": "code"
   },
   "source": "import numpy as np\nimport pandas as pd\nimport sklearn as sk\nfrom sklearn import preprocessing\nfrom sklearn.skl.model_selection import train_test_split\n\n\nimport matplotlib.pyplot as plt\nimport seaborn as sns\n%matplotlib inline",
   "outputs": [
    {
     "output_type": "error",
     "ename": "KernelInterrupted",
     "evalue": "Execution interrupted by the Jupyter kernel.",
     "traceback": [
      "\u001b[0;31m---------------------------------------------------------------------------\u001b[0m",
      "\u001b[0;31mKernelInterrupted\u001b[0m: Execution interrupted by the Jupyter kernel."
     ]
    }
   ],
   "execution_count": null
  },
  {
   "cell_type": "markdown",
   "source": "Load in both red and white wine datasets",
   "metadata": {
    "cell_id": "00005-34379f96-097e-4a83-9d9d-02f9f04e5f6a",
    "deepnote_cell_type": "markdown"
   }
  },
  {
   "cell_type": "code",
   "metadata": {
    "cell_id": "00006-37f797a0-7b61-40ed-aadc-746a04454acb",
    "deepnote_to_be_reexecuted": true,
    "source_hash": "8e4e1978",
    "execution_start": 1633699844614,
    "execution_millis": 22,
    "deepnote_cell_type": "code"
   },
   "source": "dataset_red = pd.read_csv(\"datasets/winequality-red.csv\", sep=\";\")\ndataset_white = pd.read_csv(\"datasets/winequality-white.csv\", sep=\";\")",
   "outputs": [],
   "execution_count": null
  },
  {
   "cell_type": "markdown",
   "source": "Lets take the head of one of the chemical property datasets to have a first look at the submissions of the data.",
   "metadata": {
    "cell_id": "00010-37da042f-c223-4e01-aac3-0dbfe3d08bce",
    "deepnote_cell_type": "markdown"
   }
  },
  {
   "cell_type": "code",
   "metadata": {
    "cell_id": "00011-6e807982-8cbd-4018-8021-38cf7694a982",
    "deepnote_to_be_reexecuted": true,
    "source_hash": "24abff32",
    "execution_start": 1633699844683,
    "execution_millis": 54,
    "deepnote_cell_type": "code"
   },
   "source": "dataset_red.head()",
   "outputs": [
    {
     "output_type": "execute_result",
     "execution_count": 3,
     "data": {
      "application/vnd.deepnote.dataframe.v2+json": {
       "row_count": 5,
       "column_count": 12,
       "columns": [
        {
         "name": "fixed acidity",
         "dtype": "float64",
         "stats": {
          "unique_count": 3,
          "nan_count": 0,
          "min": "7.4",
          "max": "11.2",
          "histogram": [
           {
            "bin_start": 7.4,
            "bin_end": 7.78,
            "count": 2
           },
           {
            "bin_start": 7.78,
            "bin_end": 8.16,
            "count": 2
           },
           {
            "bin_start": 8.16,
            "bin_end": 8.54,
            "count": 0
           },
           {
            "bin_start": 8.54,
            "bin_end": 8.92,
            "count": 0
           },
           {
            "bin_start": 8.92,
            "bin_end": 9.3,
            "count": 0
           },
           {
            "bin_start": 9.3,
            "bin_end": 9.68,
            "count": 0
           },
           {
            "bin_start": 9.68,
            "bin_end": 10.059999999999999,
            "count": 0
           },
           {
            "bin_start": 10.059999999999999,
            "bin_end": 10.44,
            "count": 0
           },
           {
            "bin_start": 10.44,
            "bin_end": 10.82,
            "count": 0
           },
           {
            "bin_start": 10.82,
            "bin_end": 11.2,
            "count": 1
           }
          ]
         }
        },
        {
         "name": "volatile acidity",
         "dtype": "float64",
         "stats": {
          "unique_count": 4,
          "nan_count": 0,
          "min": "0.28",
          "max": "0.88",
          "histogram": [
           {
            "bin_start": 0.28,
            "bin_end": 0.34,
            "count": 1
           },
           {
            "bin_start": 0.34,
            "bin_end": 0.4,
            "count": 0
           },
           {
            "bin_start": 0.4,
            "bin_end": 0.46,
            "count": 0
           },
           {
            "bin_start": 0.46,
            "bin_end": 0.52,
            "count": 0
           },
           {
            "bin_start": 0.52,
            "bin_end": 0.5800000000000001,
            "count": 0
           },
           {
            "bin_start": 0.5800000000000001,
            "bin_end": 0.64,
            "count": 0
           },
           {
            "bin_start": 0.64,
            "bin_end": 0.7,
            "count": 0
           },
           {
            "bin_start": 0.7,
            "bin_end": 0.76,
            "count": 2
           },
           {
            "bin_start": 0.76,
            "bin_end": 0.8200000000000001,
            "count": 1
           },
           {
            "bin_start": 0.8200000000000001,
            "bin_end": 0.88,
            "count": 1
           }
          ]
         }
        },
        {
         "name": "citric acid",
         "dtype": "float64",
         "stats": {
          "unique_count": 3,
          "nan_count": 0,
          "min": "0.0",
          "max": "0.56",
          "histogram": [
           {
            "bin_start": 0,
            "bin_end": 0.05600000000000001,
            "count": 4
           },
           {
            "bin_start": 0.05600000000000001,
            "bin_end": 0.11200000000000002,
            "count": 0
           },
           {
            "bin_start": 0.11200000000000002,
            "bin_end": 0.16800000000000004,
            "count": 0
           },
           {
            "bin_start": 0.16800000000000004,
            "bin_end": 0.22400000000000003,
            "count": 0
           },
           {
            "bin_start": 0.22400000000000003,
            "bin_end": 0.28,
            "count": 0
           },
           {
            "bin_start": 0.28,
            "bin_end": 0.3360000000000001,
            "count": 0
           },
           {
            "bin_start": 0.3360000000000001,
            "bin_end": 0.39200000000000007,
            "count": 0
           },
           {
            "bin_start": 0.39200000000000007,
            "bin_end": 0.44800000000000006,
            "count": 0
           },
           {
            "bin_start": 0.44800000000000006,
            "bin_end": 0.5040000000000001,
            "count": 0
           },
           {
            "bin_start": 0.5040000000000001,
            "bin_end": 0.56,
            "count": 1
           }
          ]
         }
        },
        {
         "name": "residual sugar",
         "dtype": "float64",
         "stats": {
          "unique_count": 3,
          "nan_count": 0,
          "min": "1.9",
          "max": "2.6",
          "histogram": [
           {
            "bin_start": 1.9,
            "bin_end": 1.97,
            "count": 3
           },
           {
            "bin_start": 1.97,
            "bin_end": 2.04,
            "count": 0
           },
           {
            "bin_start": 2.04,
            "bin_end": 2.11,
            "count": 0
           },
           {
            "bin_start": 2.11,
            "bin_end": 2.18,
            "count": 0
           },
           {
            "bin_start": 2.18,
            "bin_end": 2.25,
            "count": 0
           },
           {
            "bin_start": 2.25,
            "bin_end": 2.3200000000000003,
            "count": 1
           },
           {
            "bin_start": 2.3200000000000003,
            "bin_end": 2.39,
            "count": 0
           },
           {
            "bin_start": 2.39,
            "bin_end": 2.46,
            "count": 0
           },
           {
            "bin_start": 2.46,
            "bin_end": 2.5300000000000002,
            "count": 0
           },
           {
            "bin_start": 2.5300000000000002,
            "bin_end": 2.6,
            "count": 1
           }
          ]
         }
        },
        {
         "name": "chlorides",
         "dtype": "float64",
         "stats": {
          "unique_count": 4,
          "nan_count": 0,
          "min": "0.075",
          "max": "0.098",
          "histogram": [
           {
            "bin_start": 0.075,
            "bin_end": 0.0773,
            "count": 3
           },
           {
            "bin_start": 0.0773,
            "bin_end": 0.0796,
            "count": 0
           },
           {
            "bin_start": 0.0796,
            "bin_end": 0.0819,
            "count": 0
           },
           {
            "bin_start": 0.0819,
            "bin_end": 0.0842,
            "count": 0
           },
           {
            "bin_start": 0.0842,
            "bin_end": 0.0865,
            "count": 0
           },
           {
            "bin_start": 0.0865,
            "bin_end": 0.0888,
            "count": 0
           },
           {
            "bin_start": 0.0888,
            "bin_end": 0.0911,
            "count": 0
           },
           {
            "bin_start": 0.0911,
            "bin_end": 0.09340000000000001,
            "count": 1
           },
           {
            "bin_start": 0.09340000000000001,
            "bin_end": 0.09570000000000001,
            "count": 0
           },
           {
            "bin_start": 0.09570000000000001,
            "bin_end": 0.098,
            "count": 1
           }
          ]
         }
        },
        {
         "name": "free sulfur dioxide",
         "dtype": "float64",
         "stats": {
          "unique_count": 4,
          "nan_count": 0,
          "min": "11.0",
          "max": "25.0",
          "histogram": [
           {
            "bin_start": 11,
            "bin_end": 12.4,
            "count": 2
           },
           {
            "bin_start": 12.4,
            "bin_end": 13.8,
            "count": 0
           },
           {
            "bin_start": 13.8,
            "bin_end": 15.2,
            "count": 1
           },
           {
            "bin_start": 15.2,
            "bin_end": 16.6,
            "count": 0
           },
           {
            "bin_start": 16.6,
            "bin_end": 18,
            "count": 1
           },
           {
            "bin_start": 18,
            "bin_end": 19.4,
            "count": 0
           },
           {
            "bin_start": 19.4,
            "bin_end": 20.799999999999997,
            "count": 0
           },
           {
            "bin_start": 20.799999999999997,
            "bin_end": 22.2,
            "count": 0
           },
           {
            "bin_start": 22.2,
            "bin_end": 23.6,
            "count": 0
           },
           {
            "bin_start": 23.6,
            "bin_end": 25,
            "count": 1
           }
          ]
         }
        },
        {
         "name": "total sulfur dioxide",
         "dtype": "float64",
         "stats": {
          "unique_count": 4,
          "nan_count": 0,
          "min": "34.0",
          "max": "67.0",
          "histogram": [
           {
            "bin_start": 34,
            "bin_end": 37.3,
            "count": 2
           },
           {
            "bin_start": 37.3,
            "bin_end": 40.6,
            "count": 0
           },
           {
            "bin_start": 40.6,
            "bin_end": 43.9,
            "count": 0
           },
           {
            "bin_start": 43.9,
            "bin_end": 47.2,
            "count": 0
           },
           {
            "bin_start": 47.2,
            "bin_end": 50.5,
            "count": 0
           },
           {
            "bin_start": 50.5,
            "bin_end": 53.8,
            "count": 0
           },
           {
            "bin_start": 53.8,
            "bin_end": 57.099999999999994,
            "count": 1
           },
           {
            "bin_start": 57.099999999999994,
            "bin_end": 60.4,
            "count": 1
           },
           {
            "bin_start": 60.4,
            "bin_end": 63.7,
            "count": 0
           },
           {
            "bin_start": 63.7,
            "bin_end": 67,
            "count": 1
           }
          ]
         }
        },
        {
         "name": "density",
         "dtype": "float64",
         "stats": {
          "unique_count": 4,
          "nan_count": 0,
          "min": "0.9968",
          "max": "0.998",
          "histogram": [
           {
            "bin_start": 0.9968,
            "bin_end": 0.99692,
            "count": 1
           },
           {
            "bin_start": 0.99692,
            "bin_end": 0.99704,
            "count": 1
           },
           {
            "bin_start": 0.99704,
            "bin_end": 0.99716,
            "count": 0
           },
           {
            "bin_start": 0.99716,
            "bin_end": 0.99728,
            "count": 0
           },
           {
            "bin_start": 0.99728,
            "bin_end": 0.9974000000000001,
            "count": 0
           },
           {
            "bin_start": 0.9974000000000001,
            "bin_end": 0.99752,
            "count": 0
           },
           {
            "bin_start": 0.99752,
            "bin_end": 0.99764,
            "count": 0
           },
           {
            "bin_start": 0.99764,
            "bin_end": 0.99776,
            "count": 0
           },
           {
            "bin_start": 0.99776,
            "bin_end": 0.99788,
            "count": 2
           },
           {
            "bin_start": 0.99788,
            "bin_end": 0.998,
            "count": 1
           }
          ]
         }
        },
        {
         "name": "pH",
         "dtype": "float64",
         "stats": {
          "unique_count": 4,
          "nan_count": 0,
          "min": "3.16",
          "max": "3.51",
          "histogram": [
           {
            "bin_start": 3.16,
            "bin_end": 3.1950000000000003,
            "count": 1
           },
           {
            "bin_start": 3.1950000000000003,
            "bin_end": 3.23,
            "count": 1
           },
           {
            "bin_start": 3.23,
            "bin_end": 3.265,
            "count": 1
           },
           {
            "bin_start": 3.265,
            "bin_end": 3.3,
            "count": 0
           },
           {
            "bin_start": 3.3,
            "bin_end": 3.335,
            "count": 0
           },
           {
            "bin_start": 3.335,
            "bin_end": 3.37,
            "count": 0
           },
           {
            "bin_start": 3.37,
            "bin_end": 3.405,
            "count": 0
           },
           {
            "bin_start": 3.405,
            "bin_end": 3.44,
            "count": 0
           },
           {
            "bin_start": 3.44,
            "bin_end": 3.4749999999999996,
            "count": 0
           },
           {
            "bin_start": 3.4749999999999996,
            "bin_end": 3.51,
            "count": 2
           }
          ]
         }
        },
        {
         "name": "sulphates",
         "dtype": "float64",
         "stats": {
          "unique_count": 4,
          "nan_count": 0,
          "min": "0.56",
          "max": "0.68",
          "histogram": [
           {
            "bin_start": 0.56,
            "bin_end": 0.5720000000000001,
            "count": 2
           },
           {
            "bin_start": 0.5720000000000001,
            "bin_end": 0.5840000000000001,
            "count": 1
           },
           {
            "bin_start": 0.5840000000000001,
            "bin_end": 0.5960000000000001,
            "count": 0
           },
           {
            "bin_start": 0.5960000000000001,
            "bin_end": 0.6080000000000001,
            "count": 0
           },
           {
            "bin_start": 0.6080000000000001,
            "bin_end": 0.6200000000000001,
            "count": 0
           },
           {
            "bin_start": 0.6200000000000001,
            "bin_end": 0.6320000000000001,
            "count": 0
           },
           {
            "bin_start": 0.6320000000000001,
            "bin_end": 0.644,
            "count": 0
           },
           {
            "bin_start": 0.644,
            "bin_end": 0.656,
            "count": 1
           },
           {
            "bin_start": 0.656,
            "bin_end": 0.668,
            "count": 0
           },
           {
            "bin_start": 0.668,
            "bin_end": 0.68,
            "count": 1
           }
          ]
         }
        },
        {
         "name": "alcohol",
         "dtype": "float64",
         "stats": {
          "unique_count": 2,
          "nan_count": 0,
          "min": "9.4",
          "max": "9.8",
          "histogram": [
           {
            "bin_start": 9.4,
            "bin_end": 9.440000000000001,
            "count": 2
           },
           {
            "bin_start": 9.440000000000001,
            "bin_end": 9.48,
            "count": 0
           },
           {
            "bin_start": 9.48,
            "bin_end": 9.52,
            "count": 0
           },
           {
            "bin_start": 9.52,
            "bin_end": 9.56,
            "count": 0
           },
           {
            "bin_start": 9.56,
            "bin_end": 9.600000000000001,
            "count": 0
           },
           {
            "bin_start": 9.600000000000001,
            "bin_end": 9.64,
            "count": 0
           },
           {
            "bin_start": 9.64,
            "bin_end": 9.68,
            "count": 0
           },
           {
            "bin_start": 9.68,
            "bin_end": 9.72,
            "count": 0
           },
           {
            "bin_start": 9.72,
            "bin_end": 9.760000000000002,
            "count": 0
           },
           {
            "bin_start": 9.760000000000002,
            "bin_end": 9.8,
            "count": 3
           }
          ]
         }
        },
        {
         "name": "quality",
         "dtype": "int64",
         "stats": {
          "unique_count": 2,
          "nan_count": 0,
          "min": "5",
          "max": "6",
          "histogram": [
           {
            "bin_start": 5,
            "bin_end": 5.1,
            "count": 4
           },
           {
            "bin_start": 5.1,
            "bin_end": 5.2,
            "count": 0
           },
           {
            "bin_start": 5.2,
            "bin_end": 5.3,
            "count": 0
           },
           {
            "bin_start": 5.3,
            "bin_end": 5.4,
            "count": 0
           },
           {
            "bin_start": 5.4,
            "bin_end": 5.5,
            "count": 0
           },
           {
            "bin_start": 5.5,
            "bin_end": 5.6,
            "count": 0
           },
           {
            "bin_start": 5.6,
            "bin_end": 5.7,
            "count": 0
           },
           {
            "bin_start": 5.7,
            "bin_end": 5.8,
            "count": 0
           },
           {
            "bin_start": 5.8,
            "bin_end": 5.9,
            "count": 0
           },
           {
            "bin_start": 5.9,
            "bin_end": 6,
            "count": 1
           }
          ]
         }
        },
        {
         "name": "_deepnote_index_column",
         "dtype": "int64"
        }
       ],
       "rows_top": [
        {
         "fixed acidity": 7.4,
         "volatile acidity": 0.7,
         "citric acid": 0,
         "residual sugar": 1.9,
         "chlorides": 0.076,
         "free sulfur dioxide": 11,
         "total sulfur dioxide": 34,
         "density": 0.9978,
         "pH": 3.51,
         "sulphates": 0.56,
         "alcohol": 9.4,
         "quality": 5,
         "_deepnote_index_column": 0
        },
        {
         "fixed acidity": 7.8,
         "volatile acidity": 0.88,
         "citric acid": 0,
         "residual sugar": 2.6,
         "chlorides": 0.098,
         "free sulfur dioxide": 25,
         "total sulfur dioxide": 67,
         "density": 0.9968,
         "pH": 3.2,
         "sulphates": 0.68,
         "alcohol": 9.8,
         "quality": 5,
         "_deepnote_index_column": 1
        },
        {
         "fixed acidity": 7.8,
         "volatile acidity": 0.76,
         "citric acid": 0.04,
         "residual sugar": 2.3,
         "chlorides": 0.092,
         "free sulfur dioxide": 15,
         "total sulfur dioxide": 54,
         "density": 0.997,
         "pH": 3.26,
         "sulphates": 0.65,
         "alcohol": 9.8,
         "quality": 5,
         "_deepnote_index_column": 2
        },
        {
         "fixed acidity": 11.2,
         "volatile acidity": 0.28,
         "citric acid": 0.56,
         "residual sugar": 1.9,
         "chlorides": 0.075,
         "free sulfur dioxide": 17,
         "total sulfur dioxide": 60,
         "density": 0.998,
         "pH": 3.16,
         "sulphates": 0.58,
         "alcohol": 9.8,
         "quality": 6,
         "_deepnote_index_column": 3
        },
        {
         "fixed acidity": 7.4,
         "volatile acidity": 0.7,
         "citric acid": 0,
         "residual sugar": 1.9,
         "chlorides": 0.076,
         "free sulfur dioxide": 11,
         "total sulfur dioxide": 34,
         "density": 0.9978,
         "pH": 3.51,
         "sulphates": 0.56,
         "alcohol": 9.4,
         "quality": 5,
         "_deepnote_index_column": 4
        }
       ],
       "rows_bottom": null
      },
      "text/plain": "   fixed acidity  volatile acidity  citric acid  residual sugar  chlorides  \\\n0            7.4              0.70         0.00             1.9      0.076   \n1            7.8              0.88         0.00             2.6      0.098   \n2            7.8              0.76         0.04             2.3      0.092   \n3           11.2              0.28         0.56             1.9      0.075   \n4            7.4              0.70         0.00             1.9      0.076   \n\n   free sulfur dioxide  total sulfur dioxide  density    pH  sulphates  \\\n0                 11.0                  34.0   0.9978  3.51       0.56   \n1                 25.0                  67.0   0.9968  3.20       0.68   \n2                 15.0                  54.0   0.9970  3.26       0.65   \n3                 17.0                  60.0   0.9980  3.16       0.58   \n4                 11.0                  34.0   0.9978  3.51       0.56   \n\n   alcohol  quality  \n0      9.4        5  \n1      9.8        5  \n2      9.8        5  \n3      9.8        6  \n4      9.4        5  ",
      "text/html": "<div>\n<style scoped>\n    .dataframe tbody tr th:only-of-type {\n        vertical-align: middle;\n    }\n\n    .dataframe tbody tr th {\n        vertical-align: top;\n    }\n\n    .dataframe thead th {\n        text-align: right;\n    }\n</style>\n<table border=\"1\" class=\"dataframe\">\n  <thead>\n    <tr style=\"text-align: right;\">\n      <th></th>\n      <th>fixed acidity</th>\n      <th>volatile acidity</th>\n      <th>citric acid</th>\n      <th>residual sugar</th>\n      <th>chlorides</th>\n      <th>free sulfur dioxide</th>\n      <th>total sulfur dioxide</th>\n      <th>density</th>\n      <th>pH</th>\n      <th>sulphates</th>\n      <th>alcohol</th>\n      <th>quality</th>\n    </tr>\n  </thead>\n  <tbody>\n    <tr>\n      <th>0</th>\n      <td>7.4</td>\n      <td>0.70</td>\n      <td>0.00</td>\n      <td>1.9</td>\n      <td>0.076</td>\n      <td>11.0</td>\n      <td>34.0</td>\n      <td>0.9978</td>\n      <td>3.51</td>\n      <td>0.56</td>\n      <td>9.4</td>\n      <td>5</td>\n    </tr>\n    <tr>\n      <th>1</th>\n      <td>7.8</td>\n      <td>0.88</td>\n      <td>0.00</td>\n      <td>2.6</td>\n      <td>0.098</td>\n      <td>25.0</td>\n      <td>67.0</td>\n      <td>0.9968</td>\n      <td>3.20</td>\n      <td>0.68</td>\n      <td>9.8</td>\n      <td>5</td>\n    </tr>\n    <tr>\n      <th>2</th>\n      <td>7.8</td>\n      <td>0.76</td>\n      <td>0.04</td>\n      <td>2.3</td>\n      <td>0.092</td>\n      <td>15.0</td>\n      <td>54.0</td>\n      <td>0.9970</td>\n      <td>3.26</td>\n      <td>0.65</td>\n      <td>9.8</td>\n      <td>5</td>\n    </tr>\n    <tr>\n      <th>3</th>\n      <td>11.2</td>\n      <td>0.28</td>\n      <td>0.56</td>\n      <td>1.9</td>\n      <td>0.075</td>\n      <td>17.0</td>\n      <td>60.0</td>\n      <td>0.9980</td>\n      <td>3.16</td>\n      <td>0.58</td>\n      <td>9.8</td>\n      <td>6</td>\n    </tr>\n    <tr>\n      <th>4</th>\n      <td>7.4</td>\n      <td>0.70</td>\n      <td>0.00</td>\n      <td>1.9</td>\n      <td>0.076</td>\n      <td>11.0</td>\n      <td>34.0</td>\n      <td>0.9978</td>\n      <td>3.51</td>\n      <td>0.56</td>\n      <td>9.4</td>\n      <td>5</td>\n    </tr>\n  </tbody>\n</table>\n</div>"
     },
     "metadata": {}
    }
   ],
   "execution_count": null
  },
  {
   "cell_type": "markdown",
   "source": "As described by the business each row seems to correspond with a individual wine with eleven different columns describing chemical properties and one column which represents the quality score of the wine.\n\nLets see howmuch raw-data we have through the shapes of the datasets before we do any more exploration.",
   "metadata": {
    "cell_id": "00012-99aa4078-ecb1-4012-a47c-7e36e43c85d7",
    "deepnote_cell_type": "markdown"
   }
  },
  {
   "cell_type": "code",
   "metadata": {
    "cell_id": "00013-9d80e173-792b-46f2-8236-2cf9dfc01404",
    "deepnote_to_be_reexecuted": true,
    "source_hash": "721d832b",
    "execution_start": 1633699844768,
    "execution_millis": 41,
    "deepnote_cell_type": "code"
   },
   "source": "red_rows, red_columns = dataset_red.shape\nwhite_rows, white_columns = dataset_white.shape\n\nprint(f'The red-wine quality dataset contains {red_rows} rows and {red_columns} columns')\nprint(f'The white-wine quality dataset contains {white_rows} rows and {white_columns} columns')",
   "outputs": [
    {
     "name": "stdout",
     "text": "The red-wine quality dataset contains 1599 rows and 12 columns\nThe white-wine quality dataset contains 4898 rows and 12 columns\n",
     "output_type": "stream"
    }
   ],
   "execution_count": null
  },
  {
   "cell_type": "markdown",
   "source": "Lets change the column name white spaces to underscores to make life easier.",
   "metadata": {
    "cell_id": "00014-522c28d8-59db-406e-94e4-65eaea4b7b5a",
    "deepnote_cell_type": "markdown"
   }
  },
  {
   "cell_type": "code",
   "metadata": {
    "cell_id": "00015-490a356a-9ef0-409c-9a01-6c4fa72fff29",
    "deepnote_to_be_reexecuted": true,
    "source_hash": "e3fa2c36",
    "execution_start": 1633699844769,
    "execution_millis": 40,
    "deepnote_cell_type": "code"
   },
   "source": "dataset_red.columns = dataset_red.columns.str.replace(' ','_')\ndataset_white.columns = dataset_white.columns.str.replace(' ','_')\n\ndataset_red.head(0)",
   "outputs": [
    {
     "output_type": "execute_result",
     "execution_count": 5,
     "data": {
      "application/vnd.deepnote.dataframe.v2+json": {
       "row_count": 0,
       "column_count": 12,
       "columns": [
        {
         "name": "fixed_acidity",
         "dtype": "float64",
         "stats": {
          "unique_count": 0,
          "nan_count": 0,
          "min": null,
          "max": null,
          "histogram": [
           {
            "bin_start": 0,
            "bin_end": 0.1,
            "count": 0
           },
           {
            "bin_start": 0.1,
            "bin_end": 0.2,
            "count": 0
           },
           {
            "bin_start": 0.2,
            "bin_end": 0.30000000000000004,
            "count": 0
           },
           {
            "bin_start": 0.30000000000000004,
            "bin_end": 0.4,
            "count": 0
           },
           {
            "bin_start": 0.4,
            "bin_end": 0.5,
            "count": 0
           },
           {
            "bin_start": 0.5,
            "bin_end": 0.6000000000000001,
            "count": 0
           },
           {
            "bin_start": 0.6000000000000001,
            "bin_end": 0.7000000000000001,
            "count": 0
           },
           {
            "bin_start": 0.7000000000000001,
            "bin_end": 0.8,
            "count": 0
           },
           {
            "bin_start": 0.8,
            "bin_end": 0.9,
            "count": 0
           },
           {
            "bin_start": 0.9,
            "bin_end": 1,
            "count": 0
           }
          ]
         }
        },
        {
         "name": "volatile_acidity",
         "dtype": "float64",
         "stats": {
          "unique_count": 0,
          "nan_count": 0,
          "min": null,
          "max": null,
          "histogram": [
           {
            "bin_start": 0,
            "bin_end": 0.1,
            "count": 0
           },
           {
            "bin_start": 0.1,
            "bin_end": 0.2,
            "count": 0
           },
           {
            "bin_start": 0.2,
            "bin_end": 0.30000000000000004,
            "count": 0
           },
           {
            "bin_start": 0.30000000000000004,
            "bin_end": 0.4,
            "count": 0
           },
           {
            "bin_start": 0.4,
            "bin_end": 0.5,
            "count": 0
           },
           {
            "bin_start": 0.5,
            "bin_end": 0.6000000000000001,
            "count": 0
           },
           {
            "bin_start": 0.6000000000000001,
            "bin_end": 0.7000000000000001,
            "count": 0
           },
           {
            "bin_start": 0.7000000000000001,
            "bin_end": 0.8,
            "count": 0
           },
           {
            "bin_start": 0.8,
            "bin_end": 0.9,
            "count": 0
           },
           {
            "bin_start": 0.9,
            "bin_end": 1,
            "count": 0
           }
          ]
         }
        },
        {
         "name": "citric_acid",
         "dtype": "float64",
         "stats": {
          "unique_count": 0,
          "nan_count": 0,
          "min": null,
          "max": null,
          "histogram": [
           {
            "bin_start": 0,
            "bin_end": 0.1,
            "count": 0
           },
           {
            "bin_start": 0.1,
            "bin_end": 0.2,
            "count": 0
           },
           {
            "bin_start": 0.2,
            "bin_end": 0.30000000000000004,
            "count": 0
           },
           {
            "bin_start": 0.30000000000000004,
            "bin_end": 0.4,
            "count": 0
           },
           {
            "bin_start": 0.4,
            "bin_end": 0.5,
            "count": 0
           },
           {
            "bin_start": 0.5,
            "bin_end": 0.6000000000000001,
            "count": 0
           },
           {
            "bin_start": 0.6000000000000001,
            "bin_end": 0.7000000000000001,
            "count": 0
           },
           {
            "bin_start": 0.7000000000000001,
            "bin_end": 0.8,
            "count": 0
           },
           {
            "bin_start": 0.8,
            "bin_end": 0.9,
            "count": 0
           },
           {
            "bin_start": 0.9,
            "bin_end": 1,
            "count": 0
           }
          ]
         }
        },
        {
         "name": "residual_sugar",
         "dtype": "float64",
         "stats": {
          "unique_count": 0,
          "nan_count": 0,
          "min": null,
          "max": null,
          "histogram": [
           {
            "bin_start": 0,
            "bin_end": 0.1,
            "count": 0
           },
           {
            "bin_start": 0.1,
            "bin_end": 0.2,
            "count": 0
           },
           {
            "bin_start": 0.2,
            "bin_end": 0.30000000000000004,
            "count": 0
           },
           {
            "bin_start": 0.30000000000000004,
            "bin_end": 0.4,
            "count": 0
           },
           {
            "bin_start": 0.4,
            "bin_end": 0.5,
            "count": 0
           },
           {
            "bin_start": 0.5,
            "bin_end": 0.6000000000000001,
            "count": 0
           },
           {
            "bin_start": 0.6000000000000001,
            "bin_end": 0.7000000000000001,
            "count": 0
           },
           {
            "bin_start": 0.7000000000000001,
            "bin_end": 0.8,
            "count": 0
           },
           {
            "bin_start": 0.8,
            "bin_end": 0.9,
            "count": 0
           },
           {
            "bin_start": 0.9,
            "bin_end": 1,
            "count": 0
           }
          ]
         }
        },
        {
         "name": "chlorides",
         "dtype": "float64",
         "stats": {
          "unique_count": 0,
          "nan_count": 0,
          "min": null,
          "max": null,
          "histogram": [
           {
            "bin_start": 0,
            "bin_end": 0.1,
            "count": 0
           },
           {
            "bin_start": 0.1,
            "bin_end": 0.2,
            "count": 0
           },
           {
            "bin_start": 0.2,
            "bin_end": 0.30000000000000004,
            "count": 0
           },
           {
            "bin_start": 0.30000000000000004,
            "bin_end": 0.4,
            "count": 0
           },
           {
            "bin_start": 0.4,
            "bin_end": 0.5,
            "count": 0
           },
           {
            "bin_start": 0.5,
            "bin_end": 0.6000000000000001,
            "count": 0
           },
           {
            "bin_start": 0.6000000000000001,
            "bin_end": 0.7000000000000001,
            "count": 0
           },
           {
            "bin_start": 0.7000000000000001,
            "bin_end": 0.8,
            "count": 0
           },
           {
            "bin_start": 0.8,
            "bin_end": 0.9,
            "count": 0
           },
           {
            "bin_start": 0.9,
            "bin_end": 1,
            "count": 0
           }
          ]
         }
        },
        {
         "name": "free_sulfur_dioxide",
         "dtype": "float64",
         "stats": {
          "unique_count": 0,
          "nan_count": 0,
          "min": null,
          "max": null,
          "histogram": [
           {
            "bin_start": 0,
            "bin_end": 0.1,
            "count": 0
           },
           {
            "bin_start": 0.1,
            "bin_end": 0.2,
            "count": 0
           },
           {
            "bin_start": 0.2,
            "bin_end": 0.30000000000000004,
            "count": 0
           },
           {
            "bin_start": 0.30000000000000004,
            "bin_end": 0.4,
            "count": 0
           },
           {
            "bin_start": 0.4,
            "bin_end": 0.5,
            "count": 0
           },
           {
            "bin_start": 0.5,
            "bin_end": 0.6000000000000001,
            "count": 0
           },
           {
            "bin_start": 0.6000000000000001,
            "bin_end": 0.7000000000000001,
            "count": 0
           },
           {
            "bin_start": 0.7000000000000001,
            "bin_end": 0.8,
            "count": 0
           },
           {
            "bin_start": 0.8,
            "bin_end": 0.9,
            "count": 0
           },
           {
            "bin_start": 0.9,
            "bin_end": 1,
            "count": 0
           }
          ]
         }
        },
        {
         "name": "total_sulfur_dioxide",
         "dtype": "float64",
         "stats": {
          "unique_count": 0,
          "nan_count": 0,
          "min": null,
          "max": null,
          "histogram": [
           {
            "bin_start": 0,
            "bin_end": 0.1,
            "count": 0
           },
           {
            "bin_start": 0.1,
            "bin_end": 0.2,
            "count": 0
           },
           {
            "bin_start": 0.2,
            "bin_end": 0.30000000000000004,
            "count": 0
           },
           {
            "bin_start": 0.30000000000000004,
            "bin_end": 0.4,
            "count": 0
           },
           {
            "bin_start": 0.4,
            "bin_end": 0.5,
            "count": 0
           },
           {
            "bin_start": 0.5,
            "bin_end": 0.6000000000000001,
            "count": 0
           },
           {
            "bin_start": 0.6000000000000001,
            "bin_end": 0.7000000000000001,
            "count": 0
           },
           {
            "bin_start": 0.7000000000000001,
            "bin_end": 0.8,
            "count": 0
           },
           {
            "bin_start": 0.8,
            "bin_end": 0.9,
            "count": 0
           },
           {
            "bin_start": 0.9,
            "bin_end": 1,
            "count": 0
           }
          ]
         }
        },
        {
         "name": "density",
         "dtype": "float64",
         "stats": {
          "unique_count": 0,
          "nan_count": 0,
          "min": null,
          "max": null,
          "histogram": [
           {
            "bin_start": 0,
            "bin_end": 0.1,
            "count": 0
           },
           {
            "bin_start": 0.1,
            "bin_end": 0.2,
            "count": 0
           },
           {
            "bin_start": 0.2,
            "bin_end": 0.30000000000000004,
            "count": 0
           },
           {
            "bin_start": 0.30000000000000004,
            "bin_end": 0.4,
            "count": 0
           },
           {
            "bin_start": 0.4,
            "bin_end": 0.5,
            "count": 0
           },
           {
            "bin_start": 0.5,
            "bin_end": 0.6000000000000001,
            "count": 0
           },
           {
            "bin_start": 0.6000000000000001,
            "bin_end": 0.7000000000000001,
            "count": 0
           },
           {
            "bin_start": 0.7000000000000001,
            "bin_end": 0.8,
            "count": 0
           },
           {
            "bin_start": 0.8,
            "bin_end": 0.9,
            "count": 0
           },
           {
            "bin_start": 0.9,
            "bin_end": 1,
            "count": 0
           }
          ]
         }
        },
        {
         "name": "pH",
         "dtype": "float64",
         "stats": {
          "unique_count": 0,
          "nan_count": 0,
          "min": null,
          "max": null,
          "histogram": [
           {
            "bin_start": 0,
            "bin_end": 0.1,
            "count": 0
           },
           {
            "bin_start": 0.1,
            "bin_end": 0.2,
            "count": 0
           },
           {
            "bin_start": 0.2,
            "bin_end": 0.30000000000000004,
            "count": 0
           },
           {
            "bin_start": 0.30000000000000004,
            "bin_end": 0.4,
            "count": 0
           },
           {
            "bin_start": 0.4,
            "bin_end": 0.5,
            "count": 0
           },
           {
            "bin_start": 0.5,
            "bin_end": 0.6000000000000001,
            "count": 0
           },
           {
            "bin_start": 0.6000000000000001,
            "bin_end": 0.7000000000000001,
            "count": 0
           },
           {
            "bin_start": 0.7000000000000001,
            "bin_end": 0.8,
            "count": 0
           },
           {
            "bin_start": 0.8,
            "bin_end": 0.9,
            "count": 0
           },
           {
            "bin_start": 0.9,
            "bin_end": 1,
            "count": 0
           }
          ]
         }
        },
        {
         "name": "sulphates",
         "dtype": "float64",
         "stats": {
          "unique_count": 0,
          "nan_count": 0,
          "min": null,
          "max": null,
          "histogram": [
           {
            "bin_start": 0,
            "bin_end": 0.1,
            "count": 0
           },
           {
            "bin_start": 0.1,
            "bin_end": 0.2,
            "count": 0
           },
           {
            "bin_start": 0.2,
            "bin_end": 0.30000000000000004,
            "count": 0
           },
           {
            "bin_start": 0.30000000000000004,
            "bin_end": 0.4,
            "count": 0
           },
           {
            "bin_start": 0.4,
            "bin_end": 0.5,
            "count": 0
           },
           {
            "bin_start": 0.5,
            "bin_end": 0.6000000000000001,
            "count": 0
           },
           {
            "bin_start": 0.6000000000000001,
            "bin_end": 0.7000000000000001,
            "count": 0
           },
           {
            "bin_start": 0.7000000000000001,
            "bin_end": 0.8,
            "count": 0
           },
           {
            "bin_start": 0.8,
            "bin_end": 0.9,
            "count": 0
           },
           {
            "bin_start": 0.9,
            "bin_end": 1,
            "count": 0
           }
          ]
         }
        },
        {
         "name": "alcohol",
         "dtype": "float64",
         "stats": {
          "unique_count": 0,
          "nan_count": 0,
          "min": null,
          "max": null,
          "histogram": [
           {
            "bin_start": 0,
            "bin_end": 0.1,
            "count": 0
           },
           {
            "bin_start": 0.1,
            "bin_end": 0.2,
            "count": 0
           },
           {
            "bin_start": 0.2,
            "bin_end": 0.30000000000000004,
            "count": 0
           },
           {
            "bin_start": 0.30000000000000004,
            "bin_end": 0.4,
            "count": 0
           },
           {
            "bin_start": 0.4,
            "bin_end": 0.5,
            "count": 0
           },
           {
            "bin_start": 0.5,
            "bin_end": 0.6000000000000001,
            "count": 0
           },
           {
            "bin_start": 0.6000000000000001,
            "bin_end": 0.7000000000000001,
            "count": 0
           },
           {
            "bin_start": 0.7000000000000001,
            "bin_end": 0.8,
            "count": 0
           },
           {
            "bin_start": 0.8,
            "bin_end": 0.9,
            "count": 0
           },
           {
            "bin_start": 0.9,
            "bin_end": 1,
            "count": 0
           }
          ]
         }
        },
        {
         "name": "quality",
         "dtype": "int64",
         "stats": {
          "unique_count": 0,
          "nan_count": 0,
          "min": null,
          "max": null,
          "histogram": [
           {
            "bin_start": 0,
            "bin_end": 0.1,
            "count": 0
           },
           {
            "bin_start": 0.1,
            "bin_end": 0.2,
            "count": 0
           },
           {
            "bin_start": 0.2,
            "bin_end": 0.30000000000000004,
            "count": 0
           },
           {
            "bin_start": 0.30000000000000004,
            "bin_end": 0.4,
            "count": 0
           },
           {
            "bin_start": 0.4,
            "bin_end": 0.5,
            "count": 0
           },
           {
            "bin_start": 0.5,
            "bin_end": 0.6000000000000001,
            "count": 0
           },
           {
            "bin_start": 0.6000000000000001,
            "bin_end": 0.7000000000000001,
            "count": 0
           },
           {
            "bin_start": 0.7000000000000001,
            "bin_end": 0.8,
            "count": 0
           },
           {
            "bin_start": 0.8,
            "bin_end": 0.9,
            "count": 0
           },
           {
            "bin_start": 0.9,
            "bin_end": 1,
            "count": 0
           }
          ]
         }
        },
        {
         "name": "_deepnote_index_column",
         "dtype": "int64"
        }
       ],
       "rows_top": [],
       "rows_bottom": null
      },
      "text/plain": "Empty DataFrame\nColumns: [fixed_acidity, volatile_acidity, citric_acid, residual_sugar, chlorides, free_sulfur_dioxide, total_sulfur_dioxide, density, pH, sulphates, alcohol, quality]\nIndex: []",
      "text/html": "<div>\n<style scoped>\n    .dataframe tbody tr th:only-of-type {\n        vertical-align: middle;\n    }\n\n    .dataframe tbody tr th {\n        vertical-align: top;\n    }\n\n    .dataframe thead th {\n        text-align: right;\n    }\n</style>\n<table border=\"1\" class=\"dataframe\">\n  <thead>\n    <tr style=\"text-align: right;\">\n      <th></th>\n      <th>fixed_acidity</th>\n      <th>volatile_acidity</th>\n      <th>citric_acid</th>\n      <th>residual_sugar</th>\n      <th>chlorides</th>\n      <th>free_sulfur_dioxide</th>\n      <th>total_sulfur_dioxide</th>\n      <th>density</th>\n      <th>pH</th>\n      <th>sulphates</th>\n      <th>alcohol</th>\n      <th>quality</th>\n    </tr>\n  </thead>\n  <tbody>\n  </tbody>\n</table>\n</div>"
     },
     "metadata": {}
    }
   ],
   "execution_count": null
  },
  {
   "cell_type": "markdown",
   "source": "<h3>Target and feature variables</h3>\n\nAll the columns describing chemical properties will be considerd as a feature variable and the column quality represents the target variable, the variable we want to predict.\nLets safe them in a variables for later use.",
   "metadata": {
    "cell_id": "00016-e0b32b75-928e-4bf9-bc71-854b011d0b56",
    "deepnote_cell_type": "markdown"
   }
  },
  {
   "cell_type": "code",
   "metadata": {
    "cell_id": "00017-437cbe6a-2ffa-4aa6-bc30-6b0faf50e905",
    "deepnote_to_be_reexecuted": true,
    "source_hash": "ac768d06",
    "execution_start": 1633699844784,
    "execution_millis": 627255,
    "deepnote_cell_type": "code"
   },
   "source": "feature_vars = ['fixed_acidity', 'volatile_acidity', 'citric_acid', 'residual_sugar', 'chlorides', 'free_sulfur_dioxide', 'total_sulfur_dioxide', 'density', 'pH', 'sulphates', 'alcohol'] \ntarget_var = 'quality'",
   "outputs": [],
   "execution_count": null
  },
  {
   "cell_type": "markdown",
   "source": "<h3> Scales of measurements </h3>\n\nTo choose a appropiate model for our research-questions and available data it's necessary to have a understanding of all the scales of measurements for the target and feature variables.",
   "metadata": {
    "cell_id": "00020-a34708b7-57e2-4f61-8433-35063ad332eb",
    "deepnote_cell_type": "markdown"
   }
  },
  {
   "cell_type": "code",
   "metadata": {
    "cell_id": "00021-8ae9f222-fd70-4bc2-a69d-4790dbf95204",
    "deepnote_to_be_reexecuted": true,
    "source_hash": "a679969a",
    "execution_start": 1633699844789,
    "execution_millis": 23,
    "deepnote_cell_type": "code"
   },
   "source": "nomi, disc, ordi, cont = 'Nominal', 'Discrete', 'Ordinal','Continous'\nprint('Scales of measurement chemical properties datasets')\npd.DataFrame(index=dataset_red.columns, data=[cont for i in range(11)] + [disc], columns=['Scale_of_measurement'])",
   "outputs": [
    {
     "name": "stdout",
     "text": "Scales of measurement chemical properties datasets\n",
     "output_type": "stream"
    },
    {
     "output_type": "execute_result",
     "execution_count": 7,
     "data": {
      "application/vnd.deepnote.dataframe.v2+json": {
       "row_count": 12,
       "column_count": 1,
       "columns": [
        {
         "name": "Scale_of_measurement",
         "dtype": "object",
         "stats": {
          "unique_count": 2,
          "nan_count": 0,
          "categories": [
           {
            "name": "Continous",
            "count": 11
           },
           {
            "name": "Discrete",
            "count": 1
           }
          ]
         }
        },
        {
         "name": "_deepnote_index_column",
         "dtype": "object"
        }
       ],
       "rows_top": [
        {
         "Scale_of_measurement": "Continous",
         "_deepnote_index_column": "fixed_acidity"
        },
        {
         "Scale_of_measurement": "Continous",
         "_deepnote_index_column": "volatile_acidity"
        },
        {
         "Scale_of_measurement": "Continous",
         "_deepnote_index_column": "citric_acid"
        },
        {
         "Scale_of_measurement": "Continous",
         "_deepnote_index_column": "residual_sugar"
        },
        {
         "Scale_of_measurement": "Continous",
         "_deepnote_index_column": "chlorides"
        },
        {
         "Scale_of_measurement": "Continous",
         "_deepnote_index_column": "free_sulfur_dioxide"
        },
        {
         "Scale_of_measurement": "Continous",
         "_deepnote_index_column": "total_sulfur_dioxide"
        },
        {
         "Scale_of_measurement": "Continous",
         "_deepnote_index_column": "density"
        },
        {
         "Scale_of_measurement": "Continous",
         "_deepnote_index_column": "pH"
        },
        {
         "Scale_of_measurement": "Continous",
         "_deepnote_index_column": "sulphates"
        },
        {
         "Scale_of_measurement": "Continous",
         "_deepnote_index_column": "alcohol"
        },
        {
         "Scale_of_measurement": "Discrete",
         "_deepnote_index_column": "quality"
        }
       ],
       "rows_bottom": null
      },
      "text/plain": "                     Scale_of_measurement\nfixed_acidity                   Continous\nvolatile_acidity                Continous\ncitric_acid                     Continous\nresidual_sugar                  Continous\nchlorides                       Continous\nfree_sulfur_dioxide             Continous\ntotal_sulfur_dioxide            Continous\ndensity                         Continous\npH                              Continous\nsulphates                       Continous\nalcohol                         Continous\nquality                          Discrete",
      "text/html": "<div>\n<style scoped>\n    .dataframe tbody tr th:only-of-type {\n        vertical-align: middle;\n    }\n\n    .dataframe tbody tr th {\n        vertical-align: top;\n    }\n\n    .dataframe thead th {\n        text-align: right;\n    }\n</style>\n<table border=\"1\" class=\"dataframe\">\n  <thead>\n    <tr style=\"text-align: right;\">\n      <th></th>\n      <th>Scale_of_measurement</th>\n    </tr>\n  </thead>\n  <tbody>\n    <tr>\n      <th>fixed_acidity</th>\n      <td>Continous</td>\n    </tr>\n    <tr>\n      <th>volatile_acidity</th>\n      <td>Continous</td>\n    </tr>\n    <tr>\n      <th>citric_acid</th>\n      <td>Continous</td>\n    </tr>\n    <tr>\n      <th>residual_sugar</th>\n      <td>Continous</td>\n    </tr>\n    <tr>\n      <th>chlorides</th>\n      <td>Continous</td>\n    </tr>\n    <tr>\n      <th>free_sulfur_dioxide</th>\n      <td>Continous</td>\n    </tr>\n    <tr>\n      <th>total_sulfur_dioxide</th>\n      <td>Continous</td>\n    </tr>\n    <tr>\n      <th>density</th>\n      <td>Continous</td>\n    </tr>\n    <tr>\n      <th>pH</th>\n      <td>Continous</td>\n    </tr>\n    <tr>\n      <th>sulphates</th>\n      <td>Continous</td>\n    </tr>\n    <tr>\n      <th>alcohol</th>\n      <td>Continous</td>\n    </tr>\n    <tr>\n      <th>quality</th>\n      <td>Discrete</td>\n    </tr>\n  </tbody>\n</table>\n</div>"
     },
     "metadata": {}
    }
   ],
   "execution_count": null
  },
  {
   "cell_type": "markdown",
   "source": "As can be seen all the chemical properties (feature variables) have continous scale of measurement and the target variable, quality has a Discrete scale of measurement.",
   "metadata": {
    "cell_id": "00022-cfffc42b-4447-4d41-adbb-6cde5f215d98",
    "deepnote_cell_type": "markdown"
   }
  },
  {
   "cell_type": "markdown",
   "source": "Above we can see that most of the feature variables are nominal, with the exception bein price which is continious. Our target variable is discrete.",
   "metadata": {
    "cell_id": "00024-8ac7c905-5409-40e9-a50c-98472d0db55b",
    "deepnote_cell_type": "markdown"
   }
  },
  {
   "cell_type": "markdown",
   "source": "<h3>Central tendancies and dispersion measures</h3>\n\nFrom the central tendancies and dispersion measures we can see some useful statistics about the target and feature variables.",
   "metadata": {
    "cell_id": "00025-fad277a9-20ca-468f-b511-f5e214ab8622",
    "deepnote_cell_type": "markdown"
   }
  },
  {
   "cell_type": "code",
   "metadata": {
    "scrolled": false,
    "cell_id": "00026-efb13a21-48ba-4904-b1a4-2bd09b2d4207",
    "deepnote_to_be_reexecuted": true,
    "source_hash": "ed2c8ab2",
    "execution_start": 1633699844801,
    "execution_millis": 76,
    "deepnote_cell_type": "code"
   },
   "source": "dataset_red.describe().round(2)",
   "outputs": [
    {
     "output_type": "execute_result",
     "execution_count": 8,
     "data": {
      "application/vnd.deepnote.dataframe.v2+json": {
       "row_count": 8,
       "column_count": 12,
       "columns": [
        {
         "name": "fixed_acidity",
         "dtype": "float64",
         "stats": {
          "unique_count": 8,
          "nan_count": 0,
          "min": "1.74",
          "max": "1599.0",
          "histogram": [
           {
            "bin_start": 1.74,
            "bin_end": 161.466,
            "count": 7
           },
           {
            "bin_start": 161.466,
            "bin_end": 321.192,
            "count": 0
           },
           {
            "bin_start": 321.192,
            "bin_end": 480.918,
            "count": 0
           },
           {
            "bin_start": 480.918,
            "bin_end": 640.644,
            "count": 0
           },
           {
            "bin_start": 640.644,
            "bin_end": 800.37,
            "count": 0
           },
           {
            "bin_start": 800.37,
            "bin_end": 960.096,
            "count": 0
           },
           {
            "bin_start": 960.096,
            "bin_end": 1119.822,
            "count": 0
           },
           {
            "bin_start": 1119.822,
            "bin_end": 1279.548,
            "count": 0
           },
           {
            "bin_start": 1279.548,
            "bin_end": 1439.2740000000001,
            "count": 0
           },
           {
            "bin_start": 1439.2740000000001,
            "bin_end": 1599,
            "count": 1
           }
          ]
         }
        },
        {
         "name": "volatile_acidity",
         "dtype": "float64",
         "stats": {
          "unique_count": 8,
          "nan_count": 0,
          "min": "0.12",
          "max": "1599.0",
          "histogram": [
           {
            "bin_start": 0.12,
            "bin_end": 160.008,
            "count": 7
           },
           {
            "bin_start": 160.008,
            "bin_end": 319.896,
            "count": 0
           },
           {
            "bin_start": 319.896,
            "bin_end": 479.784,
            "count": 0
           },
           {
            "bin_start": 479.784,
            "bin_end": 639.672,
            "count": 0
           },
           {
            "bin_start": 639.672,
            "bin_end": 799.5600000000001,
            "count": 0
           },
           {
            "bin_start": 799.5600000000001,
            "bin_end": 959.448,
            "count": 0
           },
           {
            "bin_start": 959.448,
            "bin_end": 1119.336,
            "count": 0
           },
           {
            "bin_start": 1119.336,
            "bin_end": 1279.224,
            "count": 0
           },
           {
            "bin_start": 1279.224,
            "bin_end": 1439.1119999999999,
            "count": 0
           },
           {
            "bin_start": 1439.1119999999999,
            "bin_end": 1599,
            "count": 1
           }
          ]
         }
        },
        {
         "name": "citric_acid",
         "dtype": "float64",
         "stats": {
          "unique_count": 8,
          "nan_count": 0,
          "min": "0.0",
          "max": "1599.0",
          "histogram": [
           {
            "bin_start": 0,
            "bin_end": 159.9,
            "count": 7
           },
           {
            "bin_start": 159.9,
            "bin_end": 319.8,
            "count": 0
           },
           {
            "bin_start": 319.8,
            "bin_end": 479.70000000000005,
            "count": 0
           },
           {
            "bin_start": 479.70000000000005,
            "bin_end": 639.6,
            "count": 0
           },
           {
            "bin_start": 639.6,
            "bin_end": 799.5,
            "count": 0
           },
           {
            "bin_start": 799.5,
            "bin_end": 959.4000000000001,
            "count": 0
           },
           {
            "bin_start": 959.4000000000001,
            "bin_end": 1119.3,
            "count": 0
           },
           {
            "bin_start": 1119.3,
            "bin_end": 1279.2,
            "count": 0
           },
           {
            "bin_start": 1279.2,
            "bin_end": 1439.1000000000001,
            "count": 0
           },
           {
            "bin_start": 1439.1000000000001,
            "bin_end": 1599,
            "count": 1
           }
          ]
         }
        },
        {
         "name": "residual_sugar",
         "dtype": "float64",
         "stats": {
          "unique_count": 8,
          "nan_count": 0,
          "min": "0.9",
          "max": "1599.0",
          "histogram": [
           {
            "bin_start": 0.9,
            "bin_end": 160.71,
            "count": 7
           },
           {
            "bin_start": 160.71,
            "bin_end": 320.52,
            "count": 0
           },
           {
            "bin_start": 320.52,
            "bin_end": 480.33,
            "count": 0
           },
           {
            "bin_start": 480.33,
            "bin_end": 640.14,
            "count": 0
           },
           {
            "bin_start": 640.14,
            "bin_end": 799.9499999999999,
            "count": 0
           },
           {
            "bin_start": 799.9499999999999,
            "bin_end": 959.76,
            "count": 0
           },
           {
            "bin_start": 959.76,
            "bin_end": 1119.5700000000002,
            "count": 0
           },
           {
            "bin_start": 1119.5700000000002,
            "bin_end": 1279.38,
            "count": 0
           },
           {
            "bin_start": 1279.38,
            "bin_end": 1439.19,
            "count": 0
           },
           {
            "bin_start": 1439.19,
            "bin_end": 1599,
            "count": 1
           }
          ]
         }
        },
        {
         "name": "chlorides",
         "dtype": "float64",
         "stats": {
          "unique_count": 7,
          "nan_count": 0,
          "min": "0.01",
          "max": "1599.0",
          "histogram": [
           {
            "bin_start": 0.01,
            "bin_end": 159.909,
            "count": 7
           },
           {
            "bin_start": 159.909,
            "bin_end": 319.808,
            "count": 0
           },
           {
            "bin_start": 319.808,
            "bin_end": 479.707,
            "count": 0
           },
           {
            "bin_start": 479.707,
            "bin_end": 639.606,
            "count": 0
           },
           {
            "bin_start": 639.606,
            "bin_end": 799.505,
            "count": 0
           },
           {
            "bin_start": 799.505,
            "bin_end": 959.404,
            "count": 0
           },
           {
            "bin_start": 959.404,
            "bin_end": 1119.303,
            "count": 0
           },
           {
            "bin_start": 1119.303,
            "bin_end": 1279.202,
            "count": 0
           },
           {
            "bin_start": 1279.202,
            "bin_end": 1439.1009999999999,
            "count": 0
           },
           {
            "bin_start": 1439.1009999999999,
            "bin_end": 1599,
            "count": 1
           }
          ]
         }
        },
        {
         "name": "free_sulfur_dioxide",
         "dtype": "float64",
         "stats": {
          "unique_count": 8,
          "nan_count": 0,
          "min": "1.0",
          "max": "1599.0",
          "histogram": [
           {
            "bin_start": 1,
            "bin_end": 160.8,
            "count": 7
           },
           {
            "bin_start": 160.8,
            "bin_end": 320.6,
            "count": 0
           },
           {
            "bin_start": 320.6,
            "bin_end": 480.40000000000003,
            "count": 0
           },
           {
            "bin_start": 480.40000000000003,
            "bin_end": 640.2,
            "count": 0
           },
           {
            "bin_start": 640.2,
            "bin_end": 800,
            "count": 0
           },
           {
            "bin_start": 800,
            "bin_end": 959.8000000000001,
            "count": 0
           },
           {
            "bin_start": 959.8000000000001,
            "bin_end": 1119.6000000000001,
            "count": 0
           },
           {
            "bin_start": 1119.6000000000001,
            "bin_end": 1279.4,
            "count": 0
           },
           {
            "bin_start": 1279.4,
            "bin_end": 1439.2,
            "count": 0
           },
           {
            "bin_start": 1439.2,
            "bin_end": 1599,
            "count": 1
           }
          ]
         }
        },
        {
         "name": "total_sulfur_dioxide",
         "dtype": "float64",
         "stats": {
          "unique_count": 8,
          "nan_count": 0,
          "min": "6.0",
          "max": "1599.0",
          "histogram": [
           {
            "bin_start": 6,
            "bin_end": 165.3,
            "count": 6
           },
           {
            "bin_start": 165.3,
            "bin_end": 324.6,
            "count": 1
           },
           {
            "bin_start": 324.6,
            "bin_end": 483.90000000000003,
            "count": 0
           },
           {
            "bin_start": 483.90000000000003,
            "bin_end": 643.2,
            "count": 0
           },
           {
            "bin_start": 643.2,
            "bin_end": 802.5,
            "count": 0
           },
           {
            "bin_start": 802.5,
            "bin_end": 961.8000000000001,
            "count": 0
           },
           {
            "bin_start": 961.8000000000001,
            "bin_end": 1121.1000000000001,
            "count": 0
           },
           {
            "bin_start": 1121.1000000000001,
            "bin_end": 1280.4,
            "count": 0
           },
           {
            "bin_start": 1280.4,
            "bin_end": 1439.7,
            "count": 0
           },
           {
            "bin_start": 1439.7,
            "bin_end": 1599,
            "count": 1
           }
          ]
         }
        },
        {
         "name": "density",
         "dtype": "float64",
         "stats": {
          "unique_count": 4,
          "nan_count": 0,
          "min": "0.0",
          "max": "1599.0",
          "histogram": [
           {
            "bin_start": 0,
            "bin_end": 159.9,
            "count": 7
           },
           {
            "bin_start": 159.9,
            "bin_end": 319.8,
            "count": 0
           },
           {
            "bin_start": 319.8,
            "bin_end": 479.70000000000005,
            "count": 0
           },
           {
            "bin_start": 479.70000000000005,
            "bin_end": 639.6,
            "count": 0
           },
           {
            "bin_start": 639.6,
            "bin_end": 799.5,
            "count": 0
           },
           {
            "bin_start": 799.5,
            "bin_end": 959.4000000000001,
            "count": 0
           },
           {
            "bin_start": 959.4000000000001,
            "bin_end": 1119.3,
            "count": 0
           },
           {
            "bin_start": 1119.3,
            "bin_end": 1279.2,
            "count": 0
           },
           {
            "bin_start": 1279.2,
            "bin_end": 1439.1000000000001,
            "count": 0
           },
           {
            "bin_start": 1439.1000000000001,
            "bin_end": 1599,
            "count": 1
           }
          ]
         }
        },
        {
         "name": "pH",
         "dtype": "float64",
         "stats": {
          "unique_count": 7,
          "nan_count": 0,
          "min": "0.15",
          "max": "1599.0",
          "histogram": [
           {
            "bin_start": 0.15,
            "bin_end": 160.035,
            "count": 7
           },
           {
            "bin_start": 160.035,
            "bin_end": 319.91999999999996,
            "count": 0
           },
           {
            "bin_start": 319.91999999999996,
            "bin_end": 479.80499999999995,
            "count": 0
           },
           {
            "bin_start": 479.80499999999995,
            "bin_end": 639.6899999999999,
            "count": 0
           },
           {
            "bin_start": 639.6899999999999,
            "bin_end": 799.5749999999999,
            "count": 0
           },
           {
            "bin_start": 799.5749999999999,
            "bin_end": 959.4599999999999,
            "count": 0
           },
           {
            "bin_start": 959.4599999999999,
            "bin_end": 1119.345,
            "count": 0
           },
           {
            "bin_start": 1119.345,
            "bin_end": 1279.23,
            "count": 0
           },
           {
            "bin_start": 1279.23,
            "bin_end": 1439.115,
            "count": 0
           },
           {
            "bin_start": 1439.115,
            "bin_end": 1599,
            "count": 1
           }
          ]
         }
        },
        {
         "name": "sulphates",
         "dtype": "float64",
         "stats": {
          "unique_count": 8,
          "nan_count": 0,
          "min": "0.17",
          "max": "1599.0",
          "histogram": [
           {
            "bin_start": 0.17,
            "bin_end": 160.05299999999997,
            "count": 7
           },
           {
            "bin_start": 160.05299999999997,
            "bin_end": 319.936,
            "count": 0
           },
           {
            "bin_start": 319.936,
            "bin_end": 479.81899999999996,
            "count": 0
           },
           {
            "bin_start": 479.81899999999996,
            "bin_end": 639.7019999999999,
            "count": 0
           },
           {
            "bin_start": 639.7019999999999,
            "bin_end": 799.5849999999999,
            "count": 0
           },
           {
            "bin_start": 799.5849999999999,
            "bin_end": 959.4679999999998,
            "count": 0
           },
           {
            "bin_start": 959.4679999999998,
            "bin_end": 1119.3509999999999,
            "count": 0
           },
           {
            "bin_start": 1119.3509999999999,
            "bin_end": 1279.234,
            "count": 0
           },
           {
            "bin_start": 1279.234,
            "bin_end": 1439.117,
            "count": 0
           },
           {
            "bin_start": 1439.117,
            "bin_end": 1599,
            "count": 1
           }
          ]
         }
        },
        {
         "name": "alcohol",
         "dtype": "float64",
         "stats": {
          "unique_count": 8,
          "nan_count": 0,
          "min": "1.07",
          "max": "1599.0",
          "histogram": [
           {
            "bin_start": 1.07,
            "bin_end": 160.863,
            "count": 7
           },
           {
            "bin_start": 160.863,
            "bin_end": 320.656,
            "count": 0
           },
           {
            "bin_start": 320.656,
            "bin_end": 480.449,
            "count": 0
           },
           {
            "bin_start": 480.449,
            "bin_end": 640.2420000000001,
            "count": 0
           },
           {
            "bin_start": 640.2420000000001,
            "bin_end": 800.0350000000001,
            "count": 0
           },
           {
            "bin_start": 800.0350000000001,
            "bin_end": 959.8280000000001,
            "count": 0
           },
           {
            "bin_start": 959.8280000000001,
            "bin_end": 1119.6209999999999,
            "count": 0
           },
           {
            "bin_start": 1119.6209999999999,
            "bin_end": 1279.414,
            "count": 0
           },
           {
            "bin_start": 1279.414,
            "bin_end": 1439.207,
            "count": 0
           },
           {
            "bin_start": 1439.207,
            "bin_end": 1599,
            "count": 1
           }
          ]
         }
        },
        {
         "name": "quality",
         "dtype": "float64",
         "stats": {
          "unique_count": 7,
          "nan_count": 0,
          "min": "0.81",
          "max": "1599.0",
          "histogram": [
           {
            "bin_start": 0.81,
            "bin_end": 160.62900000000002,
            "count": 7
           },
           {
            "bin_start": 160.62900000000002,
            "bin_end": 320.44800000000004,
            "count": 0
           },
           {
            "bin_start": 320.44800000000004,
            "bin_end": 480.26700000000005,
            "count": 0
           },
           {
            "bin_start": 480.26700000000005,
            "bin_end": 640.086,
            "count": 0
           },
           {
            "bin_start": 640.086,
            "bin_end": 799.905,
            "count": 0
           },
           {
            "bin_start": 799.905,
            "bin_end": 959.724,
            "count": 0
           },
           {
            "bin_start": 959.724,
            "bin_end": 1119.5430000000001,
            "count": 0
           },
           {
            "bin_start": 1119.5430000000001,
            "bin_end": 1279.362,
            "count": 0
           },
           {
            "bin_start": 1279.362,
            "bin_end": 1439.181,
            "count": 0
           },
           {
            "bin_start": 1439.181,
            "bin_end": 1599,
            "count": 1
           }
          ]
         }
        },
        {
         "name": "_deepnote_index_column",
         "dtype": "object"
        }
       ],
       "rows_top": [
        {
         "fixed_acidity": 1599,
         "volatile_acidity": 1599,
         "citric_acid": 1599,
         "residual_sugar": 1599,
         "chlorides": 1599,
         "free_sulfur_dioxide": 1599,
         "total_sulfur_dioxide": 1599,
         "density": 1599,
         "pH": 1599,
         "sulphates": 1599,
         "alcohol": 1599,
         "quality": 1599,
         "_deepnote_index_column": "count"
        },
        {
         "fixed_acidity": 8.32,
         "volatile_acidity": 0.53,
         "citric_acid": 0.27,
         "residual_sugar": 2.54,
         "chlorides": 0.09,
         "free_sulfur_dioxide": 15.87,
         "total_sulfur_dioxide": 46.47,
         "density": 1,
         "pH": 3.31,
         "sulphates": 0.66,
         "alcohol": 10.42,
         "quality": 5.64,
         "_deepnote_index_column": "mean"
        },
        {
         "fixed_acidity": 1.74,
         "volatile_acidity": 0.18,
         "citric_acid": 0.19,
         "residual_sugar": 1.41,
         "chlorides": 0.05,
         "free_sulfur_dioxide": 10.46,
         "total_sulfur_dioxide": 32.9,
         "density": 0,
         "pH": 0.15,
         "sulphates": 0.17,
         "alcohol": 1.07,
         "quality": 0.81,
         "_deepnote_index_column": "std"
        },
        {
         "fixed_acidity": 4.6,
         "volatile_acidity": 0.12,
         "citric_acid": 0,
         "residual_sugar": 0.9,
         "chlorides": 0.01,
         "free_sulfur_dioxide": 1,
         "total_sulfur_dioxide": 6,
         "density": 0.99,
         "pH": 2.74,
         "sulphates": 0.33,
         "alcohol": 8.4,
         "quality": 3,
         "_deepnote_index_column": "min"
        },
        {
         "fixed_acidity": 7.1,
         "volatile_acidity": 0.39,
         "citric_acid": 0.09,
         "residual_sugar": 1.9,
         "chlorides": 0.07,
         "free_sulfur_dioxide": 7,
         "total_sulfur_dioxide": 22,
         "density": 1,
         "pH": 3.21,
         "sulphates": 0.55,
         "alcohol": 9.5,
         "quality": 5,
         "_deepnote_index_column": "25%"
        },
        {
         "fixed_acidity": 7.9,
         "volatile_acidity": 0.52,
         "citric_acid": 0.26,
         "residual_sugar": 2.2,
         "chlorides": 0.08,
         "free_sulfur_dioxide": 14,
         "total_sulfur_dioxide": 38,
         "density": 1,
         "pH": 3.31,
         "sulphates": 0.62,
         "alcohol": 10.2,
         "quality": 6,
         "_deepnote_index_column": "50%"
        },
        {
         "fixed_acidity": 9.2,
         "volatile_acidity": 0.64,
         "citric_acid": 0.42,
         "residual_sugar": 2.6,
         "chlorides": 0.09,
         "free_sulfur_dioxide": 21,
         "total_sulfur_dioxide": 62,
         "density": 1,
         "pH": 3.4,
         "sulphates": 0.73,
         "alcohol": 11.1,
         "quality": 6,
         "_deepnote_index_column": "75%"
        },
        {
         "fixed_acidity": 15.9,
         "volatile_acidity": 1.58,
         "citric_acid": 1,
         "residual_sugar": 15.5,
         "chlorides": 0.61,
         "free_sulfur_dioxide": 72,
         "total_sulfur_dioxide": 289,
         "density": 1,
         "pH": 4.01,
         "sulphates": 2,
         "alcohol": 14.9,
         "quality": 8,
         "_deepnote_index_column": "max"
        }
       ],
       "rows_bottom": null
      },
      "text/plain": "       fixed_acidity  volatile_acidity  citric_acid  residual_sugar  \\\ncount        1599.00           1599.00      1599.00         1599.00   \nmean            8.32              0.53         0.27            2.54   \nstd             1.74              0.18         0.19            1.41   \nmin             4.60              0.12         0.00            0.90   \n25%             7.10              0.39         0.09            1.90   \n50%             7.90              0.52         0.26            2.20   \n75%             9.20              0.64         0.42            2.60   \nmax            15.90              1.58         1.00           15.50   \n\n       chlorides  free_sulfur_dioxide  total_sulfur_dioxide  density       pH  \\\ncount    1599.00              1599.00               1599.00  1599.00  1599.00   \nmean        0.09                15.87                 46.47     1.00     3.31   \nstd         0.05                10.46                 32.90     0.00     0.15   \nmin         0.01                 1.00                  6.00     0.99     2.74   \n25%         0.07                 7.00                 22.00     1.00     3.21   \n50%         0.08                14.00                 38.00     1.00     3.31   \n75%         0.09                21.00                 62.00     1.00     3.40   \nmax         0.61                72.00                289.00     1.00     4.01   \n\n       sulphates  alcohol  quality  \ncount    1599.00  1599.00  1599.00  \nmean        0.66    10.42     5.64  \nstd         0.17     1.07     0.81  \nmin         0.33     8.40     3.00  \n25%         0.55     9.50     5.00  \n50%         0.62    10.20     6.00  \n75%         0.73    11.10     6.00  \nmax         2.00    14.90     8.00  ",
      "text/html": "<div>\n<style scoped>\n    .dataframe tbody tr th:only-of-type {\n        vertical-align: middle;\n    }\n\n    .dataframe tbody tr th {\n        vertical-align: top;\n    }\n\n    .dataframe thead th {\n        text-align: right;\n    }\n</style>\n<table border=\"1\" class=\"dataframe\">\n  <thead>\n    <tr style=\"text-align: right;\">\n      <th></th>\n      <th>fixed_acidity</th>\n      <th>volatile_acidity</th>\n      <th>citric_acid</th>\n      <th>residual_sugar</th>\n      <th>chlorides</th>\n      <th>free_sulfur_dioxide</th>\n      <th>total_sulfur_dioxide</th>\n      <th>density</th>\n      <th>pH</th>\n      <th>sulphates</th>\n      <th>alcohol</th>\n      <th>quality</th>\n    </tr>\n  </thead>\n  <tbody>\n    <tr>\n      <th>count</th>\n      <td>1599.00</td>\n      <td>1599.00</td>\n      <td>1599.00</td>\n      <td>1599.00</td>\n      <td>1599.00</td>\n      <td>1599.00</td>\n      <td>1599.00</td>\n      <td>1599.00</td>\n      <td>1599.00</td>\n      <td>1599.00</td>\n      <td>1599.00</td>\n      <td>1599.00</td>\n    </tr>\n    <tr>\n      <th>mean</th>\n      <td>8.32</td>\n      <td>0.53</td>\n      <td>0.27</td>\n      <td>2.54</td>\n      <td>0.09</td>\n      <td>15.87</td>\n      <td>46.47</td>\n      <td>1.00</td>\n      <td>3.31</td>\n      <td>0.66</td>\n      <td>10.42</td>\n      <td>5.64</td>\n    </tr>\n    <tr>\n      <th>std</th>\n      <td>1.74</td>\n      <td>0.18</td>\n      <td>0.19</td>\n      <td>1.41</td>\n      <td>0.05</td>\n      <td>10.46</td>\n      <td>32.90</td>\n      <td>0.00</td>\n      <td>0.15</td>\n      <td>0.17</td>\n      <td>1.07</td>\n      <td>0.81</td>\n    </tr>\n    <tr>\n      <th>min</th>\n      <td>4.60</td>\n      <td>0.12</td>\n      <td>0.00</td>\n      <td>0.90</td>\n      <td>0.01</td>\n      <td>1.00</td>\n      <td>6.00</td>\n      <td>0.99</td>\n      <td>2.74</td>\n      <td>0.33</td>\n      <td>8.40</td>\n      <td>3.00</td>\n    </tr>\n    <tr>\n      <th>25%</th>\n      <td>7.10</td>\n      <td>0.39</td>\n      <td>0.09</td>\n      <td>1.90</td>\n      <td>0.07</td>\n      <td>7.00</td>\n      <td>22.00</td>\n      <td>1.00</td>\n      <td>3.21</td>\n      <td>0.55</td>\n      <td>9.50</td>\n      <td>5.00</td>\n    </tr>\n    <tr>\n      <th>50%</th>\n      <td>7.90</td>\n      <td>0.52</td>\n      <td>0.26</td>\n      <td>2.20</td>\n      <td>0.08</td>\n      <td>14.00</td>\n      <td>38.00</td>\n      <td>1.00</td>\n      <td>3.31</td>\n      <td>0.62</td>\n      <td>10.20</td>\n      <td>6.00</td>\n    </tr>\n    <tr>\n      <th>75%</th>\n      <td>9.20</td>\n      <td>0.64</td>\n      <td>0.42</td>\n      <td>2.60</td>\n      <td>0.09</td>\n      <td>21.00</td>\n      <td>62.00</td>\n      <td>1.00</td>\n      <td>3.40</td>\n      <td>0.73</td>\n      <td>11.10</td>\n      <td>6.00</td>\n    </tr>\n    <tr>\n      <th>max</th>\n      <td>15.90</td>\n      <td>1.58</td>\n      <td>1.00</td>\n      <td>15.50</td>\n      <td>0.61</td>\n      <td>72.00</td>\n      <td>289.00</td>\n      <td>1.00</td>\n      <td>4.01</td>\n      <td>2.00</td>\n      <td>14.90</td>\n      <td>8.00</td>\n    </tr>\n  </tbody>\n</table>\n</div>"
     },
     "metadata": {}
    }
   ],
   "execution_count": null
  },
  {
   "cell_type": "markdown",
   "source": "From the describe we can tell that there are quite a few columns with a big difference between maximum and minimum values which indicate outliers.\n\nThe columns with big differences between max and min values:\nResidual_sugar, chlorides, free_sulfur_dioxide ,total_sulfur_dioxide.",
   "metadata": {
    "cell_id": "00027-7b9cd286-09a3-48e8-a220-079eb21db0fc",
    "deepnote_cell_type": "markdown"
   }
  },
  {
   "cell_type": "code",
   "metadata": {
    "scrolled": true,
    "cell_id": "00028-d724dd74-970f-41d4-8c2b-7d4f7fbcdaa1",
    "deepnote_to_be_reexecuted": true,
    "source_hash": "1da9a95e",
    "execution_start": 1633699844872,
    "execution_millis": 79,
    "deepnote_cell_type": "code"
   },
   "source": "dataset_white.describe().round(2)",
   "outputs": [
    {
     "output_type": "execute_result",
     "execution_count": 9,
     "data": {
      "application/vnd.deepnote.dataframe.v2+json": {
       "row_count": 8,
       "column_count": 12,
       "columns": [
        {
         "name": "fixed_acidity",
         "dtype": "float64",
         "stats": {
          "unique_count": 8,
          "nan_count": 0,
          "min": "0.84",
          "max": "4898.0",
          "histogram": [
           {
            "bin_start": 0.84,
            "bin_end": 490.556,
            "count": 7
           },
           {
            "bin_start": 490.556,
            "bin_end": 980.272,
            "count": 0
           },
           {
            "bin_start": 980.272,
            "bin_end": 1469.988,
            "count": 0
           },
           {
            "bin_start": 1469.988,
            "bin_end": 1959.704,
            "count": 0
           },
           {
            "bin_start": 1959.704,
            "bin_end": 2449.42,
            "count": 0
           },
           {
            "bin_start": 2449.42,
            "bin_end": 2939.1360000000004,
            "count": 0
           },
           {
            "bin_start": 2939.1360000000004,
            "bin_end": 3428.8520000000003,
            "count": 0
           },
           {
            "bin_start": 3428.8520000000003,
            "bin_end": 3918.568,
            "count": 0
           },
           {
            "bin_start": 3918.568,
            "bin_end": 4408.284000000001,
            "count": 0
           },
           {
            "bin_start": 4408.284000000001,
            "bin_end": 4898,
            "count": 1
           }
          ]
         }
        },
        {
         "name": "volatile_acidity",
         "dtype": "float64",
         "stats": {
          "unique_count": 8,
          "nan_count": 0,
          "min": "0.08",
          "max": "4898.0",
          "histogram": [
           {
            "bin_start": 0.08,
            "bin_end": 489.872,
            "count": 7
           },
           {
            "bin_start": 489.872,
            "bin_end": 979.6640000000001,
            "count": 0
           },
           {
            "bin_start": 979.6640000000001,
            "bin_end": 1469.4560000000001,
            "count": 0
           },
           {
            "bin_start": 1469.4560000000001,
            "bin_end": 1959.248,
            "count": 0
           },
           {
            "bin_start": 1959.248,
            "bin_end": 2449.04,
            "count": 0
           },
           {
            "bin_start": 2449.04,
            "bin_end": 2938.8320000000003,
            "count": 0
           },
           {
            "bin_start": 2938.8320000000003,
            "bin_end": 3428.6240000000003,
            "count": 0
           },
           {
            "bin_start": 3428.6240000000003,
            "bin_end": 3918.416,
            "count": 0
           },
           {
            "bin_start": 3918.416,
            "bin_end": 4408.2080000000005,
            "count": 0
           },
           {
            "bin_start": 4408.2080000000005,
            "bin_end": 4898,
            "count": 1
           }
          ]
         }
        },
        {
         "name": "citric_acid",
         "dtype": "float64",
         "stats": {
          "unique_count": 8,
          "nan_count": 0,
          "min": "0.0",
          "max": "4898.0",
          "histogram": [
           {
            "bin_start": 0,
            "bin_end": 489.8,
            "count": 7
           },
           {
            "bin_start": 489.8,
            "bin_end": 979.6,
            "count": 0
           },
           {
            "bin_start": 979.6,
            "bin_end": 1469.4,
            "count": 0
           },
           {
            "bin_start": 1469.4,
            "bin_end": 1959.2,
            "count": 0
           },
           {
            "bin_start": 1959.2,
            "bin_end": 2449,
            "count": 0
           },
           {
            "bin_start": 2449,
            "bin_end": 2938.8,
            "count": 0
           },
           {
            "bin_start": 2938.8,
            "bin_end": 3428.6,
            "count": 0
           },
           {
            "bin_start": 3428.6,
            "bin_end": 3918.4,
            "count": 0
           },
           {
            "bin_start": 3918.4,
            "bin_end": 4408.2,
            "count": 0
           },
           {
            "bin_start": 4408.2,
            "bin_end": 4898,
            "count": 1
           }
          ]
         }
        },
        {
         "name": "residual_sugar",
         "dtype": "float64",
         "stats": {
          "unique_count": 8,
          "nan_count": 0,
          "min": "0.6",
          "max": "4898.0",
          "histogram": [
           {
            "bin_start": 0.6,
            "bin_end": 490.34,
            "count": 7
           },
           {
            "bin_start": 490.34,
            "bin_end": 980.0799999999999,
            "count": 0
           },
           {
            "bin_start": 980.0799999999999,
            "bin_end": 1469.8199999999997,
            "count": 0
           },
           {
            "bin_start": 1469.8199999999997,
            "bin_end": 1959.5599999999997,
            "count": 0
           },
           {
            "bin_start": 1959.5599999999997,
            "bin_end": 2449.2999999999997,
            "count": 0
           },
           {
            "bin_start": 2449.2999999999997,
            "bin_end": 2939.0399999999995,
            "count": 0
           },
           {
            "bin_start": 2939.0399999999995,
            "bin_end": 3428.7799999999997,
            "count": 0
           },
           {
            "bin_start": 3428.7799999999997,
            "bin_end": 3918.5199999999995,
            "count": 0
           },
           {
            "bin_start": 3918.5199999999995,
            "bin_end": 4408.26,
            "count": 0
           },
           {
            "bin_start": 4408.26,
            "bin_end": 4898,
            "count": 1
           }
          ]
         }
        },
        {
         "name": "chlorides",
         "dtype": "float64",
         "stats": {
          "unique_count": 6,
          "nan_count": 0,
          "min": "0.01",
          "max": "4898.0",
          "histogram": [
           {
            "bin_start": 0.01,
            "bin_end": 489.80899999999997,
            "count": 7
           },
           {
            "bin_start": 489.80899999999997,
            "bin_end": 979.608,
            "count": 0
           },
           {
            "bin_start": 979.608,
            "bin_end": 1469.407,
            "count": 0
           },
           {
            "bin_start": 1469.407,
            "bin_end": 1959.206,
            "count": 0
           },
           {
            "bin_start": 1959.206,
            "bin_end": 2449.005,
            "count": 0
           },
           {
            "bin_start": 2449.005,
            "bin_end": 2938.804,
            "count": 0
           },
           {
            "bin_start": 2938.804,
            "bin_end": 3428.603,
            "count": 0
           },
           {
            "bin_start": 3428.603,
            "bin_end": 3918.402,
            "count": 0
           },
           {
            "bin_start": 3918.402,
            "bin_end": 4408.201,
            "count": 0
           },
           {
            "bin_start": 4408.201,
            "bin_end": 4898,
            "count": 1
           }
          ]
         }
        },
        {
         "name": "free_sulfur_dioxide",
         "dtype": "float64",
         "stats": {
          "unique_count": 8,
          "nan_count": 0,
          "min": "2.0",
          "max": "4898.0",
          "histogram": [
           {
            "bin_start": 2,
            "bin_end": 491.6,
            "count": 7
           },
           {
            "bin_start": 491.6,
            "bin_end": 981.2,
            "count": 0
           },
           {
            "bin_start": 981.2,
            "bin_end": 1470.8000000000002,
            "count": 0
           },
           {
            "bin_start": 1470.8000000000002,
            "bin_end": 1960.4,
            "count": 0
           },
           {
            "bin_start": 1960.4,
            "bin_end": 2450,
            "count": 0
           },
           {
            "bin_start": 2450,
            "bin_end": 2939.6000000000004,
            "count": 0
           },
           {
            "bin_start": 2939.6000000000004,
            "bin_end": 3429.2000000000003,
            "count": 0
           },
           {
            "bin_start": 3429.2000000000003,
            "bin_end": 3918.8,
            "count": 0
           },
           {
            "bin_start": 3918.8,
            "bin_end": 4408.400000000001,
            "count": 0
           },
           {
            "bin_start": 4408.400000000001,
            "bin_end": 4898,
            "count": 1
           }
          ]
         }
        },
        {
         "name": "total_sulfur_dioxide",
         "dtype": "float64",
         "stats": {
          "unique_count": 8,
          "nan_count": 0,
          "min": "9.0",
          "max": "4898.0",
          "histogram": [
           {
            "bin_start": 9,
            "bin_end": 497.9,
            "count": 7
           },
           {
            "bin_start": 497.9,
            "bin_end": 986.8,
            "count": 0
           },
           {
            "bin_start": 986.8,
            "bin_end": 1475.6999999999998,
            "count": 0
           },
           {
            "bin_start": 1475.6999999999998,
            "bin_end": 1964.6,
            "count": 0
           },
           {
            "bin_start": 1964.6,
            "bin_end": 2453.5,
            "count": 0
           },
           {
            "bin_start": 2453.5,
            "bin_end": 2942.3999999999996,
            "count": 0
           },
           {
            "bin_start": 2942.3999999999996,
            "bin_end": 3431.2999999999997,
            "count": 0
           },
           {
            "bin_start": 3431.2999999999997,
            "bin_end": 3920.2,
            "count": 0
           },
           {
            "bin_start": 3920.2,
            "bin_end": 4409.099999999999,
            "count": 0
           },
           {
            "bin_start": 4409.099999999999,
            "bin_end": 4898,
            "count": 1
           }
          ]
         }
        },
        {
         "name": "density",
         "dtype": "float64",
         "stats": {
          "unique_count": 5,
          "nan_count": 0,
          "min": "0.0",
          "max": "4898.0",
          "histogram": [
           {
            "bin_start": 0,
            "bin_end": 489.8,
            "count": 7
           },
           {
            "bin_start": 489.8,
            "bin_end": 979.6,
            "count": 0
           },
           {
            "bin_start": 979.6,
            "bin_end": 1469.4,
            "count": 0
           },
           {
            "bin_start": 1469.4,
            "bin_end": 1959.2,
            "count": 0
           },
           {
            "bin_start": 1959.2,
            "bin_end": 2449,
            "count": 0
           },
           {
            "bin_start": 2449,
            "bin_end": 2938.8,
            "count": 0
           },
           {
            "bin_start": 2938.8,
            "bin_end": 3428.6,
            "count": 0
           },
           {
            "bin_start": 3428.6,
            "bin_end": 3918.4,
            "count": 0
           },
           {
            "bin_start": 3918.4,
            "bin_end": 4408.2,
            "count": 0
           },
           {
            "bin_start": 4408.2,
            "bin_end": 4898,
            "count": 1
           }
          ]
         }
        },
        {
         "name": "pH",
         "dtype": "float64",
         "stats": {
          "unique_count": 8,
          "nan_count": 0,
          "min": "0.15",
          "max": "4898.0",
          "histogram": [
           {
            "bin_start": 0.15,
            "bin_end": 489.935,
            "count": 7
           },
           {
            "bin_start": 489.935,
            "bin_end": 979.72,
            "count": 0
           },
           {
            "bin_start": 979.72,
            "bin_end": 1469.505,
            "count": 0
           },
           {
            "bin_start": 1469.505,
            "bin_end": 1959.2900000000002,
            "count": 0
           },
           {
            "bin_start": 1959.2900000000002,
            "bin_end": 2449.0750000000003,
            "count": 0
           },
           {
            "bin_start": 2449.0750000000003,
            "bin_end": 2938.86,
            "count": 0
           },
           {
            "bin_start": 2938.86,
            "bin_end": 3428.6450000000004,
            "count": 0
           },
           {
            "bin_start": 3428.6450000000004,
            "bin_end": 3918.4300000000003,
            "count": 0
           },
           {
            "bin_start": 3918.4300000000003,
            "bin_end": 4408.215,
            "count": 0
           },
           {
            "bin_start": 4408.215,
            "bin_end": 4898,
            "count": 1
           }
          ]
         }
        },
        {
         "name": "sulphates",
         "dtype": "float64",
         "stats": {
          "unique_count": 8,
          "nan_count": 0,
          "min": "0.11",
          "max": "4898.0",
          "histogram": [
           {
            "bin_start": 0.11,
            "bin_end": 489.89900000000006,
            "count": 7
           },
           {
            "bin_start": 489.89900000000006,
            "bin_end": 979.6880000000001,
            "count": 0
           },
           {
            "bin_start": 979.6880000000001,
            "bin_end": 1469.477,
            "count": 0
           },
           {
            "bin_start": 1469.477,
            "bin_end": 1959.266,
            "count": 0
           },
           {
            "bin_start": 1959.266,
            "bin_end": 2449.0550000000003,
            "count": 0
           },
           {
            "bin_start": 2449.0550000000003,
            "bin_end": 2938.8440000000005,
            "count": 0
           },
           {
            "bin_start": 2938.8440000000005,
            "bin_end": 3428.6330000000003,
            "count": 0
           },
           {
            "bin_start": 3428.6330000000003,
            "bin_end": 3918.4220000000005,
            "count": 0
           },
           {
            "bin_start": 3918.4220000000005,
            "bin_end": 4408.211,
            "count": 0
           },
           {
            "bin_start": 4408.211,
            "bin_end": 4898,
            "count": 1
           }
          ]
         }
        },
        {
         "name": "alcohol",
         "dtype": "float64",
         "stats": {
          "unique_count": 8,
          "nan_count": 0,
          "min": "1.23",
          "max": "4898.0",
          "histogram": [
           {
            "bin_start": 1.23,
            "bin_end": 490.90700000000004,
            "count": 7
           },
           {
            "bin_start": 490.90700000000004,
            "bin_end": 980.5840000000001,
            "count": 0
           },
           {
            "bin_start": 980.5840000000001,
            "bin_end": 1470.261,
            "count": 0
           },
           {
            "bin_start": 1470.261,
            "bin_end": 1959.938,
            "count": 0
           },
           {
            "bin_start": 1959.938,
            "bin_end": 2449.6150000000002,
            "count": 0
           },
           {
            "bin_start": 2449.6150000000002,
            "bin_end": 2939.292,
            "count": 0
           },
           {
            "bin_start": 2939.292,
            "bin_end": 3428.969,
            "count": 0
           },
           {
            "bin_start": 3428.969,
            "bin_end": 3918.646,
            "count": 0
           },
           {
            "bin_start": 3918.646,
            "bin_end": 4408.322999999999,
            "count": 0
           },
           {
            "bin_start": 4408.322999999999,
            "bin_end": 4898,
            "count": 1
           }
          ]
         }
        },
        {
         "name": "quality",
         "dtype": "float64",
         "stats": {
          "unique_count": 7,
          "nan_count": 0,
          "min": "0.89",
          "max": "4898.0",
          "histogram": [
           {
            "bin_start": 0.89,
            "bin_end": 490.60099999999994,
            "count": 7
           },
           {
            "bin_start": 490.60099999999994,
            "bin_end": 980.3119999999999,
            "count": 0
           },
           {
            "bin_start": 980.3119999999999,
            "bin_end": 1470.023,
            "count": 0
           },
           {
            "bin_start": 1470.023,
            "bin_end": 1959.734,
            "count": 0
           },
           {
            "bin_start": 1959.734,
            "bin_end": 2449.4449999999997,
            "count": 0
           },
           {
            "bin_start": 2449.4449999999997,
            "bin_end": 2939.1559999999995,
            "count": 0
           },
           {
            "bin_start": 2939.1559999999995,
            "bin_end": 3428.8669999999997,
            "count": 0
           },
           {
            "bin_start": 3428.8669999999997,
            "bin_end": 3918.5779999999995,
            "count": 0
           },
           {
            "bin_start": 3918.5779999999995,
            "bin_end": 4408.289,
            "count": 0
           },
           {
            "bin_start": 4408.289,
            "bin_end": 4898,
            "count": 1
           }
          ]
         }
        },
        {
         "name": "_deepnote_index_column",
         "dtype": "object"
        }
       ],
       "rows_top": [
        {
         "fixed_acidity": 4898,
         "volatile_acidity": 4898,
         "citric_acid": 4898,
         "residual_sugar": 4898,
         "chlorides": 4898,
         "free_sulfur_dioxide": 4898,
         "total_sulfur_dioxide": 4898,
         "density": 4898,
         "pH": 4898,
         "sulphates": 4898,
         "alcohol": 4898,
         "quality": 4898,
         "_deepnote_index_column": "count"
        },
        {
         "fixed_acidity": 6.85,
         "volatile_acidity": 0.28,
         "citric_acid": 0.33,
         "residual_sugar": 6.39,
         "chlorides": 0.05,
         "free_sulfur_dioxide": 35.31,
         "total_sulfur_dioxide": 138.36,
         "density": 0.99,
         "pH": 3.19,
         "sulphates": 0.49,
         "alcohol": 10.51,
         "quality": 5.88,
         "_deepnote_index_column": "mean"
        },
        {
         "fixed_acidity": 0.84,
         "volatile_acidity": 0.1,
         "citric_acid": 0.12,
         "residual_sugar": 5.07,
         "chlorides": 0.02,
         "free_sulfur_dioxide": 17.01,
         "total_sulfur_dioxide": 42.5,
         "density": 0,
         "pH": 0.15,
         "sulphates": 0.11,
         "alcohol": 1.23,
         "quality": 0.89,
         "_deepnote_index_column": "std"
        },
        {
         "fixed_acidity": 3.8,
         "volatile_acidity": 0.08,
         "citric_acid": 0,
         "residual_sugar": 0.6,
         "chlorides": 0.01,
         "free_sulfur_dioxide": 2,
         "total_sulfur_dioxide": 9,
         "density": 0.99,
         "pH": 2.72,
         "sulphates": 0.22,
         "alcohol": 8,
         "quality": 3,
         "_deepnote_index_column": "min"
        },
        {
         "fixed_acidity": 6.3,
         "volatile_acidity": 0.21,
         "citric_acid": 0.27,
         "residual_sugar": 1.7,
         "chlorides": 0.04,
         "free_sulfur_dioxide": 23,
         "total_sulfur_dioxide": 108,
         "density": 0.99,
         "pH": 3.09,
         "sulphates": 0.41,
         "alcohol": 9.5,
         "quality": 5,
         "_deepnote_index_column": "25%"
        },
        {
         "fixed_acidity": 6.8,
         "volatile_acidity": 0.26,
         "citric_acid": 0.32,
         "residual_sugar": 5.2,
         "chlorides": 0.04,
         "free_sulfur_dioxide": 34,
         "total_sulfur_dioxide": 134,
         "density": 0.99,
         "pH": 3.18,
         "sulphates": 0.47,
         "alcohol": 10.4,
         "quality": 6,
         "_deepnote_index_column": "50%"
        },
        {
         "fixed_acidity": 7.3,
         "volatile_acidity": 0.32,
         "citric_acid": 0.39,
         "residual_sugar": 9.9,
         "chlorides": 0.05,
         "free_sulfur_dioxide": 46,
         "total_sulfur_dioxide": 167,
         "density": 1,
         "pH": 3.28,
         "sulphates": 0.55,
         "alcohol": 11.4,
         "quality": 6,
         "_deepnote_index_column": "75%"
        },
        {
         "fixed_acidity": 14.2,
         "volatile_acidity": 1.1,
         "citric_acid": 1.66,
         "residual_sugar": 65.8,
         "chlorides": 0.35,
         "free_sulfur_dioxide": 289,
         "total_sulfur_dioxide": 440,
         "density": 1.04,
         "pH": 3.82,
         "sulphates": 1.08,
         "alcohol": 14.2,
         "quality": 9,
         "_deepnote_index_column": "max"
        }
       ],
       "rows_bottom": null
      },
      "text/plain": "       fixed_acidity  volatile_acidity  citric_acid  residual_sugar  \\\ncount        4898.00           4898.00      4898.00         4898.00   \nmean            6.85              0.28         0.33            6.39   \nstd             0.84              0.10         0.12            5.07   \nmin             3.80              0.08         0.00            0.60   \n25%             6.30              0.21         0.27            1.70   \n50%             6.80              0.26         0.32            5.20   \n75%             7.30              0.32         0.39            9.90   \nmax            14.20              1.10         1.66           65.80   \n\n       chlorides  free_sulfur_dioxide  total_sulfur_dioxide  density       pH  \\\ncount    4898.00              4898.00               4898.00  4898.00  4898.00   \nmean        0.05                35.31                138.36     0.99     3.19   \nstd         0.02                17.01                 42.50     0.00     0.15   \nmin         0.01                 2.00                  9.00     0.99     2.72   \n25%         0.04                23.00                108.00     0.99     3.09   \n50%         0.04                34.00                134.00     0.99     3.18   \n75%         0.05                46.00                167.00     1.00     3.28   \nmax         0.35               289.00                440.00     1.04     3.82   \n\n       sulphates  alcohol  quality  \ncount    4898.00  4898.00  4898.00  \nmean        0.49    10.51     5.88  \nstd         0.11     1.23     0.89  \nmin         0.22     8.00     3.00  \n25%         0.41     9.50     5.00  \n50%         0.47    10.40     6.00  \n75%         0.55    11.40     6.00  \nmax         1.08    14.20     9.00  ",
      "text/html": "<div>\n<style scoped>\n    .dataframe tbody tr th:only-of-type {\n        vertical-align: middle;\n    }\n\n    .dataframe tbody tr th {\n        vertical-align: top;\n    }\n\n    .dataframe thead th {\n        text-align: right;\n    }\n</style>\n<table border=\"1\" class=\"dataframe\">\n  <thead>\n    <tr style=\"text-align: right;\">\n      <th></th>\n      <th>fixed_acidity</th>\n      <th>volatile_acidity</th>\n      <th>citric_acid</th>\n      <th>residual_sugar</th>\n      <th>chlorides</th>\n      <th>free_sulfur_dioxide</th>\n      <th>total_sulfur_dioxide</th>\n      <th>density</th>\n      <th>pH</th>\n      <th>sulphates</th>\n      <th>alcohol</th>\n      <th>quality</th>\n    </tr>\n  </thead>\n  <tbody>\n    <tr>\n      <th>count</th>\n      <td>4898.00</td>\n      <td>4898.00</td>\n      <td>4898.00</td>\n      <td>4898.00</td>\n      <td>4898.00</td>\n      <td>4898.00</td>\n      <td>4898.00</td>\n      <td>4898.00</td>\n      <td>4898.00</td>\n      <td>4898.00</td>\n      <td>4898.00</td>\n      <td>4898.00</td>\n    </tr>\n    <tr>\n      <th>mean</th>\n      <td>6.85</td>\n      <td>0.28</td>\n      <td>0.33</td>\n      <td>6.39</td>\n      <td>0.05</td>\n      <td>35.31</td>\n      <td>138.36</td>\n      <td>0.99</td>\n      <td>3.19</td>\n      <td>0.49</td>\n      <td>10.51</td>\n      <td>5.88</td>\n    </tr>\n    <tr>\n      <th>std</th>\n      <td>0.84</td>\n      <td>0.10</td>\n      <td>0.12</td>\n      <td>5.07</td>\n      <td>0.02</td>\n      <td>17.01</td>\n      <td>42.50</td>\n      <td>0.00</td>\n      <td>0.15</td>\n      <td>0.11</td>\n      <td>1.23</td>\n      <td>0.89</td>\n    </tr>\n    <tr>\n      <th>min</th>\n      <td>3.80</td>\n      <td>0.08</td>\n      <td>0.00</td>\n      <td>0.60</td>\n      <td>0.01</td>\n      <td>2.00</td>\n      <td>9.00</td>\n      <td>0.99</td>\n      <td>2.72</td>\n      <td>0.22</td>\n      <td>8.00</td>\n      <td>3.00</td>\n    </tr>\n    <tr>\n      <th>25%</th>\n      <td>6.30</td>\n      <td>0.21</td>\n      <td>0.27</td>\n      <td>1.70</td>\n      <td>0.04</td>\n      <td>23.00</td>\n      <td>108.00</td>\n      <td>0.99</td>\n      <td>3.09</td>\n      <td>0.41</td>\n      <td>9.50</td>\n      <td>5.00</td>\n    </tr>\n    <tr>\n      <th>50%</th>\n      <td>6.80</td>\n      <td>0.26</td>\n      <td>0.32</td>\n      <td>5.20</td>\n      <td>0.04</td>\n      <td>34.00</td>\n      <td>134.00</td>\n      <td>0.99</td>\n      <td>3.18</td>\n      <td>0.47</td>\n      <td>10.40</td>\n      <td>6.00</td>\n    </tr>\n    <tr>\n      <th>75%</th>\n      <td>7.30</td>\n      <td>0.32</td>\n      <td>0.39</td>\n      <td>9.90</td>\n      <td>0.05</td>\n      <td>46.00</td>\n      <td>167.00</td>\n      <td>1.00</td>\n      <td>3.28</td>\n      <td>0.55</td>\n      <td>11.40</td>\n      <td>6.00</td>\n    </tr>\n    <tr>\n      <th>max</th>\n      <td>14.20</td>\n      <td>1.10</td>\n      <td>1.66</td>\n      <td>65.80</td>\n      <td>0.35</td>\n      <td>289.00</td>\n      <td>440.00</td>\n      <td>1.04</td>\n      <td>3.82</td>\n      <td>1.08</td>\n      <td>14.20</td>\n      <td>9.00</td>\n    </tr>\n  </tbody>\n</table>\n</div>"
     },
     "metadata": {}
    }
   ],
   "execution_count": null
  },
  {
   "cell_type": "markdown",
   "source": "Just like the red-wine dataset, the white-wine dataset has similair differences in maximum and minimum values.",
   "metadata": {
    "cell_id": "00029-5a214bf7-2fe5-4727-bfd4-317cc08f2eee",
    "deepnote_cell_type": "markdown"
   }
  },
  {
   "cell_type": "markdown",
   "source": "<h3>Distribution of data</h3>\n",
   "metadata": {
    "cell_id": "00030-0c79cf92-323a-4fc5-9e99-708b5d25c5b2",
    "deepnote_cell_type": "markdown"
   }
  },
  {
   "cell_type": "markdown",
   "source": "Lets take a more visual look at the distribution of all data through a histogram for each of the feature and target attributes.",
   "metadata": {
    "cell_id": "00031-569b0949-b9cf-4adb-b750-432bef7bcd63",
    "deepnote_cell_type": "markdown"
   }
  },
  {
   "cell_type": "markdown",
   "source": "Starting off with the red wine dataset",
   "metadata": {
    "cell_id": "00032-407e1a39-7e26-406c-b9f0-3aea64dad929",
    "deepnote_cell_type": "markdown"
   }
  },
  {
   "cell_type": "code",
   "metadata": {
    "scrolled": true,
    "cell_id": "00033-f8e35319-144e-41e8-b260-67ebba6f3bf8",
    "deepnote_to_be_reexecuted": true,
    "source_hash": "40fba6c4",
    "execution_start": 1633699844947,
    "execution_millis": 2013,
    "deepnote_cell_type": "code"
   },
   "source": "dataset_red.hist(figsize=(15,15))\nplt.show()",
   "outputs": [
    {
     "data": {
      "text/plain": "<Figure size 1080x1080 with 12 Axes>",
      "image/png": "[encoded data removed]"
     },
     "metadata": {
      "needs_background": "light",
      "image/png": {
       "width": 883,
       "height": 862
      }
     },
     "output_type": "display_data"
    }
   ],
   "execution_count": null
  },
  {
   "cell_type": "markdown",
   "source": "Moving on to the white wine dataset:",
   "metadata": {
    "cell_id": "00034-5ea01c57-8cad-4257-8dd1-c3d3b464aa5d",
    "deepnote_cell_type": "markdown"
   }
  },
  {
   "cell_type": "code",
   "metadata": {
    "cell_id": "00035-ad05dbf3-5cb4-444d-83a3-03f2e84f1c21",
    "deepnote_to_be_reexecuted": true,
    "source_hash": "1912f906",
    "execution_start": 1633699846957,
    "execution_millis": 2015,
    "deepnote_cell_type": "code"
   },
   "source": "dataset_white.hist(figsize=(15,15))\nplt.show()",
   "outputs": [
    {
     "data": {
      "text/plain": "<Figure size 1080x1080 with 12 Axes>",
      "image/png": "[encoded data removed]"
     },
     "metadata": {
      "needs_background": "light",
      "image/png": {
       "width": 890,
       "height": 862
      }
     },
     "output_type": "display_data"
    }
   ],
   "execution_count": null
  },
  {
   "cell_type": "markdown",
   "source": "As can been seen in the tables above the quality scores for the red wines range between 3 and 8 with wines with a score of 5 being the most common.\nThe white wines range within a quality of 3 and 9 with the score of 6 being most common.",
   "metadata": {
    "cell_id": "00036-b8b6c49b-b0a1-4801-bfd4-c67b1f340c5f",
    "deepnote_cell_type": "markdown"
   }
  },
  {
   "cell_type": "markdown",
   "source": "<h3>Outliers</h3>\n\nTo get a visual understanding of the outliers in the feature columns each feature gets a boxplotted with the target variable points. Giving a small summary of the minimum, Q1, Q2 (median), Q3 and the maximum of each attribute plotted against points scored to give a view of outliers at all quality levels.",
   "metadata": {
    "cell_id": "00037-2e10b0e1-abc0-4127-9452-7ff4799f957f",
    "deepnote_cell_type": "markdown"
   }
  },
  {
   "cell_type": "code",
   "metadata": {
    "cell_id": "00038-b887ff6e-31a6-4cce-bc74-9b62de04b655",
    "deepnote_to_be_reexecuted": true,
    "source_hash": "478e5b39",
    "execution_start": 1633699848935,
    "execution_millis": 5,
    "deepnote_cell_type": "code"
   },
   "source": "def boxplotter(dataset, y_axes, x_axis):\n    \"\"\"Function to boxplot 1 x_axis against a list of y_axis of a given dataset\"\"\"\n    for col in y_axes:\n        sns.boxplot(x=dataset[x_axis], y=dataset[col])\n        plt.show()",
   "outputs": [],
   "execution_count": null
  },
  {
   "cell_type": "markdown",
   "source": "First boxplot all the feature variables against the target variable of the red-wine dataset",
   "metadata": {
    "cell_id": "00039-2c8be42c-8de4-42ba-a66c-d467a7209f39",
    "deepnote_cell_type": "markdown"
   }
  },
  {
   "cell_type": "code",
   "metadata": {
    "cell_id": "00040-52f328bf-9fb5-4633-9b3e-449d473db4fc",
    "deepnote_to_be_reexecuted": true,
    "source_hash": "9090ef1a",
    "execution_start": 1633699848941,
    "execution_millis": 3122,
    "deepnote_cell_type": "code"
   },
   "source": "boxplotter(dataset=dataset_red, y_axes=feature_vars, x_axis=target_var)",
   "outputs": [
    {
     "data": {
      "text/plain": "<Figure size 432x288 with 1 Axes>",
      "image/png": "[encoded data removed]"
     },
     "metadata": {
      "needs_background": "light",
      "image/png": {
       "width": 383,
       "height": 262
      }
     },
     "output_type": "display_data"
    },
    {
     "data": {
      "text/plain": "<Figure size 432x288 with 1 Axes>",
      "image/png": "[encoded data removed]"
     },
     "metadata": {
      "needs_background": "light",
      "image/png": {
       "width": 387,
       "height": 262
      }
     },
     "output_type": "display_data"
    },
    {
     "data": {
      "text/plain": "<Figure size 432x288 with 1 Axes>",
      "image/png": "[encoded data removed]"
     },
     "metadata": {
      "needs_background": "light",
      "image/png": {
       "width": 386,
       "height": 262
      }
     },
     "output_type": "display_data"
    },
    {
     "data": {
      "text/plain": "<Figure size 432x288 with 1 Axes>",
      "image/png": "[encoded data removed]"
     },
     "metadata": {
      "needs_background": "light",
      "image/png": {
       "width": 383,
       "height": 263
      }
     },
     "output_type": "display_data"
    },
    {
     "data": {
      "text/plain": "<Figure size 432x288 with 1 Axes>",
      "image/png": "[encoded data removed]"
     },
     "metadata": {
      "needs_background": "light",
      "image/png": {
       "width": 386,
       "height": 262
      }
     },
     "output_type": "display_data"
    },
    {
     "data": {
      "text/plain": "<Figure size 432x288 with 1 Axes>",
      "image/png": "[encoded data removed]"
     },
     "metadata": {
      "needs_background": "light",
      "image/png": {
       "width": 383,
       "height": 262
      }
     },
     "output_type": "display_data"
    },
    {
     "data": {
      "text/plain": "<Figure size 432x288 with 1 Axes>",
      "image/png": "[encoded data removed]"
     },
     "metadata": {
      "needs_background": "light",
      "image/png": {
       "width": 390,
       "height": 264
      }
     },
     "output_type": "display_data"
    },
    {
     "data": {
      "text/plain": "<Figure size 432x288 with 1 Axes>",
      "image/png": "[encoded data removed]"
     },
     "metadata": {
      "needs_background": "light",
      "image/png": {
       "width": 398,
       "height": 262
      }
     },
     "output_type": "display_data"
    },
    {
     "data": {
      "text/plain": "<Figure size 432x288 with 1 Axes>",
      "image/png": "[encoded data removed]"
     },
     "metadata": {
      "needs_background": "light",
      "image/png": {
       "width": 386,
       "height": 262
      }
     },
     "output_type": "display_data"
    },
    {
     "data": {
      "text/plain": "<Figure size 432x288 with 1 Axes>",
      "image/png": "[encoded data removed]"
     },
     "metadata": {
      "needs_background": "light",
      "image/png": {
       "width": 392,
       "height": 262
      }
     },
     "output_type": "display_data"
    },
    {
     "data": {
      "text/plain": "<Figure size 432x288 with 1 Axes>",
      "image/png": "[encoded data removed]"
     },
     "metadata": {
      "needs_background": "light",
      "image/png": {
       "width": 382,
       "height": 262
      }
     },
     "output_type": "display_data"
    }
   ],
   "execution_count": null
  },
  {
   "cell_type": "markdown",
   "source": "Now do the same for the white-wine dataset",
   "metadata": {
    "cell_id": "00041-a4b1d23e-983d-49ff-9990-bda7e8a2522c",
    "deepnote_cell_type": "markdown"
   }
  },
  {
   "cell_type": "code",
   "metadata": {
    "cell_id": "00042-a3ee0896-4b73-4607-87f9-0393d3e0a8b7",
    "deepnote_to_be_reexecuted": true,
    "source_hash": "95aba5f6",
    "execution_start": 1633699852034,
    "execution_millis": 3072,
    "deepnote_cell_type": "code"
   },
   "source": "boxplotter(dataset=dataset_white, y_axes=feature_vars, x_axis=target_var)",
   "outputs": [
    {
     "data": {
      "text/plain": "<Figure size 432x288 with 1 Axes>",
      "image/png": "[encoded data removed]"
     },
     "metadata": {
      "needs_background": "light",
      "image/png": {
       "width": 383,
       "height": 262
      }
     },
     "output_type": "display_data"
    },
    {
     "data": {
      "text/plain": "<Figure size 432x288 with 1 Axes>",
      "image/png": "[encoded data removed]"
     },
     "metadata": {
      "needs_background": "light",
      "image/png": {
       "width": 386,
       "height": 262
      }
     },
     "output_type": "display_data"
    },
    {
     "data": {
      "text/plain": "<Figure size 432x288 with 1 Axes>",
      "image/png": "[encoded data removed]"
     },
     "metadata": {
      "needs_background": "light",
      "image/png": {
       "width": 393,
       "height": 262
      }
     },
     "output_type": "display_data"
    },
    {
     "data": {
      "text/plain": "<Figure size 432x288 with 1 Axes>",
      "image/png": "[encoded data removed]"
     },
     "metadata": {
      "needs_background": "light",
      "image/png": {
       "width": 383,
       "height": 262
      }
     },
     "output_type": "display_data"
    },
    {
     "data": {
      "text/plain": "<Figure size 432x288 with 1 Axes>",
      "image/png": "[encoded data removed]"
     },
     "metadata": {
      "needs_background": "light",
      "image/png": {
       "width": 392,
       "height": 262
      }
     },
     "output_type": "display_data"
    },
    {
     "data": {
      "text/plain": "<Figure size 432x288 with 1 Axes>",
      "image/png": "[encoded data removed]"
     },
     "metadata": {
      "needs_background": "light",
      "image/png": {
       "width": 390,
       "height": 264
      }
     },
     "output_type": "display_data"
    },
    {
     "data": {
      "text/plain": "<Figure size 432x288 with 1 Axes>",
      "image/png": "[encoded data removed]"
     },
     "metadata": {
      "needs_background": "light",
      "image/png": {
       "width": 389,
       "height": 262
      }
     },
     "output_type": "display_data"
    },
    {
     "data": {
      "text/plain": "<Figure size 432x288 with 1 Axes>",
      "image/png": "[encoded data removed]"
     },
     "metadata": {
      "needs_background": "light",
      "image/png": {
       "width": 392,
       "height": 262
      }
     },
     "output_type": "display_data"
    },
    {
     "data": {
      "text/plain": "<Figure size 432x288 with 1 Axes>",
      "image/png": "[encoded data removed]"
     },
     "metadata": {
      "needs_background": "light",
      "image/png": {
       "width": 386,
       "height": 262
      }
     },
     "output_type": "display_data"
    },
    {
     "data": {
      "text/plain": "<Figure size 432x288 with 1 Axes>",
      "image/png": "[encoded data removed]"
     },
     "metadata": {
      "needs_background": "light",
      "image/png": {
       "width": 386,
       "height": 262
      }
     },
     "output_type": "display_data"
    },
    {
     "data": {
      "text/plain": "<Figure size 432x288 with 1 Axes>",
      "image/png": "[encoded data removed]"
     },
     "metadata": {
      "needs_background": "light",
      "image/png": {
       "width": 382,
       "height": 262
      }
     },
     "output_type": "display_data"
    }
   ],
   "execution_count": null
  },
  {
   "cell_type": "markdown",
   "source": "\n\nAs can be seen from the boxplots all of our current variables contain outliers.\n\nAll outliers in the above boxplots seem to be plausible and not from incorrect data.\nFrom the boxplot with alcohol on the y axis and quality on the x axis we can  see that a trend of a rising median alcohol percentage the higher the quality of the wine.",
   "metadata": {
    "cell_id": "00043-ede37396-3897-45f8-a289-a9c43514ad04",
    "deepnote_cell_type": "markdown"
   }
  },
  {
   "cell_type": "markdown",
   "source": "<h3>Correlations</h3>\n\nTo help find correlations between variables and indepented/undepented attributes we can make use of a correlation matrix. ",
   "metadata": {
    "cell_id": "00044-7dca6594-30ed-47f9-9325-fc1ad0e9ce60",
    "deepnote_cell_type": "markdown"
   }
  },
  {
   "cell_type": "code",
   "metadata": {
    "scrolled": true,
    "cell_id": "00045-3707673a-2537-48c9-b0bf-bf4e80b6f4f9",
    "deepnote_to_be_reexecuted": true,
    "source_hash": "e7deab4d",
    "execution_start": 1633699855086,
    "execution_millis": 2072,
    "deepnote_cell_type": "code"
   },
   "source": "def corr_matrix_plotter(dataset, title=''):\n    \"\"\"Return a correlation matrix created using seaborn and matplotlib that for all columns in\n    a pandas dataframe.\n\n    Args:\n        dataset: Dataset to construct correlation matrix for.\n        title: Title of the plot.\n\n    Returns:\n        correlation matrix.\"\"\"\n    corr = dataset.corr()\n    plt.figure(figsize=(10,7.5))\n    cmap = sns.diverging_palette(200, 0, as_cmap=True) # color palette as cmap\n    mask = np.logical_not(np.tril(np.ones_like(corr))) # triangle mask\n    sns.heatmap(corr, annot=True, mask=mask, cmap = cmap, vmin=-1, vmax=1).set_title(title) # correlation heatmap\n    plt.show()\ncorr_matrix_plotter(dataset_red, 'red-wine')\ncorr_matrix_plotter(dataset_white, 'white-wine')",
   "outputs": [
    {
     "data": {
      "text/plain": "<Figure size 720x540 with 2 Axes>",
      "image/png": "[encoded data removed]"
     },
     "metadata": {
      "needs_background": "light",
      "image/png": {
       "width": 651,
       "height": 542
      }
     },
     "output_type": "display_data"
    },
    {
     "data": {
      "text/plain": "<Figure size 720x540 with 2 Axes>",
      "image/png": "[encoded data removed]"
     },
     "metadata": {
      "needs_background": "light",
      "image/png": {
       "width": 651,
       "height": 542
      }
     },
     "output_type": "display_data"
    }
   ],
   "execution_count": null
  },
  {
   "cell_type": "markdown",
   "source": "In the correlation matrices graphed above you can see which attributes have a correlation to other attributes. Starting with our target variable 'quality', we can see quality has a few correlations with the strongest one being alcohol for both red and white wines and a few weaker ones like volatile acidity, sulphates and citric acid for red wines and density and chloride for white wines. Because quality is our target variable it's the indepented attribute in the correlations.\n\nBesides there are some corelations among chemical properties:\nFixed acidity has strong correlation with pH, but it’s still an independent type. pH However is a dependent type; it depends on the former. Volatile acidity, residual sugar, sulphates, chlorides, and density are all independent data types. Total sulfur dioxide is dependent on free sulfur dioxide, but free sulfur dioxide is independent.",
   "metadata": {
    "cell_id": "00046-6494dae2-5ef0-49d5-8623-b53e81ffb37a",
    "deepnote_cell_type": "markdown"
   }
  },
  {
   "cell_type": "markdown",
   "source": "<h2>Data understanding: Research question 2.</h2>\n\nHere we look into the",
   "metadata": {
    "tags": [],
    "cell_id": "00041-014d47f4-ca18-4d3c-9000-a24c9329f798",
    "deepnote_cell_type": "markdown"
   }
  },
  {
   "cell_type": "markdown",
   "source": "<h2>Data Preparation: Research question 1.</h2>",
   "metadata": {
    "cell_id": "00051-92b90b85-8dd9-46f7-b16c-a89e84e6e38c",
    "deepnote_cell_type": "markdown"
   }
  },
  {
   "cell_type": "markdown",
   "source": "Lets start of the data preparation by checking the datatypes and clean or change them if necessary.",
   "metadata": {
    "cell_id": "00052-6ad6e42b-1ab7-45c2-9583-a4064a2f300e",
    "deepnote_cell_type": "markdown"
   }
  },
  {
   "cell_type": "markdown",
   "source": "Red-wine quality datatypes:",
   "metadata": {
    "cell_id": "00053-9ee75c29-9897-4241-b23a-f12699755d17",
    "deepnote_cell_type": "markdown"
   }
  },
  {
   "cell_type": "code",
   "metadata": {
    "cell_id": "00054-8bf9c581-c86a-4877-8069-f8cdf33562e8",
    "deepnote_to_be_reexecuted": true,
    "source_hash": "be62f62d",
    "execution_start": 1633699857156,
    "execution_millis": 71,
    "deepnote_cell_type": "code"
   },
   "source": "dataset_red.dtypes",
   "outputs": [
    {
     "output_type": "execute_result",
     "execution_count": 16,
     "data": {
      "text/plain": "fixed_acidity           float64\nvolatile_acidity        float64\ncitric_acid             float64\nresidual_sugar          float64\nchlorides               float64\nfree_sulfur_dioxide     float64\ntotal_sulfur_dioxide    float64\ndensity                 float64\npH                      float64\nsulphates               float64\nalcohol                 float64\nquality                   int64\ndtype: object"
     },
     "metadata": {}
    }
   ],
   "execution_count": null
  },
  {
   "cell_type": "markdown",
   "source": "White-wine quality datatypes:",
   "metadata": {
    "cell_id": "00055-3858d52e-ae77-4a69-bd59-d1e35d39b45a",
    "deepnote_cell_type": "markdown"
   }
  },
  {
   "cell_type": "code",
   "metadata": {
    "cell_id": "00056-8846fa50-510d-474e-b19e-26eb1775b51d",
    "deepnote_to_be_reexecuted": true,
    "source_hash": "e59d0d5b",
    "execution_start": 1633699857170,
    "execution_millis": 57,
    "deepnote_cell_type": "code"
   },
   "source": "dataset_white.dtypes",
   "outputs": [
    {
     "output_type": "execute_result",
     "execution_count": 17,
     "data": {
      "text/plain": "fixed_acidity           float64\nvolatile_acidity        float64\ncitric_acid             float64\nresidual_sugar          float64\nchlorides               float64\nfree_sulfur_dioxide     float64\ntotal_sulfur_dioxide    float64\ndensity                 float64\npH                      float64\nsulphates               float64\nalcohol                 float64\nquality                   int64\ndtype: object"
     },
     "metadata": {}
    }
   ],
   "execution_count": null
  },
  {
   "cell_type": "markdown",
   "source": "We can now move on to checking and removing any NA values in the datasets.",
   "metadata": {
    "cell_id": "00059-9b613290-1259-43b6-bdbb-d3777070a4a5",
    "deepnote_cell_type": "markdown"
   }
  },
  {
   "cell_type": "code",
   "metadata": {
    "cell_id": "00060-64e62bb5-72de-4ab7-8916-0a226446d81d",
    "deepnote_to_be_reexecuted": true,
    "source_hash": "e747d417",
    "execution_start": 1633699857179,
    "execution_millis": 48,
    "deepnote_cell_type": "code"
   },
   "source": "pd.isna(dataset_red).sum().sum() # checking for total NA values in red_wine",
   "outputs": [
    {
     "output_type": "execute_result",
     "execution_count": 18,
     "data": {
      "text/plain": "0"
     },
     "metadata": {}
    }
   ],
   "execution_count": null
  },
  {
   "cell_type": "code",
   "metadata": {
    "cell_id": "00061-09b4417f-8eff-4f5d-8f0d-ce22a7e7880b",
    "deepnote_to_be_reexecuted": true,
    "source_hash": "e26312aa",
    "execution_start": 1633699857190,
    "execution_millis": 37,
    "deepnote_cell_type": "code"
   },
   "source": "pd.isna(dataset_white).sum().sum() # checking for total NA values in white_wine",
   "outputs": [
    {
     "output_type": "execute_result",
     "execution_count": 19,
     "data": {
      "text/plain": "0"
     },
     "metadata": {}
    }
   ],
   "execution_count": null
  },
  {
   "cell_type": "markdown",
   "source": "Lets start of by removing all extreme the outliers leaving the mild ones in the dataset with a outer fence:",
   "metadata": {
    "cell_id": "00062-4c5e2cf5-6975-4f18-b7ad-1723377d9f25",
    "deepnote_cell_type": "markdown"
   }
  },
  {
   "cell_type": "code",
   "metadata": {
    "cell_id": "00063-0d9ad8bb-3172-419a-9dc1-280f358ecd27",
    "deepnote_to_be_reexecuted": true,
    "source_hash": "684dfb85",
    "execution_start": 1633699857198,
    "execution_millis": 11,
    "deepnote_cell_type": "code"
   },
   "source": "def remove_outliers(dataset, fence = 3):\n    q1 = dataset.quantile(.25)\n    q3 = dataset.quantile(.75)\n    iqr = q3 - q1\n    return dataset[(dataset >= q1 - (fence * iqr)) & (dataset <= q3 + (fence * iqr))].dropna() # turn extreme outliers into NaN values and drop the rows",
   "outputs": [],
   "execution_count": null
  },
  {
   "cell_type": "markdown",
   "source": "The red-wine dataset contained 1599 rows and the white-wine 4898 before removing the outliers lets remove the outliers and check howmany are left.",
   "metadata": {
    "cell_id": "00064-f346d9ad-2f05-4835-9ba2-94450a6a1e15",
    "deepnote_cell_type": "markdown"
   }
  },
  {
   "cell_type": "code",
   "metadata": {
    "cell_id": "00065-1fded608-b177-4295-bb2d-5c8e8e867218",
    "deepnote_to_be_reexecuted": true,
    "source_hash": "1fc1eb5f",
    "execution_start": 1633699857212,
    "execution_millis": 16,
    "deepnote_cell_type": "code"
   },
   "source": "dataset_red = remove_outliers(dataset_red)\ndataset_white = remove_outliers(dataset_white)",
   "outputs": [],
   "execution_count": null
  },
  {
   "cell_type": "code",
   "metadata": {
    "cell_id": "00066-c20d0d73-0422-4fcd-aaa1-060d38b65668",
    "deepnote_to_be_reexecuted": true,
    "source_hash": "270b8b9d",
    "execution_start": 1633699857233,
    "execution_millis": 109,
    "deepnote_cell_type": "code"
   },
   "source": "dataset_red.shape, dataset_white.shape",
   "outputs": [
    {
     "output_type": "execute_result",
     "execution_count": 22,
     "data": {
      "text/plain": "((1435, 12), (4690, 12))"
     },
     "metadata": {}
    }
   ],
   "execution_count": null
  },
  {
   "cell_type": "markdown",
   "source": "There are still 1435 rows left which means 12% of the columns contained outliers. With 88% still left there will be enough data to construct a model. \nThere is roughly still 88% of the red-wine data left and 96% of the white-wine data after removing the extreme outliers that lay 3+ IQR above Q3 or 3+ IQR below Q1.",
   "metadata": {
    "cell_id": "00067-b93ed718-10e9-471f-9d6e-502389444252",
    "deepnote_cell_type": "markdown"
   }
  },
  {
   "cell_type": "markdown",
   "source": "<h3>Normalizing data</h3>\n\nMany algorithms used for making a prediction model work more efficient with normalized data. We can normalize the whole dataset into a new dataframe to acces normalized data from.",
   "metadata": {
    "cell_id": "00068-731bfa3c-8785-4f8b-9def-51f9cc614728",
    "deepnote_cell_type": "markdown"
   }
  },
  {
   "cell_type": "code",
   "metadata": {
    "cell_id": "00069-db4f8dc9-4239-4733-8d58-7967e0c2abec",
    "deepnote_to_be_reexecuted": true,
    "source_hash": "986e4a3b",
    "execution_start": 1633699857244,
    "execution_millis": 0,
    "deepnote_cell_type": "code"
   },
   "source": "def normalizer(dataset):\n    scaler = sk.preprocessing.StandardScaler().fit(dataset)\n    return pd.DataFrame((scaler.transform(dataset)), columns=dataset.columns)",
   "outputs": [],
   "execution_count": null
  },
  {
   "cell_type": "code",
   "metadata": {
    "cell_id": "00070-7bf26a09-cac1-4db3-8273-0f36b63a4e8d",
    "deepnote_to_be_reexecuted": true,
    "source_hash": "c446aa4c",
    "execution_start": 1633699857248,
    "execution_millis": 19,
    "deepnote_cell_type": "code"
   },
   "source": "normalized_dataset_red = normalizer(dataset_red)\nnormalized_dataset_white = normalizer(dataset_white)",
   "outputs": [],
   "execution_count": null
  },
  {
   "cell_type": "code",
   "metadata": {
    "scrolled": true,
    "cell_id": "00071-1da8e85f-7388-489b-a958-ae07efa980e9",
    "deepnote_to_be_reexecuted": true,
    "source_hash": "fc8ae3e5",
    "execution_start": 1633699857267,
    "execution_millis": 252,
    "deepnote_cell_type": "code"
   },
   "source": "normalized_dataset_red.head()",
   "outputs": [
    {
     "output_type": "execute_result",
     "execution_count": 25,
     "data": {
      "application/vnd.deepnote.dataframe.v2+json": {
       "row_count": 5,
       "column_count": 12,
       "columns": [
        {
         "name": "fixed_acidity",
         "dtype": "float64",
         "stats": {
          "unique_count": 3,
          "nan_count": 0,
          "min": "-0.5251648773592407",
          "max": "1.7053235378132323",
          "histogram": [
           {
            "bin_start": -0.5251648773592407,
            "bin_end": -0.30211603584199337,
            "count": 2
           },
           {
            "bin_start": -0.30211603584199337,
            "bin_end": -0.07906719432474607,
            "count": 2
           },
           {
            "bin_start": -0.07906719432474607,
            "bin_end": 0.14398164719250117,
            "count": 0
           },
           {
            "bin_start": 0.14398164719250117,
            "bin_end": 0.3670304887097485,
            "count": 0
           },
           {
            "bin_start": 0.3670304887097485,
            "bin_end": 0.5900793302269959,
            "count": 0
           },
           {
            "bin_start": 0.5900793302269959,
            "bin_end": 0.813128171744243,
            "count": 0
           },
           {
            "bin_start": 0.813128171744243,
            "bin_end": 1.0361770132614905,
            "count": 0
           },
           {
            "bin_start": 1.0361770132614905,
            "bin_end": 1.2592258547787378,
            "count": 0
           },
           {
            "bin_start": 1.2592258547787378,
            "bin_end": 1.4822746962959852,
            "count": 0
           },
           {
            "bin_start": 1.4822746962959852,
            "bin_end": 1.7053235378132323,
            "count": 1
           }
          ]
         }
        },
        {
         "name": "volatile_acidity",
         "dtype": "float64",
         "stats": {
          "unique_count": 4,
          "nan_count": 0,
          "min": "-1.3867442713381741",
          "max": "2.0089295174740878",
          "histogram": [
           {
            "bin_start": -1.3867442713381741,
            "bin_end": -1.0471768924569478,
            "count": 1
           },
           {
            "bin_start": -1.0471768924569478,
            "bin_end": -0.7076095135757217,
            "count": 0
           },
           {
            "bin_start": -0.7076095135757217,
            "bin_end": -0.3680421346944953,
            "count": 0
           },
           {
            "bin_start": -0.3680421346944953,
            "bin_end": -0.028474755813269192,
            "count": 0
           },
           {
            "bin_start": -0.028474755813269192,
            "bin_end": 0.31109262306795693,
            "count": 0
           },
           {
            "bin_start": 0.31109262306795693,
            "bin_end": 0.6506600019491835,
            "count": 0
           },
           {
            "bin_start": 0.6506600019491835,
            "bin_end": 0.9902273808304096,
            "count": 2
           },
           {
            "bin_start": 0.9902273808304096,
            "bin_end": 1.3297947597116357,
            "count": 1
           },
           {
            "bin_start": 1.3297947597116357,
            "bin_end": 1.6693621385928619,
            "count": 0
           },
           {
            "bin_start": 1.6693621385928619,
            "bin_end": 2.0089295174740878,
            "count": 1
           }
          ]
         }
        },
        {
         "name": "citric_acid",
         "dtype": "float64",
         "stats": {
          "unique_count": 3,
          "nan_count": 0,
          "min": "-1.3757508965108722",
          "max": "1.5760123876140193",
          "histogram": [
           {
            "bin_start": -1.3757508965108722,
            "bin_end": -1.0805745680983831,
            "count": 4
           },
           {
            "bin_start": -1.0805745680983831,
            "bin_end": -0.785398239685894,
            "count": 0
           },
           {
            "bin_start": -0.785398239685894,
            "bin_end": -0.49022191127340475,
            "count": 0
           },
           {
            "bin_start": -0.49022191127340475,
            "bin_end": -0.19504558286091567,
            "count": 0
           },
           {
            "bin_start": -0.19504558286091567,
            "bin_end": 0.10013074555157342,
            "count": 0
           },
           {
            "bin_start": 0.10013074555157342,
            "bin_end": 0.3953070739640627,
            "count": 0
           },
           {
            "bin_start": 0.3953070739640627,
            "bin_end": 0.6904834023765516,
            "count": 0
           },
           {
            "bin_start": 0.6904834023765516,
            "bin_end": 0.9856597307890409,
            "count": 0
           },
           {
            "bin_start": 0.9856597307890409,
            "bin_end": 1.2808360592015302,
            "count": 0
           },
           {
            "bin_start": 1.2808360592015302,
            "bin_end": 1.5760123876140193,
            "count": 1
           }
          ]
         }
        },
        {
         "name": "residual_sugar",
         "dtype": "float64",
         "stats": {
          "unique_count": 3,
          "nan_count": 0,
          "min": "-0.6246240513290136",
          "max": "0.5549865137395972",
          "histogram": [
           {
            "bin_start": -0.6246240513290136,
            "bin_end": -0.5066629948221525,
            "count": 3
           },
           {
            "bin_start": -0.5066629948221525,
            "bin_end": -0.3887019383152914,
            "count": 0
           },
           {
            "bin_start": -0.3887019383152914,
            "bin_end": -0.27074088180843026,
            "count": 0
           },
           {
            "bin_start": -0.27074088180843026,
            "bin_end": -0.1527798253015692,
            "count": 0
           },
           {
            "bin_start": -0.1527798253015692,
            "bin_end": -0.03481876879470813,
            "count": 0
           },
           {
            "bin_start": -0.03481876879470813,
            "bin_end": 0.08314228771215304,
            "count": 1
           },
           {
            "bin_start": 0.08314228771215304,
            "bin_end": 0.2011033442190141,
            "count": 0
           },
           {
            "bin_start": 0.2011033442190141,
            "bin_end": 0.31906440072587516,
            "count": 0
           },
           {
            "bin_start": 0.31906440072587516,
            "bin_end": 0.43702545723273634,
            "count": 0
           },
           {
            "bin_start": 0.43702545723273634,
            "bin_end": 0.5549865137395972,
            "count": 1
           }
          ]
         }
        },
        {
         "name": "chlorides",
         "dtype": "float64",
         "stats": {
          "unique_count": 4,
          "nan_count": 0,
          "min": "-0.26141285439889456",
          "max": "1.1380893774641272",
          "histogram": [
           {
            "bin_start": -0.26141285439889456,
            "bin_end": -0.12146263121259238,
            "count": 3
           },
           {
            "bin_start": -0.12146263121259238,
            "bin_end": 0.018487591973709805,
            "count": 0
           },
           {
            "bin_start": 0.018487591973709805,
            "bin_end": 0.15843781516001199,
            "count": 0
           },
           {
            "bin_start": 0.15843781516001199,
            "bin_end": 0.29838803834631417,
            "count": 0
           },
           {
            "bin_start": 0.29838803834631417,
            "bin_end": 0.4383382615326163,
            "count": 0
           },
           {
            "bin_start": 0.4383382615326163,
            "bin_end": 0.5782884847189185,
            "count": 0
           },
           {
            "bin_start": 0.5782884847189185,
            "bin_end": 0.7182387079052208,
            "count": 0
           },
           {
            "bin_start": 0.7182387079052208,
            "bin_end": 0.8581889310915229,
            "count": 1
           },
           {
            "bin_start": 0.8581889310915229,
            "bin_end": 0.9981391542778251,
            "count": 0
           },
           {
            "bin_start": 0.9981391542778251,
            "bin_end": 1.1380893774641272,
            "count": 1
           }
          ]
         }
        },
        {
         "name": "free_sulfur_dioxide",
         "dtype": "float64",
         "stats": {
          "unique_count": 4,
          "nan_count": 0,
          "min": "-0.47507132270422914",
          "max": "0.9495398980029822",
          "histogram": [
           {
            "bin_start": -0.47507132270422914,
            "bin_end": -0.332610200633508,
            "count": 2
           },
           {
            "bin_start": -0.332610200633508,
            "bin_end": -0.1901490785627869,
            "count": 0
           },
           {
            "bin_start": -0.1901490785627869,
            "bin_end": -0.04768795649206581,
            "count": 1
           },
           {
            "bin_start": -0.04768795649206581,
            "bin_end": 0.09477316557865534,
            "count": 0
           },
           {
            "bin_start": 0.09477316557865534,
            "bin_end": 0.23723428764937649,
            "count": 1
           },
           {
            "bin_start": 0.23723428764937649,
            "bin_end": 0.3796954097200975,
            "count": 0
           },
           {
            "bin_start": 0.3796954097200975,
            "bin_end": 0.5221565317908187,
            "count": 0
           },
           {
            "bin_start": 0.5221565317908187,
            "bin_end": 0.6646176538615398,
            "count": 0
           },
           {
            "bin_start": 0.6646176538615398,
            "bin_end": 0.8070787759322609,
            "count": 0
           },
           {
            "bin_start": 0.8070787759322609,
            "bin_end": 0.9495398980029822,
            "count": 1
           }
          ]
         }
        },
        {
         "name": "total_sulfur_dioxide",
         "dtype": "float64",
         "stats": {
          "unique_count": 4,
          "nan_count": 0,
          "min": "-0.35899623828459093",
          "max": "0.7245825024870836",
          "histogram": [
           {
            "bin_start": -0.35899623828459093,
            "bin_end": -0.25063836420742347,
            "count": 2
           },
           {
            "bin_start": -0.25063836420742347,
            "bin_end": -0.14228049013025607,
            "count": 0
           },
           {
            "bin_start": -0.14228049013025607,
            "bin_end": -0.03392261605308866,
            "count": 0
           },
           {
            "bin_start": -0.03392261605308866,
            "bin_end": 0.0744352580240788,
            "count": 0
           },
           {
            "bin_start": 0.0744352580240788,
            "bin_end": 0.18279313210124626,
            "count": 0
           },
           {
            "bin_start": 0.18279313210124626,
            "bin_end": 0.2911510061784136,
            "count": 0
           },
           {
            "bin_start": 0.2911510061784136,
            "bin_end": 0.39950888025558107,
            "count": 1
           },
           {
            "bin_start": 0.39950888025558107,
            "bin_end": 0.5078667543327485,
            "count": 1
           },
           {
            "bin_start": 0.5078667543327485,
            "bin_end": 0.616224628409916,
            "count": 0
           },
           {
            "bin_start": 0.616224628409916,
            "bin_end": 0.7245825024870836,
            "count": 1
           }
          ]
         }
        },
        {
         "name": "density",
         "dtype": "float64",
         "stats": {
          "unique_count": 4,
          "nan_count": 0,
          "min": "0.0997190532454612",
          "max": "0.7661381539892642",
          "histogram": [
           {
            "bin_start": 0.0997190532454612,
            "bin_end": 0.16636096331984151,
            "count": 1
           },
           {
            "bin_start": 0.16636096331984151,
            "bin_end": 0.23300287339422182,
            "count": 1
           },
           {
            "bin_start": 0.23300287339422182,
            "bin_end": 0.2996447834686021,
            "count": 0
           },
           {
            "bin_start": 0.2996447834686021,
            "bin_end": 0.36628669354298243,
            "count": 0
           },
           {
            "bin_start": 0.36628669354298243,
            "bin_end": 0.43292860361736274,
            "count": 0
           },
           {
            "bin_start": 0.43292860361736274,
            "bin_end": 0.49957051369174305,
            "count": 0
           },
           {
            "bin_start": 0.49957051369174305,
            "bin_end": 0.5662124237661234,
            "count": 0
           },
           {
            "bin_start": 0.5662124237661234,
            "bin_end": 0.6328543338405036,
            "count": 0
           },
           {
            "bin_start": 0.6328543338405036,
            "bin_end": 0.6994962439148839,
            "count": 2
           },
           {
            "bin_start": 0.6994962439148839,
            "bin_end": 0.7661381539892642,
            "count": 1
           }
          ]
         }
        },
        {
         "name": "pH",
         "dtype": "float64",
         "stats": {
          "unique_count": 4,
          "nan_count": 0,
          "min": "-1.0700518687345049",
          "max": "1.285459838277701",
          "histogram": [
           {
            "bin_start": -1.0700518687345049,
            "bin_end": -0.8345006980332843,
            "count": 1
           },
           {
            "bin_start": -0.8345006980332843,
            "bin_end": -0.5989495273320636,
            "count": 1
           },
           {
            "bin_start": -0.5989495273320636,
            "bin_end": -0.36339835663084297,
            "count": 1
           },
           {
            "bin_start": -0.36339835663084297,
            "bin_end": -0.1278471859296224,
            "count": 0
           },
           {
            "bin_start": -0.1278471859296224,
            "bin_end": 0.10770398477159815,
            "count": 0
           },
           {
            "bin_start": 0.10770398477159815,
            "bin_end": 0.34325515547281893,
            "count": 0
           },
           {
            "bin_start": 0.34325515547281893,
            "bin_end": 0.5788063261740395,
            "count": 0
           },
           {
            "bin_start": 0.5788063261740395,
            "bin_end": 0.81435749687526,
            "count": 0
           },
           {
            "bin_start": 0.81435749687526,
            "bin_end": 1.0499086675764808,
            "count": 0
           },
           {
            "bin_start": 1.0499086675764808,
            "bin_end": 1.285459838277701,
            "count": 2
           }
          ]
         }
        },
        {
         "name": "sulphates",
         "dtype": "float64",
         "stats": {
          "unique_count": 4,
          "nan_count": 0,
          "min": "-0.6122436482336417",
          "max": "0.2870855015218233",
          "histogram": [
           {
            "bin_start": -0.6122436482336417,
            "bin_end": -0.5223107332580952,
            "count": 2
           },
           {
            "bin_start": -0.5223107332580952,
            "bin_end": -0.43237781828254873,
            "count": 1
           },
           {
            "bin_start": -0.43237781828254873,
            "bin_end": -0.3424449033070022,
            "count": 0
           },
           {
            "bin_start": -0.3424449033070022,
            "bin_end": -0.2525119883314557,
            "count": 0
           },
           {
            "bin_start": -0.2525119883314557,
            "bin_end": -0.1625790733559092,
            "count": 0
           },
           {
            "bin_start": -0.1625790733559092,
            "bin_end": -0.0726461583803627,
            "count": 0
           },
           {
            "bin_start": -0.0726461583803627,
            "bin_end": 0.01728675659518375,
            "count": 0
           },
           {
            "bin_start": 0.01728675659518375,
            "bin_end": 0.10721967157073031,
            "count": 1
           },
           {
            "bin_start": 0.10721967157073031,
            "bin_end": 0.19715258654627688,
            "count": 0
           },
           {
            "bin_start": 0.19715258654627688,
            "bin_end": 0.2870855015218233,
            "count": 1
           }
          ]
         }
        },
        {
         "name": "alcohol",
         "dtype": "float64",
         "stats": {
          "unique_count": 2,
          "nan_count": 0,
          "min": "-0.9845876593474943",
          "max": "-0.6051585621445742",
          "histogram": [
           {
            "bin_start": -0.9845876593474943,
            "bin_end": -0.9466447496272022,
            "count": 2
           },
           {
            "bin_start": -0.9466447496272022,
            "bin_end": -0.9087018399069102,
            "count": 0
           },
           {
            "bin_start": -0.9087018399069102,
            "bin_end": -0.8707589301866182,
            "count": 0
           },
           {
            "bin_start": -0.8707589301866182,
            "bin_end": -0.8328160204663262,
            "count": 0
           },
           {
            "bin_start": -0.8328160204663262,
            "bin_end": -0.7948731107460343,
            "count": 0
           },
           {
            "bin_start": -0.7948731107460343,
            "bin_end": -0.7569302010257423,
            "count": 0
           },
           {
            "bin_start": -0.7569302010257423,
            "bin_end": -0.7189872913054502,
            "count": 0
           },
           {
            "bin_start": -0.7189872913054502,
            "bin_end": -0.6810443815851582,
            "count": 0
           },
           {
            "bin_start": -0.6810443815851582,
            "bin_end": -0.6431014718648662,
            "count": 0
           },
           {
            "bin_start": -0.6431014718648662,
            "bin_end": -0.6051585621445742,
            "count": 3
           }
          ]
         }
        },
        {
         "name": "quality",
         "dtype": "float64",
         "stats": {
          "unique_count": 2,
          "nan_count": 0,
          "min": "-0.8090137857739198",
          "max": "0.4474091391022441",
          "histogram": [
           {
            "bin_start": -0.8090137857739198,
            "bin_end": -0.6833714932863034,
            "count": 4
           },
           {
            "bin_start": -0.6833714932863034,
            "bin_end": -0.557729200798687,
            "count": 0
           },
           {
            "bin_start": -0.557729200798687,
            "bin_end": -0.43208690831107066,
            "count": 0
           },
           {
            "bin_start": -0.43208690831107066,
            "bin_end": -0.3064446158234543,
            "count": 0
           },
           {
            "bin_start": -0.3064446158234543,
            "bin_end": -0.1808023233358379,
            "count": 0
           },
           {
            "bin_start": -0.1808023233358379,
            "bin_end": -0.05516003084822152,
            "count": 0
           },
           {
            "bin_start": -0.05516003084822152,
            "bin_end": 0.07048226163939486,
            "count": 0
           },
           {
            "bin_start": 0.07048226163939486,
            "bin_end": 0.19612455412701124,
            "count": 0
           },
           {
            "bin_start": 0.19612455412701124,
            "bin_end": 0.3217668466146276,
            "count": 0
           },
           {
            "bin_start": 0.3217668466146276,
            "bin_end": 0.4474091391022441,
            "count": 1
           }
          ]
         }
        },
        {
         "name": "_deepnote_index_column",
         "dtype": "int64"
        }
       ],
       "rows_top": [
        {
         "fixed_acidity": -0.5251648773592407,
         "volatile_acidity": 0.990227380830409,
         "citric_acid": -1.3757508965108722,
         "residual_sugar": -0.6246240513290136,
         "chlorides": -0.2005649312744153,
         "free_sulfur_dioxide": -0.47507132270422914,
         "total_sulfur_dioxide": -0.35899623828459093,
         "density": 0.6550683038653073,
         "pH": 1.285459838277701,
         "sulphates": -0.6122436482336417,
         "alcohol": -0.9845876593474943,
         "quality": -0.8090137857739198,
         "_deepnote_index_column": 0
        },
        {
         "fixed_acidity": -0.2903766231305595,
         "volatile_acidity": 2.0089295174740878,
         "citric_acid": -1.3757508965108722,
         "residual_sugar": 0.5549865137395972,
         "chlorides": 1.1380893774641272,
         "free_sulfur_dioxide": 0.9495398980029822,
         "total_sulfur_dioxide": 0.7245825024870836,
         "density": 0.0997190532454612,
         "pH": -0.8008505307902521,
         "sulphates": 0.2870855015218233,
         "alcohol": -0.6051585621445742,
         "quality": -0.8090137857739198,
         "_deepnote_index_column": 1
        },
        {
         "fixed_acidity": -0.2903766231305595,
         "volatile_acidity": 1.3297947597116355,
         "citric_acid": -1.164910661930523,
         "residual_sugar": 0.049439128710192244,
         "chlorides": 0.7730018387172518,
         "free_sulfur_dioxide": -0.06803954535931163,
         "total_sulfur_dioxide": 0.29771815006187846,
         "density": 0.2107889033694181,
         "pH": -0.3970485238738763,
         "sulphates": 0.06225321408295688,
         "alcohol": -0.6051585621445742,
         "quality": -0.8090137857739198,
         "_deepnote_index_column": 2
        },
        {
         "fixed_acidity": 1.7053235378132323,
         "volatile_acidity": -1.3867442713381741,
         "citric_acid": 1.5760123876140193,
         "residual_sugar": -0.6246240513290136,
         "chlorides": -0.26141285439889456,
         "free_sulfur_dioxide": 0.13547634331314715,
         "total_sulfur_dioxide": 0.49473246656581926,
         "density": 0.7661381539892642,
         "pH": -1.0700518687345049,
         "sulphates": -0.4623554566077316,
         "alcohol": -0.6051585621445742,
         "quality": 0.4474091391022441,
         "_deepnote_index_column": 3
        },
        {
         "fixed_acidity": -0.5251648773592407,
         "volatile_acidity": 0.990227380830409,
         "citric_acid": -1.3757508965108722,
         "residual_sugar": -0.6246240513290136,
         "chlorides": -0.2005649312744153,
         "free_sulfur_dioxide": -0.47507132270422914,
         "total_sulfur_dioxide": -0.35899623828459093,
         "density": 0.6550683038653073,
         "pH": 1.285459838277701,
         "sulphates": -0.6122436482336417,
         "alcohol": -0.9845876593474943,
         "quality": -0.8090137857739198,
         "_deepnote_index_column": 4
        }
       ],
       "rows_bottom": null
      },
      "text/plain": "   fixed_acidity  volatile_acidity  citric_acid  residual_sugar  chlorides  \\\n0      -0.525165          0.990227    -1.375751       -0.624624  -0.200565   \n1      -0.290377          2.008930    -1.375751        0.554987   1.138089   \n2      -0.290377          1.329795    -1.164911        0.049439   0.773002   \n3       1.705324         -1.386744     1.576012       -0.624624  -0.261413   \n4      -0.525165          0.990227    -1.375751       -0.624624  -0.200565   \n\n   free_sulfur_dioxide  total_sulfur_dioxide   density        pH  sulphates  \\\n0            -0.475071             -0.358996  0.655068  1.285460  -0.612244   \n1             0.949540              0.724583  0.099719 -0.800851   0.287086   \n2            -0.068040              0.297718  0.210789 -0.397049   0.062253   \n3             0.135476              0.494732  0.766138 -1.070052  -0.462355   \n4            -0.475071             -0.358996  0.655068  1.285460  -0.612244   \n\n    alcohol   quality  \n0 -0.984588 -0.809014  \n1 -0.605159 -0.809014  \n2 -0.605159 -0.809014  \n3 -0.605159  0.447409  \n4 -0.984588 -0.809014  ",
      "text/html": "<div>\n<style scoped>\n    .dataframe tbody tr th:only-of-type {\n        vertical-align: middle;\n    }\n\n    .dataframe tbody tr th {\n        vertical-align: top;\n    }\n\n    .dataframe thead th {\n        text-align: right;\n    }\n</style>\n<table border=\"1\" class=\"dataframe\">\n  <thead>\n    <tr style=\"text-align: right;\">\n      <th></th>\n      <th>fixed_acidity</th>\n      <th>volatile_acidity</th>\n      <th>citric_acid</th>\n      <th>residual_sugar</th>\n      <th>chlorides</th>\n      <th>free_sulfur_dioxide</th>\n      <th>total_sulfur_dioxide</th>\n      <th>density</th>\n      <th>pH</th>\n      <th>sulphates</th>\n      <th>alcohol</th>\n      <th>quality</th>\n    </tr>\n  </thead>\n  <tbody>\n    <tr>\n      <th>0</th>\n      <td>-0.525165</td>\n      <td>0.990227</td>\n      <td>-1.375751</td>\n      <td>-0.624624</td>\n      <td>-0.200565</td>\n      <td>-0.475071</td>\n      <td>-0.358996</td>\n      <td>0.655068</td>\n      <td>1.285460</td>\n      <td>-0.612244</td>\n      <td>-0.984588</td>\n      <td>-0.809014</td>\n    </tr>\n    <tr>\n      <th>1</th>\n      <td>-0.290377</td>\n      <td>2.008930</td>\n      <td>-1.375751</td>\n      <td>0.554987</td>\n      <td>1.138089</td>\n      <td>0.949540</td>\n      <td>0.724583</td>\n      <td>0.099719</td>\n      <td>-0.800851</td>\n      <td>0.287086</td>\n      <td>-0.605159</td>\n      <td>-0.809014</td>\n    </tr>\n    <tr>\n      <th>2</th>\n      <td>-0.290377</td>\n      <td>1.329795</td>\n      <td>-1.164911</td>\n      <td>0.049439</td>\n      <td>0.773002</td>\n      <td>-0.068040</td>\n      <td>0.297718</td>\n      <td>0.210789</td>\n      <td>-0.397049</td>\n      <td>0.062253</td>\n      <td>-0.605159</td>\n      <td>-0.809014</td>\n    </tr>\n    <tr>\n      <th>3</th>\n      <td>1.705324</td>\n      <td>-1.386744</td>\n      <td>1.576012</td>\n      <td>-0.624624</td>\n      <td>-0.261413</td>\n      <td>0.135476</td>\n      <td>0.494732</td>\n      <td>0.766138</td>\n      <td>-1.070052</td>\n      <td>-0.462355</td>\n      <td>-0.605159</td>\n      <td>0.447409</td>\n    </tr>\n    <tr>\n      <th>4</th>\n      <td>-0.525165</td>\n      <td>0.990227</td>\n      <td>-1.375751</td>\n      <td>-0.624624</td>\n      <td>-0.200565</td>\n      <td>-0.475071</td>\n      <td>-0.358996</td>\n      <td>0.655068</td>\n      <td>1.285460</td>\n      <td>-0.612244</td>\n      <td>-0.984588</td>\n      <td>-0.809014</td>\n    </tr>\n  </tbody>\n</table>\n</div>"
     },
     "metadata": {}
    }
   ],
   "execution_count": null
  },
  {
   "cell_type": "markdown",
   "source": "<h3>Data cleaned</h3>\n\nThe red and white wine chemicalproperty datasets got cleaned by removing all extreme outliers in the datasets and creating a normalized copy of both datasets.",
   "metadata": {
    "cell_id": "00072-bae4d26d-d635-41c1-ace5-926e11feb3da",
    "deepnote_cell_type": "markdown"
   }
  },
  {
   "cell_type": "markdown",
   "source": "<h3>Modeling</h3>\n\n-   Baseline.\n-   Supervised model (regression).\n-   Hyperparameter tuning.",
   "metadata": {
    "tags": [],
    "cell_id": "00061-59120a53-6b68-48b5-a487-6077fbb32217",
    "deepnote_cell_type": "markdown"
   }
  },
  {
   "cell_type": "markdown",
   "source": "<h3>Regression model</h3>",
   "metadata": {
    "tags": [],
    "cell_id": "00062-dcf35807-7545-4a03-8e4f-53eb4fbae1ab",
    "deepnote_cell_type": "markdown"
   }
  },
  {
   "cell_type": "code",
   "source": "redwine_X = dataset_red[feature_vars]\nredwine_y = dataset_red[target_var]",
   "metadata": {
    "tags": [],
    "cell_id": "00063-5549b6dc-0efc-4b59-bf40-733eb1b93562",
    "deepnote_to_be_reexecuted": true,
    "source_hash": "6686d006",
    "execution_start": 1633700239842,
    "execution_millis": 0,
    "deepnote_cell_type": "code"
   },
   "outputs": [],
   "execution_count": null
  },
  {
   "cell_type": "code",
   "source": "# vvvvvvvvvvvvvvvvvvtrain_test_splitnnnnnnnnnnnnnnnnnnnnn\n# Sjoerds anger attack ^^^",
   "metadata": {
    "tags": [],
    "cell_id": "00064-ba502961-ebe5-4e0d-bd5d-093e0d47d585",
    "deepnote_to_be_reexecuted": true,
    "source_hash": "54628253",
    "deepnote_cell_type": "code"
   },
   "outputs": [],
   "execution_count": null
  },
  {
   "cell_type": "markdown",
   "source": "<a style='text-decoration:none;line-height:16px;display:flex;color:#5B5B62;padding:10px;justify-content:end;' href='https://deepnote.com?utm_source=created-in-deepnote-cell&projectId=a90993d7-6b8e-4aa8-8d68-ab502be20976' target=\"_blank\">\n<img alt='Created in deepnote.com' style='display:inline;max-height:16px;margin:0px;margin-right:7.5px;' src='data:image/svg+xml;base64,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' > </img>\nCreated in <span style='font-weight:600;margin-left:4px;'>Deepnote</span></a>",
   "metadata": {
    "tags": [],
    "created_in_deepnote_cell": true,
    "deepnote_cell_type": "markdown"
   }
  }
 ],
 "nbformat": 4,
 "nbformat_minor": 5,
 "metadata": {
  "kernelspec": {
   "display_name": "Python 3",
   "language": "python",
   "name": "python3"
  },
  "language_info": {
   "codemirror_mode": {
    "name": "ipython",
    "version": 3
   },
   "file_extension": ".py",
   "mimetype": "text/x-python",
   "name": "python",
   "nbconvert_exporter": "python",
   "pygments_lexer": "ipython3",
   "version": "3.9.1"
  },
  "deepnote_notebook_id": "3760c2e2-5b6f-41c1-b0a0-724976e38878",
  "deepnote": {},
  "deepnote_execution_queue": []
 }
}