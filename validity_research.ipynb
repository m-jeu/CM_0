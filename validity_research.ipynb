{
 "cells": [
  {
   "cell_type": "markdown",
   "source": [
    "<h1>Research validity</h1>\n",
    "\n",
    "In our main Jupyter Notebook, we have found some evidence to suggest that the provided dataset contains some catastrophic errors, and is not reliable to draw conclusions from. This combined with the fact that we haven't been able to get a clear source for the dataset, has caused us to create this notebook to elaborate on and investigate our concerns."
   ],
   "metadata": {
    "collapsed": false,
    "pycharm": {
     "name": "#%% md\n"
    }
   }
  }
 ],
 "metadata": {
  "kernelspec": {
   "display_name": "Python 3",
   "language": "python",
   "name": "python3"
  },
  "language_info": {
   "codemirror_mode": {
    "name": "ipython",
    "version": 2
   },
   "file_extension": ".py",
   "mimetype": "text/x-python",
   "name": "python",
   "nbconvert_exporter": "python",
   "pygments_lexer": "ipython2",
   "version": "2.7.6"
  }
 },
 "nbformat": 4,
 "nbformat_minor": 0
}