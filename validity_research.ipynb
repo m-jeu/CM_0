{
 "cells": [
  {
   "cell_type": "markdown",
   "metadata": {
    "pycharm": {
     "name": "#%% md\n"
    }
   },
   "source": [
    "<h1>Research validity</h1>\n",
    "\n",
    "In our main Jupyter Notebook, we have found some evidence to suggest that the provided dataset contains some catastrophic errors, and is not reliable to draw conclusions from. This combined with the fact that we haven't been able to get a clear source for the dataset, has caused us to create this notebook to elaborate on and investigate our concerns.\n",
    "\n",
    "Let's import the necessary Python libraries and modules. Then load in the dataset and have a preliminary look at it:\n"
   ]
  },
  {
   "cell_type": "code",
   "execution_count": null,
   "metadata": {
    "pycharm": {
     "name": "#%%\n"
    }
   },
   "outputs": [],
   "source": [
    "import numpy as np\n",
    "import pandas as pd\n",
    "import matplotlib.pyplot as plt"
   ]
  },
  {
   "cell_type": "code",
   "execution_count": null,
   "metadata": {
    "pycharm": {
     "name": "#%%\n"
    }
   },
   "outputs": [],
   "source": [
    "dataset = pd.read_csv(\"datasets/redwine.csv\", sep=\";\")\n",
    "dataset.head(10)"
   ]
  },
  {
   "cell_type": "code",
   "execution_count": null,
   "metadata": {
    "pycharm": {
     "name": "#%%\n"
    }
   },
   "outputs": [],
   "source": [
    "dataset.info()"
   ]
  },
  {
   "cell_type": "markdown",
   "metadata": {},
   "source": [
    "The dataset consists of the following 22 columns, sorted into categories and not in their original order:\n",
    "\n",
    "id: A column that conflicts with the automatically generated pandas index which should probably be fixed by anyone planning to seriously use the dataset.\n",
    "\n",
    "Columns that describe a wine's origin:\n",
    "-Country (notably always Portugal)\n",
    "-Province\n",
    "-Winery\n",
    "\n",
    "Columns that describe a wine name-wise:\n",
    "-Designation\n",
    "-Title\n",
    "\n",
    "Columns that describe what type of wine a wine is:\n",
    "-Variety (notable always Portugese red)\n",
    "\n",
    "Columns related to a review of a wine:\n",
    "-Taster name\n",
    "-Points\n",
    "-Price (could perhaps be listed under another category, but I suspect the listed price is the price that the reviewer paid).\n",
    "\n",
    "A wine's chemical properties:\n",
    "-Fixed acidity\n",
    "-Volatile acidity\n",
    "-Citric acid\n",
    "-Residual sugar\n",
    "-Chlorides\n",
    "-Free sulfur dioxide\n",
    "-Total sulfur dioxide\n",
    "-Density\n",
    "-pH\n",
    "-Sulphates\n",
    "-Alcohol\n",
    "\n",
    "We were proposed several questions to look at, including the (possible) relationship between the chemical properties of a wine, and it's review score."
   ]
  },
  {
   "cell_type": "markdown",
   "metadata": {},
   "source": [
    "Our suspicions began when we were tasked with adding a second dataset to our existing one in some meaningful way that provides more insight. Research on the internet pointed us towards many datasets that had similarities with ours, but none were quite the same. Some had everything but the chemical property columns, some had only that in an anonymized fashion (no wine names) with some attributes that our dataset doesn't contain."
   ]
  },
  {
   "cell_type": "markdown",
   "metadata": {},
   "source": [
    "After searching for the original source for the dataset we came to the conclusion that the dataset is constructed from the following two sources: <a href=\"https://www.kaggle.com/zynicide/wine-reviews\">Dataset wine reviews</a>. and <a href=\"https://archive.ics.uci.edu/ml/datasets/wine+quality\">Dataset chemical values</a>."
   ]
  },
  {
   "cell_type": "markdown",
   "metadata": {},
   "source": []
  },
  {
   "cell_type": "markdown",
   "metadata": {},
   "source": [
    "The Sjoerd part\n",
    "\n",
    "\n",
    "Correlation between numerical attributes:\n",
    "![](images/correlation_heatmap.png)\n",
    "In the correlation matrix above we can see a couple noteworthy correlations.\n",
    "But when looking deeper into the significant correlations it can be said that they are correlations between attributes that are either only in the wine review data set or in the chemical values dataset.\n",
    "This raises some questions considering we expected to find a correlation between chemical properties of a wine and their reviewed score.\n",
    "\n",
    "Merge conflicts are currently a big problem, so here's a temporaru line to seperate what parts we can work on.\n",
    "\n",
    "<h2>------------------------------------------The line-------------------------------------</h2>\n",
    "\n",
    "The Maarten part"
   ]
  },
  {
   "cell_type": "markdown",
   "metadata": {},
   "source": [
    "To be absolutely sure that these datasets were merged with no real world overlap, we decided to do some manual checking. Alcohol percentage is allegedly from the 'chemical' dataset, though we could look these up for names in the 'left' dataset, to see wether they correspond to eachother. Let's have a look at the dataset:"
   ]
  },
  {
   "cell_type": "code",
   "execution_count": null,
   "metadata": {
    "pycharm": {
     "name": "#%%\n"
    }
   },
   "outputs": [],
   "source": [
    "dataset[[\"title\", \"alcohol\"]].head(10)"
   ]
  },
  {
   "cell_type": "markdown",
   "metadata": {},
   "source": [
    "And let's look up some of the alcohol percentages:\n",
    "\n",
    "Quinta dos Avidagos 2011 Avidagos Red (Douro)\n",
    "According to the dataset: 9.7%\n",
    "According to <a href=\"https://www.wine-searcher.com/find/quinta+dos+avidagos+tinto+douro+portugal/2011/netherlands#t2\">the internet</a>: Between 13 and 14 %\n",
    "\n",
    "Casa Santa Vit�ria 2013 Grande Reserva Tinto Red (Alentejano)\n",
    "According to the dataset: 9.6%.\n",
    "According to <a href=\"https://www.wine-searcher.com/find/casa+de+santa+vittoria+grand+rsrv+regional+alentejano+alentejo+portugal/2013#t2\">the internet.</a>: 14%.\n",
    "\n",
    "Luis Duarte 2013 Monte de Carrapatelo Colheita Seleccionada Tinto Red (Alentejano) (index 5):\n",
    "According to the dataset: 12.3%\n",
    "According to <a href=\"https://www.specialtycellars.com/wp-content/uploads/2020/08/Monte-De-Carrapatelo-Tinto-2013.pdf\">the internet:</a> 14.5%"
   ]
  }
 ],
 "metadata": {
  "kernelspec": {
   "display_name": "Python 3",
   "language": "python",
   "name": "python3"
  },
  "language_info": {
   "codemirror_mode": {
    "name": "ipython",
    "version": 3
   },
   "file_extension": ".py",
   "mimetype": "text/x-python",
   "name": "python",
   "nbconvert_exporter": "python",
   "pygments_lexer": "ipython3",
   "version": "3.9.1"
  }
 },
 "nbformat": 4,
 "nbformat_minor": 1
}