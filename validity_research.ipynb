{
 "cells": [
  {
   "cell_type": "markdown",
   "source": [
    "<h1>Research validity</h1>\n",
    "\n",
    "In our main Jupyter Notebook, we have found some evidence to suggest that the provided dataset contains some catastrophic errors, and is not reliable to draw conclusions from. This combined with the fact that we haven't been able to get a clear source for the dataset, has caused us to create this notebook to elaborate on and investigate our concerns.\n",
    "\n",
    "Let's import the necessary Python libraries and modules. Then load in the dataset and have a preliminary look at it:\n"
   ],
   "metadata": {
    "collapsed": false,
    "pycharm": {
     "name": "#%% md\n"
    }
   }
  },
  {
   "cell_type": "code",
   "execution_count": 4,
   "outputs": [],
   "source": [
    "import numpy as np\n",
    "import pandas as pd\n",
    "import matplotlib.pyplot as plt"
   ],
   "metadata": {
    "collapsed": false,
    "pycharm": {
     "name": "#%%\n"
    }
   }
  },
  {
   "cell_type": "code",
   "execution_count": 6,
   "outputs": [
    {
     "data": {
      "text/plain": "   id   country                                        description  \\\n0   1  Portugal  This is ripe and fruity, a wine that is smooth...   \n1   2  Portugal  From an estate in the south of the Alentejo, t...   \n2   3  Portugal  A year in wood and 30 months in bottle before ...   \n3   4  Portugal  Wood aging gives this ripe blend of Baga and T...   \n4   5  Portugal  A powerful wine, richly structured and full of...   \n5   6  Portugal  This is a new wine from the hands of master wi...   \n6   7  Portugal  As its name suggests this is a selection of ba...   \n7   8  Portugal  This is an impressive, powerful wine, It speak...   \n8   9  Portugal  Powerful and concentrated, this is just at its...   \n9  10  Portugal  This mature wine has a soft, smooth character ...   \n\n                                        designation  points  price  \\\n0                                          Avidagos      87   15.0   \n1                              Grande Reserva Tinto      91   26.0   \n2                          Montes Claros Garrafeira      90   28.0   \n3                                               NaN      90   20.0   \n4                    Gera��es Colheita Seleccionada      92   34.0   \n5  Monte de Carrapatelo Colheita Seleccionada Tinto      92   30.0   \n6                   Lagoalva Barrel Selection Tinto      92   23.0   \n7                                               NaN      92   80.0   \n8                                    Grande Reserva      92   32.0   \n9                                            VT '08      90   32.0   \n\n          province         taster_name  \\\n0            Douro       Kerin O�Keefe   \n1       Alentejano          Roger Voss   \n2         Alentejo        Paul Gregutt   \n3  Beira Atlantico  Alexander Peartree   \n4       Alentejano        Paul Gregutt   \n5       Alentejano   Michael Schachner   \n6             Tejo       Kerin O�Keefe   \n7            Douro          Roger Voss   \n8         Alentejo  Anna Lee C. Iijima   \n9            Douro          Roger Voss   \n\n                                               title         variety  ...  \\\n0      Quinta dos Avidagos 2011 Avidagos Red (Douro)  Portuguese Red  ...   \n1  Casa Santa Vit�ria 2013 Grande Reserva Tinto R...  Portuguese Red  ...   \n2  Adega Cooperativa de Borba 2012 Montes Claros ...  Portuguese Red  ...   \n3  Quinta de Foz de Arouce 2013 Red (Beira Atlant...  Portuguese Red  ...   \n4  Herdade Grande 2010 Gera��es Colheita Seleccio...  Portuguese Red  ...   \n5  Luis Duarte 2013 Monte de Carrapatelo Colheita...  Portuguese Red  ...   \n6  Quinta da Lagoalva de Cima 2013 Lagoalva Barre...  Portuguese Red  ...   \n7             Quinta do Monte Xisto 2013 Red (Douro)  Portuguese Red  ...   \n8  Monte da Penha 2005 Grande Reserva Red (Alentejo)  Portuguese Red  ...   \n9          Quinta do Sagrado 2008 VT '08 Red (Douro)  Portuguese Red  ...   \n\n  volatile acidity  citric acid  residual sugar chlorides  \\\n0             0.29          0.4             2.9     0.098   \n1             0.26         0.37             1.4     0.076   \n2             0.69         0.07             2.5     0.091   \n3             0.69         0.07             2.5     0.091   \n4             0.48         0.34             2.2     0.073   \n5             0.23         0.42             1.9     0.069   \n6             0.47         0.43             2.1     0.171   \n7             0.53         -                1.4     0.070   \n8             0.33         0.41             1.5     0.056   \n9             0.69         0.07             2.5     0.091   \n\n   free sulfur dioxide  total sulfur dioxide  density    pH sulphates  alcohol  \n0                 10.0                  26.0   10.006  3.48      0.91      9.7  \n1                  8.0                  23.0   0.9974  3.26      0.70      9.6  \n2                 15.0                  21.0  0.99572  3.38      0.60     11.3  \n3                 15.0                  21.0  0.99572  3.38      0.60     11.3  \n4                 16.0                  25.0   0.9936  3.28      0.66     12.4  \n5                  9.0                  17.0  0.99376  3.21      0.54     12.3  \n6                 27.0                  66.0   0.9982  3.17      0.76     10.8  \n7                  6.0                  14.0  0.99593  3.25      0.64       10  \n8                  6.0                  35.0  0.99396  3.29      0.71       11  \n9                 15.0                  21.0  0.99572  3.38      0.60     11.3  \n\n[10 rows x 22 columns]",
      "text/html": "<div>\n<style scoped>\n    .dataframe tbody tr th:only-of-type {\n        vertical-align: middle;\n    }\n\n    .dataframe tbody tr th {\n        vertical-align: top;\n    }\n\n    .dataframe thead th {\n        text-align: right;\n    }\n</style>\n<table border=\"1\" class=\"dataframe\">\n  <thead>\n    <tr style=\"text-align: right;\">\n      <th></th>\n      <th>id</th>\n      <th>country</th>\n      <th>description</th>\n      <th>designation</th>\n      <th>points</th>\n      <th>price</th>\n      <th>province</th>\n      <th>taster_name</th>\n      <th>title</th>\n      <th>variety</th>\n      <th>...</th>\n      <th>volatile acidity</th>\n      <th>citric acid</th>\n      <th>residual sugar</th>\n      <th>chlorides</th>\n      <th>free sulfur dioxide</th>\n      <th>total sulfur dioxide</th>\n      <th>density</th>\n      <th>pH</th>\n      <th>sulphates</th>\n      <th>alcohol</th>\n    </tr>\n  </thead>\n  <tbody>\n    <tr>\n      <th>0</th>\n      <td>1</td>\n      <td>Portugal</td>\n      <td>This is ripe and fruity, a wine that is smooth...</td>\n      <td>Avidagos</td>\n      <td>87</td>\n      <td>15.0</td>\n      <td>Douro</td>\n      <td>Kerin O�Keefe</td>\n      <td>Quinta dos Avidagos 2011 Avidagos Red (Douro)</td>\n      <td>Portuguese Red</td>\n      <td>...</td>\n      <td>0.29</td>\n      <td>0.4</td>\n      <td>2.9</td>\n      <td>0.098</td>\n      <td>10.0</td>\n      <td>26.0</td>\n      <td>10.006</td>\n      <td>3.48</td>\n      <td>0.91</td>\n      <td>9.7</td>\n    </tr>\n    <tr>\n      <th>1</th>\n      <td>2</td>\n      <td>Portugal</td>\n      <td>From an estate in the south of the Alentejo, t...</td>\n      <td>Grande Reserva Tinto</td>\n      <td>91</td>\n      <td>26.0</td>\n      <td>Alentejano</td>\n      <td>Roger Voss</td>\n      <td>Casa Santa Vit�ria 2013 Grande Reserva Tinto R...</td>\n      <td>Portuguese Red</td>\n      <td>...</td>\n      <td>0.26</td>\n      <td>0.37</td>\n      <td>1.4</td>\n      <td>0.076</td>\n      <td>8.0</td>\n      <td>23.0</td>\n      <td>0.9974</td>\n      <td>3.26</td>\n      <td>0.70</td>\n      <td>9.6</td>\n    </tr>\n    <tr>\n      <th>2</th>\n      <td>3</td>\n      <td>Portugal</td>\n      <td>A year in wood and 30 months in bottle before ...</td>\n      <td>Montes Claros Garrafeira</td>\n      <td>90</td>\n      <td>28.0</td>\n      <td>Alentejo</td>\n      <td>Paul Gregutt</td>\n      <td>Adega Cooperativa de Borba 2012 Montes Claros ...</td>\n      <td>Portuguese Red</td>\n      <td>...</td>\n      <td>0.69</td>\n      <td>0.07</td>\n      <td>2.5</td>\n      <td>0.091</td>\n      <td>15.0</td>\n      <td>21.0</td>\n      <td>0.99572</td>\n      <td>3.38</td>\n      <td>0.60</td>\n      <td>11.3</td>\n    </tr>\n    <tr>\n      <th>3</th>\n      <td>4</td>\n      <td>Portugal</td>\n      <td>Wood aging gives this ripe blend of Baga and T...</td>\n      <td>NaN</td>\n      <td>90</td>\n      <td>20.0</td>\n      <td>Beira Atlantico</td>\n      <td>Alexander Peartree</td>\n      <td>Quinta de Foz de Arouce 2013 Red (Beira Atlant...</td>\n      <td>Portuguese Red</td>\n      <td>...</td>\n      <td>0.69</td>\n      <td>0.07</td>\n      <td>2.5</td>\n      <td>0.091</td>\n      <td>15.0</td>\n      <td>21.0</td>\n      <td>0.99572</td>\n      <td>3.38</td>\n      <td>0.60</td>\n      <td>11.3</td>\n    </tr>\n    <tr>\n      <th>4</th>\n      <td>5</td>\n      <td>Portugal</td>\n      <td>A powerful wine, richly structured and full of...</td>\n      <td>Gera��es Colheita Seleccionada</td>\n      <td>92</td>\n      <td>34.0</td>\n      <td>Alentejano</td>\n      <td>Paul Gregutt</td>\n      <td>Herdade Grande 2010 Gera��es Colheita Seleccio...</td>\n      <td>Portuguese Red</td>\n      <td>...</td>\n      <td>0.48</td>\n      <td>0.34</td>\n      <td>2.2</td>\n      <td>0.073</td>\n      <td>16.0</td>\n      <td>25.0</td>\n      <td>0.9936</td>\n      <td>3.28</td>\n      <td>0.66</td>\n      <td>12.4</td>\n    </tr>\n    <tr>\n      <th>5</th>\n      <td>6</td>\n      <td>Portugal</td>\n      <td>This is a new wine from the hands of master wi...</td>\n      <td>Monte de Carrapatelo Colheita Seleccionada Tinto</td>\n      <td>92</td>\n      <td>30.0</td>\n      <td>Alentejano</td>\n      <td>Michael Schachner</td>\n      <td>Luis Duarte 2013 Monte de Carrapatelo Colheita...</td>\n      <td>Portuguese Red</td>\n      <td>...</td>\n      <td>0.23</td>\n      <td>0.42</td>\n      <td>1.9</td>\n      <td>0.069</td>\n      <td>9.0</td>\n      <td>17.0</td>\n      <td>0.99376</td>\n      <td>3.21</td>\n      <td>0.54</td>\n      <td>12.3</td>\n    </tr>\n    <tr>\n      <th>6</th>\n      <td>7</td>\n      <td>Portugal</td>\n      <td>As its name suggests this is a selection of ba...</td>\n      <td>Lagoalva Barrel Selection Tinto</td>\n      <td>92</td>\n      <td>23.0</td>\n      <td>Tejo</td>\n      <td>Kerin O�Keefe</td>\n      <td>Quinta da Lagoalva de Cima 2013 Lagoalva Barre...</td>\n      <td>Portuguese Red</td>\n      <td>...</td>\n      <td>0.47</td>\n      <td>0.43</td>\n      <td>2.1</td>\n      <td>0.171</td>\n      <td>27.0</td>\n      <td>66.0</td>\n      <td>0.9982</td>\n      <td>3.17</td>\n      <td>0.76</td>\n      <td>10.8</td>\n    </tr>\n    <tr>\n      <th>7</th>\n      <td>8</td>\n      <td>Portugal</td>\n      <td>This is an impressive, powerful wine, It speak...</td>\n      <td>NaN</td>\n      <td>92</td>\n      <td>80.0</td>\n      <td>Douro</td>\n      <td>Roger Voss</td>\n      <td>Quinta do Monte Xisto 2013 Red (Douro)</td>\n      <td>Portuguese Red</td>\n      <td>...</td>\n      <td>0.53</td>\n      <td>-</td>\n      <td>1.4</td>\n      <td>0.070</td>\n      <td>6.0</td>\n      <td>14.0</td>\n      <td>0.99593</td>\n      <td>3.25</td>\n      <td>0.64</td>\n      <td>10</td>\n    </tr>\n    <tr>\n      <th>8</th>\n      <td>9</td>\n      <td>Portugal</td>\n      <td>Powerful and concentrated, this is just at its...</td>\n      <td>Grande Reserva</td>\n      <td>92</td>\n      <td>32.0</td>\n      <td>Alentejo</td>\n      <td>Anna Lee C. Iijima</td>\n      <td>Monte da Penha 2005 Grande Reserva Red (Alentejo)</td>\n      <td>Portuguese Red</td>\n      <td>...</td>\n      <td>0.33</td>\n      <td>0.41</td>\n      <td>1.5</td>\n      <td>0.056</td>\n      <td>6.0</td>\n      <td>35.0</td>\n      <td>0.99396</td>\n      <td>3.29</td>\n      <td>0.71</td>\n      <td>11</td>\n    </tr>\n    <tr>\n      <th>9</th>\n      <td>10</td>\n      <td>Portugal</td>\n      <td>This mature wine has a soft, smooth character ...</td>\n      <td>VT '08</td>\n      <td>90</td>\n      <td>32.0</td>\n      <td>Douro</td>\n      <td>Roger Voss</td>\n      <td>Quinta do Sagrado 2008 VT '08 Red (Douro)</td>\n      <td>Portuguese Red</td>\n      <td>...</td>\n      <td>0.69</td>\n      <td>0.07</td>\n      <td>2.5</td>\n      <td>0.091</td>\n      <td>15.0</td>\n      <td>21.0</td>\n      <td>0.99572</td>\n      <td>3.38</td>\n      <td>0.60</td>\n      <td>11.3</td>\n    </tr>\n  </tbody>\n</table>\n<p>10 rows × 22 columns</p>\n</div>"
     },
     "execution_count": 6,
     "metadata": {},
     "output_type": "execute_result"
    }
   ],
   "source": [
    "dataset = pd.read_csv(\"redwine.csv\", sep=\";\")\n",
    "dataset.head(10)"
   ],
   "metadata": {
    "collapsed": false,
    "pycharm": {
     "name": "#%%\n"
    }
   }
  },
  {
   "cell_type": "code",
   "execution_count": 8,
   "outputs": [
    {
     "name": "stdout",
     "output_type": "stream",
     "text": [
      "<class 'pandas.core.frame.DataFrame'>\n",
      "RangeIndex: 2465 entries, 0 to 2464\n",
      "Data columns (total 22 columns):\n",
      " #   Column                Non-Null Count  Dtype  \n",
      "---  ------                --------------  -----  \n",
      " 0   id                    2465 non-null   int64  \n",
      " 1   country               2465 non-null   object \n",
      " 2   description           2465 non-null   object \n",
      " 3   designation           2312 non-null   object \n",
      " 4   points                2465 non-null   int64  \n",
      " 5   price                 2196 non-null   float64\n",
      " 6   province              2465 non-null   object \n",
      " 7   taster_name           2465 non-null   object \n",
      " 8   title                 2465 non-null   object \n",
      " 9   variety               2465 non-null   object \n",
      " 10  winery                2465 non-null   object \n",
      " 11  fixed acidity         2465 non-null   float64\n",
      " 12  volatile acidity      2465 non-null   float64\n",
      " 13  citric acid           2465 non-null   object \n",
      " 14  residual sugar        2465 non-null   float64\n",
      " 15  chlorides             2465 non-null   float64\n",
      " 16  free sulfur dioxide   2465 non-null   float64\n",
      " 17  total sulfur dioxide  2465 non-null   float64\n",
      " 18  density               2465 non-null   object \n",
      " 19  pH                    2465 non-null   float64\n",
      " 20  sulphates             2465 non-null   float64\n",
      " 21  alcohol               2465 non-null   object \n",
      "dtypes: float64(9), int64(2), object(11)\n",
      "memory usage: 423.8+ KB\n"
     ]
    }
   ],
   "source": [
    "dataset.info()"
   ],
   "metadata": {
    "collapsed": false,
    "pycharm": {
     "name": "#%%\n"
    }
   }
  },
  {
   "cell_type": "markdown",
   "source": [
    "The dataset consists of the following 22 columns, sorted and not in their original order:\n",
    "\n",
    "id: A column that conflicts with the automatically generated pandas index which should probably be fixed by anyone planning to seriously use the dataset.\n",
    "\n",
    "Columns that describe a wine's origin:\n",
    "-Country (notably always Portugal)\n",
    "-Province\n",
    "-Winery\n",
    "\n",
    "Columns that describe a wine name-wise:\n",
    "-Designation\n",
    "-Title\n",
    "\n",
    "Columns that describe what type of wine a wine is:\n",
    "-Variety (notable always Portugese red)\n",
    "\n",
    "Columns related to a review of a wine:\n",
    "-Taster name\n",
    "-Points"
   ],
   "metadata": {
    "collapsed": false
   }
  }
 ],
 "metadata": {
  "kernelspec": {
   "display_name": "Python 3",
   "language": "python",
   "name": "python3"
  },
  "language_info": {
   "codemirror_mode": {
    "name": "ipython",
    "version": 2
   },
   "file_extension": ".py",
   "mimetype": "text/x-python",
   "name": "python",
   "nbconvert_exporter": "python",
   "pygments_lexer": "ipython2",
   "version": "2.7.6"
  }
 },
 "nbformat": 4,
 "nbformat_minor": 0
}