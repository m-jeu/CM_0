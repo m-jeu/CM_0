{
 "cells": [
  {
   "cell_type": "markdown",
   "source": [
    "<h1> Red wine data analysis </h1>"
   ],
   "metadata": {
    "collapsed": false
   }
  },
  {
   "cell_type": "markdown",
   "source": [
    "<h2>Business Understanding</h2>\n",
    "\n",
    "Through the business, we have been asked to examine the following questions:\n",
    "\n",
    "<ol>\n",
    "<li>In hoeverre is de score van een Portugese Red te voorspellen op basis van de chemische kenmerken?</li>\n",
    "<li>Zelf te bepalen: denk aan andere type wijnen of andere landen.</li>\n",
    "<li>Zelf te bepalen: denk bijvoorbeeld aan het clusteren op basis van de chemische kenmerken waarmee het type druif of de regio bepaald kan worden. Of kun je logische clusters vinden van topwijnen, doordrinkwijnen en bocht?</li>\n",
    "</ol>\n",
    "\n",
    "<i>TODO(m-jeu): Either translate these questions to english, or change the language of the rest of the document to dutch. This also goes for the dutch list in 'Data Understanding'.</i>\n",
    "\n",
    "Currently, the exact nature of 'the business' and their desires datascience-wise is unknown to us. This requires further investigation."
   ],
   "metadata": {
    "collapsed": false
   }
  },
  {
   "cell_type": "markdown",
   "source": [
    "<h2> Data Understanding </h2>\n",
    "\n",
    "The business tells us the most important variables in the dataset are:\n",
    "\n",
    "<ol>\n",
    "<li>Herkomst van de wijn en type druif.</li>\n",
    "<li>Review van de wijn, inclusief naam van de sommelier en de score op een schaal van 1 tot 100.</li>\n",
    "<li>De uitkomsten van chemische tests op 11 waarde (waaronder suikergehalte, pH, alcoholgehalte, et cetera).</li>\n",
    "\n"
   ],
   "metadata": {
    "collapsed": false
   }
  },
  {
   "cell_type": "markdown",
   "source": [
    "We import some libraries and the dataset to examine the data through code."
   ],
   "metadata": {
    "collapsed": false
   }
  },
  {
   "cell_type": "code",
   "execution_count": 455,
   "outputs": [],
   "source": [
    "import numpy as np\n",
    "import pandas as pd\n",
    "import matplotlib.pyplot as plt\n",
    "%matplotlib inline"
   ],
   "metadata": {
    "collapsed": false,
    "pycharm": {
     "name": "#%%\n"
    }
   }
  },
  {
   "cell_type": "code",
   "execution_count": 431,
   "outputs": [],
   "source": [
    "dataset = pd.read_csv(\"redwine.csv\", sep=\";\")"
   ],
   "metadata": {
    "collapsed": false,
    "pycharm": {
     "name": "#%%\n"
    }
   }
  },
  {
   "cell_type": "markdown",
   "source": [
    "A first look at the dataset:"
   ],
   "metadata": {
    "collapsed": false
   }
  },
  {
   "cell_type": "code",
   "execution_count": 432,
   "outputs": [
    {
     "data": {
      "text/plain": "   id   country                                        description  \\\n0   1  Portugal  This is ripe and fruity, a wine that is smooth...   \n1   2  Portugal  From an estate in the south of the Alentejo, t...   \n2   3  Portugal  A year in wood and 30 months in bottle before ...   \n3   4  Portugal  Wood aging gives this ripe blend of Baga and T...   \n4   5  Portugal  A powerful wine, richly structured and full of...   \n\n                      designation  points  price         province  \\\n0                        Avidagos      87   15.0            Douro   \n1            Grande Reserva Tinto      91   26.0       Alentejano   \n2        Montes Claros Garrafeira      90   28.0         Alentejo   \n3                             NaN      90   20.0  Beira Atlantico   \n4  Gera��es Colheita Seleccionada      92   34.0       Alentejano   \n\n          taster_name                                              title  \\\n0       Kerin O�Keefe      Quinta dos Avidagos 2011 Avidagos Red (Douro)   \n1          Roger Voss  Casa Santa Vit�ria 2013 Grande Reserva Tinto R...   \n2        Paul Gregutt  Adega Cooperativa de Borba 2012 Montes Claros ...   \n3  Alexander Peartree  Quinta de Foz de Arouce 2013 Red (Beira Atlant...   \n4        Paul Gregutt  Herdade Grande 2010 Gera��es Colheita Seleccio...   \n\n          variety  ... volatile acidity  citric acid  residual sugar  \\\n0  Portuguese Red  ...             0.29          0.4             2.9   \n1  Portuguese Red  ...             0.26         0.37             1.4   \n2  Portuguese Red  ...             0.69         0.07             2.5   \n3  Portuguese Red  ...             0.69         0.07             2.5   \n4  Portuguese Red  ...             0.48         0.34             2.2   \n\n  chlorides  free sulfur dioxide  total sulfur dioxide  density    pH  \\\n0     0.098                 10.0                  26.0   10.006  3.48   \n1     0.076                  8.0                  23.0   0.9974  3.26   \n2     0.091                 15.0                  21.0  0.99572  3.38   \n3     0.091                 15.0                  21.0  0.99572  3.38   \n4     0.073                 16.0                  25.0   0.9936  3.28   \n\n  sulphates  alcohol  \n0      0.91      9.7  \n1      0.70      9.6  \n2      0.60     11.3  \n3      0.60     11.3  \n4      0.66     12.4  \n\n[5 rows x 22 columns]",
      "text/html": "<div>\n<style scoped>\n    .dataframe tbody tr th:only-of-type {\n        vertical-align: middle;\n    }\n\n    .dataframe tbody tr th {\n        vertical-align: top;\n    }\n\n    .dataframe thead th {\n        text-align: right;\n    }\n</style>\n<table border=\"1\" class=\"dataframe\">\n  <thead>\n    <tr style=\"text-align: right;\">\n      <th></th>\n      <th>id</th>\n      <th>country</th>\n      <th>description</th>\n      <th>designation</th>\n      <th>points</th>\n      <th>price</th>\n      <th>province</th>\n      <th>taster_name</th>\n      <th>title</th>\n      <th>variety</th>\n      <th>...</th>\n      <th>volatile acidity</th>\n      <th>citric acid</th>\n      <th>residual sugar</th>\n      <th>chlorides</th>\n      <th>free sulfur dioxide</th>\n      <th>total sulfur dioxide</th>\n      <th>density</th>\n      <th>pH</th>\n      <th>sulphates</th>\n      <th>alcohol</th>\n    </tr>\n  </thead>\n  <tbody>\n    <tr>\n      <th>0</th>\n      <td>1</td>\n      <td>Portugal</td>\n      <td>This is ripe and fruity, a wine that is smooth...</td>\n      <td>Avidagos</td>\n      <td>87</td>\n      <td>15.0</td>\n      <td>Douro</td>\n      <td>Kerin O�Keefe</td>\n      <td>Quinta dos Avidagos 2011 Avidagos Red (Douro)</td>\n      <td>Portuguese Red</td>\n      <td>...</td>\n      <td>0.29</td>\n      <td>0.4</td>\n      <td>2.9</td>\n      <td>0.098</td>\n      <td>10.0</td>\n      <td>26.0</td>\n      <td>10.006</td>\n      <td>3.48</td>\n      <td>0.91</td>\n      <td>9.7</td>\n    </tr>\n    <tr>\n      <th>1</th>\n      <td>2</td>\n      <td>Portugal</td>\n      <td>From an estate in the south of the Alentejo, t...</td>\n      <td>Grande Reserva Tinto</td>\n      <td>91</td>\n      <td>26.0</td>\n      <td>Alentejano</td>\n      <td>Roger Voss</td>\n      <td>Casa Santa Vit�ria 2013 Grande Reserva Tinto R...</td>\n      <td>Portuguese Red</td>\n      <td>...</td>\n      <td>0.26</td>\n      <td>0.37</td>\n      <td>1.4</td>\n      <td>0.076</td>\n      <td>8.0</td>\n      <td>23.0</td>\n      <td>0.9974</td>\n      <td>3.26</td>\n      <td>0.70</td>\n      <td>9.6</td>\n    </tr>\n    <tr>\n      <th>2</th>\n      <td>3</td>\n      <td>Portugal</td>\n      <td>A year in wood and 30 months in bottle before ...</td>\n      <td>Montes Claros Garrafeira</td>\n      <td>90</td>\n      <td>28.0</td>\n      <td>Alentejo</td>\n      <td>Paul Gregutt</td>\n      <td>Adega Cooperativa de Borba 2012 Montes Claros ...</td>\n      <td>Portuguese Red</td>\n      <td>...</td>\n      <td>0.69</td>\n      <td>0.07</td>\n      <td>2.5</td>\n      <td>0.091</td>\n      <td>15.0</td>\n      <td>21.0</td>\n      <td>0.99572</td>\n      <td>3.38</td>\n      <td>0.60</td>\n      <td>11.3</td>\n    </tr>\n    <tr>\n      <th>3</th>\n      <td>4</td>\n      <td>Portugal</td>\n      <td>Wood aging gives this ripe blend of Baga and T...</td>\n      <td>NaN</td>\n      <td>90</td>\n      <td>20.0</td>\n      <td>Beira Atlantico</td>\n      <td>Alexander Peartree</td>\n      <td>Quinta de Foz de Arouce 2013 Red (Beira Atlant...</td>\n      <td>Portuguese Red</td>\n      <td>...</td>\n      <td>0.69</td>\n      <td>0.07</td>\n      <td>2.5</td>\n      <td>0.091</td>\n      <td>15.0</td>\n      <td>21.0</td>\n      <td>0.99572</td>\n      <td>3.38</td>\n      <td>0.60</td>\n      <td>11.3</td>\n    </tr>\n    <tr>\n      <th>4</th>\n      <td>5</td>\n      <td>Portugal</td>\n      <td>A powerful wine, richly structured and full of...</td>\n      <td>Gera��es Colheita Seleccionada</td>\n      <td>92</td>\n      <td>34.0</td>\n      <td>Alentejano</td>\n      <td>Paul Gregutt</td>\n      <td>Herdade Grande 2010 Gera��es Colheita Seleccio...</td>\n      <td>Portuguese Red</td>\n      <td>...</td>\n      <td>0.48</td>\n      <td>0.34</td>\n      <td>2.2</td>\n      <td>0.073</td>\n      <td>16.0</td>\n      <td>25.0</td>\n      <td>0.9936</td>\n      <td>3.28</td>\n      <td>0.66</td>\n      <td>12.4</td>\n    </tr>\n  </tbody>\n</table>\n<p>5 rows × 22 columns</p>\n</div>"
     },
     "execution_count": 432,
     "metadata": {},
     "output_type": "execute_result"
    }
   ],
   "source": [
    "dataset.head(5)"
   ],
   "metadata": {
    "collapsed": false,
    "pycharm": {
     "name": "#%%\n"
    }
   }
  },
  {
   "cell_type": "markdown",
   "source": [
    "Rows seems to correspond with individual wines on first glance, though this does need to be examined more thoroughly. Columns are different attributes for those individual wines."
   ],
   "metadata": {
    "collapsed": false
   }
  },
  {
   "cell_type": "markdown",
   "source": [
    "<h2>Data Preparation</h2>\n",
    "\n",
    "The data needs some cleaning up.\n",
    "\n",
    "\n",
    "\n",
    "<h3>Notebook-wide data-preparation</h3>\n",
    "\n",
    "An overview of datatypes:"
   ],
   "metadata": {
    "collapsed": false
   }
  },
  {
   "cell_type": "code",
   "execution_count": 433,
   "outputs": [
    {
     "data": {
      "text/plain": "id                        int64\ncountry                  object\ndescription              object\ndesignation              object\npoints                    int64\nprice                   float64\nprovince                 object\ntaster_name              object\ntitle                    object\nvariety                  object\nwinery                   object\nfixed acidity           float64\nvolatile acidity        float64\ncitric acid              object\nresidual sugar          float64\nchlorides               float64\nfree sulfur dioxide     float64\ntotal sulfur dioxide    float64\ndensity                  object\npH                      float64\nsulphates               float64\nalcohol                  object\ndtype: object"
     },
     "execution_count": 433,
     "metadata": {},
     "output_type": "execute_result"
    }
   ],
   "source": [
    "dataset.dtypes"
   ],
   "metadata": {
    "collapsed": false,
    "pycharm": {
     "name": "#%%\n"
    }
   }
  },
  {
   "cell_type": "markdown",
   "source": [
    "Jupyter doesn't recognize some of the Python str objects for what they are, and simply calls them the 'object' type. Let's convert them to the right type to allow for more method flexibility:"
   ],
   "metadata": {
    "collapsed": false
   }
  },
  {
   "cell_type": "code",
   "execution_count": 434,
   "outputs": [
    {
     "data": {
      "text/plain": "id                        Int64\ncountry                  string\ndescription              string\ndesignation              string\npoints                    Int64\nprice                     Int64\nprovince                 string\ntaster_name              string\ntitle                    string\nvariety                  string\nwinery                   string\nfixed acidity           Float64\nvolatile acidity        Float64\ncitric acid              string\nresidual sugar          Float64\nchlorides               Float64\nfree sulfur dioxide     Float64\ntotal sulfur dioxide    Float64\ndensity                  string\npH                      Float64\nsulphates               Float64\nalcohol                  string\ndtype: object"
     },
     "execution_count": 434,
     "metadata": {},
     "output_type": "execute_result"
    }
   ],
   "source": [
    "dataset = dataset.convert_dtypes()\n",
    "dataset.dtypes"
   ],
   "metadata": {
    "collapsed": false,
    "pycharm": {
     "name": "#%%\n"
    }
   }
  },
  {
   "cell_type": "markdown",
   "source": [
    "There are some datatypes in the DataFrame that don't quite correspond to what you'd expect them to be, considering what they represent. Citric acid, Density and Alcohol are string objects, even though you'd expect them to be some kind of number-datatype. Let's copy everyone to a seperate column called 'raw_columnname' so that we can evaluate the original next to the converted in case we run into any problems turning these columns into numbers. Then we'll convert each one individually."
   ],
   "metadata": {
    "collapsed": false
   }
  },
  {
   "cell_type": "code",
   "execution_count": 435,
   "outputs": [],
   "source": [
    "problematic_column_names = [\"citric acid\", \"density\", \"alcohol\"]\n",
    "copied_column_names = {f\"raw_{name}\":name for name in problematic_column_names}\n",
    "\n",
    "for new, to_copy in copied_column_names.items():  # Is this allowed?\n",
    "    dataset[new] = dataset[to_copy]\n"
   ],
   "metadata": {
    "collapsed": false,
    "pycharm": {
     "name": "#%%\n"
    }
   }
  },
  {
   "cell_type": "markdown",
   "source": [
    "<h3>Data Preperation on column-by-column basis</h3>\n",
    "\n",
    "<h4>Citric Acid</h4>\n",
    "\n",
    "The citric acid column consists of string objects, through most entries are formatted like floats. Pandas can convert these for us, turning the ones that it can't understand into not-a-number entries."
   ],
   "metadata": {
    "collapsed": false
   }
  },
  {
   "cell_type": "code",
   "execution_count": 436,
   "outputs": [
    {
     "data": {
      "text/plain": "0        0.4\n1       0.37\n2       0.07\n3       0.07\n4       0.34\n        ... \n2460     0.5\n2461    0.51\n2462    0.08\n2463    0.22\n2464    0.37\nName: citric acid, Length: 2465, dtype: string"
     },
     "execution_count": 436,
     "metadata": {},
     "output_type": "execute_result"
    }
   ],
   "source": [
    "dataset[\"citric acid\"]"
   ],
   "metadata": {
    "collapsed": false,
    "pycharm": {
     "name": "#%%\n"
    }
   }
  },
  {
   "cell_type": "code",
   "execution_count": 437,
   "outputs": [],
   "source": [
    "dataset[\"citric acid\"] = pd.to_numeric(dataset[\"citric acid\"], errors='coerce')"
   ],
   "metadata": {
    "collapsed": false,
    "pycharm": {
     "name": "#%%\n"
    }
   }
  },
  {
   "cell_type": "markdown",
   "source": [
    "And let's define a simple convenience function that describes the min, max and amount of nan entries in a series object, to quickly gauge the validity of data contained within, and call it on the Citric Acid column."
   ],
   "metadata": {
    "collapsed": false
   }
  },
  {
   "cell_type": "code",
   "execution_count": 438,
   "outputs": [
    {
     "name": "stdout",
     "output_type": "stream",
     "text": [
      "Citric acid:\n",
      "min: 0.01\n",
      "max: 1.0\n",
      "#(nan): 203\n"
     ]
    }
   ],
   "source": [
    "def simple_describe(s: pd.Series, name: str = \"Series object\") -> None:\n",
    "    \"\"\"Print out a simple description of a Pandas Series object that contains numeric values.\n",
    "    That covers min, max and amount of nan/None entries.\n",
    "\n",
    "    Args:\n",
    "        s: Pandas series object with numeric values.\n",
    "        name: optional name for the series to use in the printed description.\"\"\"\n",
    "    print(f\"{name}:\\nmin: {np.min(s)}\\nmax: {np.max(s)}\\n#(nan): {s.isnull().sum()}\")\n",
    "\n",
    "simple_describe(dataset[\"citric acid\"], \"Citric acid\")"
   ],
   "metadata": {
    "collapsed": false,
    "pycharm": {
     "name": "#%%\n"
    }
   }
  },
  {
   "cell_type": "markdown",
   "source": [
    "Auto converting the citric acid table to float leaves us with 203 not-a-number entries. Lets have a look at them."
   ],
   "metadata": {
    "collapsed": false
   }
  },
  {
   "cell_type": "code",
   "execution_count": 439,
   "outputs": [
    {
     "data": {
      "text/plain": "        id                                              title  citric acid  \\\n7        8             Quinta do Monte Xisto 2013 Red (Douro)          NaN   \n11      12                  Roquette e Cazes 2007 Red (Douro)          NaN   \n22      23         Alves de Sousa 2013 Abandonado Red (Douro)          NaN   \n41      42  Casa Santos Lima 2015 Fortissimo Red (Alentejano)          NaN   \n46      47  Rui Roboredo Madeira 2015 Beyra Colheita Red (...          NaN   \n...    ...                                                ...          ...   \n2379  2381       Herdade Grande 2004 Reserva Red (Alentejano)          NaN   \n2420  2422  Wines & Winemakers 2015 Lua Cheia em Vinhas Ve...          NaN   \n2424  2426  Casca Wines 2015 Monte Cascas Colheita Red (Al...          NaN   \n2432  2434  DFJ Vinhos 2014 Monte Alentejano Red (Alentejano)          NaN   \n2458  2460      Quinta de Porrais 2015 Sete Vales Red (Douro)          NaN   \n\n     raw_citric acid  \n7               -     \n11              -     \n22              -     \n41              -     \n46              -     \n...              ...  \n2379            -     \n2420            -     \n2424            -     \n2432            -     \n2458            -     \n\n[203 rows x 4 columns]",
      "text/html": "<div>\n<style scoped>\n    .dataframe tbody tr th:only-of-type {\n        vertical-align: middle;\n    }\n\n    .dataframe tbody tr th {\n        vertical-align: top;\n    }\n\n    .dataframe thead th {\n        text-align: right;\n    }\n</style>\n<table border=\"1\" class=\"dataframe\">\n  <thead>\n    <tr style=\"text-align: right;\">\n      <th></th>\n      <th>id</th>\n      <th>title</th>\n      <th>citric acid</th>\n      <th>raw_citric acid</th>\n    </tr>\n  </thead>\n  <tbody>\n    <tr>\n      <th>7</th>\n      <td>8</td>\n      <td>Quinta do Monte Xisto 2013 Red (Douro)</td>\n      <td>NaN</td>\n      <td>-</td>\n    </tr>\n    <tr>\n      <th>11</th>\n      <td>12</td>\n      <td>Roquette e Cazes 2007 Red (Douro)</td>\n      <td>NaN</td>\n      <td>-</td>\n    </tr>\n    <tr>\n      <th>22</th>\n      <td>23</td>\n      <td>Alves de Sousa 2013 Abandonado Red (Douro)</td>\n      <td>NaN</td>\n      <td>-</td>\n    </tr>\n    <tr>\n      <th>41</th>\n      <td>42</td>\n      <td>Casa Santos Lima 2015 Fortissimo Red (Alentejano)</td>\n      <td>NaN</td>\n      <td>-</td>\n    </tr>\n    <tr>\n      <th>46</th>\n      <td>47</td>\n      <td>Rui Roboredo Madeira 2015 Beyra Colheita Red (...</td>\n      <td>NaN</td>\n      <td>-</td>\n    </tr>\n    <tr>\n      <th>...</th>\n      <td>...</td>\n      <td>...</td>\n      <td>...</td>\n      <td>...</td>\n    </tr>\n    <tr>\n      <th>2379</th>\n      <td>2381</td>\n      <td>Herdade Grande 2004 Reserva Red (Alentejano)</td>\n      <td>NaN</td>\n      <td>-</td>\n    </tr>\n    <tr>\n      <th>2420</th>\n      <td>2422</td>\n      <td>Wines &amp; Winemakers 2015 Lua Cheia em Vinhas Ve...</td>\n      <td>NaN</td>\n      <td>-</td>\n    </tr>\n    <tr>\n      <th>2424</th>\n      <td>2426</td>\n      <td>Casca Wines 2015 Monte Cascas Colheita Red (Al...</td>\n      <td>NaN</td>\n      <td>-</td>\n    </tr>\n    <tr>\n      <th>2432</th>\n      <td>2434</td>\n      <td>DFJ Vinhos 2014 Monte Alentejano Red (Alentejano)</td>\n      <td>NaN</td>\n      <td>-</td>\n    </tr>\n    <tr>\n      <th>2458</th>\n      <td>2460</td>\n      <td>Quinta de Porrais 2015 Sete Vales Red (Douro)</td>\n      <td>NaN</td>\n      <td>-</td>\n    </tr>\n  </tbody>\n</table>\n<p>203 rows × 4 columns</p>\n</div>"
     },
     "execution_count": 439,
     "metadata": {},
     "output_type": "execute_result"
    }
   ],
   "source": [
    "dataset.loc[dataset[\"citric acid\"].isnull()][[\"id\", \"title\", \"citric acid\", \"raw_citric acid\"]]"
   ],
   "metadata": {
    "collapsed": false,
    "pycharm": {
     "name": "#%%\n"
    }
   }
  },
  {
   "cell_type": "markdown",
   "source": [
    "It appears these data points did not have a value for citric acid to begin with. According to <a href=\"https://wineserver.ucdavis.edu/industry-info/enology/methods-and-techniques/common-chemical-reagents/citric-acid\">this website</a>, citric acid is something that's <i>added</i> to wine most of the time, but it doesn't seem essential. We'll assume that the wines with '-' for citric acid were given this value on purpose, and that this means that there's none in there. Let's replace those values with 0 in the raw table, and use that to create a final version of the citric acid table. Then we'll describe it again."
   ],
   "metadata": {
    "collapsed": false
   }
  },
  {
   "cell_type": "code",
   "execution_count": 440,
   "outputs": [
    {
     "name": "stdout",
     "output_type": "stream",
     "text": [
      "Series object:\n",
      "min: 0.0\n",
      "max: 1.0\n",
      "#(nan): 0\n"
     ]
    }
   ],
   "source": [
    "dataset['raw_citric acid'] = dataset['raw_citric acid'].str.replace('-', '0')\n",
    "dataset['citric acid'] = pd.to_numeric(dataset[\"raw_citric acid\"], errors='coerce')\n",
    "simple_describe(dataset['citric acid'])"
   ],
   "metadata": {
    "collapsed": false,
    "pycharm": {
     "name": "#%%\n"
    }
   }
  },
  {
   "cell_type": "markdown",
   "source": [
    "Citric acid seems clean!"
   ],
   "metadata": {
    "collapsed": false
   }
  },
  {
   "cell_type": "markdown",
   "source": [
    "<h4>Density</h4>\n",
    "\n",
    "Most density values are formatted like proper floats, so let's have pandas turn them into that, and then describe it. This time, the simple describe won't quite cut it."
   ],
   "metadata": {
    "collapsed": false
   }
  },
  {
   "cell_type": "markdown",
   "source": [],
   "metadata": {
    "collapsed": false
   }
  },
  {
   "cell_type": "code",
   "execution_count": 441,
   "outputs": [
    {
     "data": {
      "text/plain": "0        10.006\n1        0.9974\n2       0.99572\n3       0.99572\n4        0.9936\n         ...   \n2460     0.9952\n2461      0.995\n2462     0.9971\n2463    0.99678\n2464     0.9974\nName: density, Length: 2465, dtype: string"
     },
     "execution_count": 441,
     "metadata": {},
     "output_type": "execute_result"
    }
   ],
   "source": [
    "dataset[\"density\"]"
   ],
   "metadata": {
    "collapsed": false,
    "pycharm": {
     "name": "#%%\n"
    }
   }
  },
  {
   "cell_type": "code",
   "execution_count": 451,
   "outputs": [
    {
     "data": {
      "text/plain": "count    2464.000000\nmean        2.189505\nstd         9.446440\nmin         0.990070\n25%         0.995687\n50%         0.996800\n75%         0.997900\nmax       100.369000\nName: density, dtype: float64"
     },
     "execution_count": 451,
     "metadata": {},
     "output_type": "execute_result"
    }
   ],
   "source": [
    "dataset[\"density\"] = pd.to_numeric(dataset[\"density\"], errors='coerce')\n",
    "dataset[\"density\"].describe()"
   ],
   "metadata": {
    "collapsed": false,
    "pycharm": {
     "name": "#%%\n"
    }
   }
  },
  {
   "cell_type": "markdown",
   "source": [
    "From the description, we see that almost all values (the mininum, and all quartiles) fall around the 0.99 range. Let's examine the spread of data further with the help of a frequency graph."
   ],
   "metadata": {
    "collapsed": false
   }
  },
  {
   "cell_type": "code",
   "execution_count": 462,
   "outputs": [
    {
     "data": {
      "text/plain": "<Figure size 432x288 with 1 Axes>",
      "image/png": "[encoded data removed]"
     },
     "metadata": {
      "needs_background": "light"
     },
     "output_type": "display_data"
    }
   ],
   "source": [
    "plt.hist(dataset[\"density\"], bins=50)  # TODO(m-jeu): Use OOP API and make clearer\n",
    "plt.gca().set(title=\"Density frequency\", xlabel=\"Density\", ylabel=\"Frequency\")\n",
    "plt.show()"
   ],
   "metadata": {
    "collapsed": false,
    "pycharm": {
     "name": "#%%\n"
    }
   }
  },
  {
   "cell_type": "markdown",
   "source": [
    "As we can see, most measurements fall around the '0.99' mark. Though some fall around the 10, and a couple fall around the 100 mark. We will assume that this is a notation error, where the dots weren't placed right, which can fairly easily be accounted for. If we assume that all measurements are supposed to be around '1', because it wouldn't be realistic for wines to have a 10x or 100x difference in density with others, we can correct for the mistake by recursively dividing the number by 10, until a more sensible measurement is reached."
   ],
   "metadata": {
    "collapsed": false
   }
  },
  {
   "cell_type": "code",
   "execution_count": 468,
   "outputs": [
    {
     "data": {
      "text/plain": "count    2464.000000\nmean        0.996824\nstd         0.001870\nmin         0.990070\n25%         0.995687\n50%         0.996800\n75%         0.997900\nmax         1.003690\nName: density, dtype: float64"
     },
     "execution_count": 468,
     "metadata": {},
     "output_type": "execute_result"
    }
   ],
   "source": [
    "def divide_until_at(num: float,\n",
    "                    target: float,\n",
    "                    divide_by: float,\n",
    "                    delta: float,\n",
    "                    max_recursions: int = 0) -> float:\n",
    "    \"\"\"Recursively divide a number until it's either within a certain range of a target number,\n",
    "    or the max number of recursions is reached.\n",
    "\n",
    "    Args:\n",
    "        num: input number to divide.\n",
    "        target: target number to get within a certain range of.\n",
    "        divide_by: number to divide input number by.\n",
    "        delta: amount of distance the input number could be from the target number to be considered a success.\n",
    "        max_recursion: amount of recursion after which the function should give up.\n",
    "\n",
    "    Returns:\n",
    "        num divided by divide_by a certain amount of times, so that it's within delta of target.\n",
    "        amount of times num is divided can also be 0.\n",
    "        None if max_recursions gets violated.\"\"\"\n",
    "    if max_recursions < 0:\n",
    "        return None\n",
    "    if abs(num - target) < delta:\n",
    "        return num\n",
    "    return divide_until_at((num / divide_by), target, divide_by, delta, (max_recursions - 1))\n",
    "\n",
    "dataset[\"density\"] = dataset[\"density\"].apply(lambda x: divide_until_at(x, 1, 10, 0.1, 2))\n",
    "dataset[\"density\"].describe()"
   ],
   "metadata": {
    "collapsed": false,
    "pycharm": {
     "name": "#%%\n"
    }
   }
  },
  {
   "cell_type": "code",
   "execution_count": 470,
   "outputs": [
    {
     "name": "stdout",
     "output_type": "stream",
     "text": [
      "Density:\n",
      "min: 0.99007\n",
      "max: 1.00369\n",
      "#(nan): 1\n"
     ]
    }
   ],
   "source": [
    "simple_describe(dataset[\"density\"], \"Density\")"
   ],
   "metadata": {
    "collapsed": false,
    "pycharm": {
     "name": "#%%\n"
    }
   }
  },
  {
   "cell_type": "markdown",
   "source": [
    "The weird numbers have been taken care of. A single not-a-number entry remains. Let's have a look:"
   ],
   "metadata": {
    "collapsed": false
   }
  },
  {
   "cell_type": "code",
   "execution_count": 471,
   "outputs": [
    {
     "data": {
      "text/plain": "        id                                          title  density raw_density\n1474  1475  Howard's Folly 2011 Sonhador Red (Alentejano)      NaN          . ",
      "text/html": "<div>\n<style scoped>\n    .dataframe tbody tr th:only-of-type {\n        vertical-align: middle;\n    }\n\n    .dataframe tbody tr th {\n        vertical-align: top;\n    }\n\n    .dataframe thead th {\n        text-align: right;\n    }\n</style>\n<table border=\"1\" class=\"dataframe\">\n  <thead>\n    <tr style=\"text-align: right;\">\n      <th></th>\n      <th>id</th>\n      <th>title</th>\n      <th>density</th>\n      <th>raw_density</th>\n    </tr>\n  </thead>\n  <tbody>\n    <tr>\n      <th>1474</th>\n      <td>1475</td>\n      <td>Howard's Folly 2011 Sonhador Red (Alentejano)</td>\n      <td>NaN</td>\n      <td>.</td>\n    </tr>\n  </tbody>\n</table>\n</div>"
     },
     "execution_count": 471,
     "metadata": {},
     "output_type": "execute_result"
    }
   ],
   "source": [
    "dataset.loc[dataset[\"density\"].isnull()][['id', 'title', 'density', 'raw_density']]"
   ],
   "metadata": {
    "collapsed": false,
    "pycharm": {
     "name": "#%%\n"
    }
   }
  },
  {
   "cell_type": "markdown",
   "source": [
    "A single wine has a density of '.', which we can't really use for anything. To keep the data pure, let's drop it."
   ],
   "metadata": {
    "collapsed": false
   }
  },
  {
   "cell_type": "code",
   "execution_count": 472,
   "outputs": [
    {
     "name": "stdout",
     "output_type": "stream",
     "text": [
      "Density:\n",
      "min: 0.99007\n",
      "max: 1.00369\n",
      "#(nan): 0\n"
     ]
    }
   ],
   "source": [
    "dataset = dataset[dataset[\"density\"].notna()]\n",
    "simple_describe(dataset[\"density\"], \"Density\")"
   ],
   "metadata": {
    "collapsed": false,
    "pycharm": {
     "name": "#%%\n"
    }
   }
  },
  {
   "cell_type": "markdown",
   "source": [
    "Density is clean!"
   ],
   "metadata": {
    "collapsed": false
   }
  },
  {
   "cell_type": "markdown",
   "source": [
    "<h4>Alcohol</h4>\n",
    "\n",
    "Most alcohol percentages are formatted like proper floats, and can be converted automatically. This allows us to analyse the actual numbers as well:"
   ],
   "metadata": {
    "collapsed": false
   }
  },
  {
   "cell_type": "code",
   "execution_count": 443,
   "outputs": [
    {
     "name": "stdout",
     "output_type": "stream",
     "text": [
      "Alcohol:\n",
      "min: 8.5\n",
      "max: 14.9\n",
      "#(nan): 10\n"
     ]
    }
   ],
   "source": [
    "dataset[\"alcohol\"] = pd.to_numeric(dataset[\"alcohol\"], errors='coerce')  # No OOP interface.\n",
    "simple_describe(dataset[\"alcohol\"], \"Alcohol\")"
   ],
   "metadata": {
    "collapsed": false,
    "pycharm": {
     "name": "#%%\n"
    }
   }
  },
  {
   "cell_type": "markdown",
   "source": [
    "The alcohol-percentages we have been able to extract from the String objects seem to fall within the boundaries of what could reasonably be considered 'wine'. We are still left with 10 not-a-numbers entries where pandas wasn't able to convert the strings to numbers. Let's have a look at them."
   ],
   "metadata": {
    "collapsed": false
   }
  },
  {
   "cell_type": "code",
   "execution_count": 444,
   "outputs": [
    {
     "data": {
      "text/plain": "        id                                              title  \\\n1344  1345  Companhia das Quintas 2009 Herdade da Farizoa ...   \n1345  1346  Companhia das Quintas 2009 Quinta da Fronteira...   \n1620  1621  Quinta das Bandeiras 2013 Passagem Reserva Red...   \n1670  1671            Quinta da Rede 2015 Reserva Red (Douro)   \n1764  1765  Terra Silvestre 2014 B�toreus Selection Red (T...   \n1765  1766  Adega Cooperativa de Borba 2013 Reserva Red (A...   \n1766  1767  Adega Cooperativa do Cartaxo 2012 Brid�o Class...   \n1794  1795  Quinta da Lagoalva de Cima 2015 Lagoalva Barre...   \n1795  1796  Quinta do Casal Branco 2014 Lobo e Falc�o Rese...   \n2028  2029  Ramos-Pinto 2006 Duas Quintas Reserva Red (Douro)   \n\n                                  designation  alcohol  \n1344         Herdade da Farizoa Grand Escolha      NaN  \n1345  Quinta da Fronteira Selec��o do En�logo      NaN  \n1620                         Passagem Reserva      NaN  \n1670                                  Reserva      NaN  \n1764                       B�toreus Selection      NaN  \n1765                                  Reserva      NaN  \n1766                          Brid�o Classico      NaN  \n1794                Lagoalva Barrel Selection      NaN  \n1795                    Lobo e Falc�o Reserva      NaN  \n2028                     Duas Quintas Reserva      NaN  ",
      "text/html": "<div>\n<style scoped>\n    .dataframe tbody tr th:only-of-type {\n        vertical-align: middle;\n    }\n\n    .dataframe tbody tr th {\n        vertical-align: top;\n    }\n\n    .dataframe thead th {\n        text-align: right;\n    }\n</style>\n<table border=\"1\" class=\"dataframe\">\n  <thead>\n    <tr style=\"text-align: right;\">\n      <th></th>\n      <th>id</th>\n      <th>title</th>\n      <th>designation</th>\n      <th>alcohol</th>\n    </tr>\n  </thead>\n  <tbody>\n    <tr>\n      <th>1344</th>\n      <td>1345</td>\n      <td>Companhia das Quintas 2009 Herdade da Farizoa ...</td>\n      <td>Herdade da Farizoa Grand Escolha</td>\n      <td>NaN</td>\n    </tr>\n    <tr>\n      <th>1345</th>\n      <td>1346</td>\n      <td>Companhia das Quintas 2009 Quinta da Fronteira...</td>\n      <td>Quinta da Fronteira Selec��o do En�logo</td>\n      <td>NaN</td>\n    </tr>\n    <tr>\n      <th>1620</th>\n      <td>1621</td>\n      <td>Quinta das Bandeiras 2013 Passagem Reserva Red...</td>\n      <td>Passagem Reserva</td>\n      <td>NaN</td>\n    </tr>\n    <tr>\n      <th>1670</th>\n      <td>1671</td>\n      <td>Quinta da Rede 2015 Reserva Red (Douro)</td>\n      <td>Reserva</td>\n      <td>NaN</td>\n    </tr>\n    <tr>\n      <th>1764</th>\n      <td>1765</td>\n      <td>Terra Silvestre 2014 B�toreus Selection Red (T...</td>\n      <td>B�toreus Selection</td>\n      <td>NaN</td>\n    </tr>\n    <tr>\n      <th>1765</th>\n      <td>1766</td>\n      <td>Adega Cooperativa de Borba 2013 Reserva Red (A...</td>\n      <td>Reserva</td>\n      <td>NaN</td>\n    </tr>\n    <tr>\n      <th>1766</th>\n      <td>1767</td>\n      <td>Adega Cooperativa do Cartaxo 2012 Brid�o Class...</td>\n      <td>Brid�o Classico</td>\n      <td>NaN</td>\n    </tr>\n    <tr>\n      <th>1794</th>\n      <td>1795</td>\n      <td>Quinta da Lagoalva de Cima 2015 Lagoalva Barre...</td>\n      <td>Lagoalva Barrel Selection</td>\n      <td>NaN</td>\n    </tr>\n    <tr>\n      <th>1795</th>\n      <td>1796</td>\n      <td>Quinta do Casal Branco 2014 Lobo e Falc�o Rese...</td>\n      <td>Lobo e Falc�o Reserva</td>\n      <td>NaN</td>\n    </tr>\n    <tr>\n      <th>2028</th>\n      <td>2029</td>\n      <td>Ramos-Pinto 2006 Duas Quintas Reserva Red (Douro)</td>\n      <td>Duas Quintas Reserva</td>\n      <td>NaN</td>\n    </tr>\n  </tbody>\n</table>\n</div>"
     },
     "execution_count": 444,
     "metadata": {},
     "output_type": "execute_result"
    }
   ],
   "source": [
    "dataset.loc[dataset[\"alcohol\"].isnull()][['id', 'title', 'designation', 'alcohol']]  # TODO(m-jeu): This can probably be made prettier"
   ],
   "metadata": {
    "collapsed": false,
    "pycharm": {
     "name": "#%%\n"
    }
   }
  },
  {
   "cell_type": "markdown",
   "source": [
    "Considering only 10 wines are missing data, we can probably look these up by hand. The percentages are based on these sources:\n",
    "\n",
    "<a href=\"https://www.internationalwinechallenge.com/canopy/beverage_details?wid=44074\">1344. </a><a href=\"https://www.winemag.com/buying-guide/companhia-das-quintas-2009-quinta-da-fronteira-seleccao-do-enologo-red-douro/\">1345. </a><a href=\"https://www.winemag.com/buying-guide/quinta-das-bandeiras-2010-passagem-reserva-red-douro/\">1620. </a><a href=\"https://www.nataliemaclean.com/wine-reviews/quinta-da-rede-reserva-2015/317025\">1670. </a><a href=\"https://www.winemag.com/buying-guide/terra-silvestre-2014-grande-reserva-red-tejo-portuguese-red/\">1764. </a><a href=\"https://www.vivino.com/NL/en/adega-cooperativa-de-borba-alentejo-reserva-tinto/w/1235048?year=2013\">1765. </a><a href=\"https://www.winemag.com/buying-guide/adega-cooperativa-cartaxo-2012-bridao-classico-red-tejo/\">1766. </a><a href=\"https://www.winemag.com/buying-guide/quinta-da-lagoalva-de-cima-2015-lagoalva-barrel-selection-red-tejo/\">1794. </a><a href=\"https://www.winemag.com/buying-guide/quinta-do-casal-branco-2014-lobo-e-falcao-reserva-red-tejo/\">1795. </a><a href=\"https://www.wine-searcher.com/find/ramos+pinto+duas+quinta+rsrv+douro+portugal/2006/netherlands#t2\">2028. </a>\n"
   ],
   "metadata": {
    "collapsed": false
   }
  },
  {
   "cell_type": "code",
   "execution_count": 445,
   "outputs": [],
   "source": [
    "# Assignments use numeric row index, and not 'id' column. Might break when working on the id column.\n",
    "dataset.loc[1344, \"alcohol\"] = 14.0\n",
    "dataset.loc[1345, \"alcohol\"] = 14.5\n",
    "dataset.loc[1620, \"alcohol\"] = 14.0\n",
    "dataset.loc[1670, \"alcohol\"] = 13.5\n",
    "dataset.loc[1764, \"alcohol\"] = 13.5\n",
    "dataset.loc[1765, \"alcohol\"] = 14.0\n",
    "dataset.loc[1766, \"alcohol\"] = 14.0\n",
    "dataset.loc[1794, \"alcohol\"] = 14.0\n",
    "dataset.loc[1795, \"alcohol\"] = 14.0\n",
    "dataset.loc[2028, \"alcohol\"] = 14.0"
   ],
   "metadata": {
    "collapsed": false,
    "pycharm": {
     "name": "#%%\n"
    }
   }
  },
  {
   "cell_type": "markdown",
   "source": [
    "Lets' have a look how many nan entries are left in the alcohol column:"
   ],
   "metadata": {
    "collapsed": false
   }
  },
  {
   "cell_type": "code",
   "execution_count": 446,
   "outputs": [
    {
     "data": {
      "text/plain": "0"
     },
     "execution_count": 446,
     "metadata": {},
     "output_type": "execute_result"
    }
   ],
   "source": [
    "dataset[\"alcohol\"].isnull().sum()"
   ],
   "metadata": {
    "collapsed": false,
    "pycharm": {
     "name": "#%%\n"
    }
   }
  },
  {
   "cell_type": "markdown",
   "source": [
    "(Some other things to look at for later:)"
   ],
   "metadata": {
    "collapsed": false
   }
  },
  {
   "cell_type": "code",
   "execution_count": 447,
   "outputs": [
    {
     "data": {
      "text/plain": "Portuguese Red    2465\nName: variety, dtype: Int64"
     },
     "execution_count": 447,
     "metadata": {},
     "output_type": "execute_result"
    }
   ],
   "source": [
    "dataset[\"variety\"].value_counts()"
   ],
   "metadata": {
    "collapsed": false,
    "pycharm": {
     "name": "#%%\n"
    }
   }
  },
  {
   "cell_type": "code",
   "execution_count": 448,
   "outputs": [
    {
     "data": {
      "text/plain": "Portugal    2465\nName: country, dtype: Int64"
     },
     "execution_count": 448,
     "metadata": {},
     "output_type": "execute_result"
    }
   ],
   "source": [
    "dataset[\"country\"].value_counts()"
   ],
   "metadata": {
    "collapsed": false,
    "pycharm": {
     "name": "#%%\n"
    }
   }
  },
  {
   "cell_type": "code",
   "execution_count": 449,
   "outputs": [
    {
     "data": {
      "text/plain": "Wines & Winemakers       84\nCasa Santos Lima         82\nDFJ Vinhos               77\nCompanhia das Quintas    53\nCasca Wines              50\n                         ..\nQuinta da Casaboa         1\nPedra Cancela             1\nCaves Campelo             1\nAnselmo Mendes            1\nQuinta do Vale Brag�o     1\nName: winery, Length: 310, dtype: Int64"
     },
     "execution_count": 449,
     "metadata": {},
     "output_type": "execute_result"
    }
   ],
   "source": [
    "dataset[\"winery\"].value_counts()"
   ],
   "metadata": {
    "collapsed": false,
    "pycharm": {
     "name": "#%%\n"
    }
   }
  },
  {
   "cell_type": "markdown",
   "source": [],
   "metadata": {
    "collapsed": false
   }
  }
 ],
 "metadata": {
  "kernelspec": {
   "display_name": "Python 3",
   "language": "python",
   "name": "python3"
  },
  "language_info": {
   "codemirror_mode": {
    "name": "ipython",
    "version": 2
   },
   "file_extension": ".py",
   "mimetype": "text/x-python",
   "name": "python",
   "nbconvert_exporter": "python",
   "pygments_lexer": "ipython2",
   "version": "2.7.6"
  }
 },
 "nbformat": 4,
 "nbformat_minor": 0
}