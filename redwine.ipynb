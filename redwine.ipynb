{
 "cells": [
  {
   "cell_type": "markdown",
   "source": [
    "<h1> Red wine data analysis </h1>"
   ],
   "metadata": {
    "collapsed": false
   }
  },
  {
   "cell_type": "markdown",
   "source": [
    "<h2>Business Understanding</h2>\n",
    "\n",
    "Through the business, we have been asked to examine the following questions:\n",
    "\n",
    "<ol>\n",
    "<li>In hoeverre is de score van een Portugese Red te voorspellen op basis van de chemische kenmerken?</li>\n",
    "<li>Zelf te bepalen: denk aan andere type wijnen of andere landen.</li>\n",
    "<li>Zelf te bepalen: denk bijvoorbeeld aan het clusteren op basis van de chemische kenmerken waarmee het type druif of de regio bepaald kan worden. Of kun je logische clusters vinden van topwijnen, doordrinkwijnen en bocht?</li>\n",
    "</ol>\n",
    "\n",
    "<i>TODO(m-jeu): Either translate these questions to english, or change the language of the rest of the document to dutch. This also goes for the dutch list in 'Data Understanding'.</i>\n",
    "\n",
    "Currently, the exact nature of 'the business' and their desires datascience-wise is unknown to us. This requires further investigation."
   ],
   "metadata": {
    "collapsed": false
   }
  },
  {
   "cell_type": "markdown",
   "source": [
    "<h2> Data Understanding </h2>"
   ],
   "metadata": {
    "collapsed": false
   }
  },
  {
   "cell_type": "markdown",
   "source": [
    "The business tells us the most important variables in the dataset are:\n",
    "\n",
    "<ol>\n",
    "<li>Herkomst van de wijn en type druif.</li>\n",
    "<li>Review van de wijn, inclusief naam van de sommelier en de score op een schaal van 1 tot 100.</li>\n",
    "<li>De uitkomsten van chemische tests op 11 waarde (waaronder suikergehalte, pH, alcoholgehalte, et cetera).</li>\n",
    "\n"
   ],
   "metadata": {
    "collapsed": false
   }
  },
  {
   "cell_type": "markdown",
   "source": [
    "We import some libraries and the dataset to examine the data through code."
   ],
   "metadata": {
    "collapsed": false
   }
  },
  {
   "cell_type": "code",
   "execution_count": null,
   "outputs": [],
   "source": [
    "import numpy as np\n",
    "import pandas as pd"
   ],
   "metadata": {
    "collapsed": false,
    "pycharm": {
     "name": "#%%\n"
    }
   }
  },
  {
   "cell_type": "code",
   "execution_count": null,
   "outputs": [],
   "source": [
    "dataset = pd.read_csv(\"redwine.csv\", sep=\";\")"
   ],
   "metadata": {
    "collapsed": false,
    "pycharm": {
     "name": "#%%\n"
    }
   }
  },
  {
   "cell_type": "markdown",
   "source": [
    "<h2>Data Preparation</h2>"
   ],
   "metadata": {
    "collapsed": false
   }
  }
 ],
 "metadata": {
  "kernelspec": {
   "display_name": "Python 3",
   "language": "python",
   "name": "python3"
  },
  "language_info": {
   "codemirror_mode": {
    "name": "ipython",
    "version": 2
   },
   "file_extension": ".py",
   "mimetype": "text/x-python",
   "name": "python",
   "nbconvert_exporter": "python",
   "pygments_lexer": "ipython2",
   "version": "2.7.6"
  }
 },
 "nbformat": 4,
 "nbformat_minor": 0
}